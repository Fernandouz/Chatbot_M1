{
 "nbformat": 4,
 "nbformat_minor": 0,
 "metadata": {
  "colab": {
   "provenance": []
  },
  "kernelspec": {
   "name": "python3",
   "display_name": "Python 3 (ipykernel)",
   "language": "python"
  },
  "language_info": {
   "name": "python"
  }
 },
 "cells": [
  {
   "cell_type": "code",
   "metadata": {
    "colab": {
     "base_uri": "https://localhost:8080/"
    },
    "collapsed": true,
    "id": "8Fvlg2Knme0W",
    "outputId": "f22bd2d5-598f-464a-8690-b00046942b2a",
    "ExecuteTime": {
     "end_time": "2025-06-18T07:41:27.618040Z",
     "start_time": "2025-06-18T07:41:27.616396Z"
    }
   },
   "source": "# !pip install --upgrade datasets",
   "outputs": [],
   "execution_count": 1
  },
  {
   "cell_type": "code",
   "source": [
    "import polars as pl\n",
    "from datasets import load_dataset\n",
    "\n",
    "ds = load_dataset(\"fancyzhx/ag_news\")"
   ],
   "metadata": {
    "id": "GiTs9NXon8Rs",
    "ExecuteTime": {
     "end_time": "2025-06-18T07:41:28.604709Z",
     "start_time": "2025-06-18T07:41:27.634408Z"
    }
   },
   "outputs": [
    {
     "ename": "KeyboardInterrupt",
     "evalue": "",
     "output_type": "error",
     "traceback": [
      "\u001B[31m---------------------------------------------------------------------------\u001B[39m",
      "\u001B[31mKeyboardInterrupt\u001B[39m                         Traceback (most recent call last)",
      "\u001B[36mCell\u001B[39m\u001B[36m \u001B[39m\u001B[32mIn[2]\u001B[39m\u001B[32m, line 1\u001B[39m\n\u001B[32m----> \u001B[39m\u001B[32m1\u001B[39m \u001B[38;5;28;01mimport\u001B[39;00m\u001B[38;5;250m \u001B[39m\u001B[34;01mpolars\u001B[39;00m\u001B[38;5;250m \u001B[39m\u001B[38;5;28;01mas\u001B[39;00m\u001B[38;5;250m \u001B[39m\u001B[34;01mpl\u001B[39;00m\n\u001B[32m      2\u001B[39m \u001B[38;5;28;01mfrom\u001B[39;00m\u001B[38;5;250m \u001B[39m\u001B[34;01mdatasets\u001B[39;00m\u001B[38;5;250m \u001B[39m\u001B[38;5;28;01mimport\u001B[39;00m load_dataset\n\u001B[32m      4\u001B[39m ds = load_dataset(\u001B[33m\"\u001B[39m\u001B[33mfancyzhx/ag_news\u001B[39m\u001B[33m\"\u001B[39m)\n",
      "\u001B[36mFile \u001B[39m\u001B[32m~/PycharmProjects/Chatbot_M1/.venv/lib/python3.11/site-packages/polars/__init__.py:30\u001B[39m\n\u001B[32m     26\u001B[39m     __register_startup_deps()\n\u001B[32m     28\u001B[39m \u001B[38;5;28;01mfrom\u001B[39;00m\u001B[38;5;250m \u001B[39m\u001B[34;01mtyping\u001B[39;00m\u001B[38;5;250m \u001B[39m\u001B[38;5;28;01mimport\u001B[39;00m Any\n\u001B[32m---> \u001B[39m\u001B[32m30\u001B[39m \u001B[38;5;28;01mfrom\u001B[39;00m\u001B[38;5;250m \u001B[39m\u001B[34;01mpolars\u001B[39;00m\u001B[38;5;250m \u001B[39m\u001B[38;5;28;01mimport\u001B[39;00m api, exceptions, plugins, selectors\n\u001B[32m     31\u001B[39m \u001B[38;5;28;01mfrom\u001B[39;00m\u001B[38;5;250m \u001B[39m\u001B[34;01mpolars\u001B[39;00m\u001B[34;01m.\u001B[39;00m\u001B[34;01m_utils\u001B[39;00m\u001B[34;01m.\u001B[39;00m\u001B[34;01mpolars_version\u001B[39;00m\u001B[38;5;250m \u001B[39m\u001B[38;5;28;01mimport\u001B[39;00m get_polars_version \u001B[38;5;28;01mas\u001B[39;00m _get_polars_version\n\u001B[32m     33\u001B[39m \u001B[38;5;66;03m# TODO: remove need for importing wrap utils at top level\u001B[39;00m\n",
      "\u001B[36mFile \u001B[39m\u001B[32m~/PycharmProjects/Chatbot_M1/.venv/lib/python3.11/site-packages/polars/api.py:6\u001B[39m\n\u001B[32m      3\u001B[39m \u001B[38;5;28;01mfrom\u001B[39;00m\u001B[38;5;250m \u001B[39m\u001B[34;01mtyping\u001B[39;00m\u001B[38;5;250m \u001B[39m\u001B[38;5;28;01mimport\u001B[39;00m TYPE_CHECKING, Callable, Generic, TypeVar\n\u001B[32m      4\u001B[39m \u001B[38;5;28;01mfrom\u001B[39;00m\u001B[38;5;250m \u001B[39m\u001B[34;01mwarnings\u001B[39;00m\u001B[38;5;250m \u001B[39m\u001B[38;5;28;01mimport\u001B[39;00m warn\n\u001B[32m----> \u001B[39m\u001B[32m6\u001B[39m \u001B[38;5;28;01mimport\u001B[39;00m\u001B[38;5;250m \u001B[39m\u001B[34;01mpolars\u001B[39;00m\u001B[34;01m.\u001B[39;00m\u001B[34;01m_reexport\u001B[39;00m\u001B[38;5;250m \u001B[39m\u001B[38;5;28;01mas\u001B[39;00m\u001B[38;5;250m \u001B[39m\u001B[34;01mpl\u001B[39;00m\n\u001B[32m      7\u001B[39m \u001B[38;5;28;01mfrom\u001B[39;00m\u001B[38;5;250m \u001B[39m\u001B[34;01mpolars\u001B[39;00m\u001B[34;01m.\u001B[39;00m\u001B[34;01m_utils\u001B[39;00m\u001B[34;01m.\u001B[39;00m\u001B[34;01mvarious\u001B[39;00m\u001B[38;5;250m \u001B[39m\u001B[38;5;28;01mimport\u001B[39;00m find_stacklevel\n\u001B[32m      9\u001B[39m \u001B[38;5;28;01mif\u001B[39;00m TYPE_CHECKING:\n",
      "\u001B[36mFile \u001B[39m\u001B[32m~/PycharmProjects/Chatbot_M1/.venv/lib/python3.11/site-packages/polars/_reexport.py:3\u001B[39m\n\u001B[32m      1\u001B[39m \u001B[33;03m\"\"\"Re-export Polars functionality to avoid cyclical imports.\"\"\"\u001B[39;00m\n\u001B[32m----> \u001B[39m\u001B[32m3\u001B[39m \u001B[38;5;28;01mfrom\u001B[39;00m\u001B[38;5;250m \u001B[39m\u001B[34;01mpolars\u001B[39;00m\u001B[34;01m.\u001B[39;00m\u001B[34;01mdataframe\u001B[39;00m\u001B[38;5;250m \u001B[39m\u001B[38;5;28;01mimport\u001B[39;00m DataFrame\n\u001B[32m      4\u001B[39m \u001B[38;5;28;01mfrom\u001B[39;00m\u001B[38;5;250m \u001B[39m\u001B[34;01mpolars\u001B[39;00m\u001B[34;01m.\u001B[39;00m\u001B[34;01mexpr\u001B[39;00m\u001B[38;5;250m \u001B[39m\u001B[38;5;28;01mimport\u001B[39;00m Expr, When\n\u001B[32m      5\u001B[39m \u001B[38;5;28;01mfrom\u001B[39;00m\u001B[38;5;250m \u001B[39m\u001B[34;01mpolars\u001B[39;00m\u001B[34;01m.\u001B[39;00m\u001B[34;01mlazyframe\u001B[39;00m\u001B[38;5;250m \u001B[39m\u001B[38;5;28;01mimport\u001B[39;00m LazyFrame\n",
      "\u001B[36mFile \u001B[39m\u001B[32m~/PycharmProjects/Chatbot_M1/.venv/lib/python3.11/site-packages/polars/dataframe/__init__.py:1\u001B[39m\n\u001B[32m----> \u001B[39m\u001B[32m1\u001B[39m \u001B[38;5;28;01mfrom\u001B[39;00m\u001B[38;5;250m \u001B[39m\u001B[34;01mpolars\u001B[39;00m\u001B[34;01m.\u001B[39;00m\u001B[34;01mdataframe\u001B[39;00m\u001B[34;01m.\u001B[39;00m\u001B[34;01mframe\u001B[39;00m\u001B[38;5;250m \u001B[39m\u001B[38;5;28;01mimport\u001B[39;00m DataFrame\n\u001B[32m      3\u001B[39m __all__ = [\n\u001B[32m      4\u001B[39m     \u001B[33m\"\u001B[39m\u001B[33mDataFrame\u001B[39m\u001B[33m\"\u001B[39m,\n\u001B[32m      5\u001B[39m ]\n",
      "\u001B[36mFile \u001B[39m\u001B[32m~/PycharmProjects/Chatbot_M1/.venv/lib/python3.11/site-packages/polars/dataframe/frame.py:32\u001B[39m\n\u001B[32m     18\u001B[39m \u001B[38;5;28;01mfrom\u001B[39;00m\u001B[38;5;250m \u001B[39m\u001B[34;01mtyping\u001B[39;00m\u001B[38;5;250m \u001B[39m\u001B[38;5;28;01mimport\u001B[39;00m (\n\u001B[32m     19\u001B[39m     IO,\n\u001B[32m     20\u001B[39m     TYPE_CHECKING,\n\u001B[32m   (...)\u001B[39m\u001B[32m     28\u001B[39m     overload,\n\u001B[32m     29\u001B[39m )\n\u001B[32m     31\u001B[39m \u001B[38;5;28;01mimport\u001B[39;00m\u001B[38;5;250m \u001B[39m\u001B[34;01mpolars\u001B[39;00m\u001B[34;01m.\u001B[39;00m\u001B[34;01m_reexport\u001B[39;00m\u001B[38;5;250m \u001B[39m\u001B[38;5;28;01mas\u001B[39;00m\u001B[38;5;250m \u001B[39m\u001B[34;01mpl\u001B[39;00m\n\u001B[32m---> \u001B[39m\u001B[32m32\u001B[39m \u001B[38;5;28;01mfrom\u001B[39;00m\u001B[38;5;250m \u001B[39m\u001B[34;01mpolars\u001B[39;00m\u001B[38;5;250m \u001B[39m\u001B[38;5;28;01mimport\u001B[39;00m functions \u001B[38;5;28;01mas\u001B[39;00m F\n\u001B[32m     33\u001B[39m \u001B[38;5;28;01mfrom\u001B[39;00m\u001B[38;5;250m \u001B[39m\u001B[34;01mpolars\u001B[39;00m\u001B[34;01m.\u001B[39;00m\u001B[34;01m_typing\u001B[39;00m\u001B[38;5;250m \u001B[39m\u001B[38;5;28;01mimport\u001B[39;00m DbWriteMode, JaxExportType, TorchExportType\n\u001B[32m     34\u001B[39m \u001B[38;5;28;01mfrom\u001B[39;00m\u001B[38;5;250m \u001B[39m\u001B[34;01mpolars\u001B[39;00m\u001B[34;01m.\u001B[39;00m\u001B[34;01m_utils\u001B[39;00m\u001B[34;01m.\u001B[39;00m\u001B[34;01mconstruction\u001B[39;00m\u001B[38;5;250m \u001B[39m\u001B[38;5;28;01mimport\u001B[39;00m (\n\u001B[32m     35\u001B[39m     arrow_to_pydf,\n\u001B[32m     36\u001B[39m     dataframe_to_pydf,\n\u001B[32m   (...)\u001B[39m\u001B[32m     42\u001B[39m     series_to_pydf,\n\u001B[32m     43\u001B[39m )\n",
      "\u001B[36mFile \u001B[39m\u001B[32m~/PycharmProjects/Chatbot_M1/.venv/lib/python3.11/site-packages/polars/functions/__init__.py:31\u001B[39m\n\u001B[32m     29\u001B[39m \u001B[38;5;28;01mfrom\u001B[39;00m\u001B[38;5;250m \u001B[39m\u001B[34;01mpolars\u001B[39;00m\u001B[34;01m.\u001B[39;00m\u001B[34;01mfunctions\u001B[39;00m\u001B[34;01m.\u001B[39;00m\u001B[34;01meager\u001B[39;00m\u001B[38;5;250m \u001B[39m\u001B[38;5;28;01mimport\u001B[39;00m align_frames, concat\n\u001B[32m     30\u001B[39m \u001B[38;5;28;01mfrom\u001B[39;00m\u001B[38;5;250m \u001B[39m\u001B[34;01mpolars\u001B[39;00m\u001B[34;01m.\u001B[39;00m\u001B[34;01mfunctions\u001B[39;00m\u001B[34;01m.\u001B[39;00m\u001B[34;01mescape_regex\u001B[39;00m\u001B[38;5;250m \u001B[39m\u001B[38;5;28;01mimport\u001B[39;00m escape_regex\n\u001B[32m---> \u001B[39m\u001B[32m31\u001B[39m \u001B[38;5;28;01mfrom\u001B[39;00m\u001B[38;5;250m \u001B[39m\u001B[34;01mpolars\u001B[39;00m\u001B[34;01m.\u001B[39;00m\u001B[34;01mfunctions\u001B[39;00m\u001B[34;01m.\u001B[39;00m\u001B[34;01mlazy\u001B[39;00m\u001B[38;5;250m \u001B[39m\u001B[38;5;28;01mimport\u001B[39;00m (\n\u001B[32m     32\u001B[39m     approx_n_unique,\n\u001B[32m     33\u001B[39m     arctan2,\n\u001B[32m     34\u001B[39m     arctan2d,\n\u001B[32m     35\u001B[39m     arg_sort_by,\n\u001B[32m     36\u001B[39m     arg_where,\n\u001B[32m     37\u001B[39m     coalesce,\n\u001B[32m     38\u001B[39m     collect_all,\n\u001B[32m     39\u001B[39m     collect_all_async,\n\u001B[32m     40\u001B[39m     corr,\n\u001B[32m     41\u001B[39m     count,\n\u001B[32m     42\u001B[39m     cov,\n\u001B[32m     43\u001B[39m     cum_count,\n\u001B[32m     44\u001B[39m     cum_fold,\n\u001B[32m     45\u001B[39m     cum_reduce,\n\u001B[32m     46\u001B[39m     element,\n\u001B[32m     47\u001B[39m     exclude,\n\u001B[32m     48\u001B[39m     explain_all,\n\u001B[32m     49\u001B[39m     field,\n\u001B[32m     50\u001B[39m     first,\n\u001B[32m     51\u001B[39m     fold,\n\u001B[32m     52\u001B[39m     from_epoch,\n\u001B[32m     53\u001B[39m     groups,\n\u001B[32m     54\u001B[39m     head,\n\u001B[32m     55\u001B[39m     implode,\n\u001B[32m     56\u001B[39m     last,\n\u001B[32m     57\u001B[39m     map_batches,\n\u001B[32m     58\u001B[39m     map_groups,\n\u001B[32m     59\u001B[39m     mean,\n\u001B[32m     60\u001B[39m     median,\n\u001B[32m     61\u001B[39m     n_unique,\n\u001B[32m     62\u001B[39m     nth,\n\u001B[32m     63\u001B[39m     quantile,\n\u001B[32m     64\u001B[39m     reduce,\n\u001B[32m     65\u001B[39m     rolling_corr,\n\u001B[32m     66\u001B[39m     rolling_cov,\n\u001B[32m     67\u001B[39m     select,\n\u001B[32m     68\u001B[39m     sql_expr,\n\u001B[32m     69\u001B[39m     std,\n\u001B[32m     70\u001B[39m     tail,\n\u001B[32m     71\u001B[39m     var,\n\u001B[32m     72\u001B[39m )\n\u001B[32m     73\u001B[39m \u001B[38;5;28;01mfrom\u001B[39;00m\u001B[38;5;250m \u001B[39m\u001B[34;01mpolars\u001B[39;00m\u001B[34;01m.\u001B[39;00m\u001B[34;01mfunctions\u001B[39;00m\u001B[34;01m.\u001B[39;00m\u001B[34;01mlen\u001B[39;00m\u001B[38;5;250m \u001B[39m\u001B[38;5;28;01mimport\u001B[39;00m \u001B[38;5;28mlen\u001B[39m\n\u001B[32m     74\u001B[39m \u001B[38;5;28;01mfrom\u001B[39;00m\u001B[38;5;250m \u001B[39m\u001B[34;01mpolars\u001B[39;00m\u001B[34;01m.\u001B[39;00m\u001B[34;01mfunctions\u001B[39;00m\u001B[34;01m.\u001B[39;00m\u001B[34;01mlit\u001B[39;00m\u001B[38;5;250m \u001B[39m\u001B[38;5;28;01mimport\u001B[39;00m lit\n",
      "\u001B[36mFile \u001B[39m\u001B[32m~/PycharmProjects/Chatbot_M1/.venv/lib/python3.11/site-packages/polars/functions/lazy.py:24\u001B[39m\n\u001B[32m     22\u001B[39m \u001B[38;5;28;01mfrom\u001B[39;00m\u001B[38;5;250m \u001B[39m\u001B[34;01mpolars\u001B[39;00m\u001B[34;01m.\u001B[39;00m\u001B[34;01m_utils\u001B[39;00m\u001B[34;01m.\u001B[39;00m\u001B[34;01mwrap\u001B[39;00m\u001B[38;5;250m \u001B[39m\u001B[38;5;28;01mimport\u001B[39;00m wrap_df, wrap_expr\n\u001B[32m     23\u001B[39m \u001B[38;5;28;01mfrom\u001B[39;00m\u001B[38;5;250m \u001B[39m\u001B[34;01mpolars\u001B[39;00m\u001B[34;01m.\u001B[39;00m\u001B[34;01mdatatypes\u001B[39;00m\u001B[38;5;250m \u001B[39m\u001B[38;5;28;01mimport\u001B[39;00m DTYPE_TEMPORAL_UNITS, Date, Datetime, Int64\n\u001B[32m---> \u001B[39m\u001B[32m24\u001B[39m \u001B[38;5;28;01mfrom\u001B[39;00m\u001B[38;5;250m \u001B[39m\u001B[34;01mpolars\u001B[39;00m\u001B[34;01m.\u001B[39;00m\u001B[34;01mlazyframe\u001B[39;00m\u001B[34;01m.\u001B[39;00m\u001B[34;01mopt_flags\u001B[39;00m\u001B[38;5;250m \u001B[39m\u001B[38;5;28;01mimport\u001B[39;00m (\n\u001B[32m     25\u001B[39m     DEFAULT_QUERY_OPT_FLAGS,\n\u001B[32m     26\u001B[39m     forward_old_opt_flags,\n\u001B[32m     27\u001B[39m )\n\u001B[32m     29\u001B[39m \u001B[38;5;28;01mwith\u001B[39;00m contextlib.suppress(\u001B[38;5;167;01mImportError\u001B[39;00m):  \u001B[38;5;66;03m# Module not available when building docs\u001B[39;00m\n\u001B[32m     30\u001B[39m     \u001B[38;5;28;01mimport\u001B[39;00m\u001B[38;5;250m \u001B[39m\u001B[34;01mpolars\u001B[39;00m\u001B[34;01m.\u001B[39;00m\u001B[34;01mpolars\u001B[39;00m\u001B[38;5;250m \u001B[39m\u001B[38;5;28;01mas\u001B[39;00m\u001B[38;5;250m \u001B[39m\u001B[34;01mplr\u001B[39;00m\n",
      "\u001B[36mFile \u001B[39m\u001B[32m~/PycharmProjects/Chatbot_M1/.venv/lib/python3.11/site-packages/polars/lazyframe/__init__.py:2\u001B[39m\n\u001B[32m      1\u001B[39m \u001B[38;5;28;01mfrom\u001B[39;00m\u001B[38;5;250m \u001B[39m\u001B[34;01mpolars\u001B[39;00m\u001B[34;01m.\u001B[39;00m\u001B[34;01mlazyframe\u001B[39;00m\u001B[34;01m.\u001B[39;00m\u001B[34;01mengine_config\u001B[39;00m\u001B[38;5;250m \u001B[39m\u001B[38;5;28;01mimport\u001B[39;00m GPUEngine\n\u001B[32m----> \u001B[39m\u001B[32m2\u001B[39m \u001B[38;5;28;01mfrom\u001B[39;00m\u001B[38;5;250m \u001B[39m\u001B[34;01mpolars\u001B[39;00m\u001B[34;01m.\u001B[39;00m\u001B[34;01mlazyframe\u001B[39;00m\u001B[34;01m.\u001B[39;00m\u001B[34;01mframe\u001B[39;00m\u001B[38;5;250m \u001B[39m\u001B[38;5;28;01mimport\u001B[39;00m LazyFrame\n\u001B[32m      3\u001B[39m \u001B[38;5;28;01mfrom\u001B[39;00m\u001B[38;5;250m \u001B[39m\u001B[34;01mpolars\u001B[39;00m\u001B[34;01m.\u001B[39;00m\u001B[34;01mlazyframe\u001B[39;00m\u001B[34;01m.\u001B[39;00m\u001B[34;01mopt_flags\u001B[39;00m\u001B[38;5;250m \u001B[39m\u001B[38;5;28;01mimport\u001B[39;00m QueryOptFlags\n\u001B[32m      5\u001B[39m __all__ = [\n\u001B[32m      6\u001B[39m     \u001B[33m\"\u001B[39m\u001B[33mGPUEngine\u001B[39m\u001B[33m\"\u001B[39m,\n\u001B[32m      7\u001B[39m     \u001B[33m\"\u001B[39m\u001B[33mLazyFrame\u001B[39m\u001B[33m\"\u001B[39m,\n\u001B[32m      8\u001B[39m     \u001B[33m\"\u001B[39m\u001B[33mQueryOptFlags\u001B[39m\u001B[33m\"\u001B[39m,\n\u001B[32m      9\u001B[39m ]\n",
      "\u001B[36mFile \u001B[39m\u001B[32m~/PycharmProjects/Chatbot_M1/.venv/lib/python3.11/site-packages/polars/lazyframe/frame.py:101\u001B[39m\n\u001B[32m     99\u001B[39m \u001B[38;5;28;01mfrom\u001B[39;00m\u001B[38;5;250m \u001B[39m\u001B[34;01mpolars\u001B[39;00m\u001B[34;01m.\u001B[39;00m\u001B[34;01mlazyframe\u001B[39;00m\u001B[34;01m.\u001B[39;00m\u001B[34;01min_process\u001B[39;00m\u001B[38;5;250m \u001B[39m\u001B[38;5;28;01mimport\u001B[39;00m InProcessQuery\n\u001B[32m    100\u001B[39m \u001B[38;5;28;01mfrom\u001B[39;00m\u001B[38;5;250m \u001B[39m\u001B[34;01mpolars\u001B[39;00m\u001B[34;01m.\u001B[39;00m\u001B[34;01mlazyframe\u001B[39;00m\u001B[34;01m.\u001B[39;00m\u001B[34;01mopt_flags\u001B[39;00m\u001B[38;5;250m \u001B[39m\u001B[38;5;28;01mimport\u001B[39;00m DEFAULT_QUERY_OPT_FLAGS, forward_old_opt_flags\n\u001B[32m--> \u001B[39m\u001B[32m101\u001B[39m \u001B[38;5;28;01mfrom\u001B[39;00m\u001B[38;5;250m \u001B[39m\u001B[34;01mpolars\u001B[39;00m\u001B[34;01m.\u001B[39;00m\u001B[34;01mschema\u001B[39;00m\u001B[38;5;250m \u001B[39m\u001B[38;5;28;01mimport\u001B[39;00m Schema\n\u001B[32m    102\u001B[39m \u001B[38;5;28;01mfrom\u001B[39;00m\u001B[38;5;250m \u001B[39m\u001B[34;01mpolars\u001B[39;00m\u001B[34;01m.\u001B[39;00m\u001B[34;01mselectors\u001B[39;00m\u001B[38;5;250m \u001B[39m\u001B[38;5;28;01mimport\u001B[39;00m by_dtype, expand_selector\n\u001B[32m    104\u001B[39m \u001B[38;5;28;01mwith\u001B[39;00m contextlib.suppress(\u001B[38;5;167;01mImportError\u001B[39;00m):  \u001B[38;5;66;03m# Module not available when building docs\u001B[39;00m\n",
      "\u001B[36mFile \u001B[39m\u001B[32m<frozen importlib._bootstrap>:1176\u001B[39m, in \u001B[36m_find_and_load\u001B[39m\u001B[34m(name, import_)\u001B[39m\n",
      "\u001B[36mFile \u001B[39m\u001B[32m<frozen importlib._bootstrap>:1147\u001B[39m, in \u001B[36m_find_and_load_unlocked\u001B[39m\u001B[34m(name, import_)\u001B[39m\n",
      "\u001B[36mFile \u001B[39m\u001B[32m<frozen importlib._bootstrap>:690\u001B[39m, in \u001B[36m_load_unlocked\u001B[39m\u001B[34m(spec)\u001B[39m\n",
      "\u001B[36mFile \u001B[39m\u001B[32m<frozen importlib._bootstrap_external>:936\u001B[39m, in \u001B[36mexec_module\u001B[39m\u001B[34m(self, module)\u001B[39m\n",
      "\u001B[36mFile \u001B[39m\u001B[32m<frozen importlib._bootstrap_external>:1032\u001B[39m, in \u001B[36mget_code\u001B[39m\u001B[34m(self, fullname)\u001B[39m\n",
      "\u001B[36mFile \u001B[39m\u001B[32m<frozen importlib._bootstrap_external>:1131\u001B[39m, in \u001B[36mget_data\u001B[39m\u001B[34m(self, path)\u001B[39m\n",
      "\u001B[31mKeyboardInterrupt\u001B[39m: "
     ]
    }
   ],
   "execution_count": 2
  },
  {
   "cell_type": "code",
   "source": [
    "ds"
   ],
   "metadata": {
    "colab": {
     "base_uri": "https://localhost:8080/"
    },
    "id": "7WTfVT95tmDO",
    "outputId": "df179d45-542e-4dae-92e5-6688f2031f11",
    "ExecuteTime": {
     "end_time": "2025-06-18T07:41:28.608179Z",
     "start_time": "2025-06-18T06:47:50.861067Z"
    }
   },
   "outputs": [
    {
     "data": {
      "text/plain": [
       "DatasetDict({\n",
       "    train: Dataset({\n",
       "        features: ['text', 'label'],\n",
       "        num_rows: 120000\n",
       "    })\n",
       "    test: Dataset({\n",
       "        features: ['text', 'label'],\n",
       "        num_rows: 7600\n",
       "    })\n",
       "})"
      ]
     },
     "execution_count": 3,
     "metadata": {},
     "output_type": "execute_result"
    }
   ],
   "execution_count": 3
  },
  {
   "cell_type": "code",
   "source": [
    "# Convertir chaque split en Polars DataFrame\n",
    "train_pl = pl.DataFrame(ds[\"train\"][:])\n",
    "test_pl = pl.DataFrame(ds[\"test\"][:])\n",
    "\n",
    "# Affichage\n",
    "print(train_pl.head())\n",
    "print(test_pl.head())"
   ],
   "metadata": {
    "colab": {
     "base_uri": "https://localhost:8080/"
    },
    "id": "RX6BWutrtu06",
    "outputId": "623d4060-4a52-4839-c9a7-85f5c8fa6529",
    "ExecuteTime": {
     "end_time": "2025-06-18T07:41:28.608686Z",
     "start_time": "2025-06-18T06:47:50.894739Z"
    }
   },
   "outputs": [
    {
     "name": "stdout",
     "output_type": "stream",
     "text": [
      "shape: (5, 2)\n",
      "┌─────────────────────────────────┬───────┐\n",
      "│ text                            ┆ label │\n",
      "│ ---                             ┆ ---   │\n",
      "│ str                             ┆ i64   │\n",
      "╞═════════════════════════════════╪═══════╡\n",
      "│ Wall St. Bears Claw Back Into … ┆ 2     │\n",
      "│ Carlyle Looks Toward Commercia… ┆ 2     │\n",
      "│ Oil and Economy Cloud Stocks' … ┆ 2     │\n",
      "│ Iraq Halts Oil Exports from Ma… ┆ 2     │\n",
      "│ Oil prices soar to all-time re… ┆ 2     │\n",
      "└─────────────────────────────────┴───────┘\n",
      "shape: (5, 2)\n",
      "┌─────────────────────────────────┬───────┐\n",
      "│ text                            ┆ label │\n",
      "│ ---                             ┆ ---   │\n",
      "│ str                             ┆ i64   │\n",
      "╞═════════════════════════════════╪═══════╡\n",
      "│ Fears for T N pension after ta… ┆ 2     │\n",
      "│ The Race is On: Second Private… ┆ 3     │\n",
      "│ Ky. Company Wins Grant to Stud… ┆ 3     │\n",
      "│ Prediction Unit Helps Forecast… ┆ 3     │\n",
      "│ Calif. Aims to Limit Farm-Rela… ┆ 3     │\n",
      "└─────────────────────────────────┴───────┘\n"
     ]
    }
   ],
   "execution_count": 4
  },
  {
   "cell_type": "code",
   "source": [
    "label_names = ds[\"train\"].features[\"label\"].names\n",
    "print(label_names)\n",
    "\n",
    "train_pl = train_pl.with_columns([\n",
    "    pl.col(\"label\").map_elements(lambda x: label_names[x], return_dtype=pl.String).alias(\"label_name\")\n",
    "])\n",
    "# test_pl = test_pl.with_columns([\n",
    "#     pl.col(\"label\").map_elements(lambda x: label_names[x], return_dtype=pl.String).alias(\"label_name\")\n",
    "# ])\n",
    "\n",
    "train_pl.head()\n",
    "#test_pl.head()"
   ],
   "metadata": {
    "colab": {
     "base_uri": "https://localhost:8080/",
     "height": 273
    },
    "id": "Wl61W3-xuQRQ",
    "outputId": "006aaeda-fe0a-44b5-8e45-0090fa573e87",
    "ExecuteTime": {
     "end_time": "2025-06-18T07:41:28.609266Z",
     "start_time": "2025-06-18T06:47:51.035251Z"
    }
   },
   "outputs": [
    {
     "name": "stdout",
     "output_type": "stream",
     "text": [
      "['World', 'Sports', 'Business', 'Sci/Tech']\n"
     ]
    },
    {
     "data": {
      "text/plain": [
       "shape: (5, 3)\n",
       "┌─────────────────────────────────┬───────┬────────────┐\n",
       "│ text                            ┆ label ┆ label_name │\n",
       "│ ---                             ┆ ---   ┆ ---        │\n",
       "│ str                             ┆ i64   ┆ str        │\n",
       "╞═════════════════════════════════╪═══════╪════════════╡\n",
       "│ Wall St. Bears Claw Back Into … ┆ 2     ┆ Business   │\n",
       "│ Carlyle Looks Toward Commercia… ┆ 2     ┆ Business   │\n",
       "│ Oil and Economy Cloud Stocks' … ┆ 2     ┆ Business   │\n",
       "│ Iraq Halts Oil Exports from Ma… ┆ 2     ┆ Business   │\n",
       "│ Oil prices soar to all-time re… ┆ 2     ┆ Business   │\n",
       "└─────────────────────────────────┴───────┴────────────┘"
      ],
      "text/html": [
       "<div><style>\n",
       ".dataframe > thead > tr,\n",
       ".dataframe > tbody > tr {\n",
       "  text-align: right;\n",
       "  white-space: pre-wrap;\n",
       "}\n",
       "</style>\n",
       "<small>shape: (5, 3)</small><table border=\"1\" class=\"dataframe\"><thead><tr><th>text</th><th>label</th><th>label_name</th></tr><tr><td>str</td><td>i64</td><td>str</td></tr></thead><tbody><tr><td>&quot;Wall St. Bears Claw Back Into …</td><td>2</td><td>&quot;Business&quot;</td></tr><tr><td>&quot;Carlyle Looks Toward Commercia…</td><td>2</td><td>&quot;Business&quot;</td></tr><tr><td>&quot;Oil and Economy Cloud Stocks&#x27; …</td><td>2</td><td>&quot;Business&quot;</td></tr><tr><td>&quot;Iraq Halts Oil Exports from Ma…</td><td>2</td><td>&quot;Business&quot;</td></tr><tr><td>&quot;Oil prices soar to all-time re…</td><td>2</td><td>&quot;Business&quot;</td></tr></tbody></table></div>"
      ]
     },
     "execution_count": 5,
     "metadata": {},
     "output_type": "execute_result"
    }
   ],
   "execution_count": 5
  },
  {
   "cell_type": "code",
   "source": [
    "import re\n",
    "import nltk\n",
    "nltk.download('punkt')\n",
    "nltk.download('punkt_tab')\n",
    "nltk.download('stopwords')\n",
    "from nltk.tokenize import word_tokenize\n",
    "from nltk.corpus import stopwords\n",
    "\n",
    "STOPWORDS = set(stopwords.words(\"english\"))\n",
    "\n",
    "def clean_text(text: str) -> str:\n",
    "    text = text.lower()\n",
    "    tokens = word_tokenize(text)\n",
    "    tokens = [word for word in tokens if word.isalpha() and word not in STOPWORDS]\n",
    "    return tokens"
   ],
   "metadata": {
    "colab": {
     "base_uri": "https://localhost:8080/"
    },
    "id": "9fCqPukOwH3b",
    "outputId": "74b6214c-08dd-4b19-de25-f75384f6b3fa",
    "ExecuteTime": {
     "end_time": "2025-06-18T07:41:28.613418Z",
     "start_time": "2025-06-18T06:47:51.090999Z"
    }
   },
   "outputs": [
    {
     "name": "stderr",
     "output_type": "stream",
     "text": [
      "[nltk_data] Downloading package punkt to /Users/hugo/nltk_data...\n",
      "[nltk_data]   Package punkt is already up-to-date!\n",
      "[nltk_data] Downloading package punkt_tab to /Users/hugo/nltk_data...\n",
      "[nltk_data]   Package punkt_tab is already up-to-date!\n",
      "[nltk_data] Downloading package stopwords to /Users/hugo/nltk_data...\n",
      "[nltk_data]   Package stopwords is already up-to-date!\n"
     ]
    }
   ],
   "execution_count": 6
  },
  {
   "cell_type": "code",
   "source": [
    "train_pl = train_pl.with_columns([\n",
    "    pl.col(\"text\").map_elements(clean_text, return_dtype=pl.List(pl.String)).alias(\"text_cleaned\")\n",
    "])\n",
    "\n",
    "train_pl.head()"
   ],
   "metadata": {
    "colab": {
     "base_uri": "https://localhost:8080/",
     "height": 255
    },
    "id": "UcX036pO01Ii",
    "outputId": "7115f717-a01d-4f26-dae1-f0eea179e3c4",
    "ExecuteTime": {
     "end_time": "2025-06-18T07:41:28.613655Z",
     "start_time": "2025-06-18T06:47:54.299153Z"
    }
   },
   "outputs": [
    {
     "data": {
      "text/plain": [
       "shape: (5, 4)\n",
       "┌─────────────────────────────────┬───────┬────────────┬─────────────────────────────────┐\n",
       "│ text                            ┆ label ┆ label_name ┆ text_cleaned                    │\n",
       "│ ---                             ┆ ---   ┆ ---        ┆ ---                             │\n",
       "│ str                             ┆ i64   ┆ str        ┆ list[str]                       │\n",
       "╞═════════════════════════════════╪═══════╪════════════╪═════════════════════════════════╡\n",
       "│ Wall St. Bears Claw Back Into … ┆ 2     ┆ Business   ┆ [\"wall\", \"bears\", … \"green\"]    │\n",
       "│ Carlyle Looks Toward Commercia… ┆ 2     ┆ Business   ┆ [\"carlyle\", \"looks\", … \"market… │\n",
       "│ Oil and Economy Cloud Stocks' … ┆ 2     ┆ Business   ┆ [\"oil\", \"economy\", … \"doldrums… │\n",
       "│ Iraq Halts Oil Exports from Ma… ┆ 2     ┆ Business   ┆ [\"iraq\", \"halts\", … \"saturday\"… │\n",
       "│ Oil prices soar to all-time re… ┆ 2     ┆ Business   ┆ [\"oil\", \"prices\", … \"elections… │\n",
       "└─────────────────────────────────┴───────┴────────────┴─────────────────────────────────┘"
      ],
      "text/html": [
       "<div><style>\n",
       ".dataframe > thead > tr,\n",
       ".dataframe > tbody > tr {\n",
       "  text-align: right;\n",
       "  white-space: pre-wrap;\n",
       "}\n",
       "</style>\n",
       "<small>shape: (5, 4)</small><table border=\"1\" class=\"dataframe\"><thead><tr><th>text</th><th>label</th><th>label_name</th><th>text_cleaned</th></tr><tr><td>str</td><td>i64</td><td>str</td><td>list[str]</td></tr></thead><tbody><tr><td>&quot;Wall St. Bears Claw Back Into …</td><td>2</td><td>&quot;Business&quot;</td><td>[&quot;wall&quot;, &quot;bears&quot;, … &quot;green&quot;]</td></tr><tr><td>&quot;Carlyle Looks Toward Commercia…</td><td>2</td><td>&quot;Business&quot;</td><td>[&quot;carlyle&quot;, &quot;looks&quot;, … &quot;market&quot;]</td></tr><tr><td>&quot;Oil and Economy Cloud Stocks&#x27; …</td><td>2</td><td>&quot;Business&quot;</td><td>[&quot;oil&quot;, &quot;economy&quot;, … &quot;doldrums&quot;]</td></tr><tr><td>&quot;Iraq Halts Oil Exports from Ma…</td><td>2</td><td>&quot;Business&quot;</td><td>[&quot;iraq&quot;, &quot;halts&quot;, … &quot;saturday&quot;]</td></tr><tr><td>&quot;Oil prices soar to all-time re…</td><td>2</td><td>&quot;Business&quot;</td><td>[&quot;oil&quot;, &quot;prices&quot;, … &quot;elections&quot;]</td></tr></tbody></table></div>"
      ]
     },
     "execution_count": 7,
     "metadata": {},
     "output_type": "execute_result"
    }
   ],
   "execution_count": 7
  },
  {
   "cell_type": "code",
   "source": [
    "from nltk.stem import WordNetLemmatizer\n",
    "from nltk.tag import pos_tag\n",
    "nltk.download('wordnet')\n",
    "nltk.download('averaged_perceptron_tagger_eng')\n",
    "from nltk.corpus import wordnet\n",
    "\n",
    "lemmatizer = WordNetLemmatizer()\n",
    "\n",
    "tag_map = {\n",
    "    \"J\": wordnet.ADJ,    # Adjectif\n",
    "    \"V\": wordnet.VERB,   # Verbe\n",
    "    \"N\": wordnet.NOUN,   # Nom\n",
    "    \"R\": wordnet.ADV     # Adverbe\n",
    "}\n",
    "\n",
    "def lemmatik(seq):\n",
    "    tag = pos_tag(seq)\n",
    "    lenma = [\n",
    "        lemmatizer.lemmatize(word, tag_map.get(tag[0], wordnet.NOUN))  # Défaut : nom\n",
    "        for word, tag in tag\n",
    "    ]\n",
    "\n",
    "    return \" \".join(lenma)"
   ],
   "metadata": {
    "colab": {
     "base_uri": "https://localhost:8080/"
    },
    "id": "sJaf1czr2myh",
    "outputId": "e30f9e21-bfc1-42da-fc8d-35ca1f72946c",
    "ExecuteTime": {
     "end_time": "2025-06-18T07:41:28.614297Z",
     "start_time": "2025-06-18T06:48:06.725366Z"
    }
   },
   "outputs": [
    {
     "name": "stderr",
     "output_type": "stream",
     "text": [
      "[nltk_data] Downloading package wordnet to /Users/hugo/nltk_data...\n",
      "[nltk_data]   Package wordnet is already up-to-date!\n",
      "[nltk_data] Downloading package averaged_perceptron_tagger_eng to\n",
      "[nltk_data]     /Users/hugo/nltk_data...\n",
      "[nltk_data]   Package averaged_perceptron_tagger_eng is already up-to-\n",
      "[nltk_data]       date!\n",
      "Exception ignored in: <bound method IPythonKernel._clean_thread_parent_frames of <ipykernel.ipkernel.IPythonKernel object at 0x10489bf10>>\n",
      "Traceback (most recent call last):\n",
      "  File \"/Users/hugo/PycharmProjects/Chatbot_M1/.venv/lib/python3.11/site-packages/ipykernel/ipkernel.py\", line 775, in _clean_thread_parent_frames\n",
      "    def _clean_thread_parent_frames(\n",
      "\n",
      "KeyboardInterrupt: \n"
     ]
    }
   ],
   "execution_count": 8
  },
  {
   "cell_type": "code",
   "source": [
    "train_pl = train_pl.with_columns([\n",
    "    pl.col(\"text_cleaned\").map_elements(lemmatik, return_dtype=pl.String).alias(\"text_cleaned\")\n",
    "])\n",
    "\n",
    "train_pl.head()"
   ],
   "metadata": {
    "colab": {
     "base_uri": "https://localhost:8080/",
     "height": 255
    },
    "id": "WAZuXmfv3ns4",
    "outputId": "1d734369-4a99-4833-a049-f29487f2e702",
    "ExecuteTime": {
     "end_time": "2025-06-18T07:41:28.614410Z",
     "start_time": "2025-06-18T06:48:08.195950Z"
    }
   },
   "outputs": [
    {
     "data": {
      "text/plain": [
       "shape: (5, 4)\n",
       "┌─────────────────────────────────┬───────┬────────────┬─────────────────────────────────┐\n",
       "│ text                            ┆ label ┆ label_name ┆ text_cleaned                    │\n",
       "│ ---                             ┆ ---   ┆ ---        ┆ ---                             │\n",
       "│ str                             ┆ i64   ┆ str        ┆ str                             │\n",
       "╞═════════════════════════════════╪═══════╪════════════╪═════════════════════════════════╡\n",
       "│ Wall St. Bears Claw Back Into … ┆ 2     ┆ Business   ┆ wall bear claw back black reut… │\n",
       "│ Carlyle Looks Toward Commercia… ┆ 2     ┆ Business   ┆ carlyle look toward commercial… │\n",
       "│ Oil and Economy Cloud Stocks' … ┆ 2     ┆ Business   ┆ oil economy cloud stock outloo… │\n",
       "│ Iraq Halts Oil Exports from Ma… ┆ 2     ┆ Business   ┆ iraq halt oil export main sout… │\n",
       "│ Oil prices soar to all-time re… ┆ 2     ┆ Business   ┆ oil price soar record pose new… │\n",
       "└─────────────────────────────────┴───────┴────────────┴─────────────────────────────────┘"
      ],
      "text/html": [
       "<div><style>\n",
       ".dataframe > thead > tr,\n",
       ".dataframe > tbody > tr {\n",
       "  text-align: right;\n",
       "  white-space: pre-wrap;\n",
       "}\n",
       "</style>\n",
       "<small>shape: (5, 4)</small><table border=\"1\" class=\"dataframe\"><thead><tr><th>text</th><th>label</th><th>label_name</th><th>text_cleaned</th></tr><tr><td>str</td><td>i64</td><td>str</td><td>str</td></tr></thead><tbody><tr><td>&quot;Wall St. Bears Claw Back Into …</td><td>2</td><td>&quot;Business&quot;</td><td>&quot;wall bear claw back black reut…</td></tr><tr><td>&quot;Carlyle Looks Toward Commercia…</td><td>2</td><td>&quot;Business&quot;</td><td>&quot;carlyle look toward commercial…</td></tr><tr><td>&quot;Oil and Economy Cloud Stocks&#x27; …</td><td>2</td><td>&quot;Business&quot;</td><td>&quot;oil economy cloud stock outloo…</td></tr><tr><td>&quot;Iraq Halts Oil Exports from Ma…</td><td>2</td><td>&quot;Business&quot;</td><td>&quot;iraq halt oil export main sout…</td></tr><tr><td>&quot;Oil prices soar to all-time re…</td><td>2</td><td>&quot;Business&quot;</td><td>&quot;oil price soar record pose new…</td></tr></tbody></table></div>"
      ]
     },
     "execution_count": 9,
     "metadata": {},
     "output_type": "execute_result"
    }
   ],
   "execution_count": 9
  },
  {
   "cell_type": "code",
   "source": [
    "# test_pl = test_pl.with_columns([\n",
    "#     pl.col(\"text\").map_elements(clean_text, return_dtype=pl.List(pl.String)).alias(\"text_cleaned\")\n",
    "# ])\n",
    "#\n",
    "# test_pl = test_pl.with_columns([\n",
    "#     pl.col(\"text_cleaned\").map_elements(lemmatik, return_dtype=pl.String).alias(\"text_cleaned\")\n",
    "# ])\n",
    "#\n",
    "# test_pl.head()"
   ],
   "metadata": {
    "colab": {
     "base_uri": "https://localhost:8080/",
     "height": 255
    },
    "id": "Wb9ORzyH40Qn",
    "outputId": "16cf4bed-010c-4afa-a896-a6c0a43286e1",
    "ExecuteTime": {
     "end_time": "2025-06-18T07:41:28.614894Z",
     "start_time": "2025-06-18T06:49:17.536773Z"
    }
   },
   "outputs": [],
   "execution_count": 10
  },
  {
   "metadata": {},
   "cell_type": "markdown",
   "source": "# Entrainement du Model ML"
  },
  {
   "metadata": {
    "ExecuteTime": {
     "end_time": "2025-06-18T07:41:28.615Z",
     "start_time": "2025-06-18T06:49:17.601208Z"
    }
   },
   "cell_type": "code",
   "source": [
    "from sklearn.model_selection import train_test_split\n",
    "# Séparer X et Y train_test_split\n",
    "X = train_pl[\"text_cleaned\"].to_list()\n",
    "y = train_pl[\"label\"].to_list()\n",
    "\n",
    "X_train, X_test, y_train, y_test = train_test_split(X, y, test_size=0.2,stratify=y, random_state=42)\n"
   ],
   "outputs": [],
   "execution_count": 11
  },
  {
   "metadata": {
    "jupyter": {
     "is_executing": true
    },
    "ExecuteTime": {
     "end_time": "2025-06-18T07:41:28.615098Z",
     "start_time": "2025-06-18T06:49:17.697889Z"
    }
   },
   "cell_type": "code",
   "source": [
    "import optuna\n",
    "from sklearn.pipeline import Pipeline\n",
    "from sklearn.feature_extraction.text import TfidfVectorizer\n",
    "from sklearn.linear_model import LogisticRegression\n",
    "from sklearn.svm import SVC\n",
    "from sklearn.svm import LinearSVC\n",
    "from sklearn.metrics import accuracy_score\n",
    "\n",
    "\n",
    "def objective(trial):\n",
    "    model_name = trial.suggest_categorical(\"model\", [\"LogisticRegression\", \"SVM\"])\n",
    "    max_features = trial.suggest_int(\"max_features\", 1000, 10000, step=1000)\n",
    "\n",
    "    vectorizer = TfidfVectorizer(max_features=max_features)\n",
    "\n",
    "    if model_name == \"LogisticRegression\":\n",
    "        clf = LogisticRegression(max_iter=1000, C=trial.suggest_float(\"C\", 1e-3, 10, log=True))\n",
    "    else:\n",
    "        clf = LinearSVC(C=trial.suggest_float(\"C\", 1e-3, 10, log=True), max_iter=1000)\n",
    "\n",
    "    pipeline = Pipeline([\n",
    "        (\"vectorizer\", vectorizer),\n",
    "        (\"classifier\", clf)\n",
    "    ])\n",
    "\n",
    "    pipeline.fit(X_train, y_train)\n",
    "    preds = pipeline.predict(X_test)\n",
    "    return accuracy_score(y_test, preds)\n",
    "\n",
    "study = optuna.create_study(direction=\"maximize\")\n",
    "study.optimize(objective, n_trials=20)\n",
    "\n",
    "print(\"Best trial:\")\n",
    "print(study.best_trial.params)\n"
   ],
   "outputs": [
    {
     "name": "stderr",
     "output_type": "stream",
     "text": [
      "[I 2025-06-18 08:49:17,751] A new study created in memory with name: no-name-2cb91db1-703c-4069-953f-f0aaff39bb28\n",
      "[I 2025-06-18 08:49:21,041] Trial 0 finished with value: 0.9015416666666667 and parameters: {'model': 'LogisticRegression', 'max_features': 3000, 'C': 0.2784165532260916}. Best is trial 0 with value: 0.9015416666666667.\n",
      "[I 2025-06-18 08:49:24,808] Trial 1 finished with value: 0.9034583333333334 and parameters: {'model': 'LogisticRegression', 'max_features': 7000, 'C': 0.10967613259135425}. Best is trial 1 with value: 0.9034583333333334.\n",
      "[I 2025-06-18 08:49:29,056] Trial 2 finished with value: 0.9094583333333334 and parameters: {'model': 'LogisticRegression', 'max_features': 6000, 'C': 0.35921989879479366}. Best is trial 2 with value: 0.9094583333333334.\n",
      "[I 2025-06-18 08:49:31,770] Trial 3 finished with value: 0.9032916666666667 and parameters: {'model': 'LogisticRegression', 'max_features': 9000, 'C': 0.09898243325742442}. Best is trial 2 with value: 0.9094583333333334.\n",
      "[I 2025-06-18 08:49:37,190] Trial 4 finished with value: 0.8995416666666667 and parameters: {'model': 'LogisticRegression', 'max_features': 3000, 'C': 5.039304778992215}. Best is trial 2 with value: 0.9094583333333334.\n",
      "[I 2025-06-18 08:49:38,744] Trial 5 finished with value: 0.8726666666666667 and parameters: {'model': 'LogisticRegression', 'max_features': 2000, 'C': 0.012124108750830184}. Best is trial 2 with value: 0.9094583333333334.\n",
      "[I 2025-06-18 08:49:40,376] Trial 6 finished with value: 0.866375 and parameters: {'model': 'LogisticRegression', 'max_features': 9000, 'C': 0.004253152412839574}. Best is trial 2 with value: 0.9094583333333334.\n",
      "[I 2025-06-18 09:01:38,187] Trial 7 finished with value: 0.9124166666666667 and parameters: {'model': 'SVM', 'max_features': 6000, 'C': 0.18630100725521484}. Best is trial 7 with value: 0.9124166666666667.\n",
      "[I 2025-06-18 09:32:07,845] Trial 8 finished with value: 0.8740416666666667 and parameters: {'model': 'SVM', 'max_features': 7000, 'C': 0.005931467278763572}. Best is trial 7 with value: 0.9124166666666667.\n",
      "[I 2025-06-18 09:32:09,465] Trial 9 finished with value: 0.859875 and parameters: {'model': 'LogisticRegression', 'max_features': 1000, 'C': 0.022815125380635102}. Best is trial 7 with value: 0.9124166666666667.\n"
     ]
    }
   ],
   "execution_count": null
  },
  {
   "metadata": {
    "ExecuteTime": {
     "end_time": "2025-06-18T07:41:28.615892Z",
     "start_time": "2025-06-17T14:01:34.278525Z"
    }
   },
   "cell_type": "code",
   "source": [
    "from sklearn.metrics import accuracy_score, classification_report, confusion_matrix\n",
    "from sklearn.preprocessing import label_binarize\n",
    "from sklearn.metrics import roc_auc_score\n",
    "\n",
    "# Réentraîner le meilleur modèle\n",
    "best_params = study.best_trial.params\n",
    "vectorizer = TfidfVectorizer(max_features=best_params[\"max_features\"])\n",
    "\n",
    "if best_params[\"model\"] == \"LogisticRegression\":\n",
    "    clf = LogisticRegression(max_iter=1000, C=best_params[\"C\"])\n",
    "else:\n",
    "    clf = SVC(C=best_params[\"C\"], kernel='linear', probability=True)\n",
    "\n",
    "pipeline = Pipeline([\n",
    "    (\"vectorizer\", vectorizer),\n",
    "    (\"classifier\", clf)\n",
    "])\n",
    "\n",
    "pipeline.fit(X_train, y_train)\n",
    "preds = pipeline.predict(X_test)\n",
    "\n",
    "#  Metrics\n",
    "print(\"\\nClassification Report :\")\n",
    "print(classification_report(y_test, preds))\n",
    "\n",
    "print(\"\\nConfusion Matrix :\")\n",
    "print(confusion_matrix(y_test, preds))\n",
    "\n",
    "# ROC AUC (pour 4 classes)\n",
    "# On binarise les labels pour calculer l'AUC macro/micro\n",
    "y_test_bin = label_binarize(y_test, classes=[0, 1, 2, 3])\n",
    "proba = pipeline.predict_proba(X_test)\n",
    "\n",
    "print(\"\\nROC AUC Score (macro) :\")\n",
    "print(roc_auc_score(y_test_bin, proba, average='macro', multi_class='ovr'))"
   ],
   "outputs": [
    {
     "name": "stdout",
     "output_type": "stream",
     "text": [
      "\n",
      "Classification Report :\n",
      "              precision    recall  f1-score   support\n",
      "\n",
      "           0       0.92      0.90      0.91      6000\n",
      "           1       0.95      0.98      0.96      6000\n",
      "           2       0.88      0.86      0.87      6000\n",
      "           3       0.87      0.88      0.88      6000\n",
      "\n",
      "    accuracy                           0.90     24000\n",
      "   macro avg       0.90      0.90      0.90     24000\n",
      "weighted avg       0.90      0.90      0.90     24000\n",
      "\n",
      "\n",
      "Confusion Matrix :\n",
      "[[5390  197  237  176]\n",
      " [  76 5852   24   48]\n",
      " [ 204   55 5185  556]\n",
      " [ 205   55  451 5289]]\n",
      "\n",
      "ROC AUC Score (macro) :\n",
      "0.9781207199074075\n"
     ]
    }
   ],
   "execution_count": 30
  },
  {
   "metadata": {},
   "cell_type": "code",
   "outputs": [],
   "execution_count": null,
   "source": [
    "import matplotlib.pyplot as plt\n",
    "import seaborn as sns\n",
    "from sklearn.metrics import confusion_matrix\n",
    "\n",
    "# Génération de la matrice\n",
    "cm = confusion_matrix(y_test, preds)\n",
    "labels = [0, 1, 2, 3]  # adapte si tu as des labels autres\n",
    "\n",
    "# Tracé avec seaborn\n",
    "plt.figure(figsize=(8, 6))\n",
    "sns.heatmap(cm, annot=True, fmt=\"d\", cmap=\"Blues\", xticklabels=labels, yticklabels=labels)\n",
    "\n",
    "plt.title(\"Matrice de confusion\")\n",
    "plt.xlabel(\"Prédictions\")\n",
    "plt.ylabel(\"Vraies classes\")\n",
    "plt.show()"
   ]
  },
  {
   "metadata": {},
   "cell_type": "code",
   "outputs": [],
   "execution_count": null,
   "source": ""
  }
 ]
}
