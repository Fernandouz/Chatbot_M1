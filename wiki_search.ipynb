{
 "cells": [
  {
   "metadata": {},
   "cell_type": "markdown",
   "source": [
    "# Recherche Wikipedia\n",
    "\n",
    "Le but ici est de permettre à l'utilisateur d'effectuer une recherche wikipédia à partir d'un mot clé"
   ],
   "id": "ead6ec64bbf5bf3d"
  },
  {
   "metadata": {
    "ExecuteTime": {
     "end_time": "2025-06-28T15:40:02.223874Z",
     "start_time": "2025-06-28T15:40:02.205151Z"
    }
   },
   "cell_type": "code",
   "source": [
    "import requests\n",
    "\n",
    "def rechercher_wikipedia(terme):\n",
    "    url = f\"https://en.wikipedia.org/api/rest_v1/page/summary/{terme}\"\n",
    "    try:\n",
    "        response = requests.get(url)\n",
    "        response.raise_for_status()\n",
    "        data = response.json()\n",
    "\n",
    "        titre = data.get(\"title\", \"Sans titre\")\n",
    "        extrait = data.get(\"extract\", \"Pas de résumé trouvé.\")\n",
    "        url_article = data.get(\"content_urls\", {}).get(\"desktop\", {}).get(\"page\", \"#\")\n",
    "\n",
    "        return {\n",
    "            \"titre\": titre,\n",
    "            \"extrait\": extrait,\n",
    "            \"url\": url_article\n",
    "        }\n",
    "\n",
    "    except requests.exceptions.HTTPError:\n",
    "        return {\n",
    "            \"erreur\": f\"Aucun article trouvé pour « {terme} ».\"\n",
    "        }\n",
    "    except Exception as e:\n",
    "        return {\n",
    "            \"erreur\": f\"Erreur inattendue : {e}\"\n",
    "        }"
   ],
   "id": "3f34fa5e1d3489e5",
   "outputs": [],
   "execution_count": 15
  },
  {
   "metadata": {
    "ExecuteTime": {
     "end_time": "2025-06-28T15:40:05.431445Z",
     "start_time": "2025-06-28T15:40:05.112680Z"
    }
   },
   "cell_type": "code",
   "source": "rechercher_wikipedia(\"Kobe Bryant\")",
   "id": "97f6bd85138ced6e",
   "outputs": [
    {
     "data": {
      "text/plain": [
       "{'titre': 'Kobe Bryant',\n",
       " 'extrait': 'Kobe Bean Bryant was an American professional basketball player. A shooting guard, he spent his entire 20-year career with the Los Angeles Lakers in the National Basketball Association (NBA). Widely regarded as one of the greatest and most influential basketball players of all time, Bryant won five NBA championships and was an 18-time All-Star, four-time All-Star MVP, 15-time member of the All-NBA Team, 12-time member of the All-Defensive Team, the 2008 NBA Most Valuable Player (MVP), two-time NBA Finals MVP, and two-time scoring champion. He ranks fourth in league all-time regular season and postseason scoring. Bryant was posthumously named to the NBA 75th Anniversary Team in 2021 and was inducted to the Naismith Memorial Basketball Hall of Fame twice, first in 2020 as an NBA player, and again in 2025 as a member of the 2008 U.S. Olympic team.',\n",
       " 'url': 'https://en.wikipedia.org/wiki/Kobe_Bryant'}"
      ]
     },
     "execution_count": 16,
     "metadata": {},
     "output_type": "execute_result"
    }
   ],
   "execution_count": 16
  },
  {
   "metadata": {
    "ExecuteTime": {
     "end_time": "2025-06-28T12:33:13.018562Z",
     "start_time": "2025-06-28T12:33:13.015441Z"
    }
   },
   "cell_type": "code",
   "source": [
    "def recuperer_article_wikipedia(titre):\n",
    "    \"\"\"\n",
    "    Récupère le contenu complet brut (texte seul) d'un article Wikipédia.\n",
    "    \"\"\"\n",
    "    url = \"https://fr.wikipedia.org/w/api.php\"\n",
    "    params = {\n",
    "        \"action\": \"query\",\n",
    "        \"format\": \"json\",\n",
    "        \"prop\": \"extracts\",\n",
    "        \"titles\": titre,\n",
    "        \"exintro\": True,\n",
    "        \"explaintext\": True,\n",
    "        \"redirects\": 1  # Pour suivre les redirections\n",
    "    }\n",
    "\n",
    "    try:\n",
    "        response = requests.get(url, params=params)\n",
    "        response.raise_for_status()\n",
    "        data = response.json()\n",
    "\n",
    "        pages = data[\"query\"][\"pages\"]\n",
    "        page = next(iter(pages.values()))\n",
    "\n",
    "        if \"extract\" in page and page[\"extract\"].strip():\n",
    "            return page[\"extract\"]\n",
    "        else:\n",
    "            return None\n",
    "\n",
    "    except Exception as e:\n",
    "        print(f\"Erreur lors de la récupération de l'article : {e}\")\n",
    "        return None"
   ],
   "id": "c244b20f15f3830c",
   "outputs": [],
   "execution_count": 3
  },
  {
   "metadata": {
    "ExecuteTime": {
     "end_time": "2025-06-28T12:33:13.246924Z",
     "start_time": "2025-06-28T12:33:13.023472Z"
    }
   },
   "cell_type": "code",
   "source": [
    "article = (recuperer_article_wikipedia(\"napoleon\"))\n",
    "print(article)"
   ],
   "id": "fbf4e59469ceb80c",
   "outputs": [
    {
     "name": "stdout",
     "output_type": "stream",
     "text": [
      "Napoléon Bonaparte, né le 15 août 1769 à Ajaccio en Corse et mort le 5 mai 1821 à Longwood sur l’île de Sainte-Hélène, est un militaire et homme d'État français. Il est le premier empereur des Français du 18 mai 1804 au 6 avril 1814 et du 20 mars au 22 juin 1815, sous le nom de Napoléon Ier.\n",
      "Second enfant de Charles Bonaparte et Letizia Ramolino, Napoléon Bonaparte devient en 1793 général dans les armées de la Première République française, née de la Révolution, où il est notamment commandant en chef de l'armée d'Italie puis de l'armée d'Orient. Arrivé au pouvoir en 1799 par le coup d'État du 18 Brumaire, il est Premier consul — consul à vie à partir du 2 août 1802 — jusqu'au 18 mai 1804, date à laquelle l'Empire est proclamé par un sénatus-consulte suivi d'un plébiscite. Il est sacré empereur, en la cathédrale Notre-Dame de Paris, le 2 décembre 1804, par le pape Pie VII, en même temps que son épouse Joséphine de Beauharnais.\n",
      "En tant que général en chef et chef d'État, Napoléon tente de briser les coalitions montées et financées par le royaume de Grande-Bretagne et qui rassemblent, à partir de 1792, les monarchies européennes contre la France et son régime né de la Révolution. Il conduit les armées françaises d'Italie au Nil et d'Autriche à la Prusse et à la Pologne : les nombreuses et brillantes victoires de Bonaparte (Arcole, Rivoli, Pyramides, Marengo, Austerlitz, Iéna, Friedland), dans des campagnes militaires rapides, disloquent les quatre premières coalitions. Les paix successives, qui mettent un terme à chacune de ces coalitions, renforcent la France et donnent à Napoléon un degré de puissance jusqu'alors rarement égalé en Europe, lors de la paix de Tilsit (1807).\n",
      "Napoléon Ier réforme durablement l'État, en restaurant son autorité et sa primauté. La France connaît d'importantes réformes, qui font de Napoléon l'un des pères fondateurs des institutions contemporaines françaises. En ce sens, les codifications napoléoniennes, dont le Code civil de 1804, permettent de renforcer les libertés individuelles ou l'égalité des citoyens devant la loi, en opérant une synthèse par la garantie de certains acquis révolutionnaires et la reprise de principes traditionnels issus de l'Ancien Régime. L'administration française est réorganisée, avec la création des préfets dans les départements. De même, une nouvelle monnaie émerge, le franc, tandis qu'est instaurée la Banque de France. Le Conseil d'État est également créé, tout comme les lycées.\n",
      "Il tente également de renforcer l'empire colonial français de l'Ancien Régime en outre-mer. Alors que la révolution haïtienne tourne à la sécession dans cette colonie, Napoléon rétablit l'esclavage en 1802. Toujours pour des raisons politiques, Napoléon revend la Louisiane aux États-Unis en 1803. Il perd cependant la plupart des colonies qui l’intéressaient face aux Britanniques, et perd Saint-Domingue à la suite de l'échec de l'expédition militaire préalable (1802-1803), visant à combattre les indépendantistes.\n",
      "Il porte le territoire français à son extension maximale en Europe, avec 134 départements en 1812, transformant Rome, Hambourg, Barcelone et Amsterdam en chefs-lieux de départements français. Il est aussi président de la République italienne de 1802 à 1805, roi d'Italie de 1805 à 1814, médiateur de la Confédération suisse de 1803 à 1813 et protecteur de la confédération du Rhin de 1806 à 1813. Ses victoires lui permettent d'annexer à la France de vastes territoires et de gouverner la majeure partie de l'Europe continentale en plaçant les membres de sa famille sur les trônes de plusieurs royaumes : Joseph à Naples puis en Espagne, Louis en Hollande, Jérôme en Westphalie et son beau-frère Joachim Murat à Naples. Il crée également un duché de Varsovie, sans restaurer formellement l'indépendance polonaise, et soumet temporairement à son influence des puissances vaincues telles que le royaume de Prusse et l'empire d'Autriche.\n",
      "Alors qu'ils financent des coalitions de plus en plus générales, les alliés contre la France finissent par remporter des succès décisifs en Espagne (bataille de Vitoria) et en Allemagne (bataille de Leipzig) en 1813. Son intransigeance devant ces revers lui fait perdre le soutien de pans entiers de la nation française, tandis que ses anciens alliés ou vassaux se retournent contre lui. Amené à abdiquer en 1814 après la prise de Paris, capitale de l'Empire français, et à se retirer à l'île d'Elbe, il tente de reprendre le pouvoir en France, lors de l'épisode des Cent-Jours en 1815. Capable de reconquérir la France et d'y rétablir le régime impérial sans coup férir, il amène pourtant, à la suite de diverses trahisons et dissensions de ses maréchaux, le pays dans une impasse avec la lourde défaite de Waterloo, qui met fin à l'Empire napoléonien et assure la restauration de la dynastie des Bourbons. Sa mort en exil, à Sainte-Hélène, sous la garde des Britanniques, fait l'objet de nombreuses controverses.\n",
      "Objet dès son vivant d'une légende dorée comme d'une légende noire, il doit sa très grande notoriété à son habileté militaire, récompensée par de nombreuses victoires, et à sa trajectoire politique étonnante, mais aussi à son régime despotique et très centralisé ainsi qu'à son ambition, qui se traduit par des guerres meurtrières (au Portugal, en Espagne et en Russie) avec des millions de morts et blessés, militaires et civils pour l'ensemble de l'Europe. Considéré par de nombreux historiens ou spécialistes militaires comme l'un des plus grands commandants de l'histoire, ses guerres et campagnes sont étudiées dans les écoles militaires du monde entier.\n",
      "Une tradition romantique fait de Napoléon Ier l'archétype du « grand homme » appelé à bouleverser le monde. C'est ainsi que le comte de Las Cases, auteur du Mémorial de Sainte-Hélène, tente de présenter Napoléon au Parlement britannique dans une pétition rédigée en 1818. Élie Faure, dans son ouvrage Napoléon, qui a inspiré le film d’Abel Gance, le compare à un « prophète des temps modernes ». D'autres auteurs, tel Victor Hugo, font du vaincu de Sainte-Hélène le « Prométhée moderne ». L'ombre de « Napoléon le Grand » plane sur de nombreux ouvrages de Balzac, Stendhal, Musset, mais aussi de Dostoïevski, de Tolstoï et de bien d'autres encore. Par ailleurs, un courant politique français émerge au XIXe siècle, le bonapartisme, se réclamant de l'action et du mode de gouvernement de Napoléon.\n"
     ]
    }
   ],
   "execution_count": 4
  },
  {
   "metadata": {
    "ExecuteTime": {
     "end_time": "2025-06-28T12:33:14.937353Z",
     "start_time": "2025-06-28T12:33:13.259886Z"
    }
   },
   "cell_type": "code",
   "source": [
    "import joblib\n",
    "# Chargement du Sumarizer\n",
    "summarizer = joblib.load(\"ML_Sumarizer/summarize_pipeline_XGBoost.pkl\")"
   ],
   "id": "cc368cba743f51ff",
   "outputs": [],
   "execution_count": 5
  },
  {
   "metadata": {
    "ExecuteTime": {
     "end_time": "2025-06-28T12:33:16.752387Z",
     "start_time": "2025-06-28T12:33:14.942024Z"
    }
   },
   "cell_type": "code",
   "source": [
    "from nltk.tokenize import sent_tokenize\n",
    "from utils import preprocessing, encode_text\n",
    "import scipy\n",
    "import numpy as np\n",
    "\n",
    "sentences = sent_tokenize(article)\n",
    "cleaned_sentences = [preprocessing(s) for s in sentences]\n",
    "\n",
    "vectorizer = summarizer.named_steps['vectorizer']\n",
    "clf = summarizer.named_steps['classifier']\n",
    "X_vec = vectorizer.transform(cleaned_sentences)\n",
    "\n",
    "if hasattr(clf, \"predict_proba\"):\n",
    "    probas = clf.predict_proba(X_vec)[:, 1]\n",
    "elif hasattr(clf, \"decision_function\"):\n",
    "    decision_scores = clf.decision_function(X_vec)\n",
    "    probas = scipy.special.softmax(np.vstack([-decision_scores, decision_scores]), axis=0)[1]\n",
    "else:\n",
    "    raise ValueError(\"Le modèle ne supporte ni predict_proba ni decision_function\")\n",
    "\n",
    "top_k = 5\n",
    "top_k_idx = np.argsort(probas)[-top_k:][::-1]\n",
    "summary_sentences = [sentences[i] for i in sorted(top_k_idx)]"
   ],
   "id": "3d14184e82e847bb",
   "outputs": [
    {
     "name": "stderr",
     "output_type": "stream",
     "text": [
      "[nltk_data] Downloading package punkt to /Users/hugo/nltk_data...\n",
      "[nltk_data]   Package punkt is already up-to-date!\n",
      "[nltk_data] Downloading package punkt_tab to /Users/hugo/nltk_data...\n",
      "[nltk_data]   Package punkt_tab is already up-to-date!\n",
      "[nltk_data] Downloading package stopwords to /Users/hugo/nltk_data...\n",
      "[nltk_data]   Package stopwords is already up-to-date!\n",
      "[nltk_data] Downloading package wordnet to /Users/hugo/nltk_data...\n",
      "[nltk_data]   Package wordnet is already up-to-date!\n",
      "[nltk_data] Downloading package averaged_perceptron_tagger_eng to\n",
      "[nltk_data]     /Users/hugo/nltk_data...\n",
      "[nltk_data]   Package averaged_perceptron_tagger_eng is already up-to-\n",
      "[nltk_data]       date!\n"
     ]
    }
   ],
   "execution_count": 6
  },
  {
   "metadata": {
    "ExecuteTime": {
     "end_time": "2025-06-28T12:33:16.764831Z",
     "start_time": "2025-06-28T12:33:16.762053Z"
    }
   },
   "cell_type": "code",
   "source": "summary_sentences",
   "id": "7de2704b3dd2d701",
   "outputs": [
    {
     "data": {
      "text/plain": [
       "[\"Second enfant de Charles Bonaparte et Letizia Ramolino, Napoléon Bonaparte devient en 1793 général dans les armées de la Première République française, née de la Révolution, où il est notamment commandant en chef de l'armée d'Italie puis de l'armée d'Orient.\",\n",
       " \"En tant que général en chef et chef d'État, Napoléon tente de briser les coalitions montées et financées par le royaume de Grande-Bretagne et qui rassemblent, à partir de 1792, les monarchies européennes contre la France et son régime né de la Révolution.\",\n",
       " \"Ses victoires lui permettent d'annexer à la France de vastes territoires et de gouverner la majeure partie de l'Europe continentale en plaçant les membres de sa famille sur les trônes de plusieurs royaumes : Joseph à Naples puis en Espagne, Louis en Hollande, Jérôme en Westphalie et son beau-frère Joachim Murat à Naples.\",\n",
       " \"Amené à abdiquer en 1814 après la prise de Paris, capitale de l'Empire français, et à se retirer à l'île d'Elbe, il tente de reprendre le pouvoir en France, lors de l'épisode des Cent-Jours en 1815.\",\n",
       " \"Objet dès son vivant d'une légende dorée comme d'une légende noire, il doit sa très grande notoriété à son habileté militaire, récompensée par de nombreuses victoires, et à sa trajectoire politique étonnante, mais aussi à son régime despotique et très centralisé ainsi qu'à son ambition, qui se traduit par des guerres meurtrières (au Portugal, en Espagne et en Russie) avec des millions de morts et blessés, militaires et civils pour l'ensemble de l'Europe.\"]"
      ]
     },
     "execution_count": 7,
     "metadata": {},
     "output_type": "execute_result"
    }
   ],
   "execution_count": 7
  },
  {
   "metadata": {
    "ExecuteTime": {
     "end_time": "2025-06-28T12:33:16.783393Z",
     "start_time": "2025-06-28T12:33:16.774600Z"
    }
   },
   "cell_type": "code",
   "source": [
    "from utils import summarize_tf_idf, summarize_tf_idf_with_scores\n",
    "\n",
    "sum_tfidf = summarize_tf_idf(article)\n",
    "sum_score = summarize_tf_idf_with_scores(article)"
   ],
   "id": "1498b0d200c38bd3",
   "outputs": [],
   "execution_count": 8
  },
  {
   "metadata": {
    "ExecuteTime": {
     "end_time": "2025-06-28T12:33:16.797136Z",
     "start_time": "2025-06-28T12:33:16.793970Z"
    }
   },
   "cell_type": "code",
   "source": "sum_tfidf",
   "id": "1f7d5e36d2504e16",
   "outputs": [
    {
     "data": {
      "text/plain": [
       "\"Ses victoires lui permettent d'annexer à la France de vastes territoires et de gouverner la majeure partie de l'Europe continentale en plaçant les membres de sa famille sur les trônes de plusieurs royaumes : Joseph à Naples puis en Espagne, Louis en Hollande, Jérôme en Westphalie et son beau-frère Joachim Murat à Naples. Capable de reconquérir la France et d'y rétablir le régime impérial sans coup férir, il amène pourtant, à la suite de diverses trahisons et dissensions de ses maréchaux, le pays dans une impasse avec la lourde défaite de Waterloo, qui met fin à l'Empire napoléonien et assure la restauration de la dynastie des Bourbons. Objet dès son vivant d'une légende dorée comme d'une légende noire, il doit sa très grande notoriété à son habileté militaire, récompensée par de nombreuses victoires, et à sa trajectoire politique étonnante, mais aussi à son régime despotique et très centralisé ainsi qu'à son ambition, qui se traduit par des guerres meurtrières (au Portugal, en Espagne et en Russie) avec des millions de morts et blessés, militaires et civils pour l'ensemble de l'Europe.\""
      ]
     },
     "execution_count": 9,
     "metadata": {},
     "output_type": "execute_result"
    }
   ],
   "execution_count": 9
  },
  {
   "metadata": {
    "ExecuteTime": {
     "end_time": "2025-06-28T12:33:16.870473Z",
     "start_time": "2025-06-28T12:33:16.867322Z"
    }
   },
   "cell_type": "code",
   "source": "sum_score[0]",
   "id": "fd0bc4db3c00e7aa",
   "outputs": [
    {
     "data": {
      "text/plain": [
       "\"Ses victoires lui permettent d'annexer à la France de vastes territoires et de gouverner la majeure partie de l'Europe continentale en plaçant les membres de sa famille sur les trônes de plusieurs royaumes : Joseph à Naples puis en Espagne, Louis en Hollande, Jérôme en Westphalie et son beau-frère Joachim Murat à Naples. Capable de reconquérir la France et d'y rétablir le régime impérial sans coup férir, il amène pourtant, à la suite de diverses trahisons et dissensions de ses maréchaux, le pays dans une impasse avec la lourde défaite de Waterloo, qui met fin à l'Empire napoléonien et assure la restauration de la dynastie des Bourbons. Objet dès son vivant d'une légende dorée comme d'une légende noire, il doit sa très grande notoriété à son habileté militaire, récompensée par de nombreuses victoires, et à sa trajectoire politique étonnante, mais aussi à son régime despotique et très centralisé ainsi qu'à son ambition, qui se traduit par des guerres meurtrières (au Portugal, en Espagne et en Russie) avec des millions de morts et blessés, militaires et civils pour l'ensemble de l'Europe.\""
      ]
     },
     "execution_count": 10,
     "metadata": {},
     "output_type": "execute_result"
    }
   ],
   "execution_count": 10
  },
  {
   "metadata": {
    "ExecuteTime": {
     "end_time": "2025-06-28T12:33:39.145438Z",
     "start_time": "2025-06-28T12:33:39.068498Z"
    }
   },
   "cell_type": "code",
   "source": [
    "from utils import summarize_article\n",
    "print(summarize_article(article, summarizer, preprocessing, top_k=3))"
   ],
   "id": "490b694ccaf3dc7e",
   "outputs": [
    {
     "name": "stdout",
     "output_type": "stream",
     "text": [
      "Second enfant de Charles Bonaparte et Letizia Ramolino, Napoléon Bonaparte devient en 1793 général dans les armées de la Première République française, née de la Révolution, où il est notamment commandant en chef de l'armée d'Italie puis de l'armée d'Orient.\n",
      "\n",
      "En tant que général en chef et chef d'État, Napoléon tente de briser les coalitions montées et financées par le royaume de Grande-Bretagne et qui rassemblent, à partir de 1792, les monarchies européennes contre la France et son régime né de la Révolution.\n",
      "\n",
      "Ses victoires lui permettent d'annexer à la France de vastes territoires et de gouverner la majeure partie de l'Europe continentale en plaçant les membres de sa famille sur les trônes de plusieurs royaumes : Joseph à Naples puis en Espagne, Louis en Hollande, Jérôme en Westphalie et son beau-frère Joachim Murat à Naples.\n"
     ]
    }
   ],
   "execution_count": 12
  },
  {
   "metadata": {
    "ExecuteTime": {
     "end_time": "2025-06-28T12:33:17.001448Z",
     "start_time": "2025-06-28T12:33:16.999470Z"
    }
   },
   "cell_type": "code",
   "source": "",
   "id": "e46438d54940b1f",
   "outputs": [],
   "execution_count": null
  }
 ],
 "metadata": {
  "kernelspec": {
   "display_name": "Python 3",
   "language": "python",
   "name": "python3"
  },
  "language_info": {
   "codemirror_mode": {
    "name": "ipython",
    "version": 2
   },
   "file_extension": ".py",
   "mimetype": "text/x-python",
   "name": "python",
   "nbconvert_exporter": "python",
   "pygments_lexer": "ipython2",
   "version": "2.7.6"
  }
 },
 "nbformat": 4,
 "nbformat_minor": 5
}
