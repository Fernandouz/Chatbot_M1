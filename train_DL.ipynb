{
 "cells": [
  {
   "cell_type": "code",
   "id": "initial_id",
   "metadata": {
    "collapsed": true,
    "ExecuteTime": {
     "end_time": "2025-06-21T13:49:12.302009Z",
     "start_time": "2025-06-21T13:49:10.020408Z"
    }
   },
   "source": [
    "import polars as pl\n",
    "from utils import preprocessing\n",
    "from datasets import load_dataset\n",
    "from sklearn.model_selection import train_test_split\n",
    "\n",
    "ds = load_dataset(\"fancyzhx/ag_news\")\n",
    "ds"
   ],
   "outputs": [
    {
     "data": {
      "text/plain": [
       "DatasetDict({\n",
       "    train: Dataset({\n",
       "        features: ['text', 'label'],\n",
       "        num_rows: 120000\n",
       "    })\n",
       "    test: Dataset({\n",
       "        features: ['text', 'label'],\n",
       "        num_rows: 7600\n",
       "    })\n",
       "})"
      ]
     },
     "execution_count": 136,
     "metadata": {},
     "output_type": "execute_result"
    }
   ],
   "execution_count": 136
  },
  {
   "metadata": {
    "ExecuteTime": {
     "end_time": "2025-06-21T13:49:12.313935Z",
     "start_time": "2025-06-21T13:49:12.309490Z"
    }
   },
   "cell_type": "code",
   "source": [
    "import numpy as np\n",
    "from tensorflow.keras.preprocessing.text import Tokenizer\n",
    "from tensorflow.keras.preprocessing.sequence import pad_sequences\n",
    "from tensorflow.keras.models import Sequential\n",
    "from tensorflow.keras.layers import Embedding, Conv1D, MaxPooling1D, Bidirectional, LSTM, Dense, Dropout\n",
    "from tensorflow.keras.optimizers import Adam\n",
    "from tensorflow.keras.utils import to_categorical\n",
    "from gensim.models import Word2Vec"
   ],
   "id": "c12323877a75d57a",
   "outputs": [],
   "execution_count": 137
  },
  {
   "metadata": {
    "ExecuteTime": {
     "end_time": "2025-06-21T13:49:12.581443Z",
     "start_time": "2025-06-21T13:49:12.434436Z"
    }
   },
   "cell_type": "code",
   "source": [
    "# Convertir chaque split en Polars DataFrame\n",
    "subset_size = 120000\n",
    "\n",
    "train_pl = pl.DataFrame(ds[\"train\"][:subset_size])"
   ],
   "id": "df9f24bff62cccb5",
   "outputs": [],
   "execution_count": 138
  },
  {
   "metadata": {
    "ExecuteTime": {
     "end_time": "2025-06-21T13:49:12.651519Z",
     "start_time": "2025-06-21T13:49:12.589453Z"
    }
   },
   "cell_type": "code",
   "source": [
    "label_names = ds[\"train\"].features[\"label\"].names\n",
    "print(label_names)\n",
    "\n",
    "train_pl = train_pl.with_columns([\n",
    "    pl.col(\"label\").map_elements(lambda x: label_names[x], return_dtype=pl.String).alias(\"label_name\")\n",
    "])\n",
    "\n",
    "train_pl.head()"
   ],
   "id": "44e93cf31c05c60c",
   "outputs": [
    {
     "name": "stdout",
     "output_type": "stream",
     "text": [
      "['World', 'Sports', 'Business', 'Sci/Tech']\n"
     ]
    },
    {
     "data": {
      "text/plain": [
       "shape: (5, 3)\n",
       "┌─────────────────────────────────┬───────┬────────────┐\n",
       "│ text                            ┆ label ┆ label_name │\n",
       "│ ---                             ┆ ---   ┆ ---        │\n",
       "│ str                             ┆ i64   ┆ str        │\n",
       "╞═════════════════════════════════╪═══════╪════════════╡\n",
       "│ Wall St. Bears Claw Back Into … ┆ 2     ┆ Business   │\n",
       "│ Carlyle Looks Toward Commercia… ┆ 2     ┆ Business   │\n",
       "│ Oil and Economy Cloud Stocks' … ┆ 2     ┆ Business   │\n",
       "│ Iraq Halts Oil Exports from Ma… ┆ 2     ┆ Business   │\n",
       "│ Oil prices soar to all-time re… ┆ 2     ┆ Business   │\n",
       "└─────────────────────────────────┴───────┴────────────┘"
      ],
      "text/html": [
       "<div><style>\n",
       ".dataframe > thead > tr,\n",
       ".dataframe > tbody > tr {\n",
       "  text-align: right;\n",
       "  white-space: pre-wrap;\n",
       "}\n",
       "</style>\n",
       "<small>shape: (5, 3)</small><table border=\"1\" class=\"dataframe\"><thead><tr><th>text</th><th>label</th><th>label_name</th></tr><tr><td>str</td><td>i64</td><td>str</td></tr></thead><tbody><tr><td>&quot;Wall St. Bears Claw Back Into …</td><td>2</td><td>&quot;Business&quot;</td></tr><tr><td>&quot;Carlyle Looks Toward Commercia…</td><td>2</td><td>&quot;Business&quot;</td></tr><tr><td>&quot;Oil and Economy Cloud Stocks&#x27; …</td><td>2</td><td>&quot;Business&quot;</td></tr><tr><td>&quot;Iraq Halts Oil Exports from Ma…</td><td>2</td><td>&quot;Business&quot;</td></tr><tr><td>&quot;Oil prices soar to all-time re…</td><td>2</td><td>&quot;Business&quot;</td></tr></tbody></table></div>"
      ]
     },
     "execution_count": 139,
     "metadata": {},
     "output_type": "execute_result"
    }
   ],
   "execution_count": 139
  },
  {
   "metadata": {
    "ExecuteTime": {
     "end_time": "2025-06-21T13:50:30.974630Z",
     "start_time": "2025-06-21T13:49:12.722035Z"
    }
   },
   "cell_type": "code",
   "source": [
    "df = train_pl.with_columns([\n",
    "    pl.col(\"text\").map_elements(preprocessing, return_dtype=pl.String).alias(\"text_cleaned\")\n",
    "])\n",
    "\n",
    "df.head()"
   ],
   "id": "c47035e146077ff7",
   "outputs": [
    {
     "data": {
      "text/plain": [
       "shape: (5, 4)\n",
       "┌─────────────────────────────────┬───────┬────────────┬─────────────────────────────────┐\n",
       "│ text                            ┆ label ┆ label_name ┆ text_cleaned                    │\n",
       "│ ---                             ┆ ---   ┆ ---        ┆ ---                             │\n",
       "│ str                             ┆ i64   ┆ str        ┆ str                             │\n",
       "╞═════════════════════════════════╪═══════╪════════════╪═════════════════════════════════╡\n",
       "│ Wall St. Bears Claw Back Into … ┆ 2     ┆ Business   ┆ wall bear claw back black reut… │\n",
       "│ Carlyle Looks Toward Commercia… ┆ 2     ┆ Business   ┆ carlyle look toward commercial… │\n",
       "│ Oil and Economy Cloud Stocks' … ┆ 2     ┆ Business   ┆ oil economy cloud stock outloo… │\n",
       "│ Iraq Halts Oil Exports from Ma… ┆ 2     ┆ Business   ┆ iraq halt oil export main sout… │\n",
       "│ Oil prices soar to all-time re… ┆ 2     ┆ Business   ┆ oil price soar record pose new… │\n",
       "└─────────────────────────────────┴───────┴────────────┴─────────────────────────────────┘"
      ],
      "text/html": [
       "<div><style>\n",
       ".dataframe > thead > tr,\n",
       ".dataframe > tbody > tr {\n",
       "  text-align: right;\n",
       "  white-space: pre-wrap;\n",
       "}\n",
       "</style>\n",
       "<small>shape: (5, 4)</small><table border=\"1\" class=\"dataframe\"><thead><tr><th>text</th><th>label</th><th>label_name</th><th>text_cleaned</th></tr><tr><td>str</td><td>i64</td><td>str</td><td>str</td></tr></thead><tbody><tr><td>&quot;Wall St. Bears Claw Back Into …</td><td>2</td><td>&quot;Business&quot;</td><td>&quot;wall bear claw back black reut…</td></tr><tr><td>&quot;Carlyle Looks Toward Commercia…</td><td>2</td><td>&quot;Business&quot;</td><td>&quot;carlyle look toward commercial…</td></tr><tr><td>&quot;Oil and Economy Cloud Stocks&#x27; …</td><td>2</td><td>&quot;Business&quot;</td><td>&quot;oil economy cloud stock outloo…</td></tr><tr><td>&quot;Iraq Halts Oil Exports from Ma…</td><td>2</td><td>&quot;Business&quot;</td><td>&quot;iraq halt oil export main sout…</td></tr><tr><td>&quot;Oil prices soar to all-time re…</td><td>2</td><td>&quot;Business&quot;</td><td>&quot;oil price soar record pose new…</td></tr></tbody></table></div>"
      ]
     },
     "execution_count": 140,
     "metadata": {},
     "output_type": "execute_result"
    }
   ],
   "execution_count": 140
  },
  {
   "metadata": {},
   "cell_type": "markdown",
   "source": "## Etude de la longueure du texte pour definir les parametres d'entrainement",
   "id": "e4921ac85f2550f0"
  },
  {
   "metadata": {
    "ExecuteTime": {
     "end_time": "2025-06-21T13:50:35.487859Z",
     "start_time": "2025-06-21T13:50:31.033934Z"
    }
   },
   "cell_type": "code",
   "source": [
    "texts = df[\"text_cleaned\"].to_list()\n",
    "labels = df[\"label\"].to_list()\n",
    "\n",
    "tokenizer = Tokenizer()\n",
    "tokenizer.fit_on_texts(texts)\n",
    "sequences = tokenizer.texts_to_sequences(texts)\n",
    "lengths = [len(seq) for seq in sequences]\n",
    "\n",
    "import matplotlib.pyplot as plt\n",
    "plt.hist(lengths, bins=50)\n",
    "plt.xlabel(\"Longueur des séquences\")\n",
    "plt.ylabel(\"Nombre de séquences\")\n",
    "plt.title(\"Distribution des longueurs des séquences tokenisées\")\n",
    "plt.show()\n",
    "\n",
    "print(\"Longueur max naturelle :\", max(lengths))\n",
    "print(\"Longueur moyenne :\", sum(lengths)/len(lengths))"
   ],
   "id": "98b0fa5f40752846",
   "outputs": [
    {
     "data": {
      "text/plain": [
       "<Figure size 640x480 with 1 Axes>"
      ],
      "image/png": "[encoded data removed]"
     },
     "metadata": {},
     "output_type": "display_data"
    },
    {
     "name": "stdout",
     "output_type": "stream",
     "text": [
      "Longueur max naturelle : 97\n",
      "Longueur moyenne : 23.914783333333332\n"
     ]
    }
   ],
   "execution_count": 141
  },
  {
   "metadata": {
    "ExecuteTime": {
     "end_time": "2025-06-21T13:50:35.879696Z",
     "start_time": "2025-06-21T13:50:35.558471Z"
    }
   },
   "cell_type": "code",
   "source": [
    "from collections import Counter\n",
    "def count_unique_words(texts):\n",
    "    # Calcule le nombre de mots uniques dans une liste de textes.\n",
    "    word_counter = Counter()\n",
    "    for text in texts:\n",
    "        word_counter.update(text.split())\n",
    "    # texts = df[\"text_cleaned\"].to_list()\n",
    "\n",
    "    return len(word_counter), word_counter\n",
    "\n",
    "vocab_size, word_freq = count_unique_words(texts)\n",
    "print(word_freq.most_common(10))\n",
    "print(\"Nombre de mots uniques :\", vocab_size)"
   ],
   "id": "731887cd7b3844b5",
   "outputs": [
    {
     "name": "stdout",
     "output_type": "stream",
     "text": [
      "[('say', 28722), ('new', 21402), ('reuters', 17251), ('ap', 16153), ('gt', 13222), ('lt', 13177), ('u', 12334), ('year', 10907), ('company', 10043), ('quot', 9593)]\n",
      "Nombre de mots uniques : 51756\n"
     ]
    }
   ],
   "execution_count": 142
  },
  {
   "metadata": {},
   "cell_type": "markdown",
   "source": "# Embending",
   "id": "7bc2b780939dd2f8"
  },
  {
   "metadata": {
    "ExecuteTime": {
     "end_time": "2025-06-21T13:50:35.888277Z",
     "start_time": "2025-06-21T13:50:35.885031Z"
    }
   },
   "cell_type": "code",
   "source": [
    "# tokenized_texts = [text.split() for text in texts]\n",
    "# w2v_model = Word2Vec(sentences=tokenized_texts, vector_size=100, window=5, min_count=2, workers=4, sg=1)\n",
    "# w2v_model.build_vocab(tokenized_texts, progress_per=1000)\n",
    "# w2v_model.train(tokenized_texts, total_examples=w2v_model.corpus_count, epochs=10)"
   ],
   "id": "3a649052c7f10d4",
   "outputs": [],
   "execution_count": 143
  },
  {
   "metadata": {
    "ExecuteTime": {
     "end_time": "2025-06-21T13:51:50.191506Z",
     "start_time": "2025-06-21T13:50:35.984161Z"
    }
   },
   "cell_type": "code",
   "source": [
    "from gensim.models import FastText\n",
    "\n",
    "# Tokenisation du texte avant de fit le modele d'embending :\n",
    "tokenized_texts = [text.split() for text in texts]\n",
    "\n",
    "# Tes textes sont déjà tokenisés et lemmatisés : `tokenized_texts`\n",
    "fasttext_model = FastText(\n",
    "    sentences=tokenized_texts,\n",
    "    vector_size=100,      # dimension des vecteurs\n",
    "    window=5,             # taille du contexte\n",
    "    min_count=2,          # ignorer les mots trop rares\n",
    "    workers=4,            # threads\n",
    "    sg=1,                 # 1 = skip-gram, 0 = CBOW\n",
    "    epochs=10             # nombre d'époques\n",
    ")"
   ],
   "id": "2d499f5f65826e5d",
   "outputs": [],
   "execution_count": 144
  },
  {
   "metadata": {
    "ExecuteTime": {
     "end_time": "2025-06-21T13:51:50.888167Z",
     "start_time": "2025-06-21T13:51:50.404898Z"
    }
   },
   "cell_type": "code",
   "source": [
    "# Creation du dictionnaire de Fasttext\n",
    "word_index = {word: idx + 1 for idx, word in enumerate(fasttext_model.wv.index_to_key)}\n",
    "vocab_size = len(word_index) + 1  # +1 pour le padding\n",
    "\n",
    "# Texte vers séquences d’index\n",
    "def encode_text(tokens):\n",
    "    return [word_index[word] for word in tokens if word in word_index]\n",
    "\n",
    "encoded_texts = [encode_text(tokens) for tokens in tokenized_texts]\n",
    "\n",
    "# Padding pour avoir toute les sequences d'une meme longueure\n",
    "MAX_LEN = 100\n",
    "padded_texts = pad_sequences(encoded_texts, maxlen=MAX_LEN, padding='post')"
   ],
   "id": "659ba713939185e9",
   "outputs": [],
   "execution_count": 145
  },
  {
   "metadata": {
    "ExecuteTime": {
     "end_time": "2025-06-21T13:51:50.924701Z",
     "start_time": "2025-06-21T13:51:50.891247Z"
    }
   },
   "cell_type": "code",
   "source": [
    "# Matrice embedding\n",
    "embedding_dim = 100\n",
    "embedding_matrix = np.zeros((vocab_size, embedding_dim))\n",
    "for word, i in word_index.items():\n",
    "    embedding_matrix[i] = fasttext_model.wv[word]\n"
   ],
   "id": "34caf833ecd78dd2",
   "outputs": [],
   "execution_count": 146
  },
  {
   "metadata": {
    "ExecuteTime": {
     "end_time": "2025-06-21T13:51:51.077953Z",
     "start_time": "2025-06-21T13:51:50.959214Z"
    }
   },
   "cell_type": "code",
   "source": [
    "# Creation de la couche d'embending\n",
    "embedding_layer = Embedding(\n",
    "    input_dim=vocab_size,\n",
    "    output_dim=embedding_dim,\n",
    "    weights=[embedding_matrix],\n",
    "    trainable=False\n",
    ")"
   ],
   "id": "92ef7bbfa6f119d9",
   "outputs": [],
   "execution_count": 147
  },
  {
   "metadata": {},
   "cell_type": "markdown",
   "source": "# Création du modèle\n",
   "id": "79925ea3106a3b4a"
  },
  {
   "metadata": {
    "ExecuteTime": {
     "end_time": "2025-06-21T13:51:51.302051Z",
     "start_time": "2025-06-21T13:51:51.163126Z"
    }
   },
   "cell_type": "code",
   "source": [
    "model = Sequential([\n",
    "    embedding_layer,\n",
    "    # Convolution pour capter les n-grammes importants\n",
    "    Conv1D(filters=128, kernel_size=5, activation='relu'),\n",
    "    MaxPooling1D(pool_size=2),\n",
    "    # Bidirectional LSTM pour le contexte global\n",
    "    Bidirectional(LSTM(64, return_sequences=False)),\n",
    "    Dropout(0.5),\n",
    "    # Classification finale\n",
    "    Dense(4, activation='softmax')\n",
    "])\n",
    "\n",
    "# Compilation du modèle\n",
    "model.compile(\n",
    "    loss='sparse_categorical_crossentropy',  # ou 'categorical_crossentropy' si one-hot\n",
    "    optimizer=Adam(learning_rate=1e-3),\n",
    "    metrics=['accuracy']\n",
    ")\n",
    "\n",
    "model.build(input_shape=(None, MAX_LEN))\n",
    "model.summary()"
   ],
   "id": "339353a5eb6341a1",
   "outputs": [
    {
     "data": {
      "text/plain": [
       "\u001B[1mModel: \"sequential_4\"\u001B[0m\n"
      ],
      "text/html": [
       "<pre style=\"white-space:pre;overflow-x:auto;line-height:normal;font-family:Menlo,'DejaVu Sans Mono',consolas,'Courier New',monospace\"><span style=\"font-weight: bold\">Model: \"sequential_4\"</span>\n",
       "</pre>\n"
      ]
     },
     "metadata": {},
     "output_type": "display_data"
    },
    {
     "data": {
      "text/plain": [
       "┏━━━━━━━━━━━━━━━━━━━━━━━━━━━━━━━━━┳━━━━━━━━━━━━━━━━━━━━━━━━┳━━━━━━━━━━━━━━━┓\n",
       "┃\u001B[1m \u001B[0m\u001B[1mLayer (type)                   \u001B[0m\u001B[1m \u001B[0m┃\u001B[1m \u001B[0m\u001B[1mOutput Shape          \u001B[0m\u001B[1m \u001B[0m┃\u001B[1m \u001B[0m\u001B[1m      Param #\u001B[0m\u001B[1m \u001B[0m┃\n",
       "┡━━━━━━━━━━━━━━━━━━━━━━━━━━━━━━━━━╇━━━━━━━━━━━━━━━━━━━━━━━━╇━━━━━━━━━━━━━━━┩\n",
       "│ embedding_5 (\u001B[38;5;33mEmbedding\u001B[0m)         │ (\u001B[38;5;45mNone\u001B[0m, \u001B[38;5;34m100\u001B[0m, \u001B[38;5;34m100\u001B[0m)       │     \u001B[38;5;34m3,379,000\u001B[0m │\n",
       "├─────────────────────────────────┼────────────────────────┼───────────────┤\n",
       "│ conv1d_4 (\u001B[38;5;33mConv1D\u001B[0m)               │ (\u001B[38;5;45mNone\u001B[0m, \u001B[38;5;34m96\u001B[0m, \u001B[38;5;34m128\u001B[0m)        │        \u001B[38;5;34m64,128\u001B[0m │\n",
       "├─────────────────────────────────┼────────────────────────┼───────────────┤\n",
       "│ max_pooling1d_4 (\u001B[38;5;33mMaxPooling1D\u001B[0m)  │ (\u001B[38;5;45mNone\u001B[0m, \u001B[38;5;34m48\u001B[0m, \u001B[38;5;34m128\u001B[0m)        │             \u001B[38;5;34m0\u001B[0m │\n",
       "├─────────────────────────────────┼────────────────────────┼───────────────┤\n",
       "│ bidirectional_4 (\u001B[38;5;33mBidirectional\u001B[0m) │ (\u001B[38;5;45mNone\u001B[0m, \u001B[38;5;34m128\u001B[0m)            │        \u001B[38;5;34m98,816\u001B[0m │\n",
       "├─────────────────────────────────┼────────────────────────┼───────────────┤\n",
       "│ dropout_4 (\u001B[38;5;33mDropout\u001B[0m)             │ (\u001B[38;5;45mNone\u001B[0m, \u001B[38;5;34m128\u001B[0m)            │             \u001B[38;5;34m0\u001B[0m │\n",
       "├─────────────────────────────────┼────────────────────────┼───────────────┤\n",
       "│ dense_4 (\u001B[38;5;33mDense\u001B[0m)                 │ (\u001B[38;5;45mNone\u001B[0m, \u001B[38;5;34m4\u001B[0m)              │           \u001B[38;5;34m516\u001B[0m │\n",
       "└─────────────────────────────────┴────────────────────────┴───────────────┘\n"
      ],
      "text/html": [
       "<pre style=\"white-space:pre;overflow-x:auto;line-height:normal;font-family:Menlo,'DejaVu Sans Mono',consolas,'Courier New',monospace\">┏━━━━━━━━━━━━━━━━━━━━━━━━━━━━━━━━━┳━━━━━━━━━━━━━━━━━━━━━━━━┳━━━━━━━━━━━━━━━┓\n",
       "┃<span style=\"font-weight: bold\"> Layer (type)                    </span>┃<span style=\"font-weight: bold\"> Output Shape           </span>┃<span style=\"font-weight: bold\">       Param # </span>┃\n",
       "┡━━━━━━━━━━━━━━━━━━━━━━━━━━━━━━━━━╇━━━━━━━━━━━━━━━━━━━━━━━━╇━━━━━━━━━━━━━━━┩\n",
       "│ embedding_5 (<span style=\"color: #0087ff; text-decoration-color: #0087ff\">Embedding</span>)         │ (<span style=\"color: #00d7ff; text-decoration-color: #00d7ff\">None</span>, <span style=\"color: #00af00; text-decoration-color: #00af00\">100</span>, <span style=\"color: #00af00; text-decoration-color: #00af00\">100</span>)       │     <span style=\"color: #00af00; text-decoration-color: #00af00\">3,379,000</span> │\n",
       "├─────────────────────────────────┼────────────────────────┼───────────────┤\n",
       "│ conv1d_4 (<span style=\"color: #0087ff; text-decoration-color: #0087ff\">Conv1D</span>)               │ (<span style=\"color: #00d7ff; text-decoration-color: #00d7ff\">None</span>, <span style=\"color: #00af00; text-decoration-color: #00af00\">96</span>, <span style=\"color: #00af00; text-decoration-color: #00af00\">128</span>)        │        <span style=\"color: #00af00; text-decoration-color: #00af00\">64,128</span> │\n",
       "├─────────────────────────────────┼────────────────────────┼───────────────┤\n",
       "│ max_pooling1d_4 (<span style=\"color: #0087ff; text-decoration-color: #0087ff\">MaxPooling1D</span>)  │ (<span style=\"color: #00d7ff; text-decoration-color: #00d7ff\">None</span>, <span style=\"color: #00af00; text-decoration-color: #00af00\">48</span>, <span style=\"color: #00af00; text-decoration-color: #00af00\">128</span>)        │             <span style=\"color: #00af00; text-decoration-color: #00af00\">0</span> │\n",
       "├─────────────────────────────────┼────────────────────────┼───────────────┤\n",
       "│ bidirectional_4 (<span style=\"color: #0087ff; text-decoration-color: #0087ff\">Bidirectional</span>) │ (<span style=\"color: #00d7ff; text-decoration-color: #00d7ff\">None</span>, <span style=\"color: #00af00; text-decoration-color: #00af00\">128</span>)            │        <span style=\"color: #00af00; text-decoration-color: #00af00\">98,816</span> │\n",
       "├─────────────────────────────────┼────────────────────────┼───────────────┤\n",
       "│ dropout_4 (<span style=\"color: #0087ff; text-decoration-color: #0087ff\">Dropout</span>)             │ (<span style=\"color: #00d7ff; text-decoration-color: #00d7ff\">None</span>, <span style=\"color: #00af00; text-decoration-color: #00af00\">128</span>)            │             <span style=\"color: #00af00; text-decoration-color: #00af00\">0</span> │\n",
       "├─────────────────────────────────┼────────────────────────┼───────────────┤\n",
       "│ dense_4 (<span style=\"color: #0087ff; text-decoration-color: #0087ff\">Dense</span>)                 │ (<span style=\"color: #00d7ff; text-decoration-color: #00d7ff\">None</span>, <span style=\"color: #00af00; text-decoration-color: #00af00\">4</span>)              │           <span style=\"color: #00af00; text-decoration-color: #00af00\">516</span> │\n",
       "└─────────────────────────────────┴────────────────────────┴───────────────┘\n",
       "</pre>\n"
      ]
     },
     "metadata": {},
     "output_type": "display_data"
    },
    {
     "data": {
      "text/plain": [
       "\u001B[1m Total params: \u001B[0m\u001B[38;5;34m3,542,460\u001B[0m (13.51 MB)\n"
      ],
      "text/html": [
       "<pre style=\"white-space:pre;overflow-x:auto;line-height:normal;font-family:Menlo,'DejaVu Sans Mono',consolas,'Courier New',monospace\"><span style=\"font-weight: bold\"> Total params: </span><span style=\"color: #00af00; text-decoration-color: #00af00\">3,542,460</span> (13.51 MB)\n",
       "</pre>\n"
      ]
     },
     "metadata": {},
     "output_type": "display_data"
    },
    {
     "data": {
      "text/plain": [
       "\u001B[1m Trainable params: \u001B[0m\u001B[38;5;34m163,460\u001B[0m (638.52 KB)\n"
      ],
      "text/html": [
       "<pre style=\"white-space:pre;overflow-x:auto;line-height:normal;font-family:Menlo,'DejaVu Sans Mono',consolas,'Courier New',monospace\"><span style=\"font-weight: bold\"> Trainable params: </span><span style=\"color: #00af00; text-decoration-color: #00af00\">163,460</span> (638.52 KB)\n",
       "</pre>\n"
      ]
     },
     "metadata": {},
     "output_type": "display_data"
    },
    {
     "data": {
      "text/plain": [
       "\u001B[1m Non-trainable params: \u001B[0m\u001B[38;5;34m3,379,000\u001B[0m (12.89 MB)\n"
      ],
      "text/html": [
       "<pre style=\"white-space:pre;overflow-x:auto;line-height:normal;font-family:Menlo,'DejaVu Sans Mono',consolas,'Courier New',monospace\"><span style=\"font-weight: bold\"> Non-trainable params: </span><span style=\"color: #00af00; text-decoration-color: #00af00\">3,379,000</span> (12.89 MB)\n",
       "</pre>\n"
      ]
     },
     "metadata": {},
     "output_type": "display_data"
    }
   ],
   "execution_count": 148
  },
  {
   "metadata": {
    "ExecuteTime": {
     "end_time": "2025-06-21T13:51:51.466129Z",
     "start_time": "2025-06-21T13:51:51.351394Z"
    }
   },
   "cell_type": "code",
   "source": [
    "X = padded_texts\n",
    "y = labels\n",
    "\n",
    "# X = tes textes tokenisés et paddés (e.g. padded_texts)\n",
    "# y = labels (0, 1, 2, 3 pour AG News)\n",
    "\n",
    "X_train, X_val, y_train, y_val = train_test_split(X, y, test_size=0.1, random_state=42, stratify=y)\n",
    "\n",
    "X_train = np.array(X_train)\n",
    "X_val = np.array(X_val)\n",
    "y_train = np.array(y_train)\n",
    "y_val = np.array(y_val)"
   ],
   "id": "8cda89ba2bbf6958",
   "outputs": [],
   "execution_count": 149
  },
  {
   "metadata": {},
   "cell_type": "markdown",
   "source": "# Entrainement du modele",
   "id": "fdeb213371384c47"
  },
  {
   "metadata": {
    "ExecuteTime": {
     "end_time": "2025-06-21T14:02:14.471018Z",
     "start_time": "2025-06-21T13:51:51.578927Z"
    }
   },
   "cell_type": "code",
   "source": [
    "from tensorflow.keras.callbacks import EarlyStopping\n",
    "\n",
    "# Early stopping pour stopper l'entrainement si plus de progrès après 3 epochs\n",
    "early_stopping = EarlyStopping(\n",
    "    monitor='val_loss',\n",
    "    patience=3,          # arrêt si pas d'amélioration pendant 3 epochs\n",
    "    restore_best_weights=True\n",
    ")\n",
    "\n",
    "params = {\n",
    "    \"epochs\": 10,\n",
    "    \"batch_size\": 64,\n",
    "    \"learning_rate\": 0.001,\n",
    "}\n",
    "\n",
    "history = model.fit(\n",
    "    X_train, y_train,\n",
    "    validation_data=(X_val, y_val),\n",
    "    batch_size=params[\"batch_size\"],\n",
    "    epochs=params[\"epochs\"],\n",
    "    callbacks=[early_stopping],\n",
    "    verbose=1\n",
    ")"
   ],
   "id": "5dab1aa84d08ad84",
   "outputs": [
    {
     "name": "stdout",
     "output_type": "stream",
     "text": [
      "Epoch 1/10\n",
      "\u001B[1m1688/1688\u001B[0m \u001B[32m━━━━━━━━━━━━━━━━━━━━\u001B[0m\u001B[37m\u001B[0m \u001B[1m102s\u001B[0m 60ms/step - accuracy: 0.8676 - loss: 0.3931 - val_accuracy: 0.9096 - val_loss: 0.2690\n",
      "Epoch 2/10\n",
      "\u001B[1m1688/1688\u001B[0m \u001B[32m━━━━━━━━━━━━━━━━━━━━\u001B[0m\u001B[37m\u001B[0m \u001B[1m96s\u001B[0m 57ms/step - accuracy: 0.9081 - loss: 0.2696 - val_accuracy: 0.9135 - val_loss: 0.2525\n",
      "Epoch 3/10\n",
      "\u001B[1m1688/1688\u001B[0m \u001B[32m━━━━━━━━━━━━━━━━━━━━\u001B[0m\u001B[37m\u001B[0m \u001B[1m107s\u001B[0m 63ms/step - accuracy: 0.9177 - loss: 0.2381 - val_accuracy: 0.9218 - val_loss: 0.2327\n",
      "Epoch 4/10\n",
      "\u001B[1m1688/1688\u001B[0m \u001B[32m━━━━━━━━━━━━━━━━━━━━\u001B[0m\u001B[37m\u001B[0m \u001B[1m113s\u001B[0m 67ms/step - accuracy: 0.9254 - loss: 0.2122 - val_accuracy: 0.9159 - val_loss: 0.2522\n",
      "Epoch 5/10\n",
      "\u001B[1m1688/1688\u001B[0m \u001B[32m━━━━━━━━━━━━━━━━━━━━\u001B[0m\u001B[37m\u001B[0m \u001B[1m103s\u001B[0m 61ms/step - accuracy: 0.9332 - loss: 0.1911 - val_accuracy: 0.9222 - val_loss: 0.2335\n",
      "Epoch 6/10\n",
      "\u001B[1m1688/1688\u001B[0m \u001B[32m━━━━━━━━━━━━━━━━━━━━\u001B[0m\u001B[37m\u001B[0m \u001B[1m101s\u001B[0m 60ms/step - accuracy: 0.9409 - loss: 0.1671 - val_accuracy: 0.9067 - val_loss: 0.2749\n"
     ]
    }
   ],
   "execution_count": 150
  },
  {
   "metadata": {
    "ExecuteTime": {
     "end_time": "2025-06-21T14:03:32.827396Z",
     "start_time": "2025-06-21T14:03:29.002493Z"
    }
   },
   "cell_type": "code",
   "source": [
    "import matplotlib.pyplot as plt\n",
    "\n",
    "# Courbe de précision (accuracy)\n",
    "plt.plot(history.history['accuracy'], label='Train Accuracy')\n",
    "plt.plot(history.history['val_accuracy'], label='Validation Accuracy')\n",
    "plt.title('Accuracy au fil des époques')\n",
    "plt.xlabel('Époque')\n",
    "plt.ylabel('Accuracy')\n",
    "plt.legend()\n",
    "plt.show()\n",
    "\n",
    "# Courbe de perte (loss)\n",
    "plt.plot(history.history['loss'], label='Train Loss')\n",
    "plt.plot(history.history['val_loss'], label='Validation Loss')\n",
    "plt.title('Loss au fil des époques')\n",
    "plt.xlabel('Époque')\n",
    "plt.ylabel('Loss')\n",
    "plt.legend()\n",
    "plt.show()"
   ],
   "id": "f6e174ec31452308",
   "outputs": [
    {
     "data": {
      "text/plain": [
       "<Figure size 640x480 with 1 Axes>"
      ],
      "image/png": "[encoded data removed]"
     },
     "metadata": {},
     "output_type": "display_data"
    },
    {
     "data": {
      "text/plain": [
       "<Figure size 640x480 with 1 Axes>"
      ],
      "image/png": "[encoded data removed]"
     },
     "metadata": {},
     "output_type": "display_data"
    }
   ],
   "execution_count": 151
  },
  {
   "metadata": {
    "ExecuteTime": {
     "end_time": "2025-06-21T14:03:32.921649Z",
     "start_time": "2025-06-21T14:03:32.918423Z"
    }
   },
   "cell_type": "code",
   "source": "print(history.history)",
   "id": "cecf1f0b4138b1dc",
   "outputs": [
    {
     "name": "stdout",
     "output_type": "stream",
     "text": [
      "{'accuracy': [0.8893240690231323, 0.9097870588302612, 0.9181944727897644, 0.9264351725578308, 0.9335833191871643, 0.9406203627586365], 'loss': [0.3302851617336273, 0.26578572392463684, 0.2372516244649887, 0.21240000426769257, 0.1910277009010315, 0.16852694749832153], 'val_accuracy': [0.909583330154419, 0.9135000109672546, 0.921833336353302, 0.9159166812896729, 0.922249972820282, 0.9066666960716248], 'val_loss': [0.2690012753009796, 0.2524685859680176, 0.2327081859111786, 0.25218909978866577, 0.23347552120685577, 0.27493271231651306]}\n"
     ]
    }
   ],
   "execution_count": 152
  },
  {
   "metadata": {},
   "cell_type": "markdown",
   "source": "# Test du modele sur le données restante du dataset",
   "id": "1ecf922c6e7308e4"
  },
  {
   "metadata": {
    "ExecuteTime": {
     "end_time": "2025-06-21T14:03:32.984233Z",
     "start_time": "2025-06-21T14:03:32.950678Z"
    }
   },
   "cell_type": "code",
   "source": "test = pl.DataFrame(ds[\"test\"][:])",
   "id": "cde464e1f10782c6",
   "outputs": [],
   "execution_count": 153
  },
  {
   "metadata": {
    "ExecuteTime": {
     "end_time": "2025-06-21T14:03:38.287049Z",
     "start_time": "2025-06-21T14:03:33.032655Z"
    }
   },
   "cell_type": "code",
   "source": [
    "test_clean = test.with_columns([\n",
    "    pl.col(\"text\").map_elements(preprocessing, return_dtype=pl.String).alias(\"text_cleaned\")\n",
    "])"
   ],
   "id": "afb45136e568b22b",
   "outputs": [],
   "execution_count": 154
  },
  {
   "metadata": {
    "ExecuteTime": {
     "end_time": "2025-06-21T14:03:38.476917Z",
     "start_time": "2025-06-21T14:03:38.411742Z"
    }
   },
   "cell_type": "code",
   "source": [
    "# Traitement du texte avant l'utilisation du model\n",
    "test_texts = test_clean[\"text_cleaned\"].to_list()\n",
    "test_labels = test_clean[\"label\"].to_list()\n",
    "tokenized_texts_test = [text.split() for text in test_texts]\n",
    "encoded_texts_test = [encode_text(tokens) for tokens in tokenized_texts_test]\n",
    "padded_texts_test = pad_sequences(encoded_texts_test, maxlen=MAX_LEN, padding='post')\n",
    "\n",
    "X_test = np.array(padded_texts_test)\n",
    "y_test = np.array(test_labels)"
   ],
   "id": "6d6aeeec4c7b65c3",
   "outputs": [],
   "execution_count": 155
  },
  {
   "metadata": {
    "ExecuteTime": {
     "end_time": "2025-06-21T14:03:40.754672Z",
     "start_time": "2025-06-21T14:03:38.550027Z"
    }
   },
   "cell_type": "code",
   "source": [
    "# Evaluation du modele\n",
    "test_loss, test_accuracy = model.evaluate(X_test, y_test, batch_size=64, verbose=1)\n",
    "print(f\"Loss sur le test set : {test_loss:.4f}\")\n",
    "print(f\"Accuracy sur le test set : {test_accuracy:.4f}\")"
   ],
   "id": "625d68b49abb7649",
   "outputs": [
    {
     "name": "stdout",
     "output_type": "stream",
     "text": [
      "\u001B[1m119/119\u001B[0m \u001B[32m━━━━━━━━━━━━━━━━━━━━\u001B[0m\u001B[37m\u001B[0m \u001B[1m2s\u001B[0m 18ms/step - accuracy: 0.9118 - loss: 0.2568\n",
      "Loss sur le test set : 0.2476\n",
      "Accuracy sur le test set : 0.9128\n"
     ]
    }
   ],
   "execution_count": 156
  },
  {
   "metadata": {
    "ExecuteTime": {
     "end_time": "2025-06-21T14:03:42.405943Z",
     "start_time": "2025-06-21T14:03:40.758475Z"
    }
   },
   "cell_type": "code",
   "source": [
    "# Prédictions probabilistes (softmax output)\n",
    "y_pred_prob = model.predict(X_test, batch_size=64)\n",
    "\n",
    "# Prédictions de classes (indice de la plus grande probabilité)\n",
    "y_pred_classes = np.argmax(y_pred_prob, axis=1)"
   ],
   "id": "82f5effeb9e45406",
   "outputs": [
    {
     "name": "stdout",
     "output_type": "stream",
     "text": [
      "\u001B[1m119/119\u001B[0m \u001B[32m━━━━━━━━━━━━━━━━━━━━\u001B[0m\u001B[37m\u001B[0m \u001B[1m2s\u001B[0m 12ms/step\n"
     ]
    }
   ],
   "execution_count": 157
  },
  {
   "metadata": {
    "ExecuteTime": {
     "end_time": "2025-06-21T14:03:42.528602Z",
     "start_time": "2025-06-21T14:03:42.441609Z"
    }
   },
   "cell_type": "code",
   "source": [
    "from sklearn.metrics import classification_report, confusion_matrix\n",
    "\n",
    "print(classification_report(y_test, y_pred_classes))\n",
    "\n",
    "import seaborn as sns\n",
    "import matplotlib.pyplot as plt\n",
    "\n",
    "cm = confusion_matrix(y_test, y_pred_classes)\n",
    "sns.heatmap(cm, annot=True, fmt='d', cmap='Blues')\n",
    "plt.xlabel('Prédit')\n",
    "plt.ylabel('Vrai')\n",
    "plt.title('Matrice de confusion')\n",
    "plt.show()"
   ],
   "id": "932ffbb2cb0439cc",
   "outputs": [
    {
     "name": "stdout",
     "output_type": "stream",
     "text": [
      "              precision    recall  f1-score   support\n",
      "\n",
      "           0       0.94      0.90      0.92      1900\n",
      "           1       0.96      0.98      0.97      1900\n",
      "           2       0.89      0.87      0.88      1900\n",
      "           3       0.87      0.91      0.89      1900\n",
      "\n",
      "    accuracy                           0.91      7600\n",
      "   macro avg       0.91      0.91      0.91      7600\n",
      "weighted avg       0.91      0.91      0.91      7600\n",
      "\n"
     ]
    },
    {
     "data": {
      "text/plain": [
       "<Figure size 640x480 with 2 Axes>"
      ],
      "image/png": "[encoded data removed]"
     },
     "metadata": {},
     "output_type": "display_data"
    }
   ],
   "execution_count": 158
  },
  {
   "metadata": {
    "ExecuteTime": {
     "end_time": "2025-06-21T14:03:42.701363Z",
     "start_time": "2025-06-21T14:03:42.628104Z"
    }
   },
   "cell_type": "code",
   "source": [
    "# Test avec du texte hors AG News\n",
    "validation = [\n",
    "    \"Despite numerous concerns — including the Israel-Iran war, trade tensions, a growing federal deficit, immigration raids, low business confidence, and expected profit declines — the stock market remains resilient. The S&P 500 is close to its record high, thanks to eased trade policies, stable inflation, and a still-strong economy. However, beneath the surface, warning signs persist. Derivatives markets suggest investors expect a future downturn, and concerns over the $35 trillion U.S. debt remain. Analysts warn that the market's calm appearance masks significant underlying uncertainty.\",\n",
    "    \"The 25-year-old Swedish pole vaulter broke his own world record for the twelfth time since 2020 on Sunday. He set the new mark at 6.28 meters during a meet in Stockholm, Sweden, in front of his home crowd.\",\n",
    "    \"In twenty months, more than 55,000 Palestinians have been killed in the Gaza Strip, and nearly 950 in the occupied West Bank. But Israel’s destructive campaign began well before October 7, 2023. For over seventy-five years, Israel has done everything to make a Palestinian state impossible, according to Monique Chemillier-Gendreau, a professor of public law and political science, expert in international law and state theory, legal adviser before international courts, and author of Making a Palestinian State Impossible: Israel’s Goal Since Its Creation.\",\n",
    "    \"Gemini Automatically Summarizes Your PDFs and Tells You What to Do Next. Gemini has been able to interact with PDF files for some time now. But a new feature significantly boosts its usefulness.\"\n",
    "]\n",
    "\n",
    "proccessed_val = [preprocessing(text) for text in validation]\n",
    "tokenized_texts_val = [text.split() for text in proccessed_val]\n",
    "encoded_texts_val = [encode_text(tokens) for tokens in tokenized_texts_val]\n",
    "padded_texts_val = pad_sequences(encoded_texts_val, maxlen=MAX_LEN, padding='post')\n",
    "X_val = np.array(padded_texts_val)\n",
    "\n",
    "predicted_prob = model.predict(X_val)\n",
    "predicted_classes = np.argmax(predicted_prob, axis=1)\n",
    "\n",
    "for i, (raw, cleaned, pred) in enumerate(zip(validation, proccessed_val, predicted_classes)):\n",
    "    label_str = label_names[pred]\n",
    "    print(f\"Phrase {i+1} : \\\"{raw}\\\"\")\n",
    "    print(f\" → Prétraité : \\\"{cleaned}\\\"\")\n",
    "    print(f\" → Classe prédite : {pred} ({label_str})\\n\")"
   ],
   "id": "4d03d018449c7e4a",
   "outputs": [
    {
     "name": "stdout",
     "output_type": "stream",
     "text": [
      "\u001B[1m1/1\u001B[0m \u001B[32m━━━━━━━━━━━━━━━━━━━━\u001B[0m\u001B[37m\u001B[0m \u001B[1m0s\u001B[0m 18ms/step\n",
      "Phrase 1 : \"Despite numerous concerns — including the Israel-Iran war, trade tensions, a growing federal deficit, immigration raids, low business confidence, and expected profit declines — the stock market remains resilient. The S&P 500 is close to its record high, thanks to eased trade policies, stable inflation, and a still-strong economy. However, beneath the surface, warning signs persist. Derivatives markets suggest investors expect a future downturn, and concerns over the $35 trillion U.S. debt remain. Analysts warn that the market's calm appearance masks significant underlying uncertainty.\"\n",
      " → Prétraité : \"despite numerous concern include war trade tension grow federal deficit immigration raid low business confidence expect profit decline stock market remain resilient p close record high thanks ease trade policy stable inflation economy however beneath surface warn sign persist derivative market suggest investor expect future downturn concern trillion debt remain analyst warn market calm appearance mask significant underlying uncertainty\"\n",
      " → Classe prédite : 2 (Business)\n",
      "\n",
      "Phrase 2 : \"The 25-year-old Swedish pole vaulter broke his own world record for the twelfth time since 2020 on Sunday. He set the new mark at 6.28 meters during a meet in Stockholm, Sweden, in front of his home crowd.\"\n",
      " → Prétraité : \"swedish pole vaulter break world record twelfth time since sunday set new mark meter meet stockholm sweden front home crowd\"\n",
      " → Classe prédite : 1 (Sports)\n",
      "\n",
      "Phrase 3 : \"In twenty months, more than 55,000 Palestinians have been killed in the Gaza Strip, and nearly 950 in the occupied West Bank. But Israel’s destructive campaign began well before October 7, 2023. For over seventy-five years, Israel has done everything to make a Palestinian state impossible, according to Monique Chemillier-Gendreau, a professor of public law and political science, expert in international law and state theory, legal adviser before international courts, and author of Making a Palestinian State Impossible: Israel’s Goal Since Its Creation.\"\n",
      " → Prétraité : \"twenty month palestinian kill gaza strip nearly occupy west bank israel destructive campaign begin well october year israel do everything make palestinian state impossible accord monique professor public law political science expert international law state theory legal adviser international court author make palestinian state impossible israel goal since creation\"\n",
      " → Classe prédite : 0 (World)\n",
      "\n",
      "Phrase 4 : \"Gemini Automatically Summarizes Your PDFs and Tells You What to Do Next. Gemini has been able to interact with PDF files for some time now. But a new feature significantly boosts its usefulness.\"\n",
      " → Prétraité : \"gemini automatically summarize pdfs tell next gemini able interact pdf file time new feature significantly boost usefulness\"\n",
      " → Classe prédite : 3 (Sci/Tech)\n",
      "\n"
     ]
    }
   ],
   "execution_count": 159
  },
  {
   "metadata": {
    "ExecuteTime": {
     "end_time": "2025-06-21T14:03:42.713322Z",
     "start_time": "2025-06-21T14:03:42.709500Z"
    }
   },
   "cell_type": "code",
   "source": "predicted_prob",
   "id": "f410ab30a15bf75",
   "outputs": [
    {
     "data": {
      "text/plain": [
       "array([[1.9662531e-01, 1.4509244e-02, 5.6419837e-01, 2.2466695e-01],\n",
       "       [7.8886576e-02, 8.9553469e-01, 1.5456941e-02, 1.0121824e-02],\n",
       "       [9.8354548e-01, 5.4722081e-04, 8.7873414e-05, 1.5819432e-02],\n",
       "       [1.0598205e-02, 9.1988093e-04, 1.3794596e-02, 9.7468722e-01]],\n",
       "      dtype=float32)"
      ]
     },
     "execution_count": 160,
     "metadata": {},
     "output_type": "execute_result"
    }
   ],
   "execution_count": 160
  },
  {
   "metadata": {
    "ExecuteTime": {
     "end_time": "2025-06-21T14:03:42.785991Z",
     "start_time": "2025-06-21T14:03:42.782229Z"
    }
   },
   "cell_type": "code",
   "source": [
    "# Sauvegarde de l'entrainement du model\n",
    "import json\n",
    "import os\n",
    "from datetime import datetime\n",
    "\n",
    "def save_training_log(history, params, y_true, y_pred, conf_matrix, log_dir=\"training_logs\"):\n",
    "    import json\n",
    "    import os\n",
    "    from datetime import datetime\n",
    "\n",
    "    os.makedirs(log_dir, exist_ok=True)\n",
    "\n",
    "    # Générer le rapport de classification sous forme de dict\n",
    "    report_dict = classification_report(y_true, y_pred, output_dict=True)\n",
    "\n",
    "    log_data = {\n",
    "        \"date\": datetime.now().strftime(\"%Y-%m-%d %H:%M:%S\"),\n",
    "        \"subset_size\" : subset_size,\n",
    "        \"params\": params,\n",
    "        \"metrics\": {\n",
    "            \"loss\": history.history.get(\"loss\", []),\n",
    "            \"accuracy\": history.history.get(\"accuracy\", []),\n",
    "            \"val_loss\": history.history.get(\"val_loss\", []),\n",
    "            \"val_accuracy\": history.history.get(\"val_accuracy\", [])\n",
    "        },\n",
    "        \"classification_report\": report_dict,\n",
    "        \"confusion_matrix\": conf_matrix.tolist(),\n",
    "    }\n",
    "    epochs = params[\"epochs\"]\n",
    "    filename = os.path.join(log_dir, f\"training_log_{epochs}_{subset_size}.json\")\n",
    "\n",
    "    with open(filename, \"w\") as f:\n",
    "        json.dump(log_data, f, indent=4)\n",
    "\n",
    "    print(f\"Logs sauvegardés dans {filename}\")"
   ],
   "id": "13a5742cdb1093af",
   "outputs": [],
   "execution_count": 161
  },
  {
   "metadata": {
    "ExecuteTime": {
     "end_time": "2025-06-21T14:03:42.934557Z",
     "start_time": "2025-06-21T14:03:42.842087Z"
    }
   },
   "cell_type": "code",
   "source": [
    "# Sauvegarde des logs\n",
    "save_training_log(history, params, y_test, y_pred_classes, cm)\n",
    "\n",
    "#Sauvegarde du model\n",
    "epochs = params[\"epochs\"]\n",
    "model.save(f\"DL_Models/model_DL_{epochs}_{subset_size}.keras\")"
   ],
   "id": "53b75eeb8b81447c",
   "outputs": [
    {
     "name": "stdout",
     "output_type": "stream",
     "text": [
      "Logs sauvegardés dans training_logs/training_log_20250621_160342.json\n"
     ]
    }
   ],
   "execution_count": 162
  },
  {
   "metadata": {
    "ExecuteTime": {
     "end_time": "2025-06-21T14:22:17.849015Z",
     "start_time": "2025-06-21T14:22:12.823697Z"
    }
   },
   "cell_type": "code",
   "source": [
    "# import joblib\n",
    "# joblib.dump(word_index, \"word_index.pkl\")\n",
    "# fasttext_model.save(\"fasttext_model.bin\")"
   ],
   "id": "862dac5fd4eb7dac",
   "outputs": [],
   "execution_count": 163
  },
  {
   "metadata": {},
   "cell_type": "code",
   "outputs": [],
   "execution_count": null,
   "source": "",
   "id": "cb807fdf00212f6c"
  }
 ],
 "metadata": {
  "kernelspec": {
   "display_name": "Python 3",
   "language": "python",
   "name": "python3"
  },
  "language_info": {
   "codemirror_mode": {
    "name": "ipython",
    "version": 2
   },
   "file_extension": ".py",
   "mimetype": "text/x-python",
   "name": "python",
   "nbconvert_exporter": "python",
   "pygments_lexer": "ipython2",
   "version": "2.7.6"
  }
 },
 "nbformat": 4,
 "nbformat_minor": 5
}
