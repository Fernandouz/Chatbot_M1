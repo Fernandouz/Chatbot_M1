{
 "nbformat": 4,
 "nbformat_minor": 0,
 "metadata": {
  "colab": {
   "provenance": []
  },
  "kernelspec": {
   "name": "python3",
   "display_name": "Python 3 (ipykernel)",
   "language": "python"
  },
  "language_info": {
   "name": "python"
  }
 },
 "cells": [
  {
   "cell_type": "code",
   "source": [
    "import polars as pl\n",
    "from datasets import load_dataset\n",
    "from utils import preprocessing\n",
    "\n",
    "ds = load_dataset(\"fancyzhx/ag_news\")"
   ],
   "metadata": {
    "id": "GiTs9NXon8Rs",
    "ExecuteTime": {
     "end_time": "2025-06-22T16:38:13.685324Z",
     "start_time": "2025-06-22T16:38:08.444810Z"
    }
   },
   "outputs": [
    {
     "name": "stderr",
     "output_type": "stream",
     "text": [
      "/Users/hugo/PycharmProjects/Chatbot_M1/.venv/lib/python3.11/site-packages/tqdm/auto.py:21: TqdmWarning: IProgress not found. Please update jupyter and ipywidgets. See https://ipywidgets.readthedocs.io/en/stable/user_install.html\n",
      "  from .autonotebook import tqdm as notebook_tqdm\n",
      "[nltk_data] Downloading package punkt to /Users/hugo/nltk_data...\n",
      "[nltk_data]   Package punkt is already up-to-date!\n",
      "[nltk_data] Downloading package punkt_tab to /Users/hugo/nltk_data...\n",
      "[nltk_data]   Package punkt_tab is already up-to-date!\n",
      "[nltk_data] Downloading package stopwords to /Users/hugo/nltk_data...\n",
      "[nltk_data]   Package stopwords is already up-to-date!\n",
      "[nltk_data] Downloading package wordnet to /Users/hugo/nltk_data...\n",
      "[nltk_data]   Package wordnet is already up-to-date!\n",
      "[nltk_data] Downloading package averaged_perceptron_tagger_eng to\n",
      "[nltk_data]     /Users/hugo/nltk_data...\n",
      "[nltk_data]   Package averaged_perceptron_tagger_eng is already up-to-\n",
      "[nltk_data]       date!\n"
     ]
    }
   ],
   "execution_count": 1
  },
  {
   "cell_type": "code",
   "source": [
    "ds"
   ],
   "metadata": {
    "colab": {
     "base_uri": "https://localhost:8080/"
    },
    "id": "7WTfVT95tmDO",
    "outputId": "df179d45-542e-4dae-92e5-6688f2031f11",
    "ExecuteTime": {
     "end_time": "2025-06-22T16:38:13.704169Z",
     "start_time": "2025-06-22T16:38:13.697995Z"
    }
   },
   "outputs": [
    {
     "data": {
      "text/plain": [
       "DatasetDict({\n",
       "    train: Dataset({\n",
       "        features: ['text', 'label'],\n",
       "        num_rows: 120000\n",
       "    })\n",
       "    test: Dataset({\n",
       "        features: ['text', 'label'],\n",
       "        num_rows: 7600\n",
       "    })\n",
       "})"
      ]
     },
     "execution_count": 2,
     "metadata": {},
     "output_type": "execute_result"
    }
   ],
   "execution_count": 2
  },
  {
   "cell_type": "code",
   "source": [
    "# Convertir chaque split en Polars DataFrame\n",
    "train_pl = pl.DataFrame(ds[\"train\"][:])\n",
    "\n",
    "# Affichage\n",
    "print(train_pl.head())"
   ],
   "metadata": {
    "colab": {
     "base_uri": "https://localhost:8080/"
    },
    "id": "RX6BWutrtu06",
    "outputId": "623d4060-4a52-4839-c9a7-85f5c8fa6529",
    "ExecuteTime": {
     "end_time": "2025-06-22T16:38:13.983181Z",
     "start_time": "2025-06-22T16:38:13.819467Z"
    }
   },
   "outputs": [
    {
     "name": "stdout",
     "output_type": "stream",
     "text": [
      "shape: (5, 2)\n",
      "┌─────────────────────────────────┬───────┐\n",
      "│ text                            ┆ label │\n",
      "│ ---                             ┆ ---   │\n",
      "│ str                             ┆ i64   │\n",
      "╞═════════════════════════════════╪═══════╡\n",
      "│ Wall St. Bears Claw Back Into … ┆ 2     │\n",
      "│ Carlyle Looks Toward Commercia… ┆ 2     │\n",
      "│ Oil and Economy Cloud Stocks' … ┆ 2     │\n",
      "│ Iraq Halts Oil Exports from Ma… ┆ 2     │\n",
      "│ Oil prices soar to all-time re… ┆ 2     │\n",
      "└─────────────────────────────────┴───────┘\n"
     ]
    }
   ],
   "execution_count": 3
  },
  {
   "cell_type": "code",
   "source": [
    "label_names = ds[\"train\"].features[\"label\"].names\n",
    "print(label_names)\n",
    "\n",
    "train_pl = train_pl.with_columns([\n",
    "    pl.col(\"label\").map_elements(lambda x: label_names[x], return_dtype=pl.String).alias(\"label_name\")\n",
    "])\n",
    "\n",
    "train_pl.head()"
   ],
   "metadata": {
    "colab": {
     "base_uri": "https://localhost:8080/",
     "height": 273
    },
    "id": "Wl61W3-xuQRQ",
    "outputId": "006aaeda-fe0a-44b5-8e45-0090fa573e87",
    "ExecuteTime": {
     "end_time": "2025-06-22T16:38:14.039385Z",
     "start_time": "2025-06-22T16:38:13.992585Z"
    }
   },
   "outputs": [
    {
     "name": "stdout",
     "output_type": "stream",
     "text": [
      "['World', 'Sports', 'Business', 'Sci/Tech']\n"
     ]
    },
    {
     "data": {
      "text/plain": [
       "shape: (5, 3)\n",
       "┌─────────────────────────────────┬───────┬────────────┐\n",
       "│ text                            ┆ label ┆ label_name │\n",
       "│ ---                             ┆ ---   ┆ ---        │\n",
       "│ str                             ┆ i64   ┆ str        │\n",
       "╞═════════════════════════════════╪═══════╪════════════╡\n",
       "│ Wall St. Bears Claw Back Into … ┆ 2     ┆ Business   │\n",
       "│ Carlyle Looks Toward Commercia… ┆ 2     ┆ Business   │\n",
       "│ Oil and Economy Cloud Stocks' … ┆ 2     ┆ Business   │\n",
       "│ Iraq Halts Oil Exports from Ma… ┆ 2     ┆ Business   │\n",
       "│ Oil prices soar to all-time re… ┆ 2     ┆ Business   │\n",
       "└─────────────────────────────────┴───────┴────────────┘"
      ],
      "text/html": [
       "<div><style>\n",
       ".dataframe > thead > tr,\n",
       ".dataframe > tbody > tr {\n",
       "  text-align: right;\n",
       "  white-space: pre-wrap;\n",
       "}\n",
       "</style>\n",
       "<small>shape: (5, 3)</small><table border=\"1\" class=\"dataframe\"><thead><tr><th>text</th><th>label</th><th>label_name</th></tr><tr><td>str</td><td>i64</td><td>str</td></tr></thead><tbody><tr><td>&quot;Wall St. Bears Claw Back Into …</td><td>2</td><td>&quot;Business&quot;</td></tr><tr><td>&quot;Carlyle Looks Toward Commercia…</td><td>2</td><td>&quot;Business&quot;</td></tr><tr><td>&quot;Oil and Economy Cloud Stocks&#x27; …</td><td>2</td><td>&quot;Business&quot;</td></tr><tr><td>&quot;Iraq Halts Oil Exports from Ma…</td><td>2</td><td>&quot;Business&quot;</td></tr><tr><td>&quot;Oil prices soar to all-time re…</td><td>2</td><td>&quot;Business&quot;</td></tr></tbody></table></div>"
      ]
     },
     "execution_count": 4,
     "metadata": {},
     "output_type": "execute_result"
    }
   ],
   "execution_count": 4
  },
  {
   "cell_type": "code",
   "source": [
    "df = train_pl.with_columns([\n",
    "    pl.col(\"text\").map_elements(preprocessing, return_dtype=pl.String).alias(\"text_cleaned\")\n",
    "])\n",
    "\n",
    "df.head()"
   ],
   "metadata": {
    "colab": {
     "base_uri": "https://localhost:8080/",
     "height": 255
    },
    "id": "UcX036pO01Ii",
    "outputId": "7115f717-a01d-4f26-dae1-f0eea179e3c4",
    "ExecuteTime": {
     "end_time": "2025-06-22T16:39:32.724438Z",
     "start_time": "2025-06-22T16:38:14.066155Z"
    }
   },
   "outputs": [
    {
     "data": {
      "text/plain": [
       "shape: (5, 4)\n",
       "┌─────────────────────────────────┬───────┬────────────┬─────────────────────────────────┐\n",
       "│ text                            ┆ label ┆ label_name ┆ text_cleaned                    │\n",
       "│ ---                             ┆ ---   ┆ ---        ┆ ---                             │\n",
       "│ str                             ┆ i64   ┆ str        ┆ str                             │\n",
       "╞═════════════════════════════════╪═══════╪════════════╪═════════════════════════════════╡\n",
       "│ Wall St. Bears Claw Back Into … ┆ 2     ┆ Business   ┆ wall bear claw back black reut… │\n",
       "│ Carlyle Looks Toward Commercia… ┆ 2     ┆ Business   ┆ carlyle look toward commercial… │\n",
       "│ Oil and Economy Cloud Stocks' … ┆ 2     ┆ Business   ┆ oil economy cloud stock outloo… │\n",
       "│ Iraq Halts Oil Exports from Ma… ┆ 2     ┆ Business   ┆ iraq halt oil export main sout… │\n",
       "│ Oil prices soar to all-time re… ┆ 2     ┆ Business   ┆ oil price soar record pose new… │\n",
       "└─────────────────────────────────┴───────┴────────────┴─────────────────────────────────┘"
      ],
      "text/html": [
       "<div><style>\n",
       ".dataframe > thead > tr,\n",
       ".dataframe > tbody > tr {\n",
       "  text-align: right;\n",
       "  white-space: pre-wrap;\n",
       "}\n",
       "</style>\n",
       "<small>shape: (5, 4)</small><table border=\"1\" class=\"dataframe\"><thead><tr><th>text</th><th>label</th><th>label_name</th><th>text_cleaned</th></tr><tr><td>str</td><td>i64</td><td>str</td><td>str</td></tr></thead><tbody><tr><td>&quot;Wall St. Bears Claw Back Into …</td><td>2</td><td>&quot;Business&quot;</td><td>&quot;wall bear claw back black reut…</td></tr><tr><td>&quot;Carlyle Looks Toward Commercia…</td><td>2</td><td>&quot;Business&quot;</td><td>&quot;carlyle look toward commercial…</td></tr><tr><td>&quot;Oil and Economy Cloud Stocks&#x27; …</td><td>2</td><td>&quot;Business&quot;</td><td>&quot;oil economy cloud stock outloo…</td></tr><tr><td>&quot;Iraq Halts Oil Exports from Ma…</td><td>2</td><td>&quot;Business&quot;</td><td>&quot;iraq halt oil export main sout…</td></tr><tr><td>&quot;Oil prices soar to all-time re…</td><td>2</td><td>&quot;Business&quot;</td><td>&quot;oil price soar record pose new…</td></tr></tbody></table></div>"
      ]
     },
     "execution_count": 5,
     "metadata": {},
     "output_type": "execute_result"
    }
   ],
   "execution_count": 5
  },
  {
   "metadata": {},
   "cell_type": "markdown",
   "source": "# Entrainement du Model ML"
  },
  {
   "metadata": {
    "ExecuteTime": {
     "end_time": "2025-06-22T16:39:32.931376Z",
     "start_time": "2025-06-22T16:39:32.798434Z"
    }
   },
   "cell_type": "code",
   "source": [
    "from sklearn.model_selection import train_test_split\n",
    "# Séparer X et Y train_test_split\n",
    "X = df[\"text_cleaned\"].to_list()\n",
    "y = df[\"label\"].to_list()\n",
    "\n",
    "X_train, X_test, y_train, y_test = train_test_split(X, y, test_size=0.2,stratify=y, random_state=42)"
   ],
   "outputs": [],
   "execution_count": 6
  },
  {
   "metadata": {
    "ExecuteTime": {
     "end_time": "2025-06-22T16:55:09.982415Z",
     "start_time": "2025-06-22T16:39:32.990645Z"
    }
   },
   "cell_type": "code",
   "source": [
    "import optuna\n",
    "from sklearn.pipeline import Pipeline\n",
    "from sklearn.feature_extraction.text import TfidfVectorizer\n",
    "from sklearn.linear_model import LogisticRegression, SGDClassifier, RidgeClassifier\n",
    "from sklearn.metrics import f1_score, accuracy_score\n",
    "\n",
    "def objective(trial):\n",
    "    # Choix du modèle\n",
    "    model_name = trial.suggest_categorical(\"model\", [\"LogisticRegression\", \"SGD\", \"Ridge\"])\n",
    "\n",
    "    # Paramètres communs\n",
    "    max_features = trial.suggest_int(\"max_features\", 1000, 10000, step=1000)\n",
    "    vectorizer = TfidfVectorizer(max_features=max_features)\n",
    "\n",
    "    # Sélection du modèle avec hyperparamètres\n",
    "    if model_name == \"LogisticRegression\":\n",
    "        clf = LogisticRegression(\n",
    "            max_iter=1000,\n",
    "            C=trial.suggest_float(\"C\", 1e-3, 10, log=True)\n",
    "        )\n",
    "    elif model_name == \"SGD\":\n",
    "        clf = SGDClassifier(\n",
    "            loss=\"log_loss\",\n",
    "            penalty=trial.suggest_categorical(\"penalty\", [\"l2\", \"l1\"]),\n",
    "            alpha=trial.suggest_float(\"alpha\", 1e-5, 1e-2, log=True),\n",
    "            max_iter=1000,\n",
    "            random_state=42\n",
    "        )\n",
    "    elif model_name == \"Ridge\":\n",
    "        clf = RidgeClassifier(\n",
    "            alpha=trial.suggest_float(\"alpha\", 0.1, 10, log=True)\n",
    "        )\n",
    "\n",
    "    # Pipeline\n",
    "    pipeline = Pipeline([\n",
    "        (\"vectorizer\", vectorizer),\n",
    "        (\"classifier\", clf)\n",
    "    ])\n",
    "\n",
    "    # Entraînement + évaluation\n",
    "    pipeline.fit(X_train, y_train)\n",
    "    preds = pipeline.predict(X_test)\n",
    "\n",
    "    f1 = f1_score(y_test, preds, average='macro')\n",
    "    acc = accuracy_score(y_test, preds)\n",
    "\n",
    "    return f1, acc\n",
    "\n",
    "# Étude multi-objectifs\n",
    "study = optuna.create_study(\n",
    "    directions=[\"maximize\", \"maximize\"]\n",
    ")\n",
    "study.optimize(objective, n_trials=300)\n",
    "\n",
    "# Résumé des meilleurs essais\n",
    "print(\"Best trials:\")\n",
    "for t in study.best_trials:\n",
    "    print(f\"F1 macro: {t.values[0]:.4f}, Accuracy: {t.values[1]:.4f}, Params: {t.params}\")"
   ],
   "outputs": [
    {
     "name": "stderr",
     "output_type": "stream",
     "text": [
      "[I 2025-06-22 18:39:33,067] A new study created in memory with name: no-name-f8aea316-8185-4ec8-8e18-cbb2368fcd44\n",
      "[I 2025-06-22 18:39:34,600] Trial 0 finished with values: [0.8578891402005521, 0.8589166666666667] and parameters: {'model': 'SGD', 'max_features': 2000, 'penalty': 'l2', 'alpha': 0.0020503327629349064}.\n",
      "[I 2025-06-22 18:39:38,175] Trial 1 finished with values: [0.8854543002498503, 0.885875] and parameters: {'model': 'LogisticRegression', 'max_features': 3000, 'C': 0.02562226900493634}.\n",
      "[I 2025-06-22 18:39:39,906] Trial 2 finished with values: [0.9041617406110991, 0.9044166666666666] and parameters: {'model': 'Ridge', 'max_features': 4000, 'alpha': 1.7083852803336428}.\n",
      "[I 2025-06-22 18:39:41,782] Trial 3 finished with values: [0.913510202973439, 0.9137083333333333] and parameters: {'model': 'Ridge', 'max_features': 9000, 'alpha': 0.4859009380455021}.\n",
      "[I 2025-06-22 18:39:43,314] Trial 4 finished with values: [0.8978640336139234, 0.89825] and parameters: {'model': 'SGD', 'max_features': 5000, 'penalty': 'l2', 'alpha': 0.00010259127629143795}.\n",
      "[I 2025-06-22 18:39:44,981] Trial 5 finished with values: [0.9034547822207248, 0.9037083333333333] and parameters: {'model': 'Ridge', 'max_features': 4000, 'alpha': 0.4288920956121546}.\n",
      "[I 2025-06-22 18:39:46,654] Trial 6 finished with values: [0.8702120263932387, 0.8707916666666666] and parameters: {'model': 'SGD', 'max_features': 6000, 'penalty': 'l1', 'alpha': 0.00012417215235188559}.\n",
      "[I 2025-06-22 18:39:49,680] Trial 7 finished with values: [0.889882735332672, 0.8904166666666666] and parameters: {'model': 'LogisticRegression', 'max_features': 8000, 'C': 0.026024605750570813}.\n",
      "[I 2025-06-22 18:39:51,791] Trial 8 finished with values: [0.8674289218231608, 0.8684166666666666] and parameters: {'model': 'LogisticRegression', 'max_features': 6000, 'C': 0.0047809006162055625}.\n",
      "[I 2025-06-22 18:39:53,436] Trial 9 finished with values: [0.8362724429915437, 0.8372916666666667] and parameters: {'model': 'SGD', 'max_features': 6000, 'penalty': 'l1', 'alpha': 0.00027524410464204753}.\n",
      "[I 2025-06-22 18:39:55,335] Trial 10 finished with values: [0.9093523242394939, 0.9095416666666667] and parameters: {'model': 'Ridge', 'max_features': 7000, 'alpha': 0.27263356214559803}.\n",
      "[I 2025-06-22 18:39:56,968] Trial 11 finished with values: [0.8380027517307238, 0.8387916666666667] and parameters: {'model': 'SGD', 'max_features': 4000, 'penalty': 'l1', 'alpha': 0.00028683661478655766}.\n",
      "[I 2025-06-22 18:39:58,761] Trial 12 finished with values: [0.9120110344086043, 0.9122083333333333] and parameters: {'model': 'Ridge', 'max_features': 8000, 'alpha': 0.5436165058484939}.\n",
      "[I 2025-06-22 18:40:02,078] Trial 13 finished with values: [0.8718364659688183, 0.8720416666666667] and parameters: {'model': 'LogisticRegression', 'max_features': 1000, 'C': 0.42192627592677234}.\n",
      "[I 2025-06-22 18:40:03,579] Trial 14 finished with values: [0.8892949576359523, 0.889875] and parameters: {'model': 'SGD', 'max_features': 7000, 'penalty': 'l2', 'alpha': 0.00026245832556991486}.\n",
      "[I 2025-06-22 18:40:05,007] Trial 15 finished with values: [0.3325567900200467, 0.3797083333333333] and parameters: {'model': 'SGD', 'max_features': 1000, 'penalty': 'l1', 'alpha': 0.005342320205897336}.\n",
      "[I 2025-06-22 18:40:06,933] Trial 16 finished with values: [0.9053590912407027, 0.9055833333333333] and parameters: {'model': 'Ridge', 'max_features': 5000, 'alpha': 0.24833197164185525}.\n",
      "[I 2025-06-22 18:40:08,628] Trial 17 finished with values: [0.8557336670301292, 0.8570833333333333] and parameters: {'model': 'LogisticRegression', 'max_features': 7000, 'C': 0.0014256398729539028}.\n",
      "[I 2025-06-22 18:40:10,331] Trial 18 finished with values: [0.7614894049220307, 0.7634583333333333] and parameters: {'model': 'SGD', 'max_features': 8000, 'penalty': 'l1', 'alpha': 0.0007574298282191546}.\n",
      "[I 2025-06-22 18:40:11,985] Trial 19 finished with values: [0.9033318401089739, 0.9035833333333333] and parameters: {'model': 'Ridge', 'max_features': 4000, 'alpha': 0.48149172780765565}.\n",
      "[I 2025-06-22 18:40:13,459] Trial 20 finished with values: [0.8909272049049901, 0.8912083333333334] and parameters: {'model': 'SGD', 'max_features': 2000, 'penalty': 'l2', 'alpha': 5.198095845562186e-05}.\n",
      "[I 2025-06-22 18:40:15,108] Trial 21 finished with values: [0.8891173224673831, 0.8894583333333334] and parameters: {'model': 'Ridge', 'max_features': 2000, 'alpha': 0.15955732689767263}.\n",
      "[I 2025-06-22 18:40:18,189] Trial 22 finished with values: [0.8865612535359859, 0.8869583333333333] and parameters: {'model': 'LogisticRegression', 'max_features': 3000, 'C': 0.030048126837526955}.\n",
      "[I 2025-06-22 18:40:20,980] Trial 23 finished with values: [0.8697537567206051, 0.87] and parameters: {'model': 'LogisticRegression', 'max_features': 1000, 'C': 0.16911486602380565}.\n",
      "[I 2025-06-22 18:40:22,612] Trial 24 finished with values: [0.878621812946081, 0.8790416666666667] and parameters: {'model': 'SGD', 'max_features': 2000, 'penalty': 'l1', 'alpha': 9.741212897425601e-05}.\n",
      "[I 2025-06-22 18:40:24,037] Trial 25 finished with values: [0.9041182167272475, 0.904375] and parameters: {'model': 'Ridge', 'max_features': 4000, 'alpha': 3.6383687184636617}.\n",
      "[I 2025-06-22 18:40:29,028] Trial 26 finished with values: [0.9002916996792636, 0.9005] and parameters: {'model': 'LogisticRegression', 'max_features': 3000, 'C': 0.2291224417890162}.\n",
      "[I 2025-06-22 18:40:30,589] Trial 27 finished with values: [0.9073246066908777, 0.9075833333333333] and parameters: {'model': 'Ridge', 'max_features': 5000, 'alpha': 1.6367998321862742}.\n",
      "[I 2025-06-22 18:40:34,389] Trial 28 finished with values: [0.8900964990705034, 0.8905833333333333] and parameters: {'model': 'LogisticRegression', 'max_features': 5000, 'C': 0.028977153454715736}.\n",
      "[I 2025-06-22 18:40:36,061] Trial 29 finished with values: [0.9107097707633588, 0.9109166666666667] and parameters: {'model': 'Ridge', 'max_features': 7000, 'alpha': 1.0884700788106256}.\n",
      "[I 2025-06-22 18:40:38,235] Trial 30 finished with values: [0.8736799357987604, 0.8745416666666667] and parameters: {'model': 'LogisticRegression', 'max_features': 6000, 'C': 0.007776529520624454}.\n",
      "[I 2025-06-22 18:40:39,892] Trial 31 finished with values: [0.9140933548795036, 0.9142916666666666] and parameters: {'model': 'Ridge', 'max_features': 9000, 'alpha': 1.289493470572781}.\n",
      "[I 2025-06-22 18:40:43,728] Trial 32 finished with values: [0.8966310195653063, 0.896875] and parameters: {'model': 'LogisticRegression', 'max_features': 3000, 'C': 0.0967933724762418}.\n",
      "[I 2025-06-22 18:41:02,045] Trial 33 finished with values: [0.9043559218520504, 0.9045] and parameters: {'model': 'LogisticRegression', 'max_features': 6000, 'C': 8.973410801111477}.\n",
      "[I 2025-06-22 18:41:03,593] Trial 34 finished with values: [0.8549435252854927, 0.8563333333333333] and parameters: {'model': 'SGD', 'max_features': 9000, 'penalty': 'l2', 'alpha': 0.006015980582264511}.\n",
      "[I 2025-06-22 18:41:05,109] Trial 35 finished with values: [0.8891197913261014, 0.8897083333333333] and parameters: {'model': 'SGD', 'max_features': 8000, 'penalty': 'l2', 'alpha': 0.0002603180907925006}.\n",
      "[I 2025-06-22 18:41:06,871] Trial 36 finished with values: [0.7631310593096055, 0.7654166666666666] and parameters: {'model': 'SGD', 'max_features': 2000, 'penalty': 'l1', 'alpha': 0.0009697549331653022}.\n",
      "[I 2025-06-22 18:41:08,708] Trial 37 finished with values: [0.8571850871548262, 0.8585] and parameters: {'model': 'LogisticRegression', 'max_features': 9000, 'C': 0.002042278563496538}.\n",
      "[I 2025-06-22 18:41:10,324] Trial 38 finished with values: [0.7226064313690834, 0.7248333333333333] and parameters: {'model': 'SGD', 'max_features': 2000, 'penalty': 'l1', 'alpha': 0.001414745342063885}.\n",
      "[I 2025-06-22 18:41:11,898] Trial 39 finished with values: [0.3800444642732271, 0.42454166666666665] and parameters: {'model': 'SGD', 'max_features': 8000, 'penalty': 'l1', 'alpha': 0.0030985159374677133}.\n",
      "[I 2025-06-22 18:41:13,583] Trial 40 finished with values: [0.8946883670698038, 0.895] and parameters: {'model': 'SGD', 'max_features': 6000, 'penalty': 'l1', 'alpha': 4.17201618494272e-05}.\n",
      "[I 2025-06-22 18:41:15,291] Trial 41 finished with values: [0.905517650430726, 0.90575] and parameters: {'model': 'Ridge', 'max_features': 5000, 'alpha': 0.550278270789055}.\n",
      "[I 2025-06-22 18:41:17,145] Trial 42 finished with values: [0.9082054999710261, 0.9084166666666667] and parameters: {'model': 'SGD', 'max_features': 5000, 'penalty': 'l1', 'alpha': 1.0611251778566575e-05}.\n",
      "[I 2025-06-22 18:41:18,986] Trial 43 finished with values: [0.9145853458614145, 0.91475] and parameters: {'model': 'Ridge', 'max_features': 10000, 'alpha': 0.7320845417472398}.\n",
      "[I 2025-06-22 18:41:20,637] Trial 44 finished with values: [0.9130402506299148, 0.91325] and parameters: {'model': 'Ridge', 'max_features': 8000, 'alpha': 1.432417765896737}.\n",
      "[I 2025-06-22 18:41:22,155] Trial 45 finished with values: [0.8588609627660634, 0.860125] and parameters: {'model': 'SGD', 'max_features': 10000, 'penalty': 'l2', 'alpha': 0.003316324162510085}.\n",
      "[I 2025-06-22 18:41:23,745] Trial 46 finished with values: [0.9129501716842218, 0.9131666666666667] and parameters: {'model': 'Ridge', 'max_features': 8000, 'alpha': 1.7334291587190815}.\n",
      "[I 2025-06-22 18:41:38,921] Trial 47 finished with values: [0.9123435924873269, 0.9125] and parameters: {'model': 'LogisticRegression', 'max_features': 10000, 'C': 3.607539315180563}.\n",
      "[I 2025-06-22 18:41:54,701] Trial 48 finished with values: [0.9112839243207691, 0.9114166666666667] and parameters: {'model': 'LogisticRegression', 'max_features': 9000, 'C': 4.916312140259431}.\n",
      "[I 2025-06-22 18:41:56,361] Trial 49 finished with values: [0.8870069095197131, 0.8874166666666666] and parameters: {'model': 'SGD', 'max_features': 7000, 'penalty': 'l1', 'alpha': 6.145923165186466e-05}.\n",
      "[I 2025-06-22 18:41:58,175] Trial 50 finished with values: [0.9078593733045351, 0.9080833333333334] and parameters: {'model': 'SGD', 'max_features': 5000, 'penalty': 'l1', 'alpha': 1.213284851521584e-05}.\n",
      "[I 2025-06-22 18:41:59,587] Trial 51 finished with values: [0.8643441124205712, 0.8648333333333333] and parameters: {'model': 'Ridge', 'max_features': 1000, 'alpha': 1.5577388340405653}.\n",
      "[I 2025-06-22 18:42:15,062] Trial 52 finished with values: [0.90453902067071, 0.9047083333333333] and parameters: {'model': 'LogisticRegression', 'max_features': 5000, 'C': 6.314109797714356}.\n",
      "[I 2025-06-22 18:42:16,653] Trial 53 finished with values: [0.8988964211619589, 0.8992083333333334] and parameters: {'model': 'Ridge', 'max_features': 3000, 'alpha': 0.5812291280280459}.\n",
      "[I 2025-06-22 18:42:18,819] Trial 54 finished with values: [0.9131129670919422, 0.9133333333333333] and parameters: {'model': 'Ridge', 'max_features': 8000, 'alpha': 2.530632984664055}.\n",
      "[I 2025-06-22 18:42:20,522] Trial 55 finished with values: [0.8955137355548779, 0.8958333333333334] and parameters: {'model': 'SGD', 'max_features': 7000, 'penalty': 'l1', 'alpha': 3.966267049071961e-05}.\n",
      "[I 2025-06-22 18:42:22,064] Trial 56 finished with values: [0.9012460645581949, 0.9015416666666667] and parameters: {'model': 'SGD', 'max_features': 4000, 'penalty': 'l2', 'alpha': 5.103592927079126e-05}.\n",
      "[I 2025-06-22 18:42:25,224] Trial 57 finished with values: [0.8936976732858868, 0.8941666666666667] and parameters: {'model': 'LogisticRegression', 'max_features': 9000, 'C': 0.035221725707297334}.\n",
      "[I 2025-06-22 18:42:26,630] Trial 58 finished with values: [0.9103025853291835, 0.9105833333333333] and parameters: {'model': 'Ridge', 'max_features': 7000, 'alpha': 8.474021093755168}.\n",
      "[I 2025-06-22 18:42:34,524] Trial 59 finished with values: [0.9056515797306028, 0.9058333333333334] and parameters: {'model': 'LogisticRegression', 'max_features': 4000, 'C': 0.38075962875588965}.\n",
      "[I 2025-06-22 18:42:36,101] Trial 60 finished with values: [0.9112329333476851, 0.9114583333333334] and parameters: {'model': 'Ridge', 'max_features': 7000, 'alpha': 2.8005461623307117}.\n",
      "[I 2025-06-22 18:42:37,770] Trial 61 finished with values: [0.9140870644039991, 0.9142916666666666] and parameters: {'model': 'Ridge', 'max_features': 9000, 'alpha': 1.4583613760045562}.\n",
      "[I 2025-06-22 18:42:39,216] Trial 62 finished with values: [0.9126375028033866, 0.9129166666666667] and parameters: {'model': 'Ridge', 'max_features': 9000, 'alpha': 8.422635218809154}.\n",
      "[I 2025-06-22 18:42:40,650] Trial 63 finished with values: [0.9087969447557398, 0.9090833333333334] and parameters: {'model': 'Ridge', 'max_features': 6000, 'alpha': 6.7910466763479445}.\n",
      "[I 2025-06-22 18:42:42,107] Trial 64 finished with values: [0.8894902685307882, 0.8898333333333334] and parameters: {'model': 'Ridge', 'max_features': 2000, 'alpha': 2.588780222882792}.\n",
      "[I 2025-06-22 18:42:43,683] Trial 65 finished with values: [0.9098137050819564, 0.9100416666666666] and parameters: {'model': 'Ridge', 'max_features': 6000, 'alpha': 1.9425449685222633}.\n",
      "[I 2025-06-22 18:42:45,652] Trial 66 finished with values: [0.9094875113069211, 0.9096666666666666] and parameters: {'model': 'Ridge', 'max_features': 7000, 'alpha': 0.18376426907240373}.\n",
      "[I 2025-06-22 18:42:47,290] Trial 67 finished with values: [0.8608031312934675, 0.8615] and parameters: {'model': 'SGD', 'max_features': 7000, 'penalty': 'l1', 'alpha': 0.00015421922745427252}.\n",
      "[I 2025-06-22 18:42:48,899] Trial 68 finished with values: [0.9108264194602429, 0.9110416666666666] and parameters: {'model': 'Ridge', 'max_features': 7000, 'alpha': 1.3242357786750731}.\n",
      "[I 2025-06-22 18:42:50,668] Trial 69 finished with values: [0.873081049665287, 0.8733333333333333] and parameters: {'model': 'SGD', 'max_features': 1000, 'penalty': 'l1', 'alpha': 1.1103205776097503e-05}.\n",
      "[I 2025-06-22 18:42:52,125] Trial 70 finished with values: [0.8810997902252347, 0.8815833333333334] and parameters: {'model': 'SGD', 'max_features': 2000, 'penalty': 'l2', 'alpha': 0.00020109988326653011}.\n",
      "[I 2025-06-22 18:43:02,160] Trial 71 finished with values: [0.9110699324564866, 0.91125] and parameters: {'model': 'LogisticRegression', 'max_features': 7000, 'C': 0.6194811094239333}.\n",
      "[I 2025-06-22 18:43:03,720] Trial 72 finished with values: [0.8593399968925639, 0.8605833333333334] and parameters: {'model': 'SGD', 'max_features': 10000, 'penalty': 'l2', 'alpha': 0.0030729910144500555}.\n",
      "[I 2025-06-22 18:43:19,780] Trial 73 finished with values: [0.9024597155883376, 0.9025833333333333] and parameters: {'model': 'LogisticRegression', 'max_features': 4000, 'C': 5.627579402689479}.\n",
      "[I 2025-06-22 18:43:26,844] Trial 74 finished with values: [0.8703699450726556, 0.8705833333333334] and parameters: {'model': 'LogisticRegression', 'max_features': 1000, 'C': 9.022709268221274}.\n",
      "[I 2025-06-22 18:43:28,188] Trial 75 finished with values: [0.889670395875662, 0.8900416666666666] and parameters: {'model': 'Ridge', 'max_features': 2000, 'alpha': 7.750187106885253}.\n",
      "[I 2025-06-22 18:43:29,799] Trial 76 finished with values: [0.8549514123992272, 0.85575] and parameters: {'model': 'SGD', 'max_features': 9000, 'penalty': 'l1', 'alpha': 0.00017318796864366795}.\n",
      "[I 2025-06-22 18:43:31,225] Trial 77 finished with values: [0.9097395352286864, 0.91] and parameters: {'model': 'Ridge', 'max_features': 6000, 'alpha': 4.493227815394891}.\n",
      "[I 2025-06-22 18:43:32,798] Trial 78 finished with values: [0.9039996062043645, 0.90425] and parameters: {'model': 'Ridge', 'max_features': 4000, 'alpha': 1.2225807215088695}.\n",
      "[I 2025-06-22 18:43:34,906] Trial 79 finished with values: [0.8705310962373569, 0.8714166666666666] and parameters: {'model': 'LogisticRegression', 'max_features': 5000, 'C': 0.00603785061843731}.\n",
      "[I 2025-06-22 18:43:36,822] Trial 80 finished with values: [0.8593892036723181, 0.8605416666666666] and parameters: {'model': 'LogisticRegression', 'max_features': 4000, 'C': 0.0024014740406495287}.\n",
      "[I 2025-06-22 18:43:38,437] Trial 81 finished with values: [0.7310943505102246, 0.7335] and parameters: {'model': 'SGD', 'max_features': 4000, 'penalty': 'l1', 'alpha': 0.001137350875384045}.\n",
      "[I 2025-06-22 18:43:45,131] Trial 82 finished with values: [0.9088520180263809, 0.9090833333333334] and parameters: {'model': 'LogisticRegression', 'max_features': 9000, 'C': 0.27181789678369955}.\n",
      "[I 2025-06-22 18:43:46,520] Trial 83 finished with values: [0.9091651420824963, 0.9094583333333334] and parameters: {'model': 'Ridge', 'max_features': 6000, 'alpha': 9.387231034174347}.\n",
      "[I 2025-06-22 18:43:48,309] Trial 84 finished with values: [0.9136838129624734, 0.913875] and parameters: {'model': 'Ridge', 'max_features': 9000, 'alpha': 0.5728817151904895}.\n",
      "[I 2025-06-22 18:43:51,341] Trial 85 finished with values: [0.883509963233325, 0.8841666666666667] and parameters: {'model': 'LogisticRegression', 'max_features': 8000, 'C': 0.01619577704145852}.\n",
      "[I 2025-06-22 18:43:52,979] Trial 86 finished with values: [0.37304155816711454, 0.406625] and parameters: {'model': 'SGD', 'max_features': 10000, 'penalty': 'l1', 'alpha': 0.0029492638349647125}.\n",
      "[I 2025-06-22 18:43:55,106] Trial 87 finished with values: [0.9140823862097821, 0.91425] and parameters: {'model': 'Ridge', 'max_features': 10000, 'alpha': 0.18182857612637413}.\n",
      "[I 2025-06-22 18:43:56,483] Trial 88 finished with values: [0.8643419737812564, 0.8648333333333333] and parameters: {'model': 'Ridge', 'max_features': 1000, 'alpha': 1.9303290233000867}.\n",
      "[I 2025-06-22 18:43:57,925] Trial 89 finished with values: [0.8893205455128131, 0.8896666666666667] and parameters: {'model': 'Ridge', 'max_features': 2000, 'alpha': 1.3270346189149915}.\n",
      "[I 2025-06-22 18:43:59,352] Trial 90 finished with values: [0.8795236537294371, 0.880125] and parameters: {'model': 'SGD', 'max_features': 3000, 'penalty': 'l2', 'alpha': 0.0004390420609865311}.\n",
      "[I 2025-06-22 18:44:00,843] Trial 91 finished with values: [0.9128056728400342, 0.9130833333333334] and parameters: {'model': 'Ridge', 'max_features': 9000, 'alpha': 8.278980820987266}.\n",
      "[I 2025-06-22 18:44:04,550] Trial 92 finished with values: [0.8976220235445704, 0.8979583333333333] and parameters: {'model': 'LogisticRegression', 'max_features': 5000, 'C': 0.06169383405607085}.\n",
      "[I 2025-06-22 18:44:05,923] Trial 93 finished with values: [0.904381918193695, 0.9046666666666666] and parameters: {'model': 'Ridge', 'max_features': 4000, 'alpha': 5.494860492230902}.\n",
      "[I 2025-06-22 18:44:07,448] Trial 94 finished with values: [0.913963976475426, 0.9142083333333333] and parameters: {'model': 'Ridge', 'max_features': 9000, 'alpha': 3.5862287285745866}.\n",
      "[I 2025-06-22 18:44:09,048] Trial 95 finished with values: [0.8859033740909048, 0.8862916666666667] and parameters: {'model': 'SGD', 'max_features': 5000, 'penalty': 'l1', 'alpha': 7.03956201900289e-05}.\n",
      "[I 2025-06-22 18:44:10,725] Trial 96 finished with values: [0.8990208560958712, 0.8993333333333333] and parameters: {'model': 'Ridge', 'max_features': 3000, 'alpha': 0.16416674728975292}.\n",
      "[I 2025-06-22 18:44:26,142] Trial 97 finished with values: [0.898085048577343, 0.89825] and parameters: {'model': 'LogisticRegression', 'max_features': 3000, 'C': 9.477706732074779}.\n",
      "[I 2025-06-22 18:44:27,929] Trial 98 finished with values: [0.9144169149222698, 0.9145833333333333] and parameters: {'model': 'Ridge', 'max_features': 10000, 'alpha': 0.6323753161169161}.\n",
      "[I 2025-06-22 18:44:30,032] Trial 99 finished with values: [0.8709234242137538, 0.8716666666666667] and parameters: {'model': 'LogisticRegression', 'max_features': 3000, 'C': 0.007417331779739216}.\n",
      "[I 2025-06-22 18:44:31,757] Trial 100 finished with values: [0.9100929864000217, 0.9102916666666667] and parameters: {'model': 'Ridge', 'max_features': 7000, 'alpha': 0.6241443447581504}.\n",
      "[I 2025-06-22 18:44:33,731] Trial 101 finished with values: [0.9094414244165594, 0.909625] and parameters: {'model': 'Ridge', 'max_features': 7000, 'alpha': 0.14003390585594166}.\n",
      "[I 2025-06-22 18:44:35,242] Trial 102 finished with values: [0.9040777561642284, 0.9043333333333333] and parameters: {'model': 'Ridge', 'max_features': 4000, 'alpha': 1.4920039293783682}.\n",
      "[I 2025-06-22 18:44:36,627] Trial 103 finished with values: [0.9091280406226125, 0.9094166666666667] and parameters: {'model': 'Ridge', 'max_features': 6000, 'alpha': 8.932089649537875}.\n",
      "[I 2025-06-22 18:44:43,358] Trial 104 finished with values: [0.9021519570058453, 0.9023333333333333] and parameters: {'model': 'LogisticRegression', 'max_features': 3000, 'C': 0.5404206608166243}.\n",
      "[I 2025-06-22 18:44:44,782] Trial 105 finished with values: [0.8643398538121865, 0.8648333333333333] and parameters: {'model': 'Ridge', 'max_features': 1000, 'alpha': 1.3523039998078628}.\n",
      "[I 2025-06-22 18:44:56,719] Trial 106 finished with values: [0.9148128267373627, 0.9149583333333333] and parameters: {'model': 'LogisticRegression', 'max_features': 9000, 'C': 1.9550671399076747}.\n",
      "[I 2025-06-22 18:45:17,055] Trial 107 finished with values: [0.907723856289487, 0.907875] and parameters: {'model': 'LogisticRegression', 'max_features': 9000, 'C': 9.11278937235237}.\n",
      "[I 2025-06-22 18:45:22,216] Trial 108 finished with values: [0.9048360566896603, 0.9050833333333334] and parameters: {'model': 'LogisticRegression', 'max_features': 6000, 'C': 0.14408033327293404}.\n",
      "[I 2025-06-22 18:45:23,673] Trial 109 finished with values: [0.8904039616719941, 0.8909166666666667] and parameters: {'model': 'SGD', 'max_features': 5000, 'penalty': 'l2', 'alpha': 0.00021474054158421256}.\n",
      "[I 2025-06-22 18:45:25,205] Trial 110 finished with values: [0.9110287736636982, 0.91125] and parameters: {'model': 'Ridge', 'max_features': 7000, 'alpha': 2.0623106661427464}.\n",
      "[I 2025-06-22 18:45:34,480] Trial 111 finished with values: [0.9132962934460294, 0.9134583333333334] and parameters: {'model': 'LogisticRegression', 'max_features': 9000, 'C': 0.8300925710006033}.\n",
      "[I 2025-06-22 18:45:36,359] Trial 112 finished with values: [0.906205722976919, 0.9064166666666666] and parameters: {'model': 'SGD', 'max_features': 4000, 'penalty': 'l1', 'alpha': 1.1086895921450716e-05}.\n",
      "[I 2025-06-22 18:45:38,297] Trial 113 finished with values: [0.9094845263232996, 0.9096666666666666] and parameters: {'model': 'Ridge', 'max_features': 7000, 'alpha': 0.15565797114450203}.\n",
      "[I 2025-06-22 18:45:39,853] Trial 114 finished with values: [0.9130378431992983, 0.91325] and parameters: {'model': 'Ridge', 'max_features': 8000, 'alpha': 1.9667570122596523}.\n",
      "[I 2025-06-22 18:45:41,226] Trial 115 finished with values: [0.8895147717421621, 0.889875] and parameters: {'model': 'Ridge', 'max_features': 2000, 'alpha': 5.298392914845786}.\n",
      "[I 2025-06-22 18:45:46,094] Trial 116 finished with values: [0.8985352051475565, 0.89875] and parameters: {'model': 'LogisticRegression', 'max_features': 3000, 'C': 0.15293797399953576}.\n",
      "[I 2025-06-22 18:45:47,501] Trial 117 finished with values: [0.9106082552973633, 0.910875] and parameters: {'model': 'Ridge', 'max_features': 7000, 'alpha': 7.014971602514855}.\n",
      "[I 2025-06-22 18:45:49,239] Trial 118 finished with values: [0.9143755366257591, 0.9145416666666667] and parameters: {'model': 'Ridge', 'max_features': 10000, 'alpha': 0.9205615175582857}.\n",
      "[I 2025-06-22 18:45:50,718] Trial 119 finished with values: [0.9126213010286848, 0.912875] and parameters: {'model': 'Ridge', 'max_features': 8000, 'alpha': 3.940826699233236}.\n",
      "[I 2025-06-22 18:45:52,450] Trial 120 finished with values: [0.8990209991514109, 0.8993333333333333] and parameters: {'model': 'Ridge', 'max_features': 3000, 'alpha': 0.12534244914487358}.\n",
      "[I 2025-06-22 18:45:55,996] Trial 121 finished with values: [0.8925278146639052, 0.8929583333333333] and parameters: {'model': 'LogisticRegression', 'max_features': 5000, 'C': 0.034500936506586644}.\n",
      "[I 2025-06-22 18:45:57,499] Trial 122 finished with values: [0.9074845560567293, 0.90775] and parameters: {'model': 'Ridge', 'max_features': 5000, 'alpha': 2.1698239264699777}.\n",
      "[I 2025-06-22 18:46:09,736] Trial 123 finished with values: [0.9078279281081285, 0.908] and parameters: {'model': 'LogisticRegression', 'max_features': 5000, 'C': 3.247839084695035}.\n",
      "[I 2025-06-22 18:46:12,365] Trial 124 finished with values: [0.8817451652778426, 0.8824583333333333] and parameters: {'model': 'LogisticRegression', 'max_features': 10000, 'C': 0.014656404221590447}.\n",
      "[I 2025-06-22 18:46:13,833] Trial 125 finished with values: [0.9142613777715499, 0.9145] and parameters: {'model': 'Ridge', 'max_features': 10000, 'alpha': 4.417136887775136}.\n",
      "[I 2025-06-22 18:46:15,384] Trial 126 finished with values: [0.9069973266521689, 0.90725] and parameters: {'model': 'Ridge', 'max_features': 5000, 'alpha': 1.2958261715501598}.\n",
      "[I 2025-06-22 18:46:16,818] Trial 127 finished with values: [0.8636485256931385, 0.864625] and parameters: {'model': 'SGD', 'max_features': 3000, 'penalty': 'l2', 'alpha': 0.0018523269070506616}.\n",
      "[I 2025-06-22 18:46:18,435] Trial 128 finished with values: [0.8552937516835168, 0.8566666666666667] and parameters: {'model': 'LogisticRegression', 'max_features': 9000, 'C': 0.001450315755804051}.\n",
      "[I 2025-06-22 18:46:19,981] Trial 129 finished with values: [0.1, 0.25] and parameters: {'model': 'SGD', 'max_features': 6000, 'penalty': 'l1', 'alpha': 0.008232611479606914}.\n",
      "[I 2025-06-22 18:46:34,861] Trial 130 finished with values: [0.910756769108165, 0.910875] and parameters: {'model': 'LogisticRegression', 'max_features': 8000, 'C': 4.828455573599918}.\n",
      "[I 2025-06-22 18:46:36,698] Trial 131 finished with values: [0.9122567719899696, 0.9124583333333334] and parameters: {'model': 'Ridge', 'max_features': 8000, 'alpha': 0.6105545404132758}.\n",
      "[I 2025-06-22 18:46:38,161] Trial 132 finished with values: [0.8699647271832002, 0.8709583333333333] and parameters: {'model': 'SGD', 'max_features': 7000, 'penalty': 'l2', 'alpha': 0.0012360809106376548}.\n",
      "[I 2025-06-22 18:46:39,803] Trial 133 finished with values: [0.8943197636639246, 0.8946666666666667] and parameters: {'model': 'SGD', 'max_features': 10000, 'penalty': 'l1', 'alpha': 4.02324582500057e-05}.\n",
      "[I 2025-06-22 18:46:41,607] Trial 134 finished with values: [0.9035005153190852, 0.90375] and parameters: {'model': 'Ridge', 'max_features': 4000, 'alpha': 0.17935686793814404}.\n",
      "[I 2025-06-22 18:46:43,478] Trial 135 finished with values: [0.9119771938778913, 0.9121666666666667] and parameters: {'model': 'Ridge', 'max_features': 8000, 'alpha': 0.38569241835511847}.\n",
      "[I 2025-06-22 18:46:45,134] Trial 136 finished with values: [0.9128727080431136, 0.9130833333333334] and parameters: {'model': 'Ridge', 'max_features': 8000, 'alpha': 1.2897717445763108}.\n",
      "[I 2025-06-22 18:46:46,586] Trial 137 finished with values: [0.8988679125652691, 0.8992916666666667] and parameters: {'model': 'SGD', 'max_features': 8000, 'penalty': 'l2', 'alpha': 0.00011312174302171438}.\n",
      "[I 2025-06-22 18:46:48,320] Trial 138 finished with values: [0.8630427256326174, 0.8641666666666666] and parameters: {'model': 'LogisticRegression', 'max_features': 6000, 'C': 0.0032948566634948837}.\n",
      "[I 2025-06-22 18:46:57,069] Trial 139 finished with values: [0.905417503433431, 0.9055416666666667] and parameters: {'model': 'LogisticRegression', 'max_features': 4000, 'C': 1.832680441811492}.\n",
      "[I 2025-06-22 18:46:58,955] Trial 140 finished with values: [0.903580587247885, 0.9038333333333334] and parameters: {'model': 'Ridge', 'max_features': 4000, 'alpha': 0.12604215614147266}.\n",
      "[I 2025-06-22 18:47:00,420] Trial 141 finished with values: [0.9071846844078625, 0.9074583333333334] and parameters: {'model': 'Ridge', 'max_features': 5000, 'alpha': 3.7502541550377226}.\n",
      "[I 2025-06-22 18:47:02,148] Trial 142 finished with values: [0.9034580231016109, 0.9037083333333333] and parameters: {'model': 'Ridge', 'max_features': 4000, 'alpha': 0.35606765844463123}.\n",
      "[I 2025-06-22 18:47:03,588] Trial 143 finished with values: [0.8708844351253404, 0.8717916666666666] and parameters: {'model': 'SGD', 'max_features': 5000, 'penalty': 'l2', 'alpha': 0.0011215718667857335}.\n",
      "[I 2025-06-22 18:47:05,041] Trial 144 finished with values: [0.8961872721365836, 0.8966666666666666] and parameters: {'model': 'SGD', 'max_features': 9000, 'penalty': 'l2', 'alpha': 0.00015738956020782587}.\n",
      "[I 2025-06-22 18:47:06,536] Trial 145 finished with values: [0.8999895927561756, 0.9003333333333333] and parameters: {'model': 'SGD', 'max_features': 5000, 'penalty': 'l2', 'alpha': 7.69575984218624e-05}.\n",
      "[I 2025-06-22 18:47:08,086] Trial 146 finished with values: [0.853458601136395, 0.854875] and parameters: {'model': 'LogisticRegression', 'max_features': 8000, 'C': 0.0010821719945955104}.\n",
      "[I 2025-06-22 18:47:10,732] Trial 147 finished with values: [0.8680630585657241, 0.8690833333333333] and parameters: {'model': 'LogisticRegression', 'max_features': 10000, 'C': 0.0054718757820795}.\n",
      "[I 2025-06-22 18:47:12,367] Trial 148 finished with values: [0.8989399699425172, 0.89925] and parameters: {'model': 'Ridge', 'max_features': 3000, 'alpha': 0.4069787935252687}.\n",
      "[I 2025-06-22 18:47:14,092] Trial 149 finished with values: [0.9140106594861968, 0.9142083333333333] and parameters: {'model': 'Ridge', 'max_features': 9000, 'alpha': 0.9638336522933071}.\n",
      "[I 2025-06-22 18:47:15,854] Trial 150 finished with values: [0.914544423162252, 0.9147083333333333] and parameters: {'model': 'Ridge', 'max_features': 10000, 'alpha': 0.7620931610022758}.\n",
      "[I 2025-06-22 18:47:17,469] Trial 151 finished with values: [0.8597733231060927, 0.8605] and parameters: {'model': 'SGD', 'max_features': 8000, 'penalty': 'l1', 'alpha': 0.0001558473234203699}.\n",
      "[I 2025-06-22 18:47:19,127] Trial 152 finished with values: [0.8990623797532938, 0.899375] and parameters: {'model': 'Ridge', 'max_features': 3000, 'alpha': 0.22725689833951546}.\n",
      "[I 2025-06-22 18:47:21,949] Trial 153 finished with values: [0.874550457039764, 0.8752083333333334] and parameters: {'model': 'LogisticRegression', 'max_features': 3000, 'C': 0.01057362102532509}.\n",
      "[I 2025-06-22 18:47:25,714] Trial 154 finished with values: [0.9002963138441473, 0.9005833333333333] and parameters: {'model': 'LogisticRegression', 'max_features': 5000, 'C': 0.09167979687364369}.\n",
      "[I 2025-06-22 18:47:27,217] Trial 155 finished with values: [0.8988499843924793, 0.8991666666666667] and parameters: {'model': 'Ridge', 'max_features': 3000, 'alpha': 1.1123942497945212}.\n",
      "[I 2025-06-22 18:47:28,798] Trial 156 finished with values: [0.9129129480138323, 0.913125] and parameters: {'model': 'Ridge', 'max_features': 8000, 'alpha': 1.9048951497842836}.\n",
      "[I 2025-06-22 18:47:38,101] Trial 157 finished with values: [0.9145951264541785, 0.91475] and parameters: {'model': 'LogisticRegression', 'max_features': 9000, 'C': 1.1952471768409294}.\n",
      "[I 2025-06-22 18:47:41,288] Trial 158 finished with values: [0.8936908348133805, 0.8941666666666667] and parameters: {'model': 'LogisticRegression', 'max_features': 10000, 'C': 0.03567004948567095}.\n",
      "[I 2025-06-22 18:47:53,758] Trial 159 finished with values: [0.9001422495799765, 0.9002916666666667] and parameters: {'model': 'LogisticRegression', 'max_features': 3000, 'C': 4.745040800039061}.\n",
      "[I 2025-06-22 18:47:55,608] Trial 160 finished with values: [0.9035016607001478, 0.90375] and parameters: {'model': 'Ridge', 'max_features': 4000, 'alpha': 0.1866092685136276}.\n",
      "[I 2025-06-22 18:47:57,008] Trial 161 finished with values: [0.910778100027773, 0.9110416666666666] and parameters: {'model': 'Ridge', 'max_features': 7000, 'alpha': 6.1845192870975}.\n",
      "[I 2025-06-22 18:48:13,260] Trial 162 finished with values: [0.9116443892015824, 0.9117916666666667] and parameters: {'model': 'LogisticRegression', 'max_features': 10000, 'C': 4.565258233454487}.\n",
      "[I 2025-06-22 18:48:31,227] Trial 163 finished with values: [0.9061835465449132, 0.9063333333333333] and parameters: {'model': 'LogisticRegression', 'max_features': 6000, 'C': 6.353452406336623}.\n",
      "[I 2025-06-22 18:48:55,381] Trial 164 finished with values: [0.9092709772497177, 0.9094166666666667] and parameters: {'model': 'LogisticRegression', 'max_features': 9000, 'C': 7.189615642573806}.\n",
      "[I 2025-06-22 18:48:57,042] Trial 165 finished with values: [0.8578166941707478, 0.8590416666666667] and parameters: {'model': 'LogisticRegression', 'max_features': 5000, 'C': 0.0019006520381104428}.\n",
      "[I 2025-06-22 18:48:59,078] Trial 166 finished with values: [0.9093984701789557, 0.9095833333333333] and parameters: {'model': 'Ridge', 'max_features': 7000, 'alpha': 0.12411990813023058}.\n",
      "[I 2025-06-22 18:49:00,814] Trial 167 finished with values: [0.9146606949455622, 0.9148333333333334] and parameters: {'model': 'Ridge', 'max_features': 10000, 'alpha': 1.4204214524493821}.\n",
      "[I 2025-06-22 18:49:03,024] Trial 168 finished with values: [0.9093984701789557, 0.9095833333333333] and parameters: {'model': 'Ridge', 'max_features': 7000, 'alpha': 0.12058056582737917}.\n",
      "[I 2025-06-22 18:49:05,138] Trial 169 finished with values: [0.914285611851121, 0.9144583333333334] and parameters: {'model': 'Ridge', 'max_features': 10000, 'alpha': 0.31128350383999775}.\n",
      "[I 2025-06-22 18:49:06,944] Trial 170 finished with values: [0.8699609517611004, 0.8702916666666667] and parameters: {'model': 'SGD', 'max_features': 1000, 'penalty': 'l1', 'alpha': 4.6449036004485196e-05}.\n",
      "[I 2025-06-22 18:49:08,348] Trial 171 finished with values: [0.9123319973812856, 0.912625] and parameters: {'model': 'Ridge', 'max_features': 10000, 'alpha': 9.533184020089967}.\n",
      "[I 2025-06-22 18:49:09,978] Trial 172 finished with values: [0.8555995715860931, 0.8569583333333334] and parameters: {'model': 'LogisticRegression', 'max_features': 7000, 'C': 0.0013554604495710908}.\n",
      "[I 2025-06-22 18:49:11,615] Trial 173 finished with values: [0.9141213176729763, 0.9143333333333333] and parameters: {'model': 'Ridge', 'max_features': 9000, 'alpha': 1.6844903021032764}.\n",
      "[I 2025-06-22 18:49:14,041] Trial 174 finished with values: [0.8729961015135823, 0.873875] and parameters: {'model': 'LogisticRegression', 'max_features': 7000, 'C': 0.007492737471831954}.\n",
      "[I 2025-06-22 18:49:31,851] Trial 175 finished with values: [0.9093172680360617, 0.9094583333333334] and parameters: {'model': 'LogisticRegression', 'max_features': 10000, 'C': 7.219883533348118}.\n",
      "[I 2025-06-22 18:49:33,535] Trial 176 finished with values: [0.7706171559847774, 0.7724166666666666] and parameters: {'model': 'SGD', 'max_features': 8000, 'penalty': 'l1', 'alpha': 0.0007041142462047824}.\n",
      "[I 2025-06-22 18:49:41,417] Trial 177 finished with values: [0.912071815443349, 0.91225] and parameters: {'model': 'LogisticRegression', 'max_features': 8000, 'C': 0.6606573487066418}.\n",
      "[I 2025-06-22 18:49:43,054] Trial 178 finished with values: [0.6131977229019583, 0.616875] and parameters: {'model': 'SGD', 'max_features': 3000, 'penalty': 'l1', 'alpha': 0.0019133339441338435}.\n",
      "[I 2025-06-22 18:49:44,504] Trial 179 finished with values: [0.9136984561942374, 0.9139583333333333] and parameters: {'model': 'Ridge', 'max_features': 10000, 'alpha': 6.422642809119916}.\n",
      "[I 2025-06-22 18:49:46,661] Trial 180 finished with values: [0.9133525785018907, 0.9135416666666667] and parameters: {'model': 'Ridge', 'max_features': 9000, 'alpha': 0.15415515884484918}.\n",
      "[I 2025-06-22 18:49:59,671] Trial 181 finished with values: [0.908762318716154, 0.9089166666666667] and parameters: {'model': 'LogisticRegression', 'max_features': 6000, 'C': 3.8411010771225143}.\n",
      "[I 2025-06-22 18:50:01,763] Trial 182 finished with values: [0.9117289156604289, 0.9119166666666667] and parameters: {'model': 'Ridge', 'max_features': 8000, 'alpha': 0.23580052957684133}.\n",
      "[I 2025-06-22 18:50:03,356] Trial 183 finished with values: [0.9129109153877908, 0.913125] and parameters: {'model': 'Ridge', 'max_features': 8000, 'alpha': 1.7690450761151026}.\n",
      "[I 2025-06-22 18:50:06,381] Trial 184 finished with values: [0.8869140664740067, 0.8875] and parameters: {'model': 'LogisticRegression', 'max_features': 9000, 'C': 0.021815934413877545}.\n",
      "[I 2025-06-22 18:50:07,884] Trial 185 finished with values: [0.8828951494905464, 0.883625] and parameters: {'model': 'SGD', 'max_features': 9000, 'penalty': 'l2', 'alpha': 0.0004265918880310686}.\n",
      "[I 2025-06-22 18:50:09,451] Trial 186 finished with values: [0.9140711698838606, 0.9142916666666666] and parameters: {'model': 'Ridge', 'max_features': 9000, 'alpha': 2.2015690522661213}.\n",
      "[I 2025-06-22 18:50:11,320] Trial 187 finished with values: [0.9094422111872176, 0.909625] and parameters: {'model': 'Ridge', 'max_features': 7000, 'alpha': 0.2425722285272758}.\n",
      "[I 2025-06-22 18:50:12,763] Trial 188 finished with values: [0.9073397320048173, 0.907625] and parameters: {'model': 'Ridge', 'max_features': 5000, 'alpha': 4.391227793249463}.\n",
      "[I 2025-06-22 18:50:14,440] Trial 189 finished with values: [0.9139632773020862, 0.9141666666666667] and parameters: {'model': 'Ridge', 'max_features': 9000, 'alpha': 1.3969205612500455}.\n",
      "[I 2025-06-22 18:50:20,836] Trial 190 finished with values: [0.9104071092511759, 0.910625] and parameters: {'model': 'LogisticRegression', 'max_features': 9000, 'C': 0.3548625863217219}.\n",
      "[I 2025-06-22 18:50:22,741] Trial 191 finished with values: [0.9126730563040576, 0.912875] and parameters: {'model': 'Ridge', 'max_features': 8000, 'alpha': 0.6524489428216864}.\n",
      "[I 2025-06-22 18:50:24,186] Trial 192 finished with values: [0.9138320019940859, 0.9140833333333334] and parameters: {'model': 'Ridge', 'max_features': 10000, 'alpha': 6.008120963359361}.\n",
      "[I 2025-06-22 18:50:25,941] Trial 193 finished with values: [0.9077067972067876, 0.9079166666666667] and parameters: {'model': 'Ridge', 'max_features': 6000, 'alpha': 0.6459854391564389}.\n",
      "[I 2025-06-22 18:50:27,685] Trial 194 finished with values: [0.9053517298089735, 0.9055833333333333] and parameters: {'model': 'Ridge', 'max_features': 5000, 'alpha': 0.4471988174982257}.\n",
      "[I 2025-06-22 18:50:31,872] Trial 195 finished with values: [0.8992663511889716, 0.899625] and parameters: {'model': 'LogisticRegression', 'max_features': 8000, 'C': 0.05998244273013603}.\n",
      "[I 2025-06-22 18:50:33,742] Trial 196 finished with values: [0.9055668056260983, 0.9057916666666667] and parameters: {'model': 'Ridge', 'max_features': 5000, 'alpha': 0.18820094756500746}.\n",
      "[I 2025-06-22 18:50:35,382] Trial 197 finished with values: [0.8989399699425172, 0.89925] and parameters: {'model': 'Ridge', 'max_features': 3000, 'alpha': 0.4461128233504892}.\n",
      "[I 2025-06-22 18:50:36,808] Trial 198 finished with values: [0.9126375028033866, 0.9129166666666667] and parameters: {'model': 'Ridge', 'max_features': 9000, 'alpha': 8.384261088569426}.\n",
      "[I 2025-06-22 18:50:38,217] Trial 199 finished with values: [0.9105654075435519, 0.9108333333333334] and parameters: {'model': 'Ridge', 'max_features': 7000, 'alpha': 7.025092390571234}.\n",
      "[I 2025-06-22 18:50:39,637] Trial 200 finished with values: [0.9122891767721082, 0.9125833333333333] and parameters: {'model': 'Ridge', 'max_features': 10000, 'alpha': 9.481804347591199}.\n",
      "[I 2025-06-22 18:50:41,087] Trial 201 finished with values: [0.9131479632245829, 0.9134166666666667] and parameters: {'model': 'Ridge', 'max_features': 10000, 'alpha': 7.585587473786131}.\n",
      "[I 2025-06-22 18:50:43,137] Trial 202 finished with values: [0.9132255845802444, 0.9134166666666667] and parameters: {'model': 'Ridge', 'max_features': 9000, 'alpha': 0.18138915898353142}.\n",
      "[I 2025-06-22 18:50:44,658] Trial 203 finished with values: [0.8565201376715881, 0.8578333333333333] and parameters: {'model': 'SGD', 'max_features': 7000, 'penalty': 'l2', 'alpha': 0.005204835714898512}.\n",
      "[I 2025-06-22 18:50:48,072] Trial 204 finished with values: [0.8932829508818034, 0.8934583333333334] and parameters: {'model': 'LogisticRegression', 'max_features': 2000, 'C': 0.3783988532758018}.\n",
      "[I 2025-06-22 18:50:49,913] Trial 205 finished with values: [0.914631243981937, 0.9147916666666667] and parameters: {'model': 'Ridge', 'max_features': 10000, 'alpha': 0.8502755742081003}.\n",
      "[I 2025-06-22 18:50:58,856] Trial 206 finished with values: [0.9112244640671466, 0.9114166666666667] and parameters: {'model': 'LogisticRegression', 'max_features': 9000, 'C': 0.4725725220887388}.\n",
      "[I 2025-06-22 18:51:00,876] Trial 207 finished with values: [0.9134251909450426, 0.913625] and parameters: {'model': 'Ridge', 'max_features': 9000, 'alpha': 0.40220953232540146}.\n",
      "[I 2025-06-22 18:51:02,640] Trial 208 finished with values: [0.9077134775256244, 0.9079166666666667] and parameters: {'model': 'Ridge', 'max_features': 6000, 'alpha': 0.5490047157998278}.\n",
      "[I 2025-06-22 18:51:04,045] Trial 209 finished with values: [0.9116024771472409, 0.911875] and parameters: {'model': 'Ridge', 'max_features': 8000, 'alpha': 8.581592857264988}.\n",
      "[I 2025-06-22 18:51:05,445] Trial 210 finished with values: [0.9116024771472409, 0.911875] and parameters: {'model': 'Ridge', 'max_features': 8000, 'alpha': 8.575367858141226}.\n",
      "[I 2025-06-22 18:51:07,582] Trial 211 finished with values: [0.9093984701789557, 0.9095833333333333] and parameters: {'model': 'Ridge', 'max_features': 7000, 'alpha': 0.12189861289247818}.\n",
      "[I 2025-06-22 18:51:09,287] Trial 212 finished with values: [0.9142601914186614, 0.9144583333333334] and parameters: {'model': 'Ridge', 'max_features': 9000, 'alpha': 1.050652961380097}.\n",
      "[I 2025-06-22 18:51:11,003] Trial 213 finished with values: [0.9053930931365003, 0.905625] and parameters: {'model': 'Ridge', 'max_features': 5000, 'alpha': 0.4219595216801392}.\n",
      "[I 2025-06-22 18:51:12,570] Trial 214 finished with values: [0.9072025780381887, 0.9074583333333334] and parameters: {'model': 'Ridge', 'max_features': 5000, 'alpha': 1.5255800842327443}.\n",
      "[I 2025-06-22 18:51:14,035] Trial 215 finished with values: [0.9135361466768608, 0.9137916666666667] and parameters: {'model': 'Ridge', 'max_features': 9000, 'alpha': 5.483718861489633}.\n",
      "[I 2025-06-22 18:51:16,152] Trial 216 finished with values: [0.9112660377201786, 0.9114583333333334] and parameters: {'model': 'Ridge', 'max_features': 8000, 'alpha': 0.11729322956846332}.\n",
      "[I 2025-06-22 18:51:18,226] Trial 217 finished with values: [0.8698735311501629, 0.8708333333333333] and parameters: {'model': 'LogisticRegression', 'max_features': 9000, 'C': 0.00603213201966586}.\n",
      "[I 2025-06-22 18:51:25,831] Trial 218 finished with values: [0.910727626342783, 0.9109166666666667] and parameters: {'model': 'LogisticRegression', 'max_features': 7000, 'C': 0.4974828567328502}.\n",
      "[I 2025-06-22 18:51:27,371] Trial 219 finished with values: [0.8892372698215122, 0.8895833333333333] and parameters: {'model': 'Ridge', 'max_features': 2000, 'alpha': 0.6411051855783382}.\n",
      "[I 2025-06-22 18:51:29,313] Trial 220 finished with values: [0.8692575207211748, 0.87025] and parameters: {'model': 'LogisticRegression', 'max_features': 10000, 'C': 0.005809347622801039}.\n",
      "[I 2025-06-22 18:51:31,003] Trial 221 finished with values: [0.8990207066580276, 0.8993333333333333] and parameters: {'model': 'Ridge', 'max_features': 3000, 'alpha': 0.20851568775015628}.\n",
      "[I 2025-06-22 18:51:33,119] Trial 222 finished with values: [0.9133536205583739, 0.9135416666666667] and parameters: {'model': 'Ridge', 'max_features': 9000, 'alpha': 0.13218435419234414}.\n",
      "[I 2025-06-22 18:51:34,770] Trial 223 finished with values: [0.9099432594666126, 0.9101666666666667] and parameters: {'model': 'SGD', 'max_features': 5000, 'penalty': 'l2', 'alpha': 1.0302895678689749e-05}.\n",
      "[I 2025-06-22 18:51:36,655] Trial 224 finished with values: [0.9145853458614145, 0.91475] and parameters: {'model': 'Ridge', 'max_features': 10000, 'alpha': 0.7329842449753833}.\n",
      "[I 2025-06-22 18:51:38,144] Trial 225 finished with values: [0.9125752836683202, 0.9128333333333334] and parameters: {'model': 'Ridge', 'max_features': 8000, 'alpha': 4.637926842451299}.\n",
      "[I 2025-06-22 18:51:39,661] Trial 226 finished with values: [0.914181747422089, 0.9144166666666667] and parameters: {'model': 'Ridge', 'max_features': 10000, 'alpha': 4.113350918587501}.\n",
      "[I 2025-06-22 18:51:41,137] Trial 227 finished with values: [0.9110059103411277, 0.91125] and parameters: {'model': 'Ridge', 'max_features': 7000, 'alpha': 3.6658084028621176}.\n",
      "[I 2025-06-22 18:51:42,569] Trial 228 finished with values: [0.91357331109304, 0.9138333333333334] and parameters: {'model': 'Ridge', 'max_features': 10000, 'alpha': 6.569120359880605}.\n",
      "[I 2025-06-22 18:51:44,111] Trial 229 finished with values: [0.9141138176188102, 0.9143333333333333] and parameters: {'model': 'Ridge', 'max_features': 10000, 'alpha': 3.031443081255161}.\n",
      "[I 2025-06-22 18:51:54,920] Trial 230 finished with values: [0.9145147653463349, 0.9146666666666666] and parameters: {'model': 'LogisticRegression', 'max_features': 10000, 'C': 2.128414980347416}.\n",
      "[I 2025-06-22 18:51:56,922] Trial 231 finished with values: [0.9133899080636737, 0.9135833333333333] and parameters: {'model': 'Ridge', 'max_features': 9000, 'alpha': 0.26678291138863064}.\n",
      "[I 2025-06-22 18:51:58,677] Trial 232 finished with values: [0.9122137999854021, 0.9124166666666667] and parameters: {'model': 'Ridge', 'max_features': 8000, 'alpha': 0.6070932879825403}.\n",
      "[I 2025-06-22 18:52:00,222] Trial 233 finished with values: [0.9141499592331773, 0.914375] and parameters: {'model': 'Ridge', 'max_features': 10000, 'alpha': 3.3589934314308154}.\n",
      "[I 2025-06-22 18:52:02,092] Trial 234 finished with values: [0.9145015875012916, 0.9146666666666666] and parameters: {'model': 'Ridge', 'max_features': 10000, 'alpha': 0.6915535806152536}.\n",
      "[I 2025-06-22 18:52:03,927] Trial 235 finished with values: [0.9137681413830812, 0.9139583333333333] and parameters: {'model': 'Ridge', 'max_features': 9000, 'alpha': 0.574595236029042}.\n",
      "[I 2025-06-22 18:52:05,790] Trial 236 finished with values: [0.9134711945235833, 0.9136666666666666] and parameters: {'model': 'Ridge', 'max_features': 9000, 'alpha': 0.4473360127812693}.\n",
      "[I 2025-06-22 18:52:07,599] Trial 237 finished with values: [0.907596658389115, 0.9077916666666667] and parameters: {'model': 'Ridge', 'max_features': 6000, 'alpha': 0.44020710403886315}.\n",
      "[I 2025-06-22 18:52:09,059] Trial 238 finished with values: [0.9139250186628756, 0.9141666666666667] and parameters: {'model': 'Ridge', 'max_features': 10000, 'alpha': 5.053573957946236}.\n",
      "[I 2025-06-22 18:52:15,910] Trial 239 finished with values: [0.9112234662678663, 0.9114166666666667] and parameters: {'model': 'LogisticRegression', 'max_features': 9000, 'C': 0.46553997094256405}.\n",
      "[I 2025-06-22 18:52:18,757] Trial 240 finished with values: [0.8696722182936736, 0.8699166666666667] and parameters: {'model': 'LogisticRegression', 'max_features': 1000, 'C': 0.180190104310991}.\n",
      "[I 2025-06-22 18:52:20,520] Trial 241 finished with values: [0.9052275080213364, 0.9054583333333334] and parameters: {'model': 'Ridge', 'max_features': 5000, 'alpha': 0.37452354023674944}.\n",
      "[I 2025-06-22 18:52:22,687] Trial 242 finished with values: [0.9132691989101536, 0.9134583333333334] and parameters: {'model': 'Ridge', 'max_features': 9000, 'alpha': 0.1373673839784362}.\n",
      "[I 2025-06-22 18:52:24,115] Trial 243 finished with values: [0.9094022154779883, 0.9096666666666666] and parameters: {'model': 'Ridge', 'max_features': 6000, 'alpha': 4.935853453465941}.\n",
      "[I 2025-06-22 18:52:29,590] Trial 244 finished with values: [0.9073331381840332, 0.9075833333333333] and parameters: {'model': 'LogisticRegression', 'max_features': 8000, 'C': 0.18572673247377006}.\n",
      "[I 2025-06-22 18:52:31,499] Trial 245 finished with values: [0.9135543937001622, 0.91375] and parameters: {'model': 'Ridge', 'max_features': 9000, 'alpha': 0.4460789138064361}.\n",
      "[I 2025-06-22 18:52:33,096] Trial 246 finished with values: [0.914128234414484, 0.9143333333333333] and parameters: {'model': 'Ridge', 'max_features': 10000, 'alpha': 2.6703628209382835}.\n",
      "[I 2025-06-22 18:52:34,808] Trial 247 finished with values: [0.8326370816673004, 0.8337083333333334] and parameters: {'model': 'SGD', 'max_features': 7000, 'penalty': 'l1', 'alpha': 0.0002886972645940084}.\n",
      "[I 2025-06-22 18:52:36,434] Trial 248 finished with values: [0.9035816427857861, 0.9038333333333334] and parameters: {'model': 'Ridge', 'max_features': 4000, 'alpha': 0.7162681215425559}.\n",
      "[I 2025-06-22 18:52:37,878] Trial 249 finished with values: [0.9108130197193376, 0.9110833333333334] and parameters: {'model': 'Ridge', 'max_features': 7000, 'alpha': 5.717468188471622}.\n",
      "[I 2025-06-22 18:52:39,598] Trial 250 finished with values: [0.9131798011919141, 0.913375] and parameters: {'model': 'Ridge', 'max_features': 8000, 'alpha': 1.0160615673523246}.\n",
      "[I 2025-06-22 18:52:41,420] Trial 251 finished with values: [0.9141641324856797, 0.9143333333333333] and parameters: {'model': 'Ridge', 'max_features': 10000, 'alpha': 0.5964213848831309}.\n",
      "[I 2025-06-22 18:52:42,836] Trial 252 finished with values: [0.911647798725653, 0.9119166666666667] and parameters: {'model': 'Ridge', 'max_features': 8000, 'alpha': 7.702790667430024}.\n",
      "[I 2025-06-22 18:52:44,363] Trial 253 finished with values: [0.914061270133458, 0.9142916666666666] and parameters: {'model': 'Ridge', 'max_features': 10000, 'alpha': 3.6604700514545194}.\n",
      "[I 2025-06-22 18:52:45,983] Trial 254 finished with values: [0.9139970757614585, 0.9142083333333333] and parameters: {'model': 'Ridge', 'max_features': 9000, 'alpha': 1.839181200011721}.\n",
      "[I 2025-06-22 18:52:47,691] Trial 255 finished with values: [0.913929297017366, 0.914125] and parameters: {'model': 'Ridge', 'max_features': 9000, 'alpha': 0.9561924730814776}.\n",
      "[I 2025-06-22 18:52:49,079] Trial 256 finished with values: [0.9092917211782627, 0.9095833333333333] and parameters: {'model': 'Ridge', 'max_features': 6000, 'alpha': 8.652304646467908}.\n",
      "[I 2025-06-22 18:52:50,718] Trial 257 finished with values: [0.9143427024901627, 0.9145416666666667] and parameters: {'model': 'Ridge', 'max_features': 10000, 'alpha': 2.112530614802939}.\n",
      "[I 2025-06-22 18:52:52,460] Trial 258 finished with values: [0.9139715711578615, 0.9141666666666667] and parameters: {'model': 'Ridge', 'max_features': 9000, 'alpha': 0.9219260488058204}.\n",
      "[I 2025-06-22 18:52:56,688] Trial 259 finished with values: [0.8980464775894113, 0.8984166666666666] and parameters: {'model': 'LogisticRegression', 'max_features': 8000, 'C': 0.05282705675039391}.\n",
      "[I 2025-06-22 18:52:58,190] Trial 260 finished with values: [0.9141790047783869, 0.9144166666666667] and parameters: {'model': 'Ridge', 'max_features': 10000, 'alpha': 4.013714404666937}.\n",
      "[I 2025-06-22 18:53:01,033] Trial 261 finished with values: [0.8814543146784318, 0.8821666666666667] and parameters: {'model': 'LogisticRegression', 'max_features': 10000, 'C': 0.014145667915832997}.\n",
      "[I 2025-06-22 18:53:02,807] Trial 262 finished with values: [0.9065880973878385, 0.9068333333333334] and parameters: {'model': 'Ridge', 'max_features': 5000, 'alpha': 0.929191793916826}.\n",
      "[I 2025-06-22 18:53:04,186] Trial 263 finished with values: [0.8897534305938398, 0.890125] and parameters: {'model': 'Ridge', 'max_features': 2000, 'alpha': 7.653738399759362}.\n",
      "[I 2025-06-22 18:53:08,624] Trial 264 finished with values: [0.9049618466337348, 0.9052083333333333] and parameters: {'model': 'LogisticRegression', 'max_features': 6000, 'C': 0.14615807194906233}.\n",
      "[I 2025-06-22 18:53:10,093] Trial 265 finished with values: [0.8566233568903636, 0.857625] and parameters: {'model': 'LogisticRegression', 'max_features': 2000, 'C': 0.0031378579896893916}.\n",
      "[I 2025-06-22 18:53:11,603] Trial 266 finished with values: [0.9142642406548931, 0.9145] and parameters: {'model': 'Ridge', 'max_features': 10000, 'alpha': 4.361443603324068}.\n",
      "[I 2025-06-22 18:53:13,405] Trial 267 finished with values: [0.9119753213505475, 0.9121666666666667] and parameters: {'model': 'Ridge', 'max_features': 8000, 'alpha': 0.49874831011866005}.\n",
      "[I 2025-06-22 18:53:26,666] Trial 268 finished with values: [0.9131799047207478, 0.9133333333333333] and parameters: {'model': 'LogisticRegression', 'max_features': 9000, 'C': 3.1221914891100737}.\n",
      "[I 2025-06-22 18:53:28,229] Trial 269 finished with values: [0.8549505704062444, 0.8563333333333333] and parameters: {'model': 'LogisticRegression', 'max_features': 10000, 'C': 0.001462222821318724}.\n",
      "[I 2025-06-22 18:53:29,713] Trial 270 finished with values: [0.9139650814349105, 0.9142083333333333] and parameters: {'model': 'Ridge', 'max_features': 10000, 'alpha': 4.896091401947535}.\n",
      "[I 2025-06-22 18:53:31,422] Trial 271 finished with values: [0.9141332456456916, 0.9143333333333333] and parameters: {'model': 'Ridge', 'max_features': 9000, 'alpha': 1.179501058866925}.\n",
      "[I 2025-06-22 18:53:33,147] Trial 272 finished with values: [0.8982255041796539, 0.8985416666666667] and parameters: {'model': 'SGD', 'max_features': 10000, 'penalty': 'l1', 'alpha': 3.227604894577873e-05}.\n",
      "[I 2025-06-22 18:53:35,023] Trial 273 finished with values: [0.9135976477813993, 0.9137916666666667] and parameters: {'model': 'Ridge', 'max_features': 9000, 'alpha': 0.5542044656027767}.\n",
      "[I 2025-06-22 18:53:36,830] Trial 274 finished with values: [0.9075923047292045, 0.9077916666666667] and parameters: {'model': 'Ridge', 'max_features': 6000, 'alpha': 0.4940219332970933}.\n",
      "[I 2025-06-22 18:53:38,392] Trial 275 finished with values: [0.9142004298961175, 0.9144166666666667] and parameters: {'model': 'Ridge', 'max_features': 10000, 'alpha': 2.885193412107675}.\n",
      "[I 2025-06-22 18:53:40,680] Trial 276 finished with values: [0.8730179123297013, 0.8739166666666667] and parameters: {'model': 'LogisticRegression', 'max_features': 9000, 'C': 0.007847305967036181}.\n",
      "[I 2025-06-22 18:53:42,224] Trial 277 finished with values: [0.9074878300668671, 0.90775] and parameters: {'model': 'Ridge', 'max_features': 5000, 'alpha': 2.024072189729386}.\n",
      "[I 2025-06-22 18:53:43,738] Trial 278 finished with values: [0.8921627050042915, 0.8927083333333333] and parameters: {'model': 'SGD', 'max_features': 9000, 'penalty': 'l2', 'alpha': 0.0002107366500239202}.\n",
      "[I 2025-06-22 18:54:00,068] Trial 279 finished with values: [0.9100829655518832, 0.9102083333333333] and parameters: {'model': 'LogisticRegression', 'max_features': 8000, 'C': 5.606137035677269}.\n",
      "[I 2025-06-22 18:54:01,514] Trial 280 finished with values: [0.8996359752178676, 0.8999583333333333] and parameters: {'model': 'Ridge', 'max_features': 3000, 'alpha': 8.268823785567767}.\n",
      "[I 2025-06-22 18:54:03,449] Trial 281 finished with values: [0.9144569790508253, 0.914625] and parameters: {'model': 'Ridge', 'max_features': 10000, 'alpha': 0.381563871462841}.\n",
      "[I 2025-06-22 18:54:06,137] Trial 282 finished with values: [0.879177356035048, 0.8799166666666667] and parameters: {'model': 'LogisticRegression', 'max_features': 8000, 'C': 0.011720553050038838}.\n",
      "[I 2025-06-22 18:54:07,950] Trial 283 finished with values: [0.9146331688746279, 0.9147916666666667] and parameters: {'model': 'Ridge', 'max_features': 10000, 'alpha': 0.8072449391814553}.\n",
      "[I 2025-06-22 18:54:09,450] Trial 284 finished with values: [0.8992795861798166, 0.8997083333333333] and parameters: {'model': 'SGD', 'max_features': 9000, 'penalty': 'l2', 'alpha': 0.0001096955025451373}.\n",
      "[I 2025-06-22 18:54:10,968] Trial 285 finished with values: [0.9141499592331773, 0.914375] and parameters: {'model': 'Ridge', 'max_features': 10000, 'alpha': 3.3745602832298394}.\n",
      "[I 2025-06-22 18:54:12,604] Trial 286 finished with values: [0.8547868416771061, 0.8561666666666666] and parameters: {'model': 'LogisticRegression', 'max_features': 8000, 'C': 0.0013181151214639087}.\n",
      "[I 2025-06-22 18:54:25,358] Trial 287 finished with values: [0.9119135021583988, 0.9120416666666666] and parameters: {'model': 'LogisticRegression', 'max_features': 8000, 'C': 3.1670420974295777}.\n",
      "[I 2025-06-22 18:54:26,888] Trial 288 finished with values: [0.9109421597809044, 0.9111666666666667] and parameters: {'model': 'Ridge', 'max_features': 7000, 'alpha': 2.6087554242255453}.\n",
      "[I 2025-06-22 18:54:30,269] Trial 289 finished with values: [0.8788077918194508, 0.8795833333333334] and parameters: {'model': 'LogisticRegression', 'max_features': 10000, 'C': 0.01178469516284958}.\n",
      "[I 2025-06-22 18:54:31,959] Trial 290 finished with values: [0.8891173224673831, 0.8894583333333334] and parameters: {'model': 'Ridge', 'max_features': 2000, 'alpha': 0.16240001658957567}.\n",
      "[I 2025-06-22 18:54:33,601] Trial 291 finished with values: [0.1, 0.25] and parameters: {'model': 'SGD', 'max_features': 9000, 'penalty': 'l1', 'alpha': 0.006497351070909995}.\n",
      "[I 2025-06-22 18:54:35,697] Trial 292 finished with values: [0.9133129155188336, 0.9135] and parameters: {'model': 'Ridge', 'max_features': 9000, 'alpha': 0.1459702380784092}.\n",
      "[I 2025-06-22 18:54:37,773] Trial 293 finished with values: [0.9132255845802444, 0.9134166666666667] and parameters: {'model': 'Ridge', 'max_features': 9000, 'alpha': 0.1806442826661257}.\n",
      "[I 2025-06-22 18:54:52,331] Trial 294 finished with values: [0.9087711168228341, 0.9089166666666667] and parameters: {'model': 'LogisticRegression', 'max_features': 7000, 'C': 4.312985437251172}.\n",
      "[I 2025-06-22 18:54:53,840] Trial 295 finished with values: [0.8698802883725544, 0.870875] and parameters: {'model': 'SGD', 'max_features': 7000, 'penalty': 'l2', 'alpha': 0.0012412851364192626}.\n",
      "[I 2025-06-22 18:55:04,623] Trial 296 finished with values: [0.9145967718039365, 0.91475] and parameters: {'model': 'LogisticRegression', 'max_features': 9000, 'C': 1.8094517675562838}.\n",
      "[I 2025-06-22 18:55:06,477] Trial 297 finished with values: [0.914292434720577, 0.9144583333333334] and parameters: {'model': 'Ridge', 'max_features': 10000, 'alpha': 0.5582171778398717}.\n",
      "[I 2025-06-22 18:55:08,134] Trial 298 finished with values: [0.9132125783519692, 0.9134166666666667] and parameters: {'model': 'Ridge', 'max_features': 8000, 'alpha': 1.1256960653052814}.\n",
      "[I 2025-06-22 18:55:09,967] Trial 299 finished with values: [0.9145012629137144, 0.9146666666666666] and parameters: {'model': 'Ridge', 'max_features': 10000, 'alpha': 0.6951636208104366}.\n"
     ]
    },
    {
     "name": "stdout",
     "output_type": "stream",
     "text": [
      "Best trials:\n",
      "F1 macro: 0.9148, Accuracy: 0.9150, Params: {'model': 'LogisticRegression', 'max_features': 9000, 'C': 1.9550671399076747}\n"
     ]
    }
   ],
   "execution_count": 7
  },
  {
   "metadata": {
    "ExecuteTime": {
     "end_time": "2025-06-22T16:55:10.716436Z",
     "start_time": "2025-06-22T16:55:10.080269Z"
    }
   },
   "cell_type": "code",
   "source": [
    "import optuna.visualization as vis\n",
    "\n",
    "# Affiche la frontière de Pareto\n",
    "vis.plot_pareto_front(study, target_names=[\"F1 macro\", \"Accuracy\"]).show()\n",
    "vis.plot_optimization_history(\n",
    "    study,\n",
    "    target=lambda t: t.values[0],   # F1 macro\n",
    "    target_name=\"F1 Macro\"\n",
    ")\n",
    "vis.plot_param_importances(\n",
    "    study,\n",
    "    target=lambda t: t.values[1],   # Accuracy\n",
    "    target_name=\"Accuracy\"\n",
    ")"
   ],
   "outputs": [
    {
     "data": {
      "application/vnd.plotly.v1+json": {
       "data": [
        {
         "hovertemplate": "%{text}<extra>Trial</extra>",
         "marker": {
          "color": [
           0,
           1,
           2,
           3,
           4,
           5,
           6,
           7,
           8,
           9,
           10,
           11,
           12,
           13,
           14,
           15,
           16,
           17,
           18,
           19,
           20,
           21,
           22,
           23,
           24,
           25,
           26,
           27,
           28,
           29,
           30,
           31,
           32,
           33,
           34,
           35,
           36,
           37,
           38,
           39,
           40,
           41,
           42,
           43,
           44,
           45,
           46,
           47,
           48,
           49,
           50,
           51,
           52,
           53,
           54,
           55,
           56,
           57,
           58,
           59,
           60,
           61,
           62,
           63,
           64,
           65,
           66,
           67,
           68,
           69,
           70,
           71,
           72,
           73,
           74,
           75,
           76,
           77,
           78,
           79,
           80,
           81,
           82,
           83,
           84,
           85,
           86,
           87,
           88,
           89,
           90,
           91,
           92,
           93,
           94,
           95,
           96,
           97,
           98,
           99,
           100,
           101,
           102,
           103,
           104,
           105,
           107,
           108,
           109,
           110,
           111,
           112,
           113,
           114,
           115,
           116,
           117,
           118,
           119,
           120,
           121,
           122,
           123,
           124,
           125,
           126,
           127,
           128,
           129,
           130,
           131,
           132,
           133,
           134,
           135,
           136,
           137,
           138,
           139,
           140,
           141,
           142,
           143,
           144,
           145,
           146,
           147,
           148,
           149,
           150,
           151,
           152,
           153,
           154,
           155,
           156,
           157,
           158,
           159,
           160,
           161,
           162,
           163,
           164,
           165,
           166,
           167,
           168,
           169,
           170,
           171,
           172,
           173,
           174,
           175,
           176,
           177,
           178,
           179,
           180,
           181,
           182,
           183,
           184,
           185,
           186,
           187,
           188,
           189,
           190,
           191,
           192,
           193,
           194,
           195,
           196,
           197,
           198,
           199,
           200,
           201,
           202,
           203,
           204,
           205,
           206,
           207,
           208,
           209,
           210,
           211,
           212,
           213,
           214,
           215,
           216,
           217,
           218,
           219,
           220,
           221,
           222,
           223,
           224,
           225,
           226,
           227,
           228,
           229,
           230,
           231,
           232,
           233,
           234,
           235,
           236,
           237,
           238,
           239,
           240,
           241,
           242,
           243,
           244,
           245,
           246,
           247,
           248,
           249,
           250,
           251,
           252,
           253,
           254,
           255,
           256,
           257,
           258,
           259,
           260,
           261,
           262,
           263,
           264,
           265,
           266,
           267,
           268,
           269,
           270,
           271,
           272,
           273,
           274,
           275,
           276,
           277,
           278,
           279,
           280,
           281,
           282,
           283,
           284,
           285,
           286,
           287,
           288,
           289,
           290,
           291,
           292,
           293,
           294,
           295,
           296,
           297,
           298,
           299
          ],
          "colorbar": {
           "title": {
            "text": "Trial"
           }
          },
          "colorscale": [
           [
            0.0,
            "rgb(247,251,255)"
           ],
           [
            0.125,
            "rgb(222,235,247)"
           ],
           [
            0.25,
            "rgb(198,219,239)"
           ],
           [
            0.375,
            "rgb(158,202,225)"
           ],
           [
            0.5,
            "rgb(107,174,214)"
           ],
           [
            0.625,
            "rgb(66,146,198)"
           ],
           [
            0.75,
            "rgb(33,113,181)"
           ],
           [
            0.875,
            "rgb(8,81,156)"
           ],
           [
            1.0,
            "rgb(8,48,107)"
           ]
          ],
          "line": {
           "color": "Grey",
           "width": 0.5
          }
         },
         "mode": "markers",
         "showlegend": false,
         "text": [
          "{<br>  \"number\": 0,<br>  \"values\": [<br>    0.8578891402005521,<br>    0.8589166666666667<br>  ],<br>  \"params\": {<br>    \"model\": \"SGD\",<br>    \"max_features\": 2000,<br>    \"penalty\": \"l2\",<br>    \"alpha\": 0.0020503327629349064<br>  }<br>}",
          "{<br>  \"number\": 1,<br>  \"values\": [<br>    0.8854543002498503,<br>    0.885875<br>  ],<br>  \"params\": {<br>    \"model\": \"LogisticRegression\",<br>    \"max_features\": 3000,<br>    \"C\": 0.02562226900493634<br>  }<br>}",
          "{<br>  \"number\": 2,<br>  \"values\": [<br>    0.9041617406110991,<br>    0.9044166666666666<br>  ],<br>  \"params\": {<br>    \"model\": \"Ridge\",<br>    \"max_features\": 4000,<br>    \"alpha\": 1.7083852803336428<br>  }<br>}",
          "{<br>  \"number\": 3,<br>  \"values\": [<br>    0.913510202973439,<br>    0.9137083333333333<br>  ],<br>  \"params\": {<br>    \"model\": \"Ridge\",<br>    \"max_features\": 9000,<br>    \"alpha\": 0.4859009380455021<br>  }<br>}",
          "{<br>  \"number\": 4,<br>  \"values\": [<br>    0.8978640336139234,<br>    0.89825<br>  ],<br>  \"params\": {<br>    \"model\": \"SGD\",<br>    \"max_features\": 5000,<br>    \"penalty\": \"l2\",<br>    \"alpha\": 0.00010259127629143795<br>  }<br>}",
          "{<br>  \"number\": 5,<br>  \"values\": [<br>    0.9034547822207248,<br>    0.9037083333333333<br>  ],<br>  \"params\": {<br>    \"model\": \"Ridge\",<br>    \"max_features\": 4000,<br>    \"alpha\": 0.4288920956121546<br>  }<br>}",
          "{<br>  \"number\": 6,<br>  \"values\": [<br>    0.8702120263932387,<br>    0.8707916666666666<br>  ],<br>  \"params\": {<br>    \"model\": \"SGD\",<br>    \"max_features\": 6000,<br>    \"penalty\": \"l1\",<br>    \"alpha\": 0.00012417215235188559<br>  }<br>}",
          "{<br>  \"number\": 7,<br>  \"values\": [<br>    0.889882735332672,<br>    0.8904166666666666<br>  ],<br>  \"params\": {<br>    \"model\": \"LogisticRegression\",<br>    \"max_features\": 8000,<br>    \"C\": 0.026024605750570813<br>  }<br>}",
          "{<br>  \"number\": 8,<br>  \"values\": [<br>    0.8674289218231608,<br>    0.8684166666666666<br>  ],<br>  \"params\": {<br>    \"model\": \"LogisticRegression\",<br>    \"max_features\": 6000,<br>    \"C\": 0.0047809006162055625<br>  }<br>}",
          "{<br>  \"number\": 9,<br>  \"values\": [<br>    0.8362724429915437,<br>    0.8372916666666667<br>  ],<br>  \"params\": {<br>    \"model\": \"SGD\",<br>    \"max_features\": 6000,<br>    \"penalty\": \"l1\",<br>    \"alpha\": 0.00027524410464204753<br>  }<br>}",
          "{<br>  \"number\": 10,<br>  \"values\": [<br>    0.9093523242394939,<br>    0.9095416666666667<br>  ],<br>  \"params\": {<br>    \"model\": \"Ridge\",<br>    \"max_features\": 7000,<br>    \"alpha\": 0.27263356214559803<br>  }<br>}",
          "{<br>  \"number\": 11,<br>  \"values\": [<br>    0.8380027517307238,<br>    0.8387916666666667<br>  ],<br>  \"params\": {<br>    \"model\": \"SGD\",<br>    \"max_features\": 4000,<br>    \"penalty\": \"l1\",<br>    \"alpha\": 0.00028683661478655766<br>  }<br>}",
          "{<br>  \"number\": 12,<br>  \"values\": [<br>    0.9120110344086043,<br>    0.9122083333333333<br>  ],<br>  \"params\": {<br>    \"model\": \"Ridge\",<br>    \"max_features\": 8000,<br>    \"alpha\": 0.5436165058484939<br>  }<br>}",
          "{<br>  \"number\": 13,<br>  \"values\": [<br>    0.8718364659688183,<br>    0.8720416666666667<br>  ],<br>  \"params\": {<br>    \"model\": \"LogisticRegression\",<br>    \"max_features\": 1000,<br>    \"C\": 0.42192627592677234<br>  }<br>}",
          "{<br>  \"number\": 14,<br>  \"values\": [<br>    0.8892949576359523,<br>    0.889875<br>  ],<br>  \"params\": {<br>    \"model\": \"SGD\",<br>    \"max_features\": 7000,<br>    \"penalty\": \"l2\",<br>    \"alpha\": 0.00026245832556991486<br>  }<br>}",
          "{<br>  \"number\": 15,<br>  \"values\": [<br>    0.3325567900200467,<br>    0.3797083333333333<br>  ],<br>  \"params\": {<br>    \"model\": \"SGD\",<br>    \"max_features\": 1000,<br>    \"penalty\": \"l1\",<br>    \"alpha\": 0.005342320205897336<br>  }<br>}",
          "{<br>  \"number\": 16,<br>  \"values\": [<br>    0.9053590912407027,<br>    0.9055833333333333<br>  ],<br>  \"params\": {<br>    \"model\": \"Ridge\",<br>    \"max_features\": 5000,<br>    \"alpha\": 0.24833197164185525<br>  }<br>}",
          "{<br>  \"number\": 17,<br>  \"values\": [<br>    0.8557336670301292,<br>    0.8570833333333333<br>  ],<br>  \"params\": {<br>    \"model\": \"LogisticRegression\",<br>    \"max_features\": 7000,<br>    \"C\": 0.0014256398729539028<br>  }<br>}",
          "{<br>  \"number\": 18,<br>  \"values\": [<br>    0.7614894049220307,<br>    0.7634583333333333<br>  ],<br>  \"params\": {<br>    \"model\": \"SGD\",<br>    \"max_features\": 8000,<br>    \"penalty\": \"l1\",<br>    \"alpha\": 0.0007574298282191546<br>  }<br>}",
          "{<br>  \"number\": 19,<br>  \"values\": [<br>    0.9033318401089739,<br>    0.9035833333333333<br>  ],<br>  \"params\": {<br>    \"model\": \"Ridge\",<br>    \"max_features\": 4000,<br>    \"alpha\": 0.48149172780765565<br>  }<br>}",
          "{<br>  \"number\": 20,<br>  \"values\": [<br>    0.8909272049049901,<br>    0.8912083333333334<br>  ],<br>  \"params\": {<br>    \"model\": \"SGD\",<br>    \"max_features\": 2000,<br>    \"penalty\": \"l2\",<br>    \"alpha\": 5.198095845562186e-05<br>  }<br>}",
          "{<br>  \"number\": 21,<br>  \"values\": [<br>    0.8891173224673831,<br>    0.8894583333333334<br>  ],<br>  \"params\": {<br>    \"model\": \"Ridge\",<br>    \"max_features\": 2000,<br>    \"alpha\": 0.15955732689767263<br>  }<br>}",
          "{<br>  \"number\": 22,<br>  \"values\": [<br>    0.8865612535359859,<br>    0.8869583333333333<br>  ],<br>  \"params\": {<br>    \"model\": \"LogisticRegression\",<br>    \"max_features\": 3000,<br>    \"C\": 0.030048126837526955<br>  }<br>}",
          "{<br>  \"number\": 23,<br>  \"values\": [<br>    0.8697537567206051,<br>    0.87<br>  ],<br>  \"params\": {<br>    \"model\": \"LogisticRegression\",<br>    \"max_features\": 1000,<br>    \"C\": 0.16911486602380565<br>  }<br>}",
          "{<br>  \"number\": 24,<br>  \"values\": [<br>    0.878621812946081,<br>    0.8790416666666667<br>  ],<br>  \"params\": {<br>    \"model\": \"SGD\",<br>    \"max_features\": 2000,<br>    \"penalty\": \"l1\",<br>    \"alpha\": 9.741212897425601e-05<br>  }<br>}",
          "{<br>  \"number\": 25,<br>  \"values\": [<br>    0.9041182167272475,<br>    0.904375<br>  ],<br>  \"params\": {<br>    \"model\": \"Ridge\",<br>    \"max_features\": 4000,<br>    \"alpha\": 3.6383687184636617<br>  }<br>}",
          "{<br>  \"number\": 26,<br>  \"values\": [<br>    0.9002916996792636,<br>    0.9005<br>  ],<br>  \"params\": {<br>    \"model\": \"LogisticRegression\",<br>    \"max_features\": 3000,<br>    \"C\": 0.2291224417890162<br>  }<br>}",
          "{<br>  \"number\": 27,<br>  \"values\": [<br>    0.9073246066908777,<br>    0.9075833333333333<br>  ],<br>  \"params\": {<br>    \"model\": \"Ridge\",<br>    \"max_features\": 5000,<br>    \"alpha\": 1.6367998321862742<br>  }<br>}",
          "{<br>  \"number\": 28,<br>  \"values\": [<br>    0.8900964990705034,<br>    0.8905833333333333<br>  ],<br>  \"params\": {<br>    \"model\": \"LogisticRegression\",<br>    \"max_features\": 5000,<br>    \"C\": 0.028977153454715736<br>  }<br>}",
          "{<br>  \"number\": 29,<br>  \"values\": [<br>    0.9107097707633588,<br>    0.9109166666666667<br>  ],<br>  \"params\": {<br>    \"model\": \"Ridge\",<br>    \"max_features\": 7000,<br>    \"alpha\": 1.0884700788106256<br>  }<br>}",
          "{<br>  \"number\": 30,<br>  \"values\": [<br>    0.8736799357987604,<br>    0.8745416666666667<br>  ],<br>  \"params\": {<br>    \"model\": \"LogisticRegression\",<br>    \"max_features\": 6000,<br>    \"C\": 0.007776529520624454<br>  }<br>}",
          "{<br>  \"number\": 31,<br>  \"values\": [<br>    0.9140933548795036,<br>    0.9142916666666666<br>  ],<br>  \"params\": {<br>    \"model\": \"Ridge\",<br>    \"max_features\": 9000,<br>    \"alpha\": 1.289493470572781<br>  }<br>}",
          "{<br>  \"number\": 32,<br>  \"values\": [<br>    0.8966310195653063,<br>    0.896875<br>  ],<br>  \"params\": {<br>    \"model\": \"LogisticRegression\",<br>    \"max_features\": 3000,<br>    \"C\": 0.0967933724762418<br>  }<br>}",
          "{<br>  \"number\": 33,<br>  \"values\": [<br>    0.9043559218520504,<br>    0.9045<br>  ],<br>  \"params\": {<br>    \"model\": \"LogisticRegression\",<br>    \"max_features\": 6000,<br>    \"C\": 8.973410801111477<br>  }<br>}",
          "{<br>  \"number\": 34,<br>  \"values\": [<br>    0.8549435252854927,<br>    0.8563333333333333<br>  ],<br>  \"params\": {<br>    \"model\": \"SGD\",<br>    \"max_features\": 9000,<br>    \"penalty\": \"l2\",<br>    \"alpha\": 0.006015980582264511<br>  }<br>}",
          "{<br>  \"number\": 35,<br>  \"values\": [<br>    0.8891197913261014,<br>    0.8897083333333333<br>  ],<br>  \"params\": {<br>    \"model\": \"SGD\",<br>    \"max_features\": 8000,<br>    \"penalty\": \"l2\",<br>    \"alpha\": 0.0002603180907925006<br>  }<br>}",
          "{<br>  \"number\": 36,<br>  \"values\": [<br>    0.7631310593096055,<br>    0.7654166666666666<br>  ],<br>  \"params\": {<br>    \"model\": \"SGD\",<br>    \"max_features\": 2000,<br>    \"penalty\": \"l1\",<br>    \"alpha\": 0.0009697549331653022<br>  }<br>}",
          "{<br>  \"number\": 37,<br>  \"values\": [<br>    0.8571850871548262,<br>    0.8585<br>  ],<br>  \"params\": {<br>    \"model\": \"LogisticRegression\",<br>    \"max_features\": 9000,<br>    \"C\": 0.002042278563496538<br>  }<br>}",
          "{<br>  \"number\": 38,<br>  \"values\": [<br>    0.7226064313690834,<br>    0.7248333333333333<br>  ],<br>  \"params\": {<br>    \"model\": \"SGD\",<br>    \"max_features\": 2000,<br>    \"penalty\": \"l1\",<br>    \"alpha\": 0.001414745342063885<br>  }<br>}",
          "{<br>  \"number\": 39,<br>  \"values\": [<br>    0.3800444642732271,<br>    0.42454166666666665<br>  ],<br>  \"params\": {<br>    \"model\": \"SGD\",<br>    \"max_features\": 8000,<br>    \"penalty\": \"l1\",<br>    \"alpha\": 0.0030985159374677133<br>  }<br>}",
          "{<br>  \"number\": 40,<br>  \"values\": [<br>    0.8946883670698038,<br>    0.895<br>  ],<br>  \"params\": {<br>    \"model\": \"SGD\",<br>    \"max_features\": 6000,<br>    \"penalty\": \"l1\",<br>    \"alpha\": 4.17201618494272e-05<br>  }<br>}",
          "{<br>  \"number\": 41,<br>  \"values\": [<br>    0.905517650430726,<br>    0.90575<br>  ],<br>  \"params\": {<br>    \"model\": \"Ridge\",<br>    \"max_features\": 5000,<br>    \"alpha\": 0.550278270789055<br>  }<br>}",
          "{<br>  \"number\": 42,<br>  \"values\": [<br>    0.9082054999710261,<br>    0.9084166666666667<br>  ],<br>  \"params\": {<br>    \"model\": \"SGD\",<br>    \"max_features\": 5000,<br>    \"penalty\": \"l1\",<br>    \"alpha\": 1.0611251778566575e-05<br>  }<br>}",
          "{<br>  \"number\": 43,<br>  \"values\": [<br>    0.9145853458614145,<br>    0.91475<br>  ],<br>  \"params\": {<br>    \"model\": \"Ridge\",<br>    \"max_features\": 10000,<br>    \"alpha\": 0.7320845417472398<br>  }<br>}",
          "{<br>  \"number\": 44,<br>  \"values\": [<br>    0.9130402506299148,<br>    0.91325<br>  ],<br>  \"params\": {<br>    \"model\": \"Ridge\",<br>    \"max_features\": 8000,<br>    \"alpha\": 1.432417765896737<br>  }<br>}",
          "{<br>  \"number\": 45,<br>  \"values\": [<br>    0.8588609627660634,<br>    0.860125<br>  ],<br>  \"params\": {<br>    \"model\": \"SGD\",<br>    \"max_features\": 10000,<br>    \"penalty\": \"l2\",<br>    \"alpha\": 0.003316324162510085<br>  }<br>}",
          "{<br>  \"number\": 46,<br>  \"values\": [<br>    0.9129501716842218,<br>    0.9131666666666667<br>  ],<br>  \"params\": {<br>    \"model\": \"Ridge\",<br>    \"max_features\": 8000,<br>    \"alpha\": 1.7334291587190815<br>  }<br>}",
          "{<br>  \"number\": 47,<br>  \"values\": [<br>    0.9123435924873269,<br>    0.9125<br>  ],<br>  \"params\": {<br>    \"model\": \"LogisticRegression\",<br>    \"max_features\": 10000,<br>    \"C\": 3.607539315180563<br>  }<br>}",
          "{<br>  \"number\": 48,<br>  \"values\": [<br>    0.9112839243207691,<br>    0.9114166666666667<br>  ],<br>  \"params\": {<br>    \"model\": \"LogisticRegression\",<br>    \"max_features\": 9000,<br>    \"C\": 4.916312140259431<br>  }<br>}",
          "{<br>  \"number\": 49,<br>  \"values\": [<br>    0.8870069095197131,<br>    0.8874166666666666<br>  ],<br>  \"params\": {<br>    \"model\": \"SGD\",<br>    \"max_features\": 7000,<br>    \"penalty\": \"l1\",<br>    \"alpha\": 6.145923165186466e-05<br>  }<br>}",
          "{<br>  \"number\": 50,<br>  \"values\": [<br>    0.9078593733045351,<br>    0.9080833333333334<br>  ],<br>  \"params\": {<br>    \"model\": \"SGD\",<br>    \"max_features\": 5000,<br>    \"penalty\": \"l1\",<br>    \"alpha\": 1.213284851521584e-05<br>  }<br>}",
          "{<br>  \"number\": 51,<br>  \"values\": [<br>    0.8643441124205712,<br>    0.8648333333333333<br>  ],<br>  \"params\": {<br>    \"model\": \"Ridge\",<br>    \"max_features\": 1000,<br>    \"alpha\": 1.5577388340405653<br>  }<br>}",
          "{<br>  \"number\": 52,<br>  \"values\": [<br>    0.90453902067071,<br>    0.9047083333333333<br>  ],<br>  \"params\": {<br>    \"model\": \"LogisticRegression\",<br>    \"max_features\": 5000,<br>    \"C\": 6.314109797714356<br>  }<br>}",
          "{<br>  \"number\": 53,<br>  \"values\": [<br>    0.8988964211619589,<br>    0.8992083333333334<br>  ],<br>  \"params\": {<br>    \"model\": \"Ridge\",<br>    \"max_features\": 3000,<br>    \"alpha\": 0.5812291280280459<br>  }<br>}",
          "{<br>  \"number\": 54,<br>  \"values\": [<br>    0.9131129670919422,<br>    0.9133333333333333<br>  ],<br>  \"params\": {<br>    \"model\": \"Ridge\",<br>    \"max_features\": 8000,<br>    \"alpha\": 2.530632984664055<br>  }<br>}",
          "{<br>  \"number\": 55,<br>  \"values\": [<br>    0.8955137355548779,<br>    0.8958333333333334<br>  ],<br>  \"params\": {<br>    \"model\": \"SGD\",<br>    \"max_features\": 7000,<br>    \"penalty\": \"l1\",<br>    \"alpha\": 3.966267049071961e-05<br>  }<br>}",
          "{<br>  \"number\": 56,<br>  \"values\": [<br>    0.9012460645581949,<br>    0.9015416666666667<br>  ],<br>  \"params\": {<br>    \"model\": \"SGD\",<br>    \"max_features\": 4000,<br>    \"penalty\": \"l2\",<br>    \"alpha\": 5.103592927079126e-05<br>  }<br>}",
          "{<br>  \"number\": 57,<br>  \"values\": [<br>    0.8936976732858868,<br>    0.8941666666666667<br>  ],<br>  \"params\": {<br>    \"model\": \"LogisticRegression\",<br>    \"max_features\": 9000,<br>    \"C\": 0.035221725707297334<br>  }<br>}",
          "{<br>  \"number\": 58,<br>  \"values\": [<br>    0.9103025853291835,<br>    0.9105833333333333<br>  ],<br>  \"params\": {<br>    \"model\": \"Ridge\",<br>    \"max_features\": 7000,<br>    \"alpha\": 8.474021093755168<br>  }<br>}",
          "{<br>  \"number\": 59,<br>  \"values\": [<br>    0.9056515797306028,<br>    0.9058333333333334<br>  ],<br>  \"params\": {<br>    \"model\": \"LogisticRegression\",<br>    \"max_features\": 4000,<br>    \"C\": 0.38075962875588965<br>  }<br>}",
          "{<br>  \"number\": 60,<br>  \"values\": [<br>    0.9112329333476851,<br>    0.9114583333333334<br>  ],<br>  \"params\": {<br>    \"model\": \"Ridge\",<br>    \"max_features\": 7000,<br>    \"alpha\": 2.8005461623307117<br>  }<br>}",
          "{<br>  \"number\": 61,<br>  \"values\": [<br>    0.9140870644039991,<br>    0.9142916666666666<br>  ],<br>  \"params\": {<br>    \"model\": \"Ridge\",<br>    \"max_features\": 9000,<br>    \"alpha\": 1.4583613760045562<br>  }<br>}",
          "{<br>  \"number\": 62,<br>  \"values\": [<br>    0.9126375028033866,<br>    0.9129166666666667<br>  ],<br>  \"params\": {<br>    \"model\": \"Ridge\",<br>    \"max_features\": 9000,<br>    \"alpha\": 8.422635218809154<br>  }<br>}",
          "{<br>  \"number\": 63,<br>  \"values\": [<br>    0.9087969447557398,<br>    0.9090833333333334<br>  ],<br>  \"params\": {<br>    \"model\": \"Ridge\",<br>    \"max_features\": 6000,<br>    \"alpha\": 6.7910466763479445<br>  }<br>}",
          "{<br>  \"number\": 64,<br>  \"values\": [<br>    0.8894902685307882,<br>    0.8898333333333334<br>  ],<br>  \"params\": {<br>    \"model\": \"Ridge\",<br>    \"max_features\": 2000,<br>    \"alpha\": 2.588780222882792<br>  }<br>}",
          "{<br>  \"number\": 65,<br>  \"values\": [<br>    0.9098137050819564,<br>    0.9100416666666666<br>  ],<br>  \"params\": {<br>    \"model\": \"Ridge\",<br>    \"max_features\": 6000,<br>    \"alpha\": 1.9425449685222633<br>  }<br>}",
          "{<br>  \"number\": 66,<br>  \"values\": [<br>    0.9094875113069211,<br>    0.9096666666666666<br>  ],<br>  \"params\": {<br>    \"model\": \"Ridge\",<br>    \"max_features\": 7000,<br>    \"alpha\": 0.18376426907240373<br>  }<br>}",
          "{<br>  \"number\": 67,<br>  \"values\": [<br>    0.8608031312934675,<br>    0.8615<br>  ],<br>  \"params\": {<br>    \"model\": \"SGD\",<br>    \"max_features\": 7000,<br>    \"penalty\": \"l1\",<br>    \"alpha\": 0.00015421922745427252<br>  }<br>}",
          "{<br>  \"number\": 68,<br>  \"values\": [<br>    0.9108264194602429,<br>    0.9110416666666666<br>  ],<br>  \"params\": {<br>    \"model\": \"Ridge\",<br>    \"max_features\": 7000,<br>    \"alpha\": 1.3242357786750731<br>  }<br>}",
          "{<br>  \"number\": 69,<br>  \"values\": [<br>    0.873081049665287,<br>    0.8733333333333333<br>  ],<br>  \"params\": {<br>    \"model\": \"SGD\",<br>    \"max_features\": 1000,<br>    \"penalty\": \"l1\",<br>    \"alpha\": 1.1103205776097503e-05<br>  }<br>}",
          "{<br>  \"number\": 70,<br>  \"values\": [<br>    0.8810997902252347,<br>    0.8815833333333334<br>  ],<br>  \"params\": {<br>    \"model\": \"SGD\",<br>    \"max_features\": 2000,<br>    \"penalty\": \"l2\",<br>    \"alpha\": 0.00020109988326653011<br>  }<br>}",
          "{<br>  \"number\": 71,<br>  \"values\": [<br>    0.9110699324564866,<br>    0.91125<br>  ],<br>  \"params\": {<br>    \"model\": \"LogisticRegression\",<br>    \"max_features\": 7000,<br>    \"C\": 0.6194811094239333<br>  }<br>}",
          "{<br>  \"number\": 72,<br>  \"values\": [<br>    0.8593399968925639,<br>    0.8605833333333334<br>  ],<br>  \"params\": {<br>    \"model\": \"SGD\",<br>    \"max_features\": 10000,<br>    \"penalty\": \"l2\",<br>    \"alpha\": 0.0030729910144500555<br>  }<br>}",
          "{<br>  \"number\": 73,<br>  \"values\": [<br>    0.9024597155883376,<br>    0.9025833333333333<br>  ],<br>  \"params\": {<br>    \"model\": \"LogisticRegression\",<br>    \"max_features\": 4000,<br>    \"C\": 5.627579402689479<br>  }<br>}",
          "{<br>  \"number\": 74,<br>  \"values\": [<br>    0.8703699450726556,<br>    0.8705833333333334<br>  ],<br>  \"params\": {<br>    \"model\": \"LogisticRegression\",<br>    \"max_features\": 1000,<br>    \"C\": 9.022709268221274<br>  }<br>}",
          "{<br>  \"number\": 75,<br>  \"values\": [<br>    0.889670395875662,<br>    0.8900416666666666<br>  ],<br>  \"params\": {<br>    \"model\": \"Ridge\",<br>    \"max_features\": 2000,<br>    \"alpha\": 7.750187106885253<br>  }<br>}",
          "{<br>  \"number\": 76,<br>  \"values\": [<br>    0.8549514123992272,<br>    0.85575<br>  ],<br>  \"params\": {<br>    \"model\": \"SGD\",<br>    \"max_features\": 9000,<br>    \"penalty\": \"l1\",<br>    \"alpha\": 0.00017318796864366795<br>  }<br>}",
          "{<br>  \"number\": 77,<br>  \"values\": [<br>    0.9097395352286864,<br>    0.91<br>  ],<br>  \"params\": {<br>    \"model\": \"Ridge\",<br>    \"max_features\": 6000,<br>    \"alpha\": 4.493227815394891<br>  }<br>}",
          "{<br>  \"number\": 78,<br>  \"values\": [<br>    0.9039996062043645,<br>    0.90425<br>  ],<br>  \"params\": {<br>    \"model\": \"Ridge\",<br>    \"max_features\": 4000,<br>    \"alpha\": 1.2225807215088695<br>  }<br>}",
          "{<br>  \"number\": 79,<br>  \"values\": [<br>    0.8705310962373569,<br>    0.8714166666666666<br>  ],<br>  \"params\": {<br>    \"model\": \"LogisticRegression\",<br>    \"max_features\": 5000,<br>    \"C\": 0.00603785061843731<br>  }<br>}",
          "{<br>  \"number\": 80,<br>  \"values\": [<br>    0.8593892036723181,<br>    0.8605416666666666<br>  ],<br>  \"params\": {<br>    \"model\": \"LogisticRegression\",<br>    \"max_features\": 4000,<br>    \"C\": 0.0024014740406495287<br>  }<br>}",
          "{<br>  \"number\": 81,<br>  \"values\": [<br>    0.7310943505102246,<br>    0.7335<br>  ],<br>  \"params\": {<br>    \"model\": \"SGD\",<br>    \"max_features\": 4000,<br>    \"penalty\": \"l1\",<br>    \"alpha\": 0.001137350875384045<br>  }<br>}",
          "{<br>  \"number\": 82,<br>  \"values\": [<br>    0.9088520180263809,<br>    0.9090833333333334<br>  ],<br>  \"params\": {<br>    \"model\": \"LogisticRegression\",<br>    \"max_features\": 9000,<br>    \"C\": 0.27181789678369955<br>  }<br>}",
          "{<br>  \"number\": 83,<br>  \"values\": [<br>    0.9091651420824963,<br>    0.9094583333333334<br>  ],<br>  \"params\": {<br>    \"model\": \"Ridge\",<br>    \"max_features\": 6000,<br>    \"alpha\": 9.387231034174347<br>  }<br>}",
          "{<br>  \"number\": 84,<br>  \"values\": [<br>    0.9136838129624734,<br>    0.913875<br>  ],<br>  \"params\": {<br>    \"model\": \"Ridge\",<br>    \"max_features\": 9000,<br>    \"alpha\": 0.5728817151904895<br>  }<br>}",
          "{<br>  \"number\": 85,<br>  \"values\": [<br>    0.883509963233325,<br>    0.8841666666666667<br>  ],<br>  \"params\": {<br>    \"model\": \"LogisticRegression\",<br>    \"max_features\": 8000,<br>    \"C\": 0.01619577704145852<br>  }<br>}",
          "{<br>  \"number\": 86,<br>  \"values\": [<br>    0.37304155816711454,<br>    0.406625<br>  ],<br>  \"params\": {<br>    \"model\": \"SGD\",<br>    \"max_features\": 10000,<br>    \"penalty\": \"l1\",<br>    \"alpha\": 0.0029492638349647125<br>  }<br>}",
          "{<br>  \"number\": 87,<br>  \"values\": [<br>    0.9140823862097821,<br>    0.91425<br>  ],<br>  \"params\": {<br>    \"model\": \"Ridge\",<br>    \"max_features\": 10000,<br>    \"alpha\": 0.18182857612637413<br>  }<br>}",
          "{<br>  \"number\": 88,<br>  \"values\": [<br>    0.8643419737812564,<br>    0.8648333333333333<br>  ],<br>  \"params\": {<br>    \"model\": \"Ridge\",<br>    \"max_features\": 1000,<br>    \"alpha\": 1.9303290233000867<br>  }<br>}",
          "{<br>  \"number\": 89,<br>  \"values\": [<br>    0.8893205455128131,<br>    0.8896666666666667<br>  ],<br>  \"params\": {<br>    \"model\": \"Ridge\",<br>    \"max_features\": 2000,<br>    \"alpha\": 1.3270346189149915<br>  }<br>}",
          "{<br>  \"number\": 90,<br>  \"values\": [<br>    0.8795236537294371,<br>    0.880125<br>  ],<br>  \"params\": {<br>    \"model\": \"SGD\",<br>    \"max_features\": 3000,<br>    \"penalty\": \"l2\",<br>    \"alpha\": 0.0004390420609865311<br>  }<br>}",
          "{<br>  \"number\": 91,<br>  \"values\": [<br>    0.9128056728400342,<br>    0.9130833333333334<br>  ],<br>  \"params\": {<br>    \"model\": \"Ridge\",<br>    \"max_features\": 9000,<br>    \"alpha\": 8.278980820987266<br>  }<br>}",
          "{<br>  \"number\": 92,<br>  \"values\": [<br>    0.8976220235445704,<br>    0.8979583333333333<br>  ],<br>  \"params\": {<br>    \"model\": \"LogisticRegression\",<br>    \"max_features\": 5000,<br>    \"C\": 0.06169383405607085<br>  }<br>}",
          "{<br>  \"number\": 93,<br>  \"values\": [<br>    0.904381918193695,<br>    0.9046666666666666<br>  ],<br>  \"params\": {<br>    \"model\": \"Ridge\",<br>    \"max_features\": 4000,<br>    \"alpha\": 5.494860492230902<br>  }<br>}",
          "{<br>  \"number\": 94,<br>  \"values\": [<br>    0.913963976475426,<br>    0.9142083333333333<br>  ],<br>  \"params\": {<br>    \"model\": \"Ridge\",<br>    \"max_features\": 9000,<br>    \"alpha\": 3.5862287285745866<br>  }<br>}",
          "{<br>  \"number\": 95,<br>  \"values\": [<br>    0.8859033740909048,<br>    0.8862916666666667<br>  ],<br>  \"params\": {<br>    \"model\": \"SGD\",<br>    \"max_features\": 5000,<br>    \"penalty\": \"l1\",<br>    \"alpha\": 7.03956201900289e-05<br>  }<br>}",
          "{<br>  \"number\": 96,<br>  \"values\": [<br>    0.8990208560958712,<br>    0.8993333333333333<br>  ],<br>  \"params\": {<br>    \"model\": \"Ridge\",<br>    \"max_features\": 3000,<br>    \"alpha\": 0.16416674728975292<br>  }<br>}",
          "{<br>  \"number\": 97,<br>  \"values\": [<br>    0.898085048577343,<br>    0.89825<br>  ],<br>  \"params\": {<br>    \"model\": \"LogisticRegression\",<br>    \"max_features\": 3000,<br>    \"C\": 9.477706732074779<br>  }<br>}",
          "{<br>  \"number\": 98,<br>  \"values\": [<br>    0.9144169149222698,<br>    0.9145833333333333<br>  ],<br>  \"params\": {<br>    \"model\": \"Ridge\",<br>    \"max_features\": 10000,<br>    \"alpha\": 0.6323753161169161<br>  }<br>}",
          "{<br>  \"number\": 99,<br>  \"values\": [<br>    0.8709234242137538,<br>    0.8716666666666667<br>  ],<br>  \"params\": {<br>    \"model\": \"LogisticRegression\",<br>    \"max_features\": 3000,<br>    \"C\": 0.007417331779739216<br>  }<br>}",
          "{<br>  \"number\": 100,<br>  \"values\": [<br>    0.9100929864000217,<br>    0.9102916666666667<br>  ],<br>  \"params\": {<br>    \"model\": \"Ridge\",<br>    \"max_features\": 7000,<br>    \"alpha\": 0.6241443447581504<br>  }<br>}",
          "{<br>  \"number\": 101,<br>  \"values\": [<br>    0.9094414244165594,<br>    0.909625<br>  ],<br>  \"params\": {<br>    \"model\": \"Ridge\",<br>    \"max_features\": 7000,<br>    \"alpha\": 0.14003390585594166<br>  }<br>}",
          "{<br>  \"number\": 102,<br>  \"values\": [<br>    0.9040777561642284,<br>    0.9043333333333333<br>  ],<br>  \"params\": {<br>    \"model\": \"Ridge\",<br>    \"max_features\": 4000,<br>    \"alpha\": 1.4920039293783682<br>  }<br>}",
          "{<br>  \"number\": 103,<br>  \"values\": [<br>    0.9091280406226125,<br>    0.9094166666666667<br>  ],<br>  \"params\": {<br>    \"model\": \"Ridge\",<br>    \"max_features\": 6000,<br>    \"alpha\": 8.932089649537875<br>  }<br>}",
          "{<br>  \"number\": 104,<br>  \"values\": [<br>    0.9021519570058453,<br>    0.9023333333333333<br>  ],<br>  \"params\": {<br>    \"model\": \"LogisticRegression\",<br>    \"max_features\": 3000,<br>    \"C\": 0.5404206608166243<br>  }<br>}",
          "{<br>  \"number\": 105,<br>  \"values\": [<br>    0.8643398538121865,<br>    0.8648333333333333<br>  ],<br>  \"params\": {<br>    \"model\": \"Ridge\",<br>    \"max_features\": 1000,<br>    \"alpha\": 1.3523039998078628<br>  }<br>}",
          "{<br>  \"number\": 107,<br>  \"values\": [<br>    0.907723856289487,<br>    0.907875<br>  ],<br>  \"params\": {<br>    \"model\": \"LogisticRegression\",<br>    \"max_features\": 9000,<br>    \"C\": 9.11278937235237<br>  }<br>}",
          "{<br>  \"number\": 108,<br>  \"values\": [<br>    0.9048360566896603,<br>    0.9050833333333334<br>  ],<br>  \"params\": {<br>    \"model\": \"LogisticRegression\",<br>    \"max_features\": 6000,<br>    \"C\": 0.14408033327293404<br>  }<br>}",
          "{<br>  \"number\": 109,<br>  \"values\": [<br>    0.8904039616719941,<br>    0.8909166666666667<br>  ],<br>  \"params\": {<br>    \"model\": \"SGD\",<br>    \"max_features\": 5000,<br>    \"penalty\": \"l2\",<br>    \"alpha\": 0.00021474054158421256<br>  }<br>}",
          "{<br>  \"number\": 110,<br>  \"values\": [<br>    0.9110287736636982,<br>    0.91125<br>  ],<br>  \"params\": {<br>    \"model\": \"Ridge\",<br>    \"max_features\": 7000,<br>    \"alpha\": 2.0623106661427464<br>  }<br>}",
          "{<br>  \"number\": 111,<br>  \"values\": [<br>    0.9132962934460294,<br>    0.9134583333333334<br>  ],<br>  \"params\": {<br>    \"model\": \"LogisticRegression\",<br>    \"max_features\": 9000,<br>    \"C\": 0.8300925710006033<br>  }<br>}",
          "{<br>  \"number\": 112,<br>  \"values\": [<br>    0.906205722976919,<br>    0.9064166666666666<br>  ],<br>  \"params\": {<br>    \"model\": \"SGD\",<br>    \"max_features\": 4000,<br>    \"penalty\": \"l1\",<br>    \"alpha\": 1.1086895921450716e-05<br>  }<br>}",
          "{<br>  \"number\": 113,<br>  \"values\": [<br>    0.9094845263232996,<br>    0.9096666666666666<br>  ],<br>  \"params\": {<br>    \"model\": \"Ridge\",<br>    \"max_features\": 7000,<br>    \"alpha\": 0.15565797114450203<br>  }<br>}",
          "{<br>  \"number\": 114,<br>  \"values\": [<br>    0.9130378431992983,<br>    0.91325<br>  ],<br>  \"params\": {<br>    \"model\": \"Ridge\",<br>    \"max_features\": 8000,<br>    \"alpha\": 1.9667570122596523<br>  }<br>}",
          "{<br>  \"number\": 115,<br>  \"values\": [<br>    0.8895147717421621,<br>    0.889875<br>  ],<br>  \"params\": {<br>    \"model\": \"Ridge\",<br>    \"max_features\": 2000,<br>    \"alpha\": 5.298392914845786<br>  }<br>}",
          "{<br>  \"number\": 116,<br>  \"values\": [<br>    0.8985352051475565,<br>    0.89875<br>  ],<br>  \"params\": {<br>    \"model\": \"LogisticRegression\",<br>    \"max_features\": 3000,<br>    \"C\": 0.15293797399953576<br>  }<br>}",
          "{<br>  \"number\": 117,<br>  \"values\": [<br>    0.9106082552973633,<br>    0.910875<br>  ],<br>  \"params\": {<br>    \"model\": \"Ridge\",<br>    \"max_features\": 7000,<br>    \"alpha\": 7.014971602514855<br>  }<br>}",
          "{<br>  \"number\": 118,<br>  \"values\": [<br>    0.9143755366257591,<br>    0.9145416666666667<br>  ],<br>  \"params\": {<br>    \"model\": \"Ridge\",<br>    \"max_features\": 10000,<br>    \"alpha\": 0.9205615175582857<br>  }<br>}",
          "{<br>  \"number\": 119,<br>  \"values\": [<br>    0.9126213010286848,<br>    0.912875<br>  ],<br>  \"params\": {<br>    \"model\": \"Ridge\",<br>    \"max_features\": 8000,<br>    \"alpha\": 3.940826699233236<br>  }<br>}",
          "{<br>  \"number\": 120,<br>  \"values\": [<br>    0.8990209991514109,<br>    0.8993333333333333<br>  ],<br>  \"params\": {<br>    \"model\": \"Ridge\",<br>    \"max_features\": 3000,<br>    \"alpha\": 0.12534244914487358<br>  }<br>}",
          "{<br>  \"number\": 121,<br>  \"values\": [<br>    0.8925278146639052,<br>    0.8929583333333333<br>  ],<br>  \"params\": {<br>    \"model\": \"LogisticRegression\",<br>    \"max_features\": 5000,<br>    \"C\": 0.034500936506586644<br>  }<br>}",
          "{<br>  \"number\": 122,<br>  \"values\": [<br>    0.9074845560567293,<br>    0.90775<br>  ],<br>  \"params\": {<br>    \"model\": \"Ridge\",<br>    \"max_features\": 5000,<br>    \"alpha\": 2.1698239264699777<br>  }<br>}",
          "{<br>  \"number\": 123,<br>  \"values\": [<br>    0.9078279281081285,<br>    0.908<br>  ],<br>  \"params\": {<br>    \"model\": \"LogisticRegression\",<br>    \"max_features\": 5000,<br>    \"C\": 3.247839084695035<br>  }<br>}",
          "{<br>  \"number\": 124,<br>  \"values\": [<br>    0.8817451652778426,<br>    0.8824583333333333<br>  ],<br>  \"params\": {<br>    \"model\": \"LogisticRegression\",<br>    \"max_features\": 10000,<br>    \"C\": 0.014656404221590447<br>  }<br>}",
          "{<br>  \"number\": 125,<br>  \"values\": [<br>    0.9142613777715499,<br>    0.9145<br>  ],<br>  \"params\": {<br>    \"model\": \"Ridge\",<br>    \"max_features\": 10000,<br>    \"alpha\": 4.417136887775136<br>  }<br>}",
          "{<br>  \"number\": 126,<br>  \"values\": [<br>    0.9069973266521689,<br>    0.90725<br>  ],<br>  \"params\": {<br>    \"model\": \"Ridge\",<br>    \"max_features\": 5000,<br>    \"alpha\": 1.2958261715501598<br>  }<br>}",
          "{<br>  \"number\": 127,<br>  \"values\": [<br>    0.8636485256931385,<br>    0.864625<br>  ],<br>  \"params\": {<br>    \"model\": \"SGD\",<br>    \"max_features\": 3000,<br>    \"penalty\": \"l2\",<br>    \"alpha\": 0.0018523269070506616<br>  }<br>}",
          "{<br>  \"number\": 128,<br>  \"values\": [<br>    0.8552937516835168,<br>    0.8566666666666667<br>  ],<br>  \"params\": {<br>    \"model\": \"LogisticRegression\",<br>    \"max_features\": 9000,<br>    \"C\": 0.001450315755804051<br>  }<br>}",
          "{<br>  \"number\": 129,<br>  \"values\": [<br>    0.1,<br>    0.25<br>  ],<br>  \"params\": {<br>    \"model\": \"SGD\",<br>    \"max_features\": 6000,<br>    \"penalty\": \"l1\",<br>    \"alpha\": 0.008232611479606914<br>  }<br>}",
          "{<br>  \"number\": 130,<br>  \"values\": [<br>    0.910756769108165,<br>    0.910875<br>  ],<br>  \"params\": {<br>    \"model\": \"LogisticRegression\",<br>    \"max_features\": 8000,<br>    \"C\": 4.828455573599918<br>  }<br>}",
          "{<br>  \"number\": 131,<br>  \"values\": [<br>    0.9122567719899696,<br>    0.9124583333333334<br>  ],<br>  \"params\": {<br>    \"model\": \"Ridge\",<br>    \"max_features\": 8000,<br>    \"alpha\": 0.6105545404132758<br>  }<br>}",
          "{<br>  \"number\": 132,<br>  \"values\": [<br>    0.8699647271832002,<br>    0.8709583333333333<br>  ],<br>  \"params\": {<br>    \"model\": \"SGD\",<br>    \"max_features\": 7000,<br>    \"penalty\": \"l2\",<br>    \"alpha\": 0.0012360809106376548<br>  }<br>}",
          "{<br>  \"number\": 133,<br>  \"values\": [<br>    0.8943197636639246,<br>    0.8946666666666667<br>  ],<br>  \"params\": {<br>    \"model\": \"SGD\",<br>    \"max_features\": 10000,<br>    \"penalty\": \"l1\",<br>    \"alpha\": 4.02324582500057e-05<br>  }<br>}",
          "{<br>  \"number\": 134,<br>  \"values\": [<br>    0.9035005153190852,<br>    0.90375<br>  ],<br>  \"params\": {<br>    \"model\": \"Ridge\",<br>    \"max_features\": 4000,<br>    \"alpha\": 0.17935686793814404<br>  }<br>}",
          "{<br>  \"number\": 135,<br>  \"values\": [<br>    0.9119771938778913,<br>    0.9121666666666667<br>  ],<br>  \"params\": {<br>    \"model\": \"Ridge\",<br>    \"max_features\": 8000,<br>    \"alpha\": 0.38569241835511847<br>  }<br>}",
          "{<br>  \"number\": 136,<br>  \"values\": [<br>    0.9128727080431136,<br>    0.9130833333333334<br>  ],<br>  \"params\": {<br>    \"model\": \"Ridge\",<br>    \"max_features\": 8000,<br>    \"alpha\": 1.2897717445763108<br>  }<br>}",
          "{<br>  \"number\": 137,<br>  \"values\": [<br>    0.8988679125652691,<br>    0.8992916666666667<br>  ],<br>  \"params\": {<br>    \"model\": \"SGD\",<br>    \"max_features\": 8000,<br>    \"penalty\": \"l2\",<br>    \"alpha\": 0.00011312174302171438<br>  }<br>}",
          "{<br>  \"number\": 138,<br>  \"values\": [<br>    0.8630427256326174,<br>    0.8641666666666666<br>  ],<br>  \"params\": {<br>    \"model\": \"LogisticRegression\",<br>    \"max_features\": 6000,<br>    \"C\": 0.0032948566634948837<br>  }<br>}",
          "{<br>  \"number\": 139,<br>  \"values\": [<br>    0.905417503433431,<br>    0.9055416666666667<br>  ],<br>  \"params\": {<br>    \"model\": \"LogisticRegression\",<br>    \"max_features\": 4000,<br>    \"C\": 1.832680441811492<br>  }<br>}",
          "{<br>  \"number\": 140,<br>  \"values\": [<br>    0.903580587247885,<br>    0.9038333333333334<br>  ],<br>  \"params\": {<br>    \"model\": \"Ridge\",<br>    \"max_features\": 4000,<br>    \"alpha\": 0.12604215614147266<br>  }<br>}",
          "{<br>  \"number\": 141,<br>  \"values\": [<br>    0.9071846844078625,<br>    0.9074583333333334<br>  ],<br>  \"params\": {<br>    \"model\": \"Ridge\",<br>    \"max_features\": 5000,<br>    \"alpha\": 3.7502541550377226<br>  }<br>}",
          "{<br>  \"number\": 142,<br>  \"values\": [<br>    0.9034580231016109,<br>    0.9037083333333333<br>  ],<br>  \"params\": {<br>    \"model\": \"Ridge\",<br>    \"max_features\": 4000,<br>    \"alpha\": 0.35606765844463123<br>  }<br>}",
          "{<br>  \"number\": 143,<br>  \"values\": [<br>    0.8708844351253404,<br>    0.8717916666666666<br>  ],<br>  \"params\": {<br>    \"model\": \"SGD\",<br>    \"max_features\": 5000,<br>    \"penalty\": \"l2\",<br>    \"alpha\": 0.0011215718667857335<br>  }<br>}",
          "{<br>  \"number\": 144,<br>  \"values\": [<br>    0.8961872721365836,<br>    0.8966666666666666<br>  ],<br>  \"params\": {<br>    \"model\": \"SGD\",<br>    \"max_features\": 9000,<br>    \"penalty\": \"l2\",<br>    \"alpha\": 0.00015738956020782587<br>  }<br>}",
          "{<br>  \"number\": 145,<br>  \"values\": [<br>    0.8999895927561756,<br>    0.9003333333333333<br>  ],<br>  \"params\": {<br>    \"model\": \"SGD\",<br>    \"max_features\": 5000,<br>    \"penalty\": \"l2\",<br>    \"alpha\": 7.69575984218624e-05<br>  }<br>}",
          "{<br>  \"number\": 146,<br>  \"values\": [<br>    0.853458601136395,<br>    0.854875<br>  ],<br>  \"params\": {<br>    \"model\": \"LogisticRegression\",<br>    \"max_features\": 8000,<br>    \"C\": 0.0010821719945955104<br>  }<br>}",
          "{<br>  \"number\": 147,<br>  \"values\": [<br>    0.8680630585657241,<br>    0.8690833333333333<br>  ],<br>  \"params\": {<br>    \"model\": \"LogisticRegression\",<br>    \"max_features\": 10000,<br>    \"C\": 0.0054718757820795<br>  }<br>}",
          "{<br>  \"number\": 148,<br>  \"values\": [<br>    0.8989399699425172,<br>    0.89925<br>  ],<br>  \"params\": {<br>    \"model\": \"Ridge\",<br>    \"max_features\": 3000,<br>    \"alpha\": 0.4069787935252687<br>  }<br>}",
          "{<br>  \"number\": 149,<br>  \"values\": [<br>    0.9140106594861968,<br>    0.9142083333333333<br>  ],<br>  \"params\": {<br>    \"model\": \"Ridge\",<br>    \"max_features\": 9000,<br>    \"alpha\": 0.9638336522933071<br>  }<br>}",
          "{<br>  \"number\": 150,<br>  \"values\": [<br>    0.914544423162252,<br>    0.9147083333333333<br>  ],<br>  \"params\": {<br>    \"model\": \"Ridge\",<br>    \"max_features\": 10000,<br>    \"alpha\": 0.7620931610022758<br>  }<br>}",
          "{<br>  \"number\": 151,<br>  \"values\": [<br>    0.8597733231060927,<br>    0.8605<br>  ],<br>  \"params\": {<br>    \"model\": \"SGD\",<br>    \"max_features\": 8000,<br>    \"penalty\": \"l1\",<br>    \"alpha\": 0.0001558473234203699<br>  }<br>}",
          "{<br>  \"number\": 152,<br>  \"values\": [<br>    0.8990623797532938,<br>    0.899375<br>  ],<br>  \"params\": {<br>    \"model\": \"Ridge\",<br>    \"max_features\": 3000,<br>    \"alpha\": 0.22725689833951546<br>  }<br>}",
          "{<br>  \"number\": 153,<br>  \"values\": [<br>    0.874550457039764,<br>    0.8752083333333334<br>  ],<br>  \"params\": {<br>    \"model\": \"LogisticRegression\",<br>    \"max_features\": 3000,<br>    \"C\": 0.01057362102532509<br>  }<br>}",
          "{<br>  \"number\": 154,<br>  \"values\": [<br>    0.9002963138441473,<br>    0.9005833333333333<br>  ],<br>  \"params\": {<br>    \"model\": \"LogisticRegression\",<br>    \"max_features\": 5000,<br>    \"C\": 0.09167979687364369<br>  }<br>}",
          "{<br>  \"number\": 155,<br>  \"values\": [<br>    0.8988499843924793,<br>    0.8991666666666667<br>  ],<br>  \"params\": {<br>    \"model\": \"Ridge\",<br>    \"max_features\": 3000,<br>    \"alpha\": 1.1123942497945212<br>  }<br>}",
          "{<br>  \"number\": 156,<br>  \"values\": [<br>    0.9129129480138323,<br>    0.913125<br>  ],<br>  \"params\": {<br>    \"model\": \"Ridge\",<br>    \"max_features\": 8000,<br>    \"alpha\": 1.9048951497842836<br>  }<br>}",
          "{<br>  \"number\": 157,<br>  \"values\": [<br>    0.9145951264541785,<br>    0.91475<br>  ],<br>  \"params\": {<br>    \"model\": \"LogisticRegression\",<br>    \"max_features\": 9000,<br>    \"C\": 1.1952471768409294<br>  }<br>}",
          "{<br>  \"number\": 158,<br>  \"values\": [<br>    0.8936908348133805,<br>    0.8941666666666667<br>  ],<br>  \"params\": {<br>    \"model\": \"LogisticRegression\",<br>    \"max_features\": 10000,<br>    \"C\": 0.03567004948567095<br>  }<br>}",
          "{<br>  \"number\": 159,<br>  \"values\": [<br>    0.9001422495799765,<br>    0.9002916666666667<br>  ],<br>  \"params\": {<br>    \"model\": \"LogisticRegression\",<br>    \"max_features\": 3000,<br>    \"C\": 4.745040800039061<br>  }<br>}",
          "{<br>  \"number\": 160,<br>  \"values\": [<br>    0.9035016607001478,<br>    0.90375<br>  ],<br>  \"params\": {<br>    \"model\": \"Ridge\",<br>    \"max_features\": 4000,<br>    \"alpha\": 0.1866092685136276<br>  }<br>}",
          "{<br>  \"number\": 161,<br>  \"values\": [<br>    0.910778100027773,<br>    0.9110416666666666<br>  ],<br>  \"params\": {<br>    \"model\": \"Ridge\",<br>    \"max_features\": 7000,<br>    \"alpha\": 6.1845192870975<br>  }<br>}",
          "{<br>  \"number\": 162,<br>  \"values\": [<br>    0.9116443892015824,<br>    0.9117916666666667<br>  ],<br>  \"params\": {<br>    \"model\": \"LogisticRegression\",<br>    \"max_features\": 10000,<br>    \"C\": 4.565258233454487<br>  }<br>}",
          "{<br>  \"number\": 163,<br>  \"values\": [<br>    0.9061835465449132,<br>    0.9063333333333333<br>  ],<br>  \"params\": {<br>    \"model\": \"LogisticRegression\",<br>    \"max_features\": 6000,<br>    \"C\": 6.353452406336623<br>  }<br>}",
          "{<br>  \"number\": 164,<br>  \"values\": [<br>    0.9092709772497177,<br>    0.9094166666666667<br>  ],<br>  \"params\": {<br>    \"model\": \"LogisticRegression\",<br>    \"max_features\": 9000,<br>    \"C\": 7.189615642573806<br>  }<br>}",
          "{<br>  \"number\": 165,<br>  \"values\": [<br>    0.8578166941707478,<br>    0.8590416666666667<br>  ],<br>  \"params\": {<br>    \"model\": \"LogisticRegression\",<br>    \"max_features\": 5000,<br>    \"C\": 0.0019006520381104428<br>  }<br>}",
          "{<br>  \"number\": 166,<br>  \"values\": [<br>    0.9093984701789557,<br>    0.9095833333333333<br>  ],<br>  \"params\": {<br>    \"model\": \"Ridge\",<br>    \"max_features\": 7000,<br>    \"alpha\": 0.12411990813023058<br>  }<br>}",
          "{<br>  \"number\": 167,<br>  \"values\": [<br>    0.9146606949455622,<br>    0.9148333333333334<br>  ],<br>  \"params\": {<br>    \"model\": \"Ridge\",<br>    \"max_features\": 10000,<br>    \"alpha\": 1.4204214524493821<br>  }<br>}",
          "{<br>  \"number\": 168,<br>  \"values\": [<br>    0.9093984701789557,<br>    0.9095833333333333<br>  ],<br>  \"params\": {<br>    \"model\": \"Ridge\",<br>    \"max_features\": 7000,<br>    \"alpha\": 0.12058056582737917<br>  }<br>}",
          "{<br>  \"number\": 169,<br>  \"values\": [<br>    0.914285611851121,<br>    0.9144583333333334<br>  ],<br>  \"params\": {<br>    \"model\": \"Ridge\",<br>    \"max_features\": 10000,<br>    \"alpha\": 0.31128350383999775<br>  }<br>}",
          "{<br>  \"number\": 170,<br>  \"values\": [<br>    0.8699609517611004,<br>    0.8702916666666667<br>  ],<br>  \"params\": {<br>    \"model\": \"SGD\",<br>    \"max_features\": 1000,<br>    \"penalty\": \"l1\",<br>    \"alpha\": 4.6449036004485196e-05<br>  }<br>}",
          "{<br>  \"number\": 171,<br>  \"values\": [<br>    0.9123319973812856,<br>    0.912625<br>  ],<br>  \"params\": {<br>    \"model\": \"Ridge\",<br>    \"max_features\": 10000,<br>    \"alpha\": 9.533184020089967<br>  }<br>}",
          "{<br>  \"number\": 172,<br>  \"values\": [<br>    0.8555995715860931,<br>    0.8569583333333334<br>  ],<br>  \"params\": {<br>    \"model\": \"LogisticRegression\",<br>    \"max_features\": 7000,<br>    \"C\": 0.0013554604495710908<br>  }<br>}",
          "{<br>  \"number\": 173,<br>  \"values\": [<br>    0.9141213176729763,<br>    0.9143333333333333<br>  ],<br>  \"params\": {<br>    \"model\": \"Ridge\",<br>    \"max_features\": 9000,<br>    \"alpha\": 1.6844903021032764<br>  }<br>}",
          "{<br>  \"number\": 174,<br>  \"values\": [<br>    0.8729961015135823,<br>    0.873875<br>  ],<br>  \"params\": {<br>    \"model\": \"LogisticRegression\",<br>    \"max_features\": 7000,<br>    \"C\": 0.007492737471831954<br>  }<br>}",
          "{<br>  \"number\": 175,<br>  \"values\": [<br>    0.9093172680360617,<br>    0.9094583333333334<br>  ],<br>  \"params\": {<br>    \"model\": \"LogisticRegression\",<br>    \"max_features\": 10000,<br>    \"C\": 7.219883533348118<br>  }<br>}",
          "{<br>  \"number\": 176,<br>  \"values\": [<br>    0.7706171559847774,<br>    0.7724166666666666<br>  ],<br>  \"params\": {<br>    \"model\": \"SGD\",<br>    \"max_features\": 8000,<br>    \"penalty\": \"l1\",<br>    \"alpha\": 0.0007041142462047824<br>  }<br>}",
          "{<br>  \"number\": 177,<br>  \"values\": [<br>    0.912071815443349,<br>    0.91225<br>  ],<br>  \"params\": {<br>    \"model\": \"LogisticRegression\",<br>    \"max_features\": 8000,<br>    \"C\": 0.6606573487066418<br>  }<br>}",
          "{<br>  \"number\": 178,<br>  \"values\": [<br>    0.6131977229019583,<br>    0.616875<br>  ],<br>  \"params\": {<br>    \"model\": \"SGD\",<br>    \"max_features\": 3000,<br>    \"penalty\": \"l1\",<br>    \"alpha\": 0.0019133339441338435<br>  }<br>}",
          "{<br>  \"number\": 179,<br>  \"values\": [<br>    0.9136984561942374,<br>    0.9139583333333333<br>  ],<br>  \"params\": {<br>    \"model\": \"Ridge\",<br>    \"max_features\": 10000,<br>    \"alpha\": 6.422642809119916<br>  }<br>}",
          "{<br>  \"number\": 180,<br>  \"values\": [<br>    0.9133525785018907,<br>    0.9135416666666667<br>  ],<br>  \"params\": {<br>    \"model\": \"Ridge\",<br>    \"max_features\": 9000,<br>    \"alpha\": 0.15415515884484918<br>  }<br>}",
          "{<br>  \"number\": 181,<br>  \"values\": [<br>    0.908762318716154,<br>    0.9089166666666667<br>  ],<br>  \"params\": {<br>    \"model\": \"LogisticRegression\",<br>    \"max_features\": 6000,<br>    \"C\": 3.8411010771225143<br>  }<br>}",
          "{<br>  \"number\": 182,<br>  \"values\": [<br>    0.9117289156604289,<br>    0.9119166666666667<br>  ],<br>  \"params\": {<br>    \"model\": \"Ridge\",<br>    \"max_features\": 8000,<br>    \"alpha\": 0.23580052957684133<br>  }<br>}",
          "{<br>  \"number\": 183,<br>  \"values\": [<br>    0.9129109153877908,<br>    0.913125<br>  ],<br>  \"params\": {<br>    \"model\": \"Ridge\",<br>    \"max_features\": 8000,<br>    \"alpha\": 1.7690450761151026<br>  }<br>}",
          "{<br>  \"number\": 184,<br>  \"values\": [<br>    0.8869140664740067,<br>    0.8875<br>  ],<br>  \"params\": {<br>    \"model\": \"LogisticRegression\",<br>    \"max_features\": 9000,<br>    \"C\": 0.021815934413877545<br>  }<br>}",
          "{<br>  \"number\": 185,<br>  \"values\": [<br>    0.8828951494905464,<br>    0.883625<br>  ],<br>  \"params\": {<br>    \"model\": \"SGD\",<br>    \"max_features\": 9000,<br>    \"penalty\": \"l2\",<br>    \"alpha\": 0.0004265918880310686<br>  }<br>}",
          "{<br>  \"number\": 186,<br>  \"values\": [<br>    0.9140711698838606,<br>    0.9142916666666666<br>  ],<br>  \"params\": {<br>    \"model\": \"Ridge\",<br>    \"max_features\": 9000,<br>    \"alpha\": 2.2015690522661213<br>  }<br>}",
          "{<br>  \"number\": 187,<br>  \"values\": [<br>    0.9094422111872176,<br>    0.909625<br>  ],<br>  \"params\": {<br>    \"model\": \"Ridge\",<br>    \"max_features\": 7000,<br>    \"alpha\": 0.2425722285272758<br>  }<br>}",
          "{<br>  \"number\": 188,<br>  \"values\": [<br>    0.9073397320048173,<br>    0.907625<br>  ],<br>  \"params\": {<br>    \"model\": \"Ridge\",<br>    \"max_features\": 5000,<br>    \"alpha\": 4.391227793249463<br>  }<br>}",
          "{<br>  \"number\": 189,<br>  \"values\": [<br>    0.9139632773020862,<br>    0.9141666666666667<br>  ],<br>  \"params\": {<br>    \"model\": \"Ridge\",<br>    \"max_features\": 9000,<br>    \"alpha\": 1.3969205612500455<br>  }<br>}",
          "{<br>  \"number\": 190,<br>  \"values\": [<br>    0.9104071092511759,<br>    0.910625<br>  ],<br>  \"params\": {<br>    \"model\": \"LogisticRegression\",<br>    \"max_features\": 9000,<br>    \"C\": 0.3548625863217219<br>  }<br>}",
          "{<br>  \"number\": 191,<br>  \"values\": [<br>    0.9126730563040576,<br>    0.912875<br>  ],<br>  \"params\": {<br>    \"model\": \"Ridge\",<br>    \"max_features\": 8000,<br>    \"alpha\": 0.6524489428216864<br>  }<br>}",
          "{<br>  \"number\": 192,<br>  \"values\": [<br>    0.9138320019940859,<br>    0.9140833333333334<br>  ],<br>  \"params\": {<br>    \"model\": \"Ridge\",<br>    \"max_features\": 10000,<br>    \"alpha\": 6.008120963359361<br>  }<br>}",
          "{<br>  \"number\": 193,<br>  \"values\": [<br>    0.9077067972067876,<br>    0.9079166666666667<br>  ],<br>  \"params\": {<br>    \"model\": \"Ridge\",<br>    \"max_features\": 6000,<br>    \"alpha\": 0.6459854391564389<br>  }<br>}",
          "{<br>  \"number\": 194,<br>  \"values\": [<br>    0.9053517298089735,<br>    0.9055833333333333<br>  ],<br>  \"params\": {<br>    \"model\": \"Ridge\",<br>    \"max_features\": 5000,<br>    \"alpha\": 0.4471988174982257<br>  }<br>}",
          "{<br>  \"number\": 195,<br>  \"values\": [<br>    0.8992663511889716,<br>    0.899625<br>  ],<br>  \"params\": {<br>    \"model\": \"LogisticRegression\",<br>    \"max_features\": 8000,<br>    \"C\": 0.05998244273013603<br>  }<br>}",
          "{<br>  \"number\": 196,<br>  \"values\": [<br>    0.9055668056260983,<br>    0.9057916666666667<br>  ],<br>  \"params\": {<br>    \"model\": \"Ridge\",<br>    \"max_features\": 5000,<br>    \"alpha\": 0.18820094756500746<br>  }<br>}",
          "{<br>  \"number\": 197,<br>  \"values\": [<br>    0.8989399699425172,<br>    0.89925<br>  ],<br>  \"params\": {<br>    \"model\": \"Ridge\",<br>    \"max_features\": 3000,<br>    \"alpha\": 0.4461128233504892<br>  }<br>}",
          "{<br>  \"number\": 198,<br>  \"values\": [<br>    0.9126375028033866,<br>    0.9129166666666667<br>  ],<br>  \"params\": {<br>    \"model\": \"Ridge\",<br>    \"max_features\": 9000,<br>    \"alpha\": 8.384261088569426<br>  }<br>}",
          "{<br>  \"number\": 199,<br>  \"values\": [<br>    0.9105654075435519,<br>    0.9108333333333334<br>  ],<br>  \"params\": {<br>    \"model\": \"Ridge\",<br>    \"max_features\": 7000,<br>    \"alpha\": 7.025092390571234<br>  }<br>}",
          "{<br>  \"number\": 200,<br>  \"values\": [<br>    0.9122891767721082,<br>    0.9125833333333333<br>  ],<br>  \"params\": {<br>    \"model\": \"Ridge\",<br>    \"max_features\": 10000,<br>    \"alpha\": 9.481804347591199<br>  }<br>}",
          "{<br>  \"number\": 201,<br>  \"values\": [<br>    0.9131479632245829,<br>    0.9134166666666667<br>  ],<br>  \"params\": {<br>    \"model\": \"Ridge\",<br>    \"max_features\": 10000,<br>    \"alpha\": 7.585587473786131<br>  }<br>}",
          "{<br>  \"number\": 202,<br>  \"values\": [<br>    0.9132255845802444,<br>    0.9134166666666667<br>  ],<br>  \"params\": {<br>    \"model\": \"Ridge\",<br>    \"max_features\": 9000,<br>    \"alpha\": 0.18138915898353142<br>  }<br>}",
          "{<br>  \"number\": 203,<br>  \"values\": [<br>    0.8565201376715881,<br>    0.8578333333333333<br>  ],<br>  \"params\": {<br>    \"model\": \"SGD\",<br>    \"max_features\": 7000,<br>    \"penalty\": \"l2\",<br>    \"alpha\": 0.005204835714898512<br>  }<br>}",
          "{<br>  \"number\": 204,<br>  \"values\": [<br>    0.8932829508818034,<br>    0.8934583333333334<br>  ],<br>  \"params\": {<br>    \"model\": \"LogisticRegression\",<br>    \"max_features\": 2000,<br>    \"C\": 0.3783988532758018<br>  }<br>}",
          "{<br>  \"number\": 205,<br>  \"values\": [<br>    0.914631243981937,<br>    0.9147916666666667<br>  ],<br>  \"params\": {<br>    \"model\": \"Ridge\",<br>    \"max_features\": 10000,<br>    \"alpha\": 0.8502755742081003<br>  }<br>}",
          "{<br>  \"number\": 206,<br>  \"values\": [<br>    0.9112244640671466,<br>    0.9114166666666667<br>  ],<br>  \"params\": {<br>    \"model\": \"LogisticRegression\",<br>    \"max_features\": 9000,<br>    \"C\": 0.4725725220887388<br>  }<br>}",
          "{<br>  \"number\": 207,<br>  \"values\": [<br>    0.9134251909450426,<br>    0.913625<br>  ],<br>  \"params\": {<br>    \"model\": \"Ridge\",<br>    \"max_features\": 9000,<br>    \"alpha\": 0.40220953232540146<br>  }<br>}",
          "{<br>  \"number\": 208,<br>  \"values\": [<br>    0.9077134775256244,<br>    0.9079166666666667<br>  ],<br>  \"params\": {<br>    \"model\": \"Ridge\",<br>    \"max_features\": 6000,<br>    \"alpha\": 0.5490047157998278<br>  }<br>}",
          "{<br>  \"number\": 209,<br>  \"values\": [<br>    0.9116024771472409,<br>    0.911875<br>  ],<br>  \"params\": {<br>    \"model\": \"Ridge\",<br>    \"max_features\": 8000,<br>    \"alpha\": 8.581592857264988<br>  }<br>}",
          "{<br>  \"number\": 210,<br>  \"values\": [<br>    0.9116024771472409,<br>    0.911875<br>  ],<br>  \"params\": {<br>    \"model\": \"Ridge\",<br>    \"max_features\": 8000,<br>    \"alpha\": 8.575367858141226<br>  }<br>}",
          "{<br>  \"number\": 211,<br>  \"values\": [<br>    0.9093984701789557,<br>    0.9095833333333333<br>  ],<br>  \"params\": {<br>    \"model\": \"Ridge\",<br>    \"max_features\": 7000,<br>    \"alpha\": 0.12189861289247818<br>  }<br>}",
          "{<br>  \"number\": 212,<br>  \"values\": [<br>    0.9142601914186614,<br>    0.9144583333333334<br>  ],<br>  \"params\": {<br>    \"model\": \"Ridge\",<br>    \"max_features\": 9000,<br>    \"alpha\": 1.050652961380097<br>  }<br>}",
          "{<br>  \"number\": 213,<br>  \"values\": [<br>    0.9053930931365003,<br>    0.905625<br>  ],<br>  \"params\": {<br>    \"model\": \"Ridge\",<br>    \"max_features\": 5000,<br>    \"alpha\": 0.4219595216801392<br>  }<br>}",
          "{<br>  \"number\": 214,<br>  \"values\": [<br>    0.9072025780381887,<br>    0.9074583333333334<br>  ],<br>  \"params\": {<br>    \"model\": \"Ridge\",<br>    \"max_features\": 5000,<br>    \"alpha\": 1.5255800842327443<br>  }<br>}",
          "{<br>  \"number\": 215,<br>  \"values\": [<br>    0.9135361466768608,<br>    0.9137916666666667<br>  ],<br>  \"params\": {<br>    \"model\": \"Ridge\",<br>    \"max_features\": 9000,<br>    \"alpha\": 5.483718861489633<br>  }<br>}",
          "{<br>  \"number\": 216,<br>  \"values\": [<br>    0.9112660377201786,<br>    0.9114583333333334<br>  ],<br>  \"params\": {<br>    \"model\": \"Ridge\",<br>    \"max_features\": 8000,<br>    \"alpha\": 0.11729322956846332<br>  }<br>}",
          "{<br>  \"number\": 217,<br>  \"values\": [<br>    0.8698735311501629,<br>    0.8708333333333333<br>  ],<br>  \"params\": {<br>    \"model\": \"LogisticRegression\",<br>    \"max_features\": 9000,<br>    \"C\": 0.00603213201966586<br>  }<br>}",
          "{<br>  \"number\": 218,<br>  \"values\": [<br>    0.910727626342783,<br>    0.9109166666666667<br>  ],<br>  \"params\": {<br>    \"model\": \"LogisticRegression\",<br>    \"max_features\": 7000,<br>    \"C\": 0.4974828567328502<br>  }<br>}",
          "{<br>  \"number\": 219,<br>  \"values\": [<br>    0.8892372698215122,<br>    0.8895833333333333<br>  ],<br>  \"params\": {<br>    \"model\": \"Ridge\",<br>    \"max_features\": 2000,<br>    \"alpha\": 0.6411051855783382<br>  }<br>}",
          "{<br>  \"number\": 220,<br>  \"values\": [<br>    0.8692575207211748,<br>    0.87025<br>  ],<br>  \"params\": {<br>    \"model\": \"LogisticRegression\",<br>    \"max_features\": 10000,<br>    \"C\": 0.005809347622801039<br>  }<br>}",
          "{<br>  \"number\": 221,<br>  \"values\": [<br>    0.8990207066580276,<br>    0.8993333333333333<br>  ],<br>  \"params\": {<br>    \"model\": \"Ridge\",<br>    \"max_features\": 3000,<br>    \"alpha\": 0.20851568775015628<br>  }<br>}",
          "{<br>  \"number\": 222,<br>  \"values\": [<br>    0.9133536205583739,<br>    0.9135416666666667<br>  ],<br>  \"params\": {<br>    \"model\": \"Ridge\",<br>    \"max_features\": 9000,<br>    \"alpha\": 0.13218435419234414<br>  }<br>}",
          "{<br>  \"number\": 223,<br>  \"values\": [<br>    0.9099432594666126,<br>    0.9101666666666667<br>  ],<br>  \"params\": {<br>    \"model\": \"SGD\",<br>    \"max_features\": 5000,<br>    \"penalty\": \"l2\",<br>    \"alpha\": 1.0302895678689749e-05<br>  }<br>}",
          "{<br>  \"number\": 224,<br>  \"values\": [<br>    0.9145853458614145,<br>    0.91475<br>  ],<br>  \"params\": {<br>    \"model\": \"Ridge\",<br>    \"max_features\": 10000,<br>    \"alpha\": 0.7329842449753833<br>  }<br>}",
          "{<br>  \"number\": 225,<br>  \"values\": [<br>    0.9125752836683202,<br>    0.9128333333333334<br>  ],<br>  \"params\": {<br>    \"model\": \"Ridge\",<br>    \"max_features\": 8000,<br>    \"alpha\": 4.637926842451299<br>  }<br>}",
          "{<br>  \"number\": 226,<br>  \"values\": [<br>    0.914181747422089,<br>    0.9144166666666667<br>  ],<br>  \"params\": {<br>    \"model\": \"Ridge\",<br>    \"max_features\": 10000,<br>    \"alpha\": 4.113350918587501<br>  }<br>}",
          "{<br>  \"number\": 227,<br>  \"values\": [<br>    0.9110059103411277,<br>    0.91125<br>  ],<br>  \"params\": {<br>    \"model\": \"Ridge\",<br>    \"max_features\": 7000,<br>    \"alpha\": 3.6658084028621176<br>  }<br>}",
          "{<br>  \"number\": 228,<br>  \"values\": [<br>    0.91357331109304,<br>    0.9138333333333334<br>  ],<br>  \"params\": {<br>    \"model\": \"Ridge\",<br>    \"max_features\": 10000,<br>    \"alpha\": 6.569120359880605<br>  }<br>}",
          "{<br>  \"number\": 229,<br>  \"values\": [<br>    0.9141138176188102,<br>    0.9143333333333333<br>  ],<br>  \"params\": {<br>    \"model\": \"Ridge\",<br>    \"max_features\": 10000,<br>    \"alpha\": 3.031443081255161<br>  }<br>}",
          "{<br>  \"number\": 230,<br>  \"values\": [<br>    0.9145147653463349,<br>    0.9146666666666666<br>  ],<br>  \"params\": {<br>    \"model\": \"LogisticRegression\",<br>    \"max_features\": 10000,<br>    \"C\": 2.128414980347416<br>  }<br>}",
          "{<br>  \"number\": 231,<br>  \"values\": [<br>    0.9133899080636737,<br>    0.9135833333333333<br>  ],<br>  \"params\": {<br>    \"model\": \"Ridge\",<br>    \"max_features\": 9000,<br>    \"alpha\": 0.26678291138863064<br>  }<br>}",
          "{<br>  \"number\": 232,<br>  \"values\": [<br>    0.9122137999854021,<br>    0.9124166666666667<br>  ],<br>  \"params\": {<br>    \"model\": \"Ridge\",<br>    \"max_features\": 8000,<br>    \"alpha\": 0.6070932879825403<br>  }<br>}",
          "{<br>  \"number\": 233,<br>  \"values\": [<br>    0.9141499592331773,<br>    0.914375<br>  ],<br>  \"params\": {<br>    \"model\": \"Ridge\",<br>    \"max_features\": 10000,<br>    \"alpha\": 3.3589934314308154<br>  }<br>}",
          "{<br>  \"number\": 234,<br>  \"values\": [<br>    0.9145015875012916,<br>    0.9146666666666666<br>  ],<br>  \"params\": {<br>    \"model\": \"Ridge\",<br>    \"max_features\": 10000,<br>    \"alpha\": 0.6915535806152536<br>  }<br>}",
          "{<br>  \"number\": 235,<br>  \"values\": [<br>    0.9137681413830812,<br>    0.9139583333333333<br>  ],<br>  \"params\": {<br>    \"model\": \"Ridge\",<br>    \"max_features\": 9000,<br>    \"alpha\": 0.574595236029042<br>  }<br>}",
          "{<br>  \"number\": 236,<br>  \"values\": [<br>    0.9134711945235833,<br>    0.9136666666666666<br>  ],<br>  \"params\": {<br>    \"model\": \"Ridge\",<br>    \"max_features\": 9000,<br>    \"alpha\": 0.4473360127812693<br>  }<br>}",
          "{<br>  \"number\": 237,<br>  \"values\": [<br>    0.907596658389115,<br>    0.9077916666666667<br>  ],<br>  \"params\": {<br>    \"model\": \"Ridge\",<br>    \"max_features\": 6000,<br>    \"alpha\": 0.44020710403886315<br>  }<br>}",
          "{<br>  \"number\": 238,<br>  \"values\": [<br>    0.9139250186628756,<br>    0.9141666666666667<br>  ],<br>  \"params\": {<br>    \"model\": \"Ridge\",<br>    \"max_features\": 10000,<br>    \"alpha\": 5.053573957946236<br>  }<br>}",
          "{<br>  \"number\": 239,<br>  \"values\": [<br>    0.9112234662678663,<br>    0.9114166666666667<br>  ],<br>  \"params\": {<br>    \"model\": \"LogisticRegression\",<br>    \"max_features\": 9000,<br>    \"C\": 0.46553997094256405<br>  }<br>}",
          "{<br>  \"number\": 240,<br>  \"values\": [<br>    0.8696722182936736,<br>    0.8699166666666667<br>  ],<br>  \"params\": {<br>    \"model\": \"LogisticRegression\",<br>    \"max_features\": 1000,<br>    \"C\": 0.180190104310991<br>  }<br>}",
          "{<br>  \"number\": 241,<br>  \"values\": [<br>    0.9052275080213364,<br>    0.9054583333333334<br>  ],<br>  \"params\": {<br>    \"model\": \"Ridge\",<br>    \"max_features\": 5000,<br>    \"alpha\": 0.37452354023674944<br>  }<br>}",
          "{<br>  \"number\": 242,<br>  \"values\": [<br>    0.9132691989101536,<br>    0.9134583333333334<br>  ],<br>  \"params\": {<br>    \"model\": \"Ridge\",<br>    \"max_features\": 9000,<br>    \"alpha\": 0.1373673839784362<br>  }<br>}",
          "{<br>  \"number\": 243,<br>  \"values\": [<br>    0.9094022154779883,<br>    0.9096666666666666<br>  ],<br>  \"params\": {<br>    \"model\": \"Ridge\",<br>    \"max_features\": 6000,<br>    \"alpha\": 4.935853453465941<br>  }<br>}",
          "{<br>  \"number\": 244,<br>  \"values\": [<br>    0.9073331381840332,<br>    0.9075833333333333<br>  ],<br>  \"params\": {<br>    \"model\": \"LogisticRegression\",<br>    \"max_features\": 8000,<br>    \"C\": 0.18572673247377006<br>  }<br>}",
          "{<br>  \"number\": 245,<br>  \"values\": [<br>    0.9135543937001622,<br>    0.91375<br>  ],<br>  \"params\": {<br>    \"model\": \"Ridge\",<br>    \"max_features\": 9000,<br>    \"alpha\": 0.4460789138064361<br>  }<br>}",
          "{<br>  \"number\": 246,<br>  \"values\": [<br>    0.914128234414484,<br>    0.9143333333333333<br>  ],<br>  \"params\": {<br>    \"model\": \"Ridge\",<br>    \"max_features\": 10000,<br>    \"alpha\": 2.6703628209382835<br>  }<br>}",
          "{<br>  \"number\": 247,<br>  \"values\": [<br>    0.8326370816673004,<br>    0.8337083333333334<br>  ],<br>  \"params\": {<br>    \"model\": \"SGD\",<br>    \"max_features\": 7000,<br>    \"penalty\": \"l1\",<br>    \"alpha\": 0.0002886972645940084<br>  }<br>}",
          "{<br>  \"number\": 248,<br>  \"values\": [<br>    0.9035816427857861,<br>    0.9038333333333334<br>  ],<br>  \"params\": {<br>    \"model\": \"Ridge\",<br>    \"max_features\": 4000,<br>    \"alpha\": 0.7162681215425559<br>  }<br>}",
          "{<br>  \"number\": 249,<br>  \"values\": [<br>    0.9108130197193376,<br>    0.9110833333333334<br>  ],<br>  \"params\": {<br>    \"model\": \"Ridge\",<br>    \"max_features\": 7000,<br>    \"alpha\": 5.717468188471622<br>  }<br>}",
          "{<br>  \"number\": 250,<br>  \"values\": [<br>    0.9131798011919141,<br>    0.913375<br>  ],<br>  \"params\": {<br>    \"model\": \"Ridge\",<br>    \"max_features\": 8000,<br>    \"alpha\": 1.0160615673523246<br>  }<br>}",
          "{<br>  \"number\": 251,<br>  \"values\": [<br>    0.9141641324856797,<br>    0.9143333333333333<br>  ],<br>  \"params\": {<br>    \"model\": \"Ridge\",<br>    \"max_features\": 10000,<br>    \"alpha\": 0.5964213848831309<br>  }<br>}",
          "{<br>  \"number\": 252,<br>  \"values\": [<br>    0.911647798725653,<br>    0.9119166666666667<br>  ],<br>  \"params\": {<br>    \"model\": \"Ridge\",<br>    \"max_features\": 8000,<br>    \"alpha\": 7.702790667430024<br>  }<br>}",
          "{<br>  \"number\": 253,<br>  \"values\": [<br>    0.914061270133458,<br>    0.9142916666666666<br>  ],<br>  \"params\": {<br>    \"model\": \"Ridge\",<br>    \"max_features\": 10000,<br>    \"alpha\": 3.6604700514545194<br>  }<br>}",
          "{<br>  \"number\": 254,<br>  \"values\": [<br>    0.9139970757614585,<br>    0.9142083333333333<br>  ],<br>  \"params\": {<br>    \"model\": \"Ridge\",<br>    \"max_features\": 9000,<br>    \"alpha\": 1.839181200011721<br>  }<br>}",
          "{<br>  \"number\": 255,<br>  \"values\": [<br>    0.913929297017366,<br>    0.914125<br>  ],<br>  \"params\": {<br>    \"model\": \"Ridge\",<br>    \"max_features\": 9000,<br>    \"alpha\": 0.9561924730814776<br>  }<br>}",
          "{<br>  \"number\": 256,<br>  \"values\": [<br>    0.9092917211782627,<br>    0.9095833333333333<br>  ],<br>  \"params\": {<br>    \"model\": \"Ridge\",<br>    \"max_features\": 6000,<br>    \"alpha\": 8.652304646467908<br>  }<br>}",
          "{<br>  \"number\": 257,<br>  \"values\": [<br>    0.9143427024901627,<br>    0.9145416666666667<br>  ],<br>  \"params\": {<br>    \"model\": \"Ridge\",<br>    \"max_features\": 10000,<br>    \"alpha\": 2.112530614802939<br>  }<br>}",
          "{<br>  \"number\": 258,<br>  \"values\": [<br>    0.9139715711578615,<br>    0.9141666666666667<br>  ],<br>  \"params\": {<br>    \"model\": \"Ridge\",<br>    \"max_features\": 9000,<br>    \"alpha\": 0.9219260488058204<br>  }<br>}",
          "{<br>  \"number\": 259,<br>  \"values\": [<br>    0.8980464775894113,<br>    0.8984166666666666<br>  ],<br>  \"params\": {<br>    \"model\": \"LogisticRegression\",<br>    \"max_features\": 8000,<br>    \"C\": 0.05282705675039391<br>  }<br>}",
          "{<br>  \"number\": 260,<br>  \"values\": [<br>    0.9141790047783869,<br>    0.9144166666666667<br>  ],<br>  \"params\": {<br>    \"model\": \"Ridge\",<br>    \"max_features\": 10000,<br>    \"alpha\": 4.013714404666937<br>  }<br>}",
          "{<br>  \"number\": 261,<br>  \"values\": [<br>    0.8814543146784318,<br>    0.8821666666666667<br>  ],<br>  \"params\": {<br>    \"model\": \"LogisticRegression\",<br>    \"max_features\": 10000,<br>    \"C\": 0.014145667915832997<br>  }<br>}",
          "{<br>  \"number\": 262,<br>  \"values\": [<br>    0.9065880973878385,<br>    0.9068333333333334<br>  ],<br>  \"params\": {<br>    \"model\": \"Ridge\",<br>    \"max_features\": 5000,<br>    \"alpha\": 0.929191793916826<br>  }<br>}",
          "{<br>  \"number\": 263,<br>  \"values\": [<br>    0.8897534305938398,<br>    0.890125<br>  ],<br>  \"params\": {<br>    \"model\": \"Ridge\",<br>    \"max_features\": 2000,<br>    \"alpha\": 7.653738399759362<br>  }<br>}",
          "{<br>  \"number\": 264,<br>  \"values\": [<br>    0.9049618466337348,<br>    0.9052083333333333<br>  ],<br>  \"params\": {<br>    \"model\": \"LogisticRegression\",<br>    \"max_features\": 6000,<br>    \"C\": 0.14615807194906233<br>  }<br>}",
          "{<br>  \"number\": 265,<br>  \"values\": [<br>    0.8566233568903636,<br>    0.857625<br>  ],<br>  \"params\": {<br>    \"model\": \"LogisticRegression\",<br>    \"max_features\": 2000,<br>    \"C\": 0.0031378579896893916<br>  }<br>}",
          "{<br>  \"number\": 266,<br>  \"values\": [<br>    0.9142642406548931,<br>    0.9145<br>  ],<br>  \"params\": {<br>    \"model\": \"Ridge\",<br>    \"max_features\": 10000,<br>    \"alpha\": 4.361443603324068<br>  }<br>}",
          "{<br>  \"number\": 267,<br>  \"values\": [<br>    0.9119753213505475,<br>    0.9121666666666667<br>  ],<br>  \"params\": {<br>    \"model\": \"Ridge\",<br>    \"max_features\": 8000,<br>    \"alpha\": 0.49874831011866005<br>  }<br>}",
          "{<br>  \"number\": 268,<br>  \"values\": [<br>    0.9131799047207478,<br>    0.9133333333333333<br>  ],<br>  \"params\": {<br>    \"model\": \"LogisticRegression\",<br>    \"max_features\": 9000,<br>    \"C\": 3.1221914891100737<br>  }<br>}",
          "{<br>  \"number\": 269,<br>  \"values\": [<br>    0.8549505704062444,<br>    0.8563333333333333<br>  ],<br>  \"params\": {<br>    \"model\": \"LogisticRegression\",<br>    \"max_features\": 10000,<br>    \"C\": 0.001462222821318724<br>  }<br>}",
          "{<br>  \"number\": 270,<br>  \"values\": [<br>    0.9139650814349105,<br>    0.9142083333333333<br>  ],<br>  \"params\": {<br>    \"model\": \"Ridge\",<br>    \"max_features\": 10000,<br>    \"alpha\": 4.896091401947535<br>  }<br>}",
          "{<br>  \"number\": 271,<br>  \"values\": [<br>    0.9141332456456916,<br>    0.9143333333333333<br>  ],<br>  \"params\": {<br>    \"model\": \"Ridge\",<br>    \"max_features\": 9000,<br>    \"alpha\": 1.179501058866925<br>  }<br>}",
          "{<br>  \"number\": 272,<br>  \"values\": [<br>    0.8982255041796539,<br>    0.8985416666666667<br>  ],<br>  \"params\": {<br>    \"model\": \"SGD\",<br>    \"max_features\": 10000,<br>    \"penalty\": \"l1\",<br>    \"alpha\": 3.227604894577873e-05<br>  }<br>}",
          "{<br>  \"number\": 273,<br>  \"values\": [<br>    0.9135976477813993,<br>    0.9137916666666667<br>  ],<br>  \"params\": {<br>    \"model\": \"Ridge\",<br>    \"max_features\": 9000,<br>    \"alpha\": 0.5542044656027767<br>  }<br>}",
          "{<br>  \"number\": 274,<br>  \"values\": [<br>    0.9075923047292045,<br>    0.9077916666666667<br>  ],<br>  \"params\": {<br>    \"model\": \"Ridge\",<br>    \"max_features\": 6000,<br>    \"alpha\": 0.4940219332970933<br>  }<br>}",
          "{<br>  \"number\": 275,<br>  \"values\": [<br>    0.9142004298961175,<br>    0.9144166666666667<br>  ],<br>  \"params\": {<br>    \"model\": \"Ridge\",<br>    \"max_features\": 10000,<br>    \"alpha\": 2.885193412107675<br>  }<br>}",
          "{<br>  \"number\": 276,<br>  \"values\": [<br>    0.8730179123297013,<br>    0.8739166666666667<br>  ],<br>  \"params\": {<br>    \"model\": \"LogisticRegression\",<br>    \"max_features\": 9000,<br>    \"C\": 0.007847305967036181<br>  }<br>}",
          "{<br>  \"number\": 277,<br>  \"values\": [<br>    0.9074878300668671,<br>    0.90775<br>  ],<br>  \"params\": {<br>    \"model\": \"Ridge\",<br>    \"max_features\": 5000,<br>    \"alpha\": 2.024072189729386<br>  }<br>}",
          "{<br>  \"number\": 278,<br>  \"values\": [<br>    0.8921627050042915,<br>    0.8927083333333333<br>  ],<br>  \"params\": {<br>    \"model\": \"SGD\",<br>    \"max_features\": 9000,<br>    \"penalty\": \"l2\",<br>    \"alpha\": 0.0002107366500239202<br>  }<br>}",
          "{<br>  \"number\": 279,<br>  \"values\": [<br>    0.9100829655518832,<br>    0.9102083333333333<br>  ],<br>  \"params\": {<br>    \"model\": \"LogisticRegression\",<br>    \"max_features\": 8000,<br>    \"C\": 5.606137035677269<br>  }<br>}",
          "{<br>  \"number\": 280,<br>  \"values\": [<br>    0.8996359752178676,<br>    0.8999583333333333<br>  ],<br>  \"params\": {<br>    \"model\": \"Ridge\",<br>    \"max_features\": 3000,<br>    \"alpha\": 8.268823785567767<br>  }<br>}",
          "{<br>  \"number\": 281,<br>  \"values\": [<br>    0.9144569790508253,<br>    0.914625<br>  ],<br>  \"params\": {<br>    \"model\": \"Ridge\",<br>    \"max_features\": 10000,<br>    \"alpha\": 0.381563871462841<br>  }<br>}",
          "{<br>  \"number\": 282,<br>  \"values\": [<br>    0.879177356035048,<br>    0.8799166666666667<br>  ],<br>  \"params\": {<br>    \"model\": \"LogisticRegression\",<br>    \"max_features\": 8000,<br>    \"C\": 0.011720553050038838<br>  }<br>}",
          "{<br>  \"number\": 283,<br>  \"values\": [<br>    0.9146331688746279,<br>    0.9147916666666667<br>  ],<br>  \"params\": {<br>    \"model\": \"Ridge\",<br>    \"max_features\": 10000,<br>    \"alpha\": 0.8072449391814553<br>  }<br>}",
          "{<br>  \"number\": 284,<br>  \"values\": [<br>    0.8992795861798166,<br>    0.8997083333333333<br>  ],<br>  \"params\": {<br>    \"model\": \"SGD\",<br>    \"max_features\": 9000,<br>    \"penalty\": \"l2\",<br>    \"alpha\": 0.0001096955025451373<br>  }<br>}",
          "{<br>  \"number\": 285,<br>  \"values\": [<br>    0.9141499592331773,<br>    0.914375<br>  ],<br>  \"params\": {<br>    \"model\": \"Ridge\",<br>    \"max_features\": 10000,<br>    \"alpha\": 3.3745602832298394<br>  }<br>}",
          "{<br>  \"number\": 286,<br>  \"values\": [<br>    0.8547868416771061,<br>    0.8561666666666666<br>  ],<br>  \"params\": {<br>    \"model\": \"LogisticRegression\",<br>    \"max_features\": 8000,<br>    \"C\": 0.0013181151214639087<br>  }<br>}",
          "{<br>  \"number\": 287,<br>  \"values\": [<br>    0.9119135021583988,<br>    0.9120416666666666<br>  ],<br>  \"params\": {<br>    \"model\": \"LogisticRegression\",<br>    \"max_features\": 8000,<br>    \"C\": 3.1670420974295777<br>  }<br>}",
          "{<br>  \"number\": 288,<br>  \"values\": [<br>    0.9109421597809044,<br>    0.9111666666666667<br>  ],<br>  \"params\": {<br>    \"model\": \"Ridge\",<br>    \"max_features\": 7000,<br>    \"alpha\": 2.6087554242255453<br>  }<br>}",
          "{<br>  \"number\": 289,<br>  \"values\": [<br>    0.8788077918194508,<br>    0.8795833333333334<br>  ],<br>  \"params\": {<br>    \"model\": \"LogisticRegression\",<br>    \"max_features\": 10000,<br>    \"C\": 0.01178469516284958<br>  }<br>}",
          "{<br>  \"number\": 290,<br>  \"values\": [<br>    0.8891173224673831,<br>    0.8894583333333334<br>  ],<br>  \"params\": {<br>    \"model\": \"Ridge\",<br>    \"max_features\": 2000,<br>    \"alpha\": 0.16240001658957567<br>  }<br>}",
          "{<br>  \"number\": 291,<br>  \"values\": [<br>    0.1,<br>    0.25<br>  ],<br>  \"params\": {<br>    \"model\": \"SGD\",<br>    \"max_features\": 9000,<br>    \"penalty\": \"l1\",<br>    \"alpha\": 0.006497351070909995<br>  }<br>}",
          "{<br>  \"number\": 292,<br>  \"values\": [<br>    0.9133129155188336,<br>    0.9135<br>  ],<br>  \"params\": {<br>    \"model\": \"Ridge\",<br>    \"max_features\": 9000,<br>    \"alpha\": 0.1459702380784092<br>  }<br>}",
          "{<br>  \"number\": 293,<br>  \"values\": [<br>    0.9132255845802444,<br>    0.9134166666666667<br>  ],<br>  \"params\": {<br>    \"model\": \"Ridge\",<br>    \"max_features\": 9000,<br>    \"alpha\": 0.1806442826661257<br>  }<br>}",
          "{<br>  \"number\": 294,<br>  \"values\": [<br>    0.9087711168228341,<br>    0.9089166666666667<br>  ],<br>  \"params\": {<br>    \"model\": \"LogisticRegression\",<br>    \"max_features\": 7000,<br>    \"C\": 4.312985437251172<br>  }<br>}",
          "{<br>  \"number\": 295,<br>  \"values\": [<br>    0.8698802883725544,<br>    0.870875<br>  ],<br>  \"params\": {<br>    \"model\": \"SGD\",<br>    \"max_features\": 7000,<br>    \"penalty\": \"l2\",<br>    \"alpha\": 0.0012412851364192626<br>  }<br>}",
          "{<br>  \"number\": 296,<br>  \"values\": [<br>    0.9145967718039365,<br>    0.91475<br>  ],<br>  \"params\": {<br>    \"model\": \"LogisticRegression\",<br>    \"max_features\": 9000,<br>    \"C\": 1.8094517675562838<br>  }<br>}",
          "{<br>  \"number\": 297,<br>  \"values\": [<br>    0.914292434720577,<br>    0.9144583333333334<br>  ],<br>  \"params\": {<br>    \"model\": \"Ridge\",<br>    \"max_features\": 10000,<br>    \"alpha\": 0.5582171778398717<br>  }<br>}",
          "{<br>  \"number\": 298,<br>  \"values\": [<br>    0.9132125783519692,<br>    0.9134166666666667<br>  ],<br>  \"params\": {<br>    \"model\": \"Ridge\",<br>    \"max_features\": 8000,<br>    \"alpha\": 1.1256960653052814<br>  }<br>}",
          "{<br>  \"number\": 299,<br>  \"values\": [<br>    0.9145012629137144,<br>    0.9146666666666666<br>  ],<br>  \"params\": {<br>    \"model\": \"Ridge\",<br>    \"max_features\": 10000,<br>    \"alpha\": 0.6951636208104366<br>  }<br>}"
         ],
         "x": [
          0.8578891402005521,
          0.8854543002498503,
          0.9041617406110991,
          0.913510202973439,
          0.8978640336139234,
          0.9034547822207248,
          0.8702120263932387,
          0.889882735332672,
          0.8674289218231608,
          0.8362724429915437,
          0.9093523242394939,
          0.8380027517307238,
          0.9120110344086043,
          0.8718364659688183,
          0.8892949576359523,
          0.3325567900200467,
          0.9053590912407027,
          0.8557336670301292,
          0.7614894049220307,
          0.9033318401089739,
          0.8909272049049901,
          0.8891173224673831,
          0.8865612535359859,
          0.8697537567206051,
          0.878621812946081,
          0.9041182167272475,
          0.9002916996792636,
          0.9073246066908777,
          0.8900964990705034,
          0.9107097707633588,
          0.8736799357987604,
          0.9140933548795036,
          0.8966310195653063,
          0.9043559218520504,
          0.8549435252854927,
          0.8891197913261014,
          0.7631310593096055,
          0.8571850871548262,
          0.7226064313690834,
          0.3800444642732271,
          0.8946883670698038,
          0.905517650430726,
          0.9082054999710261,
          0.9145853458614145,
          0.9130402506299148,
          0.8588609627660634,
          0.9129501716842218,
          0.9123435924873269,
          0.9112839243207691,
          0.8870069095197131,
          0.9078593733045351,
          0.8643441124205712,
          0.90453902067071,
          0.8988964211619589,
          0.9131129670919422,
          0.8955137355548779,
          0.9012460645581949,
          0.8936976732858868,
          0.9103025853291835,
          0.9056515797306028,
          0.9112329333476851,
          0.9140870644039991,
          0.9126375028033866,
          0.9087969447557398,
          0.8894902685307882,
          0.9098137050819564,
          0.9094875113069211,
          0.8608031312934675,
          0.9108264194602429,
          0.873081049665287,
          0.8810997902252347,
          0.9110699324564866,
          0.8593399968925639,
          0.9024597155883376,
          0.8703699450726556,
          0.889670395875662,
          0.8549514123992272,
          0.9097395352286864,
          0.9039996062043645,
          0.8705310962373569,
          0.8593892036723181,
          0.7310943505102246,
          0.9088520180263809,
          0.9091651420824963,
          0.9136838129624734,
          0.883509963233325,
          0.37304155816711454,
          0.9140823862097821,
          0.8643419737812564,
          0.8893205455128131,
          0.8795236537294371,
          0.9128056728400342,
          0.8976220235445704,
          0.904381918193695,
          0.913963976475426,
          0.8859033740909048,
          0.8990208560958712,
          0.898085048577343,
          0.9144169149222698,
          0.8709234242137538,
          0.9100929864000217,
          0.9094414244165594,
          0.9040777561642284,
          0.9091280406226125,
          0.9021519570058453,
          0.8643398538121865,
          0.907723856289487,
          0.9048360566896603,
          0.8904039616719941,
          0.9110287736636982,
          0.9132962934460294,
          0.906205722976919,
          0.9094845263232996,
          0.9130378431992983,
          0.8895147717421621,
          0.8985352051475565,
          0.9106082552973633,
          0.9143755366257591,
          0.9126213010286848,
          0.8990209991514109,
          0.8925278146639052,
          0.9074845560567293,
          0.9078279281081285,
          0.8817451652778426,
          0.9142613777715499,
          0.9069973266521689,
          0.8636485256931385,
          0.8552937516835168,
          0.1,
          0.910756769108165,
          0.9122567719899696,
          0.8699647271832002,
          0.8943197636639246,
          0.9035005153190852,
          0.9119771938778913,
          0.9128727080431136,
          0.8988679125652691,
          0.8630427256326174,
          0.905417503433431,
          0.903580587247885,
          0.9071846844078625,
          0.9034580231016109,
          0.8708844351253404,
          0.8961872721365836,
          0.8999895927561756,
          0.853458601136395,
          0.8680630585657241,
          0.8989399699425172,
          0.9140106594861968,
          0.914544423162252,
          0.8597733231060927,
          0.8990623797532938,
          0.874550457039764,
          0.9002963138441473,
          0.8988499843924793,
          0.9129129480138323,
          0.9145951264541785,
          0.8936908348133805,
          0.9001422495799765,
          0.9035016607001478,
          0.910778100027773,
          0.9116443892015824,
          0.9061835465449132,
          0.9092709772497177,
          0.8578166941707478,
          0.9093984701789557,
          0.9146606949455622,
          0.9093984701789557,
          0.914285611851121,
          0.8699609517611004,
          0.9123319973812856,
          0.8555995715860931,
          0.9141213176729763,
          0.8729961015135823,
          0.9093172680360617,
          0.7706171559847774,
          0.912071815443349,
          0.6131977229019583,
          0.9136984561942374,
          0.9133525785018907,
          0.908762318716154,
          0.9117289156604289,
          0.9129109153877908,
          0.8869140664740067,
          0.8828951494905464,
          0.9140711698838606,
          0.9094422111872176,
          0.9073397320048173,
          0.9139632773020862,
          0.9104071092511759,
          0.9126730563040576,
          0.9138320019940859,
          0.9077067972067876,
          0.9053517298089735,
          0.8992663511889716,
          0.9055668056260983,
          0.8989399699425172,
          0.9126375028033866,
          0.9105654075435519,
          0.9122891767721082,
          0.9131479632245829,
          0.9132255845802444,
          0.8565201376715881,
          0.8932829508818034,
          0.914631243981937,
          0.9112244640671466,
          0.9134251909450426,
          0.9077134775256244,
          0.9116024771472409,
          0.9116024771472409,
          0.9093984701789557,
          0.9142601914186614,
          0.9053930931365003,
          0.9072025780381887,
          0.9135361466768608,
          0.9112660377201786,
          0.8698735311501629,
          0.910727626342783,
          0.8892372698215122,
          0.8692575207211748,
          0.8990207066580276,
          0.9133536205583739,
          0.9099432594666126,
          0.9145853458614145,
          0.9125752836683202,
          0.914181747422089,
          0.9110059103411277,
          0.91357331109304,
          0.9141138176188102,
          0.9145147653463349,
          0.9133899080636737,
          0.9122137999854021,
          0.9141499592331773,
          0.9145015875012916,
          0.9137681413830812,
          0.9134711945235833,
          0.907596658389115,
          0.9139250186628756,
          0.9112234662678663,
          0.8696722182936736,
          0.9052275080213364,
          0.9132691989101536,
          0.9094022154779883,
          0.9073331381840332,
          0.9135543937001622,
          0.914128234414484,
          0.8326370816673004,
          0.9035816427857861,
          0.9108130197193376,
          0.9131798011919141,
          0.9141641324856797,
          0.911647798725653,
          0.914061270133458,
          0.9139970757614585,
          0.913929297017366,
          0.9092917211782627,
          0.9143427024901627,
          0.9139715711578615,
          0.8980464775894113,
          0.9141790047783869,
          0.8814543146784318,
          0.9065880973878385,
          0.8897534305938398,
          0.9049618466337348,
          0.8566233568903636,
          0.9142642406548931,
          0.9119753213505475,
          0.9131799047207478,
          0.8549505704062444,
          0.9139650814349105,
          0.9141332456456916,
          0.8982255041796539,
          0.9135976477813993,
          0.9075923047292045,
          0.9142004298961175,
          0.8730179123297013,
          0.9074878300668671,
          0.8921627050042915,
          0.9100829655518832,
          0.8996359752178676,
          0.9144569790508253,
          0.879177356035048,
          0.9146331688746279,
          0.8992795861798166,
          0.9141499592331773,
          0.8547868416771061,
          0.9119135021583988,
          0.9109421597809044,
          0.8788077918194508,
          0.8891173224673831,
          0.1,
          0.9133129155188336,
          0.9132255845802444,
          0.9087711168228341,
          0.8698802883725544,
          0.9145967718039365,
          0.914292434720577,
          0.9132125783519692,
          0.9145012629137144
         ],
         "y": [
          0.8589166666666667,
          0.885875,
          0.9044166666666666,
          0.9137083333333333,
          0.89825,
          0.9037083333333333,
          0.8707916666666666,
          0.8904166666666666,
          0.8684166666666666,
          0.8372916666666667,
          0.9095416666666667,
          0.8387916666666667,
          0.9122083333333333,
          0.8720416666666667,
          0.889875,
          0.3797083333333333,
          0.9055833333333333,
          0.8570833333333333,
          0.7634583333333333,
          0.9035833333333333,
          0.8912083333333334,
          0.8894583333333334,
          0.8869583333333333,
          0.87,
          0.8790416666666667,
          0.904375,
          0.9005,
          0.9075833333333333,
          0.8905833333333333,
          0.9109166666666667,
          0.8745416666666667,
          0.9142916666666666,
          0.896875,
          0.9045,
          0.8563333333333333,
          0.8897083333333333,
          0.7654166666666666,
          0.8585,
          0.7248333333333333,
          0.42454166666666665,
          0.895,
          0.90575,
          0.9084166666666667,
          0.91475,
          0.91325,
          0.860125,
          0.9131666666666667,
          0.9125,
          0.9114166666666667,
          0.8874166666666666,
          0.9080833333333334,
          0.8648333333333333,
          0.9047083333333333,
          0.8992083333333334,
          0.9133333333333333,
          0.8958333333333334,
          0.9015416666666667,
          0.8941666666666667,
          0.9105833333333333,
          0.9058333333333334,
          0.9114583333333334,
          0.9142916666666666,
          0.9129166666666667,
          0.9090833333333334,
          0.8898333333333334,
          0.9100416666666666,
          0.9096666666666666,
          0.8615,
          0.9110416666666666,
          0.8733333333333333,
          0.8815833333333334,
          0.91125,
          0.8605833333333334,
          0.9025833333333333,
          0.8705833333333334,
          0.8900416666666666,
          0.85575,
          0.91,
          0.90425,
          0.8714166666666666,
          0.8605416666666666,
          0.7335,
          0.9090833333333334,
          0.9094583333333334,
          0.913875,
          0.8841666666666667,
          0.406625,
          0.91425,
          0.8648333333333333,
          0.8896666666666667,
          0.880125,
          0.9130833333333334,
          0.8979583333333333,
          0.9046666666666666,
          0.9142083333333333,
          0.8862916666666667,
          0.8993333333333333,
          0.89825,
          0.9145833333333333,
          0.8716666666666667,
          0.9102916666666667,
          0.909625,
          0.9043333333333333,
          0.9094166666666667,
          0.9023333333333333,
          0.8648333333333333,
          0.907875,
          0.9050833333333334,
          0.8909166666666667,
          0.91125,
          0.9134583333333334,
          0.9064166666666666,
          0.9096666666666666,
          0.91325,
          0.889875,
          0.89875,
          0.910875,
          0.9145416666666667,
          0.912875,
          0.8993333333333333,
          0.8929583333333333,
          0.90775,
          0.908,
          0.8824583333333333,
          0.9145,
          0.90725,
          0.864625,
          0.8566666666666667,
          0.25,
          0.910875,
          0.9124583333333334,
          0.8709583333333333,
          0.8946666666666667,
          0.90375,
          0.9121666666666667,
          0.9130833333333334,
          0.8992916666666667,
          0.8641666666666666,
          0.9055416666666667,
          0.9038333333333334,
          0.9074583333333334,
          0.9037083333333333,
          0.8717916666666666,
          0.8966666666666666,
          0.9003333333333333,
          0.854875,
          0.8690833333333333,
          0.89925,
          0.9142083333333333,
          0.9147083333333333,
          0.8605,
          0.899375,
          0.8752083333333334,
          0.9005833333333333,
          0.8991666666666667,
          0.913125,
          0.91475,
          0.8941666666666667,
          0.9002916666666667,
          0.90375,
          0.9110416666666666,
          0.9117916666666667,
          0.9063333333333333,
          0.9094166666666667,
          0.8590416666666667,
          0.9095833333333333,
          0.9148333333333334,
          0.9095833333333333,
          0.9144583333333334,
          0.8702916666666667,
          0.912625,
          0.8569583333333334,
          0.9143333333333333,
          0.873875,
          0.9094583333333334,
          0.7724166666666666,
          0.91225,
          0.616875,
          0.9139583333333333,
          0.9135416666666667,
          0.9089166666666667,
          0.9119166666666667,
          0.913125,
          0.8875,
          0.883625,
          0.9142916666666666,
          0.909625,
          0.907625,
          0.9141666666666667,
          0.910625,
          0.912875,
          0.9140833333333334,
          0.9079166666666667,
          0.9055833333333333,
          0.899625,
          0.9057916666666667,
          0.89925,
          0.9129166666666667,
          0.9108333333333334,
          0.9125833333333333,
          0.9134166666666667,
          0.9134166666666667,
          0.8578333333333333,
          0.8934583333333334,
          0.9147916666666667,
          0.9114166666666667,
          0.913625,
          0.9079166666666667,
          0.911875,
          0.911875,
          0.9095833333333333,
          0.9144583333333334,
          0.905625,
          0.9074583333333334,
          0.9137916666666667,
          0.9114583333333334,
          0.8708333333333333,
          0.9109166666666667,
          0.8895833333333333,
          0.87025,
          0.8993333333333333,
          0.9135416666666667,
          0.9101666666666667,
          0.91475,
          0.9128333333333334,
          0.9144166666666667,
          0.91125,
          0.9138333333333334,
          0.9143333333333333,
          0.9146666666666666,
          0.9135833333333333,
          0.9124166666666667,
          0.914375,
          0.9146666666666666,
          0.9139583333333333,
          0.9136666666666666,
          0.9077916666666667,
          0.9141666666666667,
          0.9114166666666667,
          0.8699166666666667,
          0.9054583333333334,
          0.9134583333333334,
          0.9096666666666666,
          0.9075833333333333,
          0.91375,
          0.9143333333333333,
          0.8337083333333334,
          0.9038333333333334,
          0.9110833333333334,
          0.913375,
          0.9143333333333333,
          0.9119166666666667,
          0.9142916666666666,
          0.9142083333333333,
          0.914125,
          0.9095833333333333,
          0.9145416666666667,
          0.9141666666666667,
          0.8984166666666666,
          0.9144166666666667,
          0.8821666666666667,
          0.9068333333333334,
          0.890125,
          0.9052083333333333,
          0.857625,
          0.9145,
          0.9121666666666667,
          0.9133333333333333,
          0.8563333333333333,
          0.9142083333333333,
          0.9143333333333333,
          0.8985416666666667,
          0.9137916666666667,
          0.9077916666666667,
          0.9144166666666667,
          0.8739166666666667,
          0.90775,
          0.8927083333333333,
          0.9102083333333333,
          0.8999583333333333,
          0.914625,
          0.8799166666666667,
          0.9147916666666667,
          0.8997083333333333,
          0.914375,
          0.8561666666666666,
          0.9120416666666666,
          0.9111666666666667,
          0.8795833333333334,
          0.8894583333333334,
          0.25,
          0.9135,
          0.9134166666666667,
          0.9089166666666667,
          0.870875,
          0.91475,
          0.9144583333333334,
          0.9134166666666667,
          0.9146666666666666
         ],
         "type": "scatter"
        },
        {
         "hovertemplate": "%{text}<extra>Best Trial</extra>",
         "marker": {
          "color": [
           106
          ],
          "colorbar": {
           "title": {
            "text": "Best Trial"
           },
           "x": 1.1,
           "xpad": 40
          },
          "colorscale": [
           [
            0.0,
            "rgb(255,245,240)"
           ],
           [
            0.125,
            "rgb(254,224,210)"
           ],
           [
            0.25,
            "rgb(252,187,161)"
           ],
           [
            0.375,
            "rgb(252,146,114)"
           ],
           [
            0.5,
            "rgb(251,106,74)"
           ],
           [
            0.625,
            "rgb(239,59,44)"
           ],
           [
            0.75,
            "rgb(203,24,29)"
           ],
           [
            0.875,
            "rgb(165,15,21)"
           ],
           [
            1.0,
            "rgb(103,0,13)"
           ]
          ],
          "line": {
           "color": "Grey",
           "width": 0.5
          }
         },
         "mode": "markers",
         "showlegend": false,
         "text": [
          "{<br>  \"number\": 106,<br>  \"values\": [<br>    0.9148128267373627,<br>    0.9149583333333333<br>  ],<br>  \"params\": {<br>    \"model\": \"LogisticRegression\",<br>    \"max_features\": 9000,<br>    \"C\": 1.9550671399076747<br>  }<br>}"
         ],
         "x": [
          0.9148128267373627
         ],
         "y": [
          0.9149583333333333
         ],
         "type": "scatter"
        }
       ],
       "layout": {
        "title": {
         "text": "Pareto-front Plot"
        },
        "xaxis": {
         "title": {
          "text": "F1 macro"
         }
        },
        "yaxis": {
         "title": {
          "text": "Accuracy"
         }
        },
        "template": {
         "data": {
          "histogram2dcontour": [
           {
            "type": "histogram2dcontour",
            "colorbar": {
             "outlinewidth": 0,
             "ticks": ""
            },
            "colorscale": [
             [
              0.0,
              "#0d0887"
             ],
             [
              0.1111111111111111,
              "#46039f"
             ],
             [
              0.2222222222222222,
              "#7201a8"
             ],
             [
              0.3333333333333333,
              "#9c179e"
             ],
             [
              0.4444444444444444,
              "#bd3786"
             ],
             [
              0.5555555555555556,
              "#d8576b"
             ],
             [
              0.6666666666666666,
              "#ed7953"
             ],
             [
              0.7777777777777778,
              "#fb9f3a"
             ],
             [
              0.8888888888888888,
              "#fdca26"
             ],
             [
              1.0,
              "#f0f921"
             ]
            ]
           }
          ],
          "choropleth": [
           {
            "type": "choropleth",
            "colorbar": {
             "outlinewidth": 0,
             "ticks": ""
            }
           }
          ],
          "histogram2d": [
           {
            "type": "histogram2d",
            "colorbar": {
             "outlinewidth": 0,
             "ticks": ""
            },
            "colorscale": [
             [
              0.0,
              "#0d0887"
             ],
             [
              0.1111111111111111,
              "#46039f"
             ],
             [
              0.2222222222222222,
              "#7201a8"
             ],
             [
              0.3333333333333333,
              "#9c179e"
             ],
             [
              0.4444444444444444,
              "#bd3786"
             ],
             [
              0.5555555555555556,
              "#d8576b"
             ],
             [
              0.6666666666666666,
              "#ed7953"
             ],
             [
              0.7777777777777778,
              "#fb9f3a"
             ],
             [
              0.8888888888888888,
              "#fdca26"
             ],
             [
              1.0,
              "#f0f921"
             ]
            ]
           }
          ],
          "heatmap": [
           {
            "type": "heatmap",
            "colorbar": {
             "outlinewidth": 0,
             "ticks": ""
            },
            "colorscale": [
             [
              0.0,
              "#0d0887"
             ],
             [
              0.1111111111111111,
              "#46039f"
             ],
             [
              0.2222222222222222,
              "#7201a8"
             ],
             [
              0.3333333333333333,
              "#9c179e"
             ],
             [
              0.4444444444444444,
              "#bd3786"
             ],
             [
              0.5555555555555556,
              "#d8576b"
             ],
             [
              0.6666666666666666,
              "#ed7953"
             ],
             [
              0.7777777777777778,
              "#fb9f3a"
             ],
             [
              0.8888888888888888,
              "#fdca26"
             ],
             [
              1.0,
              "#f0f921"
             ]
            ]
           }
          ],
          "contourcarpet": [
           {
            "type": "contourcarpet",
            "colorbar": {
             "outlinewidth": 0,
             "ticks": ""
            }
           }
          ],
          "contour": [
           {
            "type": "contour",
            "colorbar": {
             "outlinewidth": 0,
             "ticks": ""
            },
            "colorscale": [
             [
              0.0,
              "#0d0887"
             ],
             [
              0.1111111111111111,
              "#46039f"
             ],
             [
              0.2222222222222222,
              "#7201a8"
             ],
             [
              0.3333333333333333,
              "#9c179e"
             ],
             [
              0.4444444444444444,
              "#bd3786"
             ],
             [
              0.5555555555555556,
              "#d8576b"
             ],
             [
              0.6666666666666666,
              "#ed7953"
             ],
             [
              0.7777777777777778,
              "#fb9f3a"
             ],
             [
              0.8888888888888888,
              "#fdca26"
             ],
             [
              1.0,
              "#f0f921"
             ]
            ]
           }
          ],
          "surface": [
           {
            "type": "surface",
            "colorbar": {
             "outlinewidth": 0,
             "ticks": ""
            },
            "colorscale": [
             [
              0.0,
              "#0d0887"
             ],
             [
              0.1111111111111111,
              "#46039f"
             ],
             [
              0.2222222222222222,
              "#7201a8"
             ],
             [
              0.3333333333333333,
              "#9c179e"
             ],
             [
              0.4444444444444444,
              "#bd3786"
             ],
             [
              0.5555555555555556,
              "#d8576b"
             ],
             [
              0.6666666666666666,
              "#ed7953"
             ],
             [
              0.7777777777777778,
              "#fb9f3a"
             ],
             [
              0.8888888888888888,
              "#fdca26"
             ],
             [
              1.0,
              "#f0f921"
             ]
            ]
           }
          ],
          "mesh3d": [
           {
            "type": "mesh3d",
            "colorbar": {
             "outlinewidth": 0,
             "ticks": ""
            }
           }
          ],
          "scatter": [
           {
            "fillpattern": {
             "fillmode": "overlay",
             "size": 10,
             "solidity": 0.2
            },
            "type": "scatter"
           }
          ],
          "parcoords": [
           {
            "type": "parcoords",
            "line": {
             "colorbar": {
              "outlinewidth": 0,
              "ticks": ""
             }
            }
           }
          ],
          "scatterpolargl": [
           {
            "type": "scatterpolargl",
            "marker": {
             "colorbar": {
              "outlinewidth": 0,
              "ticks": ""
             }
            }
           }
          ],
          "bar": [
           {
            "error_x": {
             "color": "#2a3f5f"
            },
            "error_y": {
             "color": "#2a3f5f"
            },
            "marker": {
             "line": {
              "color": "#E5ECF6",
              "width": 0.5
             },
             "pattern": {
              "fillmode": "overlay",
              "size": 10,
              "solidity": 0.2
             }
            },
            "type": "bar"
           }
          ],
          "scattergeo": [
           {
            "type": "scattergeo",
            "marker": {
             "colorbar": {
              "outlinewidth": 0,
              "ticks": ""
             }
            }
           }
          ],
          "scatterpolar": [
           {
            "type": "scatterpolar",
            "marker": {
             "colorbar": {
              "outlinewidth": 0,
              "ticks": ""
             }
            }
           }
          ],
          "histogram": [
           {
            "marker": {
             "pattern": {
              "fillmode": "overlay",
              "size": 10,
              "solidity": 0.2
             }
            },
            "type": "histogram"
           }
          ],
          "scattergl": [
           {
            "type": "scattergl",
            "marker": {
             "colorbar": {
              "outlinewidth": 0,
              "ticks": ""
             }
            }
           }
          ],
          "scatter3d": [
           {
            "type": "scatter3d",
            "line": {
             "colorbar": {
              "outlinewidth": 0,
              "ticks": ""
             }
            },
            "marker": {
             "colorbar": {
              "outlinewidth": 0,
              "ticks": ""
             }
            }
           }
          ],
          "scattermap": [
           {
            "type": "scattermap",
            "marker": {
             "colorbar": {
              "outlinewidth": 0,
              "ticks": ""
             }
            }
           }
          ],
          "scattermapbox": [
           {
            "type": "scattermapbox",
            "marker": {
             "colorbar": {
              "outlinewidth": 0,
              "ticks": ""
             }
            }
           }
          ],
          "scatterternary": [
           {
            "type": "scatterternary",
            "marker": {
             "colorbar": {
              "outlinewidth": 0,
              "ticks": ""
             }
            }
           }
          ],
          "scattercarpet": [
           {
            "type": "scattercarpet",
            "marker": {
             "colorbar": {
              "outlinewidth": 0,
              "ticks": ""
             }
            }
           }
          ],
          "carpet": [
           {
            "aaxis": {
             "endlinecolor": "#2a3f5f",
             "gridcolor": "white",
             "linecolor": "white",
             "minorgridcolor": "white",
             "startlinecolor": "#2a3f5f"
            },
            "baxis": {
             "endlinecolor": "#2a3f5f",
             "gridcolor": "white",
             "linecolor": "white",
             "minorgridcolor": "white",
             "startlinecolor": "#2a3f5f"
            },
            "type": "carpet"
           }
          ],
          "table": [
           {
            "cells": {
             "fill": {
              "color": "#EBF0F8"
             },
             "line": {
              "color": "white"
             }
            },
            "header": {
             "fill": {
              "color": "#C8D4E3"
             },
             "line": {
              "color": "white"
             }
            },
            "type": "table"
           }
          ],
          "barpolar": [
           {
            "marker": {
             "line": {
              "color": "#E5ECF6",
              "width": 0.5
             },
             "pattern": {
              "fillmode": "overlay",
              "size": 10,
              "solidity": 0.2
             }
            },
            "type": "barpolar"
           }
          ],
          "pie": [
           {
            "automargin": true,
            "type": "pie"
           }
          ]
         },
         "layout": {
          "autotypenumbers": "strict",
          "colorway": [
           "#636efa",
           "#EF553B",
           "#00cc96",
           "#ab63fa",
           "#FFA15A",
           "#19d3f3",
           "#FF6692",
           "#B6E880",
           "#FF97FF",
           "#FECB52"
          ],
          "font": {
           "color": "#2a3f5f"
          },
          "hovermode": "closest",
          "hoverlabel": {
           "align": "left"
          },
          "paper_bgcolor": "white",
          "plot_bgcolor": "#E5ECF6",
          "polar": {
           "bgcolor": "#E5ECF6",
           "angularaxis": {
            "gridcolor": "white",
            "linecolor": "white",
            "ticks": ""
           },
           "radialaxis": {
            "gridcolor": "white",
            "linecolor": "white",
            "ticks": ""
           }
          },
          "ternary": {
           "bgcolor": "#E5ECF6",
           "aaxis": {
            "gridcolor": "white",
            "linecolor": "white",
            "ticks": ""
           },
           "baxis": {
            "gridcolor": "white",
            "linecolor": "white",
            "ticks": ""
           },
           "caxis": {
            "gridcolor": "white",
            "linecolor": "white",
            "ticks": ""
           }
          },
          "coloraxis": {
           "colorbar": {
            "outlinewidth": 0,
            "ticks": ""
           }
          },
          "colorscale": {
           "sequential": [
            [
             0.0,
             "#0d0887"
            ],
            [
             0.1111111111111111,
             "#46039f"
            ],
            [
             0.2222222222222222,
             "#7201a8"
            ],
            [
             0.3333333333333333,
             "#9c179e"
            ],
            [
             0.4444444444444444,
             "#bd3786"
            ],
            [
             0.5555555555555556,
             "#d8576b"
            ],
            [
             0.6666666666666666,
             "#ed7953"
            ],
            [
             0.7777777777777778,
             "#fb9f3a"
            ],
            [
             0.8888888888888888,
             "#fdca26"
            ],
            [
             1.0,
             "#f0f921"
            ]
           ],
           "sequentialminus": [
            [
             0.0,
             "#0d0887"
            ],
            [
             0.1111111111111111,
             "#46039f"
            ],
            [
             0.2222222222222222,
             "#7201a8"
            ],
            [
             0.3333333333333333,
             "#9c179e"
            ],
            [
             0.4444444444444444,
             "#bd3786"
            ],
            [
             0.5555555555555556,
             "#d8576b"
            ],
            [
             0.6666666666666666,
             "#ed7953"
            ],
            [
             0.7777777777777778,
             "#fb9f3a"
            ],
            [
             0.8888888888888888,
             "#fdca26"
            ],
            [
             1.0,
             "#f0f921"
            ]
           ],
           "diverging": [
            [
             0,
             "#8e0152"
            ],
            [
             0.1,
             "#c51b7d"
            ],
            [
             0.2,
             "#de77ae"
            ],
            [
             0.3,
             "#f1b6da"
            ],
            [
             0.4,
             "#fde0ef"
            ],
            [
             0.5,
             "#f7f7f7"
            ],
            [
             0.6,
             "#e6f5d0"
            ],
            [
             0.7,
             "#b8e186"
            ],
            [
             0.8,
             "#7fbc41"
            ],
            [
             0.9,
             "#4d9221"
            ],
            [
             1,
             "#276419"
            ]
           ]
          },
          "xaxis": {
           "gridcolor": "white",
           "linecolor": "white",
           "ticks": "",
           "title": {
            "standoff": 15
           },
           "zerolinecolor": "white",
           "automargin": true,
           "zerolinewidth": 2
          },
          "yaxis": {
           "gridcolor": "white",
           "linecolor": "white",
           "ticks": "",
           "title": {
            "standoff": 15
           },
           "zerolinecolor": "white",
           "automargin": true,
           "zerolinewidth": 2
          },
          "scene": {
           "xaxis": {
            "backgroundcolor": "#E5ECF6",
            "gridcolor": "white",
            "linecolor": "white",
            "showbackground": true,
            "ticks": "",
            "zerolinecolor": "white",
            "gridwidth": 2
           },
           "yaxis": {
            "backgroundcolor": "#E5ECF6",
            "gridcolor": "white",
            "linecolor": "white",
            "showbackground": true,
            "ticks": "",
            "zerolinecolor": "white",
            "gridwidth": 2
           },
           "zaxis": {
            "backgroundcolor": "#E5ECF6",
            "gridcolor": "white",
            "linecolor": "white",
            "showbackground": true,
            "ticks": "",
            "zerolinecolor": "white",
            "gridwidth": 2
           }
          },
          "shapedefaults": {
           "line": {
            "color": "#2a3f5f"
           }
          },
          "annotationdefaults": {
           "arrowcolor": "#2a3f5f",
           "arrowhead": 0,
           "arrowwidth": 1
          },
          "geo": {
           "bgcolor": "white",
           "landcolor": "#E5ECF6",
           "subunitcolor": "white",
           "showland": true,
           "showlakes": true,
           "lakecolor": "white"
          },
          "title": {
           "x": 0.05
          },
          "mapbox": {
           "style": "light"
          }
         }
        }
       },
       "config": {
        "plotlyServerURL": "https://plot.ly"
       }
      }
     },
     "metadata": {},
     "output_type": "display_data"
    },
    {
     "data": {
      "application/vnd.plotly.v1+json": {
       "data": [
        {
         "cliponaxis": false,
         "hovertemplate": [
          "max_features (IntDistribution): 0.49563091312606217<extra></extra>",
          "model (CategoricalDistribution): 0.5043690868739379<extra></extra>"
         ],
         "name": "Accuracy",
         "orientation": "h",
         "text": [
          "0.50",
          "0.50"
         ],
         "textposition": "outside",
         "x": [
          0.49563091312606217,
          0.5043690868739379
         ],
         "y": [
          "max_features",
          "model"
         ],
         "type": "bar"
        }
       ],
       "layout": {
        "title": {
         "text": "Hyperparameter Importances"
        },
        "xaxis": {
         "title": {
          "text": "Hyperparameter Importance"
         }
        },
        "yaxis": {
         "title": {
          "text": "Hyperparameter"
         }
        },
        "template": {
         "data": {
          "histogram2dcontour": [
           {
            "type": "histogram2dcontour",
            "colorbar": {
             "outlinewidth": 0,
             "ticks": ""
            },
            "colorscale": [
             [
              0.0,
              "#0d0887"
             ],
             [
              0.1111111111111111,
              "#46039f"
             ],
             [
              0.2222222222222222,
              "#7201a8"
             ],
             [
              0.3333333333333333,
              "#9c179e"
             ],
             [
              0.4444444444444444,
              "#bd3786"
             ],
             [
              0.5555555555555556,
              "#d8576b"
             ],
             [
              0.6666666666666666,
              "#ed7953"
             ],
             [
              0.7777777777777778,
              "#fb9f3a"
             ],
             [
              0.8888888888888888,
              "#fdca26"
             ],
             [
              1.0,
              "#f0f921"
             ]
            ]
           }
          ],
          "choropleth": [
           {
            "type": "choropleth",
            "colorbar": {
             "outlinewidth": 0,
             "ticks": ""
            }
           }
          ],
          "histogram2d": [
           {
            "type": "histogram2d",
            "colorbar": {
             "outlinewidth": 0,
             "ticks": ""
            },
            "colorscale": [
             [
              0.0,
              "#0d0887"
             ],
             [
              0.1111111111111111,
              "#46039f"
             ],
             [
              0.2222222222222222,
              "#7201a8"
             ],
             [
              0.3333333333333333,
              "#9c179e"
             ],
             [
              0.4444444444444444,
              "#bd3786"
             ],
             [
              0.5555555555555556,
              "#d8576b"
             ],
             [
              0.6666666666666666,
              "#ed7953"
             ],
             [
              0.7777777777777778,
              "#fb9f3a"
             ],
             [
              0.8888888888888888,
              "#fdca26"
             ],
             [
              1.0,
              "#f0f921"
             ]
            ]
           }
          ],
          "heatmap": [
           {
            "type": "heatmap",
            "colorbar": {
             "outlinewidth": 0,
             "ticks": ""
            },
            "colorscale": [
             [
              0.0,
              "#0d0887"
             ],
             [
              0.1111111111111111,
              "#46039f"
             ],
             [
              0.2222222222222222,
              "#7201a8"
             ],
             [
              0.3333333333333333,
              "#9c179e"
             ],
             [
              0.4444444444444444,
              "#bd3786"
             ],
             [
              0.5555555555555556,
              "#d8576b"
             ],
             [
              0.6666666666666666,
              "#ed7953"
             ],
             [
              0.7777777777777778,
              "#fb9f3a"
             ],
             [
              0.8888888888888888,
              "#fdca26"
             ],
             [
              1.0,
              "#f0f921"
             ]
            ]
           }
          ],
          "contourcarpet": [
           {
            "type": "contourcarpet",
            "colorbar": {
             "outlinewidth": 0,
             "ticks": ""
            }
           }
          ],
          "contour": [
           {
            "type": "contour",
            "colorbar": {
             "outlinewidth": 0,
             "ticks": ""
            },
            "colorscale": [
             [
              0.0,
              "#0d0887"
             ],
             [
              0.1111111111111111,
              "#46039f"
             ],
             [
              0.2222222222222222,
              "#7201a8"
             ],
             [
              0.3333333333333333,
              "#9c179e"
             ],
             [
              0.4444444444444444,
              "#bd3786"
             ],
             [
              0.5555555555555556,
              "#d8576b"
             ],
             [
              0.6666666666666666,
              "#ed7953"
             ],
             [
              0.7777777777777778,
              "#fb9f3a"
             ],
             [
              0.8888888888888888,
              "#fdca26"
             ],
             [
              1.0,
              "#f0f921"
             ]
            ]
           }
          ],
          "surface": [
           {
            "type": "surface",
            "colorbar": {
             "outlinewidth": 0,
             "ticks": ""
            },
            "colorscale": [
             [
              0.0,
              "#0d0887"
             ],
             [
              0.1111111111111111,
              "#46039f"
             ],
             [
              0.2222222222222222,
              "#7201a8"
             ],
             [
              0.3333333333333333,
              "#9c179e"
             ],
             [
              0.4444444444444444,
              "#bd3786"
             ],
             [
              0.5555555555555556,
              "#d8576b"
             ],
             [
              0.6666666666666666,
              "#ed7953"
             ],
             [
              0.7777777777777778,
              "#fb9f3a"
             ],
             [
              0.8888888888888888,
              "#fdca26"
             ],
             [
              1.0,
              "#f0f921"
             ]
            ]
           }
          ],
          "mesh3d": [
           {
            "type": "mesh3d",
            "colorbar": {
             "outlinewidth": 0,
             "ticks": ""
            }
           }
          ],
          "scatter": [
           {
            "fillpattern": {
             "fillmode": "overlay",
             "size": 10,
             "solidity": 0.2
            },
            "type": "scatter"
           }
          ],
          "parcoords": [
           {
            "type": "parcoords",
            "line": {
             "colorbar": {
              "outlinewidth": 0,
              "ticks": ""
             }
            }
           }
          ],
          "scatterpolargl": [
           {
            "type": "scatterpolargl",
            "marker": {
             "colorbar": {
              "outlinewidth": 0,
              "ticks": ""
             }
            }
           }
          ],
          "bar": [
           {
            "error_x": {
             "color": "#2a3f5f"
            },
            "error_y": {
             "color": "#2a3f5f"
            },
            "marker": {
             "line": {
              "color": "#E5ECF6",
              "width": 0.5
             },
             "pattern": {
              "fillmode": "overlay",
              "size": 10,
              "solidity": 0.2
             }
            },
            "type": "bar"
           }
          ],
          "scattergeo": [
           {
            "type": "scattergeo",
            "marker": {
             "colorbar": {
              "outlinewidth": 0,
              "ticks": ""
             }
            }
           }
          ],
          "scatterpolar": [
           {
            "type": "scatterpolar",
            "marker": {
             "colorbar": {
              "outlinewidth": 0,
              "ticks": ""
             }
            }
           }
          ],
          "histogram": [
           {
            "marker": {
             "pattern": {
              "fillmode": "overlay",
              "size": 10,
              "solidity": 0.2
             }
            },
            "type": "histogram"
           }
          ],
          "scattergl": [
           {
            "type": "scattergl",
            "marker": {
             "colorbar": {
              "outlinewidth": 0,
              "ticks": ""
             }
            }
           }
          ],
          "scatter3d": [
           {
            "type": "scatter3d",
            "line": {
             "colorbar": {
              "outlinewidth": 0,
              "ticks": ""
             }
            },
            "marker": {
             "colorbar": {
              "outlinewidth": 0,
              "ticks": ""
             }
            }
           }
          ],
          "scattermap": [
           {
            "type": "scattermap",
            "marker": {
             "colorbar": {
              "outlinewidth": 0,
              "ticks": ""
             }
            }
           }
          ],
          "scattermapbox": [
           {
            "type": "scattermapbox",
            "marker": {
             "colorbar": {
              "outlinewidth": 0,
              "ticks": ""
             }
            }
           }
          ],
          "scatterternary": [
           {
            "type": "scatterternary",
            "marker": {
             "colorbar": {
              "outlinewidth": 0,
              "ticks": ""
             }
            }
           }
          ],
          "scattercarpet": [
           {
            "type": "scattercarpet",
            "marker": {
             "colorbar": {
              "outlinewidth": 0,
              "ticks": ""
             }
            }
           }
          ],
          "carpet": [
           {
            "aaxis": {
             "endlinecolor": "#2a3f5f",
             "gridcolor": "white",
             "linecolor": "white",
             "minorgridcolor": "white",
             "startlinecolor": "#2a3f5f"
            },
            "baxis": {
             "endlinecolor": "#2a3f5f",
             "gridcolor": "white",
             "linecolor": "white",
             "minorgridcolor": "white",
             "startlinecolor": "#2a3f5f"
            },
            "type": "carpet"
           }
          ],
          "table": [
           {
            "cells": {
             "fill": {
              "color": "#EBF0F8"
             },
             "line": {
              "color": "white"
             }
            },
            "header": {
             "fill": {
              "color": "#C8D4E3"
             },
             "line": {
              "color": "white"
             }
            },
            "type": "table"
           }
          ],
          "barpolar": [
           {
            "marker": {
             "line": {
              "color": "#E5ECF6",
              "width": 0.5
             },
             "pattern": {
              "fillmode": "overlay",
              "size": 10,
              "solidity": 0.2
             }
            },
            "type": "barpolar"
           }
          ],
          "pie": [
           {
            "automargin": true,
            "type": "pie"
           }
          ]
         },
         "layout": {
          "autotypenumbers": "strict",
          "colorway": [
           "#636efa",
           "#EF553B",
           "#00cc96",
           "#ab63fa",
           "#FFA15A",
           "#19d3f3",
           "#FF6692",
           "#B6E880",
           "#FF97FF",
           "#FECB52"
          ],
          "font": {
           "color": "#2a3f5f"
          },
          "hovermode": "closest",
          "hoverlabel": {
           "align": "left"
          },
          "paper_bgcolor": "white",
          "plot_bgcolor": "#E5ECF6",
          "polar": {
           "bgcolor": "#E5ECF6",
           "angularaxis": {
            "gridcolor": "white",
            "linecolor": "white",
            "ticks": ""
           },
           "radialaxis": {
            "gridcolor": "white",
            "linecolor": "white",
            "ticks": ""
           }
          },
          "ternary": {
           "bgcolor": "#E5ECF6",
           "aaxis": {
            "gridcolor": "white",
            "linecolor": "white",
            "ticks": ""
           },
           "baxis": {
            "gridcolor": "white",
            "linecolor": "white",
            "ticks": ""
           },
           "caxis": {
            "gridcolor": "white",
            "linecolor": "white",
            "ticks": ""
           }
          },
          "coloraxis": {
           "colorbar": {
            "outlinewidth": 0,
            "ticks": ""
           }
          },
          "colorscale": {
           "sequential": [
            [
             0.0,
             "#0d0887"
            ],
            [
             0.1111111111111111,
             "#46039f"
            ],
            [
             0.2222222222222222,
             "#7201a8"
            ],
            [
             0.3333333333333333,
             "#9c179e"
            ],
            [
             0.4444444444444444,
             "#bd3786"
            ],
            [
             0.5555555555555556,
             "#d8576b"
            ],
            [
             0.6666666666666666,
             "#ed7953"
            ],
            [
             0.7777777777777778,
             "#fb9f3a"
            ],
            [
             0.8888888888888888,
             "#fdca26"
            ],
            [
             1.0,
             "#f0f921"
            ]
           ],
           "sequentialminus": [
            [
             0.0,
             "#0d0887"
            ],
            [
             0.1111111111111111,
             "#46039f"
            ],
            [
             0.2222222222222222,
             "#7201a8"
            ],
            [
             0.3333333333333333,
             "#9c179e"
            ],
            [
             0.4444444444444444,
             "#bd3786"
            ],
            [
             0.5555555555555556,
             "#d8576b"
            ],
            [
             0.6666666666666666,
             "#ed7953"
            ],
            [
             0.7777777777777778,
             "#fb9f3a"
            ],
            [
             0.8888888888888888,
             "#fdca26"
            ],
            [
             1.0,
             "#f0f921"
            ]
           ],
           "diverging": [
            [
             0,
             "#8e0152"
            ],
            [
             0.1,
             "#c51b7d"
            ],
            [
             0.2,
             "#de77ae"
            ],
            [
             0.3,
             "#f1b6da"
            ],
            [
             0.4,
             "#fde0ef"
            ],
            [
             0.5,
             "#f7f7f7"
            ],
            [
             0.6,
             "#e6f5d0"
            ],
            [
             0.7,
             "#b8e186"
            ],
            [
             0.8,
             "#7fbc41"
            ],
            [
             0.9,
             "#4d9221"
            ],
            [
             1,
             "#276419"
            ]
           ]
          },
          "xaxis": {
           "gridcolor": "white",
           "linecolor": "white",
           "ticks": "",
           "title": {
            "standoff": 15
           },
           "zerolinecolor": "white",
           "automargin": true,
           "zerolinewidth": 2
          },
          "yaxis": {
           "gridcolor": "white",
           "linecolor": "white",
           "ticks": "",
           "title": {
            "standoff": 15
           },
           "zerolinecolor": "white",
           "automargin": true,
           "zerolinewidth": 2
          },
          "scene": {
           "xaxis": {
            "backgroundcolor": "#E5ECF6",
            "gridcolor": "white",
            "linecolor": "white",
            "showbackground": true,
            "ticks": "",
            "zerolinecolor": "white",
            "gridwidth": 2
           },
           "yaxis": {
            "backgroundcolor": "#E5ECF6",
            "gridcolor": "white",
            "linecolor": "white",
            "showbackground": true,
            "ticks": "",
            "zerolinecolor": "white",
            "gridwidth": 2
           },
           "zaxis": {
            "backgroundcolor": "#E5ECF6",
            "gridcolor": "white",
            "linecolor": "white",
            "showbackground": true,
            "ticks": "",
            "zerolinecolor": "white",
            "gridwidth": 2
           }
          },
          "shapedefaults": {
           "line": {
            "color": "#2a3f5f"
           }
          },
          "annotationdefaults": {
           "arrowcolor": "#2a3f5f",
           "arrowhead": 0,
           "arrowwidth": 1
          },
          "geo": {
           "bgcolor": "white",
           "landcolor": "#E5ECF6",
           "subunitcolor": "white",
           "showland": true,
           "showlakes": true,
           "lakecolor": "white"
          },
          "title": {
           "x": 0.05
          },
          "mapbox": {
           "style": "light"
          }
         }
        }
       },
       "config": {
        "plotlyServerURL": "https://plot.ly"
       }
      }
     },
     "metadata": {},
     "output_type": "display_data"
    }
   ],
   "execution_count": 8
  },
  {
   "metadata": {
    "ExecuteTime": {
     "end_time": "2025-06-22T16:55:10.803665Z",
     "start_time": "2025-06-22T16:55:10.722593Z"
    }
   },
   "cell_type": "code",
   "source": [
    "vis.plot_parallel_coordinate(study, target=lambda t: t.values[0])\n",
    "vis.plot_slice(study, target=lambda t: t.values[1])"
   ],
   "outputs": [
    {
     "name": "stderr",
     "output_type": "stream",
     "text": [
      "/Users/hugo/PycharmProjects/Chatbot_M1/.venv/lib/python3.11/site-packages/optuna/visualization/_utils.py:67: UserWarning:\n",
      "\n",
      "`target` is specified, but `target_name` is the default value, 'Objective Value'.\n",
      "\n",
      "[W 2025-06-22 18:55:10,724] Your study has only completed trials with missing parameters.\n"
     ]
    },
    {
     "data": {
      "application/vnd.plotly.v1+json": {
       "data": [
        {
         "marker": {
          "color": [
           1,
           7,
           8,
           13,
           17,
           22,
           23,
           26,
           28,
           30,
           32,
           33,
           37,
           47,
           48,
           52,
           57,
           59,
           71,
           73,
           74,
           79,
           80,
           82,
           85,
           92,
           97,
           99,
           104,
           106,
           107,
           108,
           111,
           116,
           121,
           123,
           124,
           128,
           130,
           138,
           139,
           146,
           147,
           153,
           154,
           157,
           158,
           159,
           162,
           163,
           164,
           165,
           172,
           174,
           175,
           177,
           181,
           184,
           190,
           195,
           204,
           206,
           217,
           218,
           220,
           230,
           239,
           240,
           244,
           259,
           261,
           264,
           265,
           268,
           269,
           276,
           279,
           282,
           286,
           287,
           289,
           294,
           296
          ],
          "colorbar": {
           "title": {
            "text": "Trial"
           },
           "x": 1.0,
           "xpad": 40
          },
          "colorscale": [
           [
            0.0,
            "rgb(247,251,255)"
           ],
           [
            0.125,
            "rgb(222,235,247)"
           ],
           [
            0.25,
            "rgb(198,219,239)"
           ],
           [
            0.375,
            "rgb(158,202,225)"
           ],
           [
            0.5,
            "rgb(107,174,214)"
           ],
           [
            0.625,
            "rgb(66,146,198)"
           ],
           [
            0.75,
            "rgb(33,113,181)"
           ],
           [
            0.875,
            "rgb(8,81,156)"
           ],
           [
            1.0,
            "rgb(8,48,107)"
           ]
          ],
          "line": {
           "color": "Grey",
           "width": 0.5
          },
          "showscale": true
         },
         "mode": "markers",
         "name": "Feasible Trial",
         "showlegend": false,
         "x": [
          0.02562226900493634,
          0.026024605750570813,
          0.0047809006162055625,
          0.42192627592677234,
          0.0014256398729539028,
          0.030048126837526955,
          0.16911486602380565,
          0.2291224417890162,
          0.028977153454715736,
          0.007776529520624454,
          0.0967933724762418,
          8.973410801111477,
          0.002042278563496538,
          3.607539315180563,
          4.916312140259431,
          6.314109797714356,
          0.035221725707297334,
          0.38075962875588965,
          0.6194811094239333,
          5.627579402689479,
          9.022709268221274,
          0.00603785061843731,
          0.0024014740406495287,
          0.27181789678369955,
          0.01619577704145852,
          0.06169383405607085,
          9.477706732074779,
          0.007417331779739216,
          0.5404206608166243,
          1.9550671399076747,
          9.11278937235237,
          0.14408033327293404,
          0.8300925710006033,
          0.15293797399953576,
          0.034500936506586644,
          3.247839084695035,
          0.014656404221590447,
          0.001450315755804051,
          4.828455573599918,
          0.0032948566634948837,
          1.832680441811492,
          0.0010821719945955104,
          0.0054718757820795,
          0.01057362102532509,
          0.09167979687364369,
          1.1952471768409294,
          0.03567004948567095,
          4.745040800039061,
          4.565258233454487,
          6.353452406336623,
          7.189615642573806,
          0.0019006520381104428,
          0.0013554604495710908,
          0.007492737471831954,
          7.219883533348118,
          0.6606573487066418,
          3.8411010771225143,
          0.021815934413877545,
          0.3548625863217219,
          0.05998244273013603,
          0.3783988532758018,
          0.4725725220887388,
          0.00603213201966586,
          0.4974828567328502,
          0.005809347622801039,
          2.128414980347416,
          0.46553997094256405,
          0.180190104310991,
          0.18572673247377006,
          0.05282705675039391,
          0.014145667915832997,
          0.14615807194906233,
          0.0031378579896893916,
          3.1221914891100737,
          0.001462222821318724,
          0.007847305967036181,
          5.606137035677269,
          0.011720553050038838,
          0.0013181151214639087,
          3.1670420974295777,
          0.01178469516284958,
          4.312985437251172,
          1.8094517675562838
         ],
         "y": [
          0.885875,
          0.8904166666666666,
          0.8684166666666666,
          0.8720416666666667,
          0.8570833333333333,
          0.8869583333333333,
          0.87,
          0.9005,
          0.8905833333333333,
          0.8745416666666667,
          0.896875,
          0.9045,
          0.8585,
          0.9125,
          0.9114166666666667,
          0.9047083333333333,
          0.8941666666666667,
          0.9058333333333334,
          0.91125,
          0.9025833333333333,
          0.8705833333333334,
          0.8714166666666666,
          0.8605416666666666,
          0.9090833333333334,
          0.8841666666666667,
          0.8979583333333333,
          0.89825,
          0.8716666666666667,
          0.9023333333333333,
          0.9149583333333333,
          0.907875,
          0.9050833333333334,
          0.9134583333333334,
          0.89875,
          0.8929583333333333,
          0.908,
          0.8824583333333333,
          0.8566666666666667,
          0.910875,
          0.8641666666666666,
          0.9055416666666667,
          0.854875,
          0.8690833333333333,
          0.8752083333333334,
          0.9005833333333333,
          0.91475,
          0.8941666666666667,
          0.9002916666666667,
          0.9117916666666667,
          0.9063333333333333,
          0.9094166666666667,
          0.8590416666666667,
          0.8569583333333334,
          0.873875,
          0.9094583333333334,
          0.91225,
          0.9089166666666667,
          0.8875,
          0.910625,
          0.899625,
          0.8934583333333334,
          0.9114166666666667,
          0.8708333333333333,
          0.9109166666666667,
          0.87025,
          0.9146666666666666,
          0.9114166666666667,
          0.8699166666666667,
          0.9075833333333333,
          0.8984166666666666,
          0.8821666666666667,
          0.9052083333333333,
          0.857625,
          0.9133333333333333,
          0.8563333333333333,
          0.8739166666666667,
          0.9102083333333333,
          0.8799166666666667,
          0.8561666666666666,
          0.9120416666666666,
          0.8795833333333334,
          0.9089166666666667,
          0.91475
         ],
         "type": "scatter",
         "xaxis": "x",
         "yaxis": "y"
        },
        {
         "marker": {
          "color": [
           0,
           2,
           3,
           4,
           5,
           6,
           9,
           10,
           11,
           12,
           14,
           15,
           16,
           18,
           19,
           20,
           21,
           24,
           25,
           27,
           29,
           31,
           34,
           35,
           36,
           38,
           39,
           40,
           41,
           42,
           43,
           44,
           45,
           46,
           49,
           50,
           51,
           53,
           54,
           55,
           56,
           58,
           60,
           61,
           62,
           63,
           64,
           65,
           66,
           67,
           68,
           69,
           70,
           72,
           75,
           76,
           77,
           78,
           81,
           83,
           84,
           86,
           87,
           88,
           89,
           90,
           91,
           93,
           94,
           95,
           96,
           98,
           100,
           101,
           102,
           103,
           105,
           109,
           110,
           112,
           113,
           114,
           115,
           117,
           118,
           119,
           120,
           122,
           125,
           126,
           127,
           129,
           131,
           132,
           133,
           134,
           135,
           136,
           137,
           140,
           141,
           142,
           143,
           144,
           145,
           148,
           149,
           150,
           151,
           152,
           155,
           156,
           160,
           161,
           166,
           167,
           168,
           169,
           170,
           171,
           173,
           176,
           178,
           179,
           180,
           182,
           183,
           185,
           186,
           187,
           188,
           189,
           191,
           192,
           193,
           194,
           196,
           197,
           198,
           199,
           200,
           201,
           202,
           203,
           205,
           207,
           208,
           209,
           210,
           211,
           212,
           213,
           214,
           215,
           216,
           219,
           221,
           222,
           223,
           224,
           225,
           226,
           227,
           228,
           229,
           231,
           232,
           233,
           234,
           235,
           236,
           237,
           238,
           241,
           242,
           243,
           245,
           246,
           247,
           248,
           249,
           250,
           251,
           252,
           253,
           254,
           255,
           256,
           257,
           258,
           260,
           262,
           263,
           266,
           267,
           270,
           271,
           272,
           273,
           274,
           275,
           277,
           278,
           280,
           281,
           283,
           284,
           285,
           288,
           290,
           291,
           292,
           293,
           295,
           297,
           298,
           299
          ],
          "colorbar": {
           "title": {
            "text": "Trial"
           },
           "x": 1.0,
           "xpad": 40
          },
          "colorscale": [
           [
            0.0,
            "rgb(247,251,255)"
           ],
           [
            0.125,
            "rgb(222,235,247)"
           ],
           [
            0.25,
            "rgb(198,219,239)"
           ],
           [
            0.375,
            "rgb(158,202,225)"
           ],
           [
            0.5,
            "rgb(107,174,214)"
           ],
           [
            0.625,
            "rgb(66,146,198)"
           ],
           [
            0.75,
            "rgb(33,113,181)"
           ],
           [
            0.875,
            "rgb(8,81,156)"
           ],
           [
            1.0,
            "rgb(8,48,107)"
           ]
          ],
          "line": {
           "color": "Grey",
           "width": 0.5
          },
          "showscale": false
         },
         "mode": "markers",
         "name": "Feasible Trial",
         "showlegend": false,
         "x": [
          0.0020503327629349064,
          1.7083852803336428,
          0.4859009380455021,
          1.0259127629143795E-4,
          0.4288920956121546,
          1.2417215235188559E-4,
          2.7524410464204753E-4,
          0.27263356214559803,
          2.8683661478655766E-4,
          0.5436165058484939,
          2.6245832556991486E-4,
          0.005342320205897336,
          0.24833197164185525,
          7.574298282191546E-4,
          0.48149172780765565,
          5.198095845562186E-5,
          0.15955732689767263,
          9.741212897425601E-5,
          3.6383687184636617,
          1.6367998321862742,
          1.0884700788106256,
          1.289493470572781,
          0.006015980582264511,
          2.603180907925006E-4,
          9.697549331653022E-4,
          0.001414745342063885,
          0.0030985159374677133,
          4.17201618494272E-5,
          0.550278270789055,
          1.0611251778566575E-5,
          0.7320845417472398,
          1.432417765896737,
          0.003316324162510085,
          1.7334291587190815,
          6.145923165186466E-5,
          1.213284851521584E-5,
          1.5577388340405653,
          0.5812291280280459,
          2.530632984664055,
          3.966267049071961E-5,
          5.103592927079126E-5,
          8.474021093755168,
          2.8005461623307117,
          1.4583613760045562,
          8.422635218809154,
          6.7910466763479445,
          2.588780222882792,
          1.9425449685222633,
          0.18376426907240373,
          1.5421922745427252E-4,
          1.3242357786750731,
          1.1103205776097503E-5,
          2.0109988326653011E-4,
          0.0030729910144500555,
          7.750187106885253,
          1.7318796864366795E-4,
          4.493227815394891,
          1.2225807215088695,
          0.001137350875384045,
          9.387231034174347,
          0.5728817151904895,
          0.0029492638349647125,
          0.18182857612637413,
          1.9303290233000867,
          1.3270346189149915,
          4.390420609865311E-4,
          8.278980820987266,
          5.494860492230902,
          3.5862287285745866,
          7.03956201900289E-5,
          0.16416674728975292,
          0.6323753161169161,
          0.6241443447581504,
          0.14003390585594166,
          1.4920039293783682,
          8.932089649537875,
          1.3523039998078628,
          2.1474054158421256E-4,
          2.0623106661427464,
          1.1086895921450716E-5,
          0.15565797114450203,
          1.9667570122596523,
          5.298392914845786,
          7.014971602514855,
          0.9205615175582857,
          3.940826699233236,
          0.12534244914487358,
          2.1698239264699777,
          4.417136887775136,
          1.2958261715501598,
          0.0018523269070506616,
          0.008232611479606914,
          0.6105545404132758,
          0.0012360809106376548,
          4.02324582500057E-5,
          0.17935686793814404,
          0.38569241835511847,
          1.2897717445763108,
          1.1312174302171438E-4,
          0.12604215614147266,
          3.7502541550377226,
          0.35606765844463123,
          0.0011215718667857335,
          1.5738956020782587E-4,
          7.69575984218624E-5,
          0.4069787935252687,
          0.9638336522933071,
          0.7620931610022758,
          1.558473234203699E-4,
          0.22725689833951546,
          1.1123942497945212,
          1.9048951497842836,
          0.1866092685136276,
          6.1845192870975,
          0.12411990813023058,
          1.4204214524493821,
          0.12058056582737917,
          0.31128350383999775,
          4.6449036004485196E-5,
          9.533184020089967,
          1.6844903021032764,
          7.041142462047824E-4,
          0.0019133339441338435,
          6.422642809119916,
          0.15415515884484918,
          0.23580052957684133,
          1.7690450761151026,
          4.265918880310686E-4,
          2.2015690522661213,
          0.2425722285272758,
          4.391227793249463,
          1.3969205612500455,
          0.6524489428216864,
          6.008120963359361,
          0.6459854391564389,
          0.4471988174982257,
          0.18820094756500746,
          0.4461128233504892,
          8.384261088569426,
          7.025092390571234,
          9.481804347591199,
          7.585587473786131,
          0.18138915898353142,
          0.005204835714898512,
          0.8502755742081003,
          0.40220953232540146,
          0.5490047157998278,
          8.581592857264988,
          8.575367858141226,
          0.12189861289247818,
          1.050652961380097,
          0.4219595216801392,
          1.5255800842327443,
          5.483718861489633,
          0.11729322956846332,
          0.6411051855783382,
          0.20851568775015628,
          0.13218435419234414,
          1.0302895678689749E-5,
          0.7329842449753833,
          4.637926842451299,
          4.113350918587501,
          3.6658084028621176,
          6.569120359880605,
          3.031443081255161,
          0.26678291138863064,
          0.6070932879825403,
          3.3589934314308154,
          0.6915535806152536,
          0.574595236029042,
          0.4473360127812693,
          0.44020710403886315,
          5.053573957946236,
          0.37452354023674944,
          0.1373673839784362,
          4.935853453465941,
          0.4460789138064361,
          2.6703628209382835,
          2.886972645940084E-4,
          0.7162681215425559,
          5.717468188471622,
          1.0160615673523246,
          0.5964213848831309,
          7.702790667430024,
          3.6604700514545194,
          1.839181200011721,
          0.9561924730814776,
          8.652304646467908,
          2.112530614802939,
          0.9219260488058204,
          4.013714404666937,
          0.929191793916826,
          7.653738399759362,
          4.361443603324068,
          0.49874831011866005,
          4.896091401947535,
          1.179501058866925,
          3.227604894577873E-5,
          0.5542044656027767,
          0.4940219332970933,
          2.885193412107675,
          2.024072189729386,
          2.107366500239202E-4,
          8.268823785567767,
          0.381563871462841,
          0.8072449391814553,
          1.096955025451373E-4,
          3.3745602832298394,
          2.6087554242255453,
          0.16240001658957567,
          0.006497351070909995,
          0.1459702380784092,
          0.1806442826661257,
          0.0012412851364192626,
          0.5582171778398717,
          1.1256960653052814,
          0.6951636208104366
         ],
         "y": [
          0.8589166666666667,
          0.9044166666666666,
          0.9137083333333333,
          0.89825,
          0.9037083333333333,
          0.8707916666666666,
          0.8372916666666667,
          0.9095416666666667,
          0.8387916666666667,
          0.9122083333333333,
          0.889875,
          0.3797083333333333,
          0.9055833333333333,
          0.7634583333333333,
          0.9035833333333333,
          0.8912083333333334,
          0.8894583333333334,
          0.8790416666666667,
          0.904375,
          0.9075833333333333,
          0.9109166666666667,
          0.9142916666666666,
          0.8563333333333333,
          0.8897083333333333,
          0.7654166666666666,
          0.7248333333333333,
          0.42454166666666665,
          0.895,
          0.90575,
          0.9084166666666667,
          0.91475,
          0.91325,
          0.860125,
          0.9131666666666667,
          0.8874166666666666,
          0.9080833333333334,
          0.8648333333333333,
          0.8992083333333334,
          0.9133333333333333,
          0.8958333333333334,
          0.9015416666666667,
          0.9105833333333333,
          0.9114583333333334,
          0.9142916666666666,
          0.9129166666666667,
          0.9090833333333334,
          0.8898333333333334,
          0.9100416666666666,
          0.9096666666666666,
          0.8615,
          0.9110416666666666,
          0.8733333333333333,
          0.8815833333333334,
          0.8605833333333334,
          0.8900416666666666,
          0.85575,
          0.91,
          0.90425,
          0.7335,
          0.9094583333333334,
          0.913875,
          0.406625,
          0.91425,
          0.8648333333333333,
          0.8896666666666667,
          0.880125,
          0.9130833333333334,
          0.9046666666666666,
          0.9142083333333333,
          0.8862916666666667,
          0.8993333333333333,
          0.9145833333333333,
          0.9102916666666667,
          0.909625,
          0.9043333333333333,
          0.9094166666666667,
          0.8648333333333333,
          0.8909166666666667,
          0.91125,
          0.9064166666666666,
          0.9096666666666666,
          0.91325,
          0.889875,
          0.910875,
          0.9145416666666667,
          0.912875,
          0.8993333333333333,
          0.90775,
          0.9145,
          0.90725,
          0.864625,
          0.25,
          0.9124583333333334,
          0.8709583333333333,
          0.8946666666666667,
          0.90375,
          0.9121666666666667,
          0.9130833333333334,
          0.8992916666666667,
          0.9038333333333334,
          0.9074583333333334,
          0.9037083333333333,
          0.8717916666666666,
          0.8966666666666666,
          0.9003333333333333,
          0.89925,
          0.9142083333333333,
          0.9147083333333333,
          0.8605,
          0.899375,
          0.8991666666666667,
          0.913125,
          0.90375,
          0.9110416666666666,
          0.9095833333333333,
          0.9148333333333334,
          0.9095833333333333,
          0.9144583333333334,
          0.8702916666666667,
          0.912625,
          0.9143333333333333,
          0.7724166666666666,
          0.616875,
          0.9139583333333333,
          0.9135416666666667,
          0.9119166666666667,
          0.913125,
          0.883625,
          0.9142916666666666,
          0.909625,
          0.907625,
          0.9141666666666667,
          0.912875,
          0.9140833333333334,
          0.9079166666666667,
          0.9055833333333333,
          0.9057916666666667,
          0.89925,
          0.9129166666666667,
          0.9108333333333334,
          0.9125833333333333,
          0.9134166666666667,
          0.9134166666666667,
          0.8578333333333333,
          0.9147916666666667,
          0.913625,
          0.9079166666666667,
          0.911875,
          0.911875,
          0.9095833333333333,
          0.9144583333333334,
          0.905625,
          0.9074583333333334,
          0.9137916666666667,
          0.9114583333333334,
          0.8895833333333333,
          0.8993333333333333,
          0.9135416666666667,
          0.9101666666666667,
          0.91475,
          0.9128333333333334,
          0.9144166666666667,
          0.91125,
          0.9138333333333334,
          0.9143333333333333,
          0.9135833333333333,
          0.9124166666666667,
          0.914375,
          0.9146666666666666,
          0.9139583333333333,
          0.9136666666666666,
          0.9077916666666667,
          0.9141666666666667,
          0.9054583333333334,
          0.9134583333333334,
          0.9096666666666666,
          0.91375,
          0.9143333333333333,
          0.8337083333333334,
          0.9038333333333334,
          0.9110833333333334,
          0.913375,
          0.9143333333333333,
          0.9119166666666667,
          0.9142916666666666,
          0.9142083333333333,
          0.914125,
          0.9095833333333333,
          0.9145416666666667,
          0.9141666666666667,
          0.9144166666666667,
          0.9068333333333334,
          0.890125,
          0.9145,
          0.9121666666666667,
          0.9142083333333333,
          0.9143333333333333,
          0.8985416666666667,
          0.9137916666666667,
          0.9077916666666667,
          0.9144166666666667,
          0.90775,
          0.8927083333333333,
          0.8999583333333333,
          0.914625,
          0.9147916666666667,
          0.8997083333333333,
          0.914375,
          0.9111666666666667,
          0.8894583333333334,
          0.25,
          0.9135,
          0.9134166666666667,
          0.870875,
          0.9144583333333334,
          0.9134166666666667,
          0.9146666666666666
         ],
         "type": "scatter",
         "xaxis": "x2",
         "yaxis": "y2"
        },
        {
         "marker": {
          "color": [
           0,
           1,
           2,
           3,
           4,
           5,
           6,
           7,
           8,
           9,
           10,
           11,
           12,
           13,
           14,
           15,
           16,
           17,
           18,
           19,
           20,
           21,
           22,
           23,
           24,
           25,
           26,
           27,
           28,
           29,
           30,
           31,
           32,
           33,
           34,
           35,
           36,
           37,
           38,
           39,
           40,
           41,
           42,
           43,
           44,
           45,
           46,
           47,
           48,
           49,
           50,
           51,
           52,
           53,
           54,
           55,
           56,
           57,
           58,
           59,
           60,
           61,
           62,
           63,
           64,
           65,
           66,
           67,
           68,
           69,
           70,
           71,
           72,
           73,
           74,
           75,
           76,
           77,
           78,
           79,
           80,
           81,
           82,
           83,
           84,
           85,
           86,
           87,
           88,
           89,
           90,
           91,
           92,
           93,
           94,
           95,
           96,
           97,
           98,
           99,
           100,
           101,
           102,
           103,
           104,
           105,
           106,
           107,
           108,
           109,
           110,
           111,
           112,
           113,
           114,
           115,
           116,
           117,
           118,
           119,
           120,
           121,
           122,
           123,
           124,
           125,
           126,
           127,
           128,
           129,
           130,
           131,
           132,
           133,
           134,
           135,
           136,
           137,
           138,
           139,
           140,
           141,
           142,
           143,
           144,
           145,
           146,
           147,
           148,
           149,
           150,
           151,
           152,
           153,
           154,
           155,
           156,
           157,
           158,
           159,
           160,
           161,
           162,
           163,
           164,
           165,
           166,
           167,
           168,
           169,
           170,
           171,
           172,
           173,
           174,
           175,
           176,
           177,
           178,
           179,
           180,
           181,
           182,
           183,
           184,
           185,
           186,
           187,
           188,
           189,
           190,
           191,
           192,
           193,
           194,
           195,
           196,
           197,
           198,
           199,
           200,
           201,
           202,
           203,
           204,
           205,
           206,
           207,
           208,
           209,
           210,
           211,
           212,
           213,
           214,
           215,
           216,
           217,
           218,
           219,
           220,
           221,
           222,
           223,
           224,
           225,
           226,
           227,
           228,
           229,
           230,
           231,
           232,
           233,
           234,
           235,
           236,
           237,
           238,
           239,
           240,
           241,
           242,
           243,
           244,
           245,
           246,
           247,
           248,
           249,
           250,
           251,
           252,
           253,
           254,
           255,
           256,
           257,
           258,
           259,
           260,
           261,
           262,
           263,
           264,
           265,
           266,
           267,
           268,
           269,
           270,
           271,
           272,
           273,
           274,
           275,
           276,
           277,
           278,
           279,
           280,
           281,
           282,
           283,
           284,
           285,
           286,
           287,
           288,
           289,
           290,
           291,
           292,
           293,
           294,
           295,
           296,
           297,
           298,
           299
          ],
          "colorbar": {
           "title": {
            "text": "Trial"
           },
           "x": 1.0,
           "xpad": 40
          },
          "colorscale": [
           [
            0.0,
            "rgb(247,251,255)"
           ],
           [
            0.125,
            "rgb(222,235,247)"
           ],
           [
            0.25,
            "rgb(198,219,239)"
           ],
           [
            0.375,
            "rgb(158,202,225)"
           ],
           [
            0.5,
            "rgb(107,174,214)"
           ],
           [
            0.625,
            "rgb(66,146,198)"
           ],
           [
            0.75,
            "rgb(33,113,181)"
           ],
           [
            0.875,
            "rgb(8,81,156)"
           ],
           [
            1.0,
            "rgb(8,48,107)"
           ]
          ],
          "line": {
           "color": "Grey",
           "width": 0.5
          },
          "showscale": false
         },
         "mode": "markers",
         "name": "Feasible Trial",
         "showlegend": false,
         "x": [
          2000,
          3000,
          4000,
          9000,
          5000,
          4000,
          6000,
          8000,
          6000,
          6000,
          7000,
          4000,
          8000,
          1000,
          7000,
          1000,
          5000,
          7000,
          8000,
          4000,
          2000,
          2000,
          3000,
          1000,
          2000,
          4000,
          3000,
          5000,
          5000,
          7000,
          6000,
          9000,
          3000,
          6000,
          9000,
          8000,
          2000,
          9000,
          2000,
          8000,
          6000,
          5000,
          5000,
          10000,
          8000,
          10000,
          8000,
          10000,
          9000,
          7000,
          5000,
          1000,
          5000,
          3000,
          8000,
          7000,
          4000,
          9000,
          7000,
          4000,
          7000,
          9000,
          9000,
          6000,
          2000,
          6000,
          7000,
          7000,
          7000,
          1000,
          2000,
          7000,
          10000,
          4000,
          1000,
          2000,
          9000,
          6000,
          4000,
          5000,
          4000,
          4000,
          9000,
          6000,
          9000,
          8000,
          10000,
          10000,
          1000,
          2000,
          3000,
          9000,
          5000,
          4000,
          9000,
          5000,
          3000,
          3000,
          10000,
          3000,
          7000,
          7000,
          4000,
          6000,
          3000,
          1000,
          9000,
          9000,
          6000,
          5000,
          7000,
          9000,
          4000,
          7000,
          8000,
          2000,
          3000,
          7000,
          10000,
          8000,
          3000,
          5000,
          5000,
          5000,
          10000,
          10000,
          5000,
          3000,
          9000,
          6000,
          8000,
          8000,
          7000,
          10000,
          4000,
          8000,
          8000,
          8000,
          6000,
          4000,
          4000,
          5000,
          4000,
          5000,
          9000,
          5000,
          8000,
          10000,
          3000,
          9000,
          10000,
          8000,
          3000,
          3000,
          5000,
          3000,
          8000,
          9000,
          10000,
          3000,
          4000,
          7000,
          10000,
          6000,
          9000,
          5000,
          7000,
          10000,
          7000,
          10000,
          1000,
          10000,
          7000,
          9000,
          7000,
          10000,
          8000,
          8000,
          3000,
          10000,
          9000,
          6000,
          8000,
          8000,
          9000,
          9000,
          9000,
          7000,
          5000,
          9000,
          9000,
          8000,
          10000,
          6000,
          5000,
          8000,
          5000,
          3000,
          9000,
          7000,
          10000,
          10000,
          9000,
          7000,
          2000,
          10000,
          9000,
          9000,
          6000,
          8000,
          8000,
          7000,
          9000,
          5000,
          5000,
          9000,
          8000,
          9000,
          7000,
          2000,
          10000,
          3000,
          9000,
          5000,
          10000,
          8000,
          10000,
          7000,
          10000,
          10000,
          10000,
          9000,
          8000,
          10000,
          10000,
          9000,
          9000,
          6000,
          10000,
          9000,
          1000,
          5000,
          9000,
          6000,
          8000,
          9000,
          10000,
          7000,
          4000,
          7000,
          8000,
          10000,
          8000,
          10000,
          9000,
          9000,
          6000,
          10000,
          9000,
          8000,
          10000,
          10000,
          5000,
          2000,
          6000,
          2000,
          10000,
          8000,
          9000,
          10000,
          10000,
          9000,
          10000,
          9000,
          6000,
          10000,
          9000,
          5000,
          9000,
          8000,
          3000,
          10000,
          8000,
          10000,
          9000,
          10000,
          8000,
          8000,
          7000,
          10000,
          2000,
          9000,
          9000,
          9000,
          7000,
          7000,
          9000,
          10000,
          8000,
          10000
         ],
         "y": [
          0.8589166666666667,
          0.885875,
          0.9044166666666666,
          0.9137083333333333,
          0.89825,
          0.9037083333333333,
          0.8707916666666666,
          0.8904166666666666,
          0.8684166666666666,
          0.8372916666666667,
          0.9095416666666667,
          0.8387916666666667,
          0.9122083333333333,
          0.8720416666666667,
          0.889875,
          0.3797083333333333,
          0.9055833333333333,
          0.8570833333333333,
          0.7634583333333333,
          0.9035833333333333,
          0.8912083333333334,
          0.8894583333333334,
          0.8869583333333333,
          0.87,
          0.8790416666666667,
          0.904375,
          0.9005,
          0.9075833333333333,
          0.8905833333333333,
          0.9109166666666667,
          0.8745416666666667,
          0.9142916666666666,
          0.896875,
          0.9045,
          0.8563333333333333,
          0.8897083333333333,
          0.7654166666666666,
          0.8585,
          0.7248333333333333,
          0.42454166666666665,
          0.895,
          0.90575,
          0.9084166666666667,
          0.91475,
          0.91325,
          0.860125,
          0.9131666666666667,
          0.9125,
          0.9114166666666667,
          0.8874166666666666,
          0.9080833333333334,
          0.8648333333333333,
          0.9047083333333333,
          0.8992083333333334,
          0.9133333333333333,
          0.8958333333333334,
          0.9015416666666667,
          0.8941666666666667,
          0.9105833333333333,
          0.9058333333333334,
          0.9114583333333334,
          0.9142916666666666,
          0.9129166666666667,
          0.9090833333333334,
          0.8898333333333334,
          0.9100416666666666,
          0.9096666666666666,
          0.8615,
          0.9110416666666666,
          0.8733333333333333,
          0.8815833333333334,
          0.91125,
          0.8605833333333334,
          0.9025833333333333,
          0.8705833333333334,
          0.8900416666666666,
          0.85575,
          0.91,
          0.90425,
          0.8714166666666666,
          0.8605416666666666,
          0.7335,
          0.9090833333333334,
          0.9094583333333334,
          0.913875,
          0.8841666666666667,
          0.406625,
          0.91425,
          0.8648333333333333,
          0.8896666666666667,
          0.880125,
          0.9130833333333334,
          0.8979583333333333,
          0.9046666666666666,
          0.9142083333333333,
          0.8862916666666667,
          0.8993333333333333,
          0.89825,
          0.9145833333333333,
          0.8716666666666667,
          0.9102916666666667,
          0.909625,
          0.9043333333333333,
          0.9094166666666667,
          0.9023333333333333,
          0.8648333333333333,
          0.9149583333333333,
          0.907875,
          0.9050833333333334,
          0.8909166666666667,
          0.91125,
          0.9134583333333334,
          0.9064166666666666,
          0.9096666666666666,
          0.91325,
          0.889875,
          0.89875,
          0.910875,
          0.9145416666666667,
          0.912875,
          0.8993333333333333,
          0.8929583333333333,
          0.90775,
          0.908,
          0.8824583333333333,
          0.9145,
          0.90725,
          0.864625,
          0.8566666666666667,
          0.25,
          0.910875,
          0.9124583333333334,
          0.8709583333333333,
          0.8946666666666667,
          0.90375,
          0.9121666666666667,
          0.9130833333333334,
          0.8992916666666667,
          0.8641666666666666,
          0.9055416666666667,
          0.9038333333333334,
          0.9074583333333334,
          0.9037083333333333,
          0.8717916666666666,
          0.8966666666666666,
          0.9003333333333333,
          0.854875,
          0.8690833333333333,
          0.89925,
          0.9142083333333333,
          0.9147083333333333,
          0.8605,
          0.899375,
          0.8752083333333334,
          0.9005833333333333,
          0.8991666666666667,
          0.913125,
          0.91475,
          0.8941666666666667,
          0.9002916666666667,
          0.90375,
          0.9110416666666666,
          0.9117916666666667,
          0.9063333333333333,
          0.9094166666666667,
          0.8590416666666667,
          0.9095833333333333,
          0.9148333333333334,
          0.9095833333333333,
          0.9144583333333334,
          0.8702916666666667,
          0.912625,
          0.8569583333333334,
          0.9143333333333333,
          0.873875,
          0.9094583333333334,
          0.7724166666666666,
          0.91225,
          0.616875,
          0.9139583333333333,
          0.9135416666666667,
          0.9089166666666667,
          0.9119166666666667,
          0.913125,
          0.8875,
          0.883625,
          0.9142916666666666,
          0.909625,
          0.907625,
          0.9141666666666667,
          0.910625,
          0.912875,
          0.9140833333333334,
          0.9079166666666667,
          0.9055833333333333,
          0.899625,
          0.9057916666666667,
          0.89925,
          0.9129166666666667,
          0.9108333333333334,
          0.9125833333333333,
          0.9134166666666667,
          0.9134166666666667,
          0.8578333333333333,
          0.8934583333333334,
          0.9147916666666667,
          0.9114166666666667,
          0.913625,
          0.9079166666666667,
          0.911875,
          0.911875,
          0.9095833333333333,
          0.9144583333333334,
          0.905625,
          0.9074583333333334,
          0.9137916666666667,
          0.9114583333333334,
          0.8708333333333333,
          0.9109166666666667,
          0.8895833333333333,
          0.87025,
          0.8993333333333333,
          0.9135416666666667,
          0.9101666666666667,
          0.91475,
          0.9128333333333334,
          0.9144166666666667,
          0.91125,
          0.9138333333333334,
          0.9143333333333333,
          0.9146666666666666,
          0.9135833333333333,
          0.9124166666666667,
          0.914375,
          0.9146666666666666,
          0.9139583333333333,
          0.9136666666666666,
          0.9077916666666667,
          0.9141666666666667,
          0.9114166666666667,
          0.8699166666666667,
          0.9054583333333334,
          0.9134583333333334,
          0.9096666666666666,
          0.9075833333333333,
          0.91375,
          0.9143333333333333,
          0.8337083333333334,
          0.9038333333333334,
          0.9110833333333334,
          0.913375,
          0.9143333333333333,
          0.9119166666666667,
          0.9142916666666666,
          0.9142083333333333,
          0.914125,
          0.9095833333333333,
          0.9145416666666667,
          0.9141666666666667,
          0.8984166666666666,
          0.9144166666666667,
          0.8821666666666667,
          0.9068333333333334,
          0.890125,
          0.9052083333333333,
          0.857625,
          0.9145,
          0.9121666666666667,
          0.9133333333333333,
          0.8563333333333333,
          0.9142083333333333,
          0.9143333333333333,
          0.8985416666666667,
          0.9137916666666667,
          0.9077916666666667,
          0.9144166666666667,
          0.8739166666666667,
          0.90775,
          0.8927083333333333,
          0.9102083333333333,
          0.8999583333333333,
          0.914625,
          0.8799166666666667,
          0.9147916666666667,
          0.8997083333333333,
          0.914375,
          0.8561666666666666,
          0.9120416666666666,
          0.9111666666666667,
          0.8795833333333334,
          0.8894583333333334,
          0.25,
          0.9135,
          0.9134166666666667,
          0.9089166666666667,
          0.870875,
          0.91475,
          0.9144583333333334,
          0.9134166666666667,
          0.9146666666666666
         ],
         "type": "scatter",
         "xaxis": "x3",
         "yaxis": "y3"
        },
        {
         "marker": {
          "color": [
           0,
           1,
           2,
           3,
           4,
           5,
           6,
           7,
           8,
           9,
           10,
           11,
           12,
           13,
           14,
           15,
           16,
           17,
           18,
           19,
           20,
           21,
           22,
           23,
           24,
           25,
           26,
           27,
           28,
           29,
           30,
           31,
           32,
           33,
           34,
           35,
           36,
           37,
           38,
           39,
           40,
           41,
           42,
           43,
           44,
           45,
           46,
           47,
           48,
           49,
           50,
           51,
           52,
           53,
           54,
           55,
           56,
           57,
           58,
           59,
           60,
           61,
           62,
           63,
           64,
           65,
           66,
           67,
           68,
           69,
           70,
           71,
           72,
           73,
           74,
           75,
           76,
           77,
           78,
           79,
           80,
           81,
           82,
           83,
           84,
           85,
           86,
           87,
           88,
           89,
           90,
           91,
           92,
           93,
           94,
           95,
           96,
           97,
           98,
           99,
           100,
           101,
           102,
           103,
           104,
           105,
           106,
           107,
           108,
           109,
           110,
           111,
           112,
           113,
           114,
           115,
           116,
           117,
           118,
           119,
           120,
           121,
           122,
           123,
           124,
           125,
           126,
           127,
           128,
           129,
           130,
           131,
           132,
           133,
           134,
           135,
           136,
           137,
           138,
           139,
           140,
           141,
           142,
           143,
           144,
           145,
           146,
           147,
           148,
           149,
           150,
           151,
           152,
           153,
           154,
           155,
           156,
           157,
           158,
           159,
           160,
           161,
           162,
           163,
           164,
           165,
           166,
           167,
           168,
           169,
           170,
           171,
           172,
           173,
           174,
           175,
           176,
           177,
           178,
           179,
           180,
           181,
           182,
           183,
           184,
           185,
           186,
           187,
           188,
           189,
           190,
           191,
           192,
           193,
           194,
           195,
           196,
           197,
           198,
           199,
           200,
           201,
           202,
           203,
           204,
           205,
           206,
           207,
           208,
           209,
           210,
           211,
           212,
           213,
           214,
           215,
           216,
           217,
           218,
           219,
           220,
           221,
           222,
           223,
           224,
           225,
           226,
           227,
           228,
           229,
           230,
           231,
           232,
           233,
           234,
           235,
           236,
           237,
           238,
           239,
           240,
           241,
           242,
           243,
           244,
           245,
           246,
           247,
           248,
           249,
           250,
           251,
           252,
           253,
           254,
           255,
           256,
           257,
           258,
           259,
           260,
           261,
           262,
           263,
           264,
           265,
           266,
           267,
           268,
           269,
           270,
           271,
           272,
           273,
           274,
           275,
           276,
           277,
           278,
           279,
           280,
           281,
           282,
           283,
           284,
           285,
           286,
           287,
           288,
           289,
           290,
           291,
           292,
           293,
           294,
           295,
           296,
           297,
           298,
           299
          ],
          "colorbar": {
           "title": {
            "text": "Trial"
           },
           "x": 1.0,
           "xpad": 40
          },
          "colorscale": [
           [
            0.0,
            "rgb(247,251,255)"
           ],
           [
            0.125,
            "rgb(222,235,247)"
           ],
           [
            0.25,
            "rgb(198,219,239)"
           ],
           [
            0.375,
            "rgb(158,202,225)"
           ],
           [
            0.5,
            "rgb(107,174,214)"
           ],
           [
            0.625,
            "rgb(66,146,198)"
           ],
           [
            0.75,
            "rgb(33,113,181)"
           ],
           [
            0.875,
            "rgb(8,81,156)"
           ],
           [
            1.0,
            "rgb(8,48,107)"
           ]
          ],
          "line": {
           "color": "Grey",
           "width": 0.5
          },
          "showscale": false
         },
         "mode": "markers",
         "name": "Feasible Trial",
         "showlegend": false,
         "x": [
          "SGD",
          "LogisticRegression",
          "Ridge",
          "Ridge",
          "SGD",
          "Ridge",
          "SGD",
          "LogisticRegression",
          "LogisticRegression",
          "SGD",
          "Ridge",
          "SGD",
          "Ridge",
          "LogisticRegression",
          "SGD",
          "SGD",
          "Ridge",
          "LogisticRegression",
          "SGD",
          "Ridge",
          "SGD",
          "Ridge",
          "LogisticRegression",
          "LogisticRegression",
          "SGD",
          "Ridge",
          "LogisticRegression",
          "Ridge",
          "LogisticRegression",
          "Ridge",
          "LogisticRegression",
          "Ridge",
          "LogisticRegression",
          "LogisticRegression",
          "SGD",
          "SGD",
          "SGD",
          "LogisticRegression",
          "SGD",
          "SGD",
          "SGD",
          "Ridge",
          "SGD",
          "Ridge",
          "Ridge",
          "SGD",
          "Ridge",
          "LogisticRegression",
          "LogisticRegression",
          "SGD",
          "SGD",
          "Ridge",
          "LogisticRegression",
          "Ridge",
          "Ridge",
          "SGD",
          "SGD",
          "LogisticRegression",
          "Ridge",
          "LogisticRegression",
          "Ridge",
          "Ridge",
          "Ridge",
          "Ridge",
          "Ridge",
          "Ridge",
          "Ridge",
          "SGD",
          "Ridge",
          "SGD",
          "SGD",
          "LogisticRegression",
          "SGD",
          "LogisticRegression",
          "LogisticRegression",
          "Ridge",
          "SGD",
          "Ridge",
          "Ridge",
          "LogisticRegression",
          "LogisticRegression",
          "SGD",
          "LogisticRegression",
          "Ridge",
          "Ridge",
          "LogisticRegression",
          "SGD",
          "Ridge",
          "Ridge",
          "Ridge",
          "SGD",
          "Ridge",
          "LogisticRegression",
          "Ridge",
          "Ridge",
          "SGD",
          "Ridge",
          "LogisticRegression",
          "Ridge",
          "LogisticRegression",
          "Ridge",
          "Ridge",
          "Ridge",
          "Ridge",
          "LogisticRegression",
          "Ridge",
          "LogisticRegression",
          "LogisticRegression",
          "LogisticRegression",
          "SGD",
          "Ridge",
          "LogisticRegression",
          "SGD",
          "Ridge",
          "Ridge",
          "Ridge",
          "LogisticRegression",
          "Ridge",
          "Ridge",
          "Ridge",
          "Ridge",
          "LogisticRegression",
          "Ridge",
          "LogisticRegression",
          "LogisticRegression",
          "Ridge",
          "Ridge",
          "SGD",
          "LogisticRegression",
          "SGD",
          "LogisticRegression",
          "Ridge",
          "SGD",
          "SGD",
          "Ridge",
          "Ridge",
          "Ridge",
          "SGD",
          "LogisticRegression",
          "LogisticRegression",
          "Ridge",
          "Ridge",
          "Ridge",
          "SGD",
          "SGD",
          "SGD",
          "LogisticRegression",
          "LogisticRegression",
          "Ridge",
          "Ridge",
          "Ridge",
          "SGD",
          "Ridge",
          "LogisticRegression",
          "LogisticRegression",
          "Ridge",
          "Ridge",
          "LogisticRegression",
          "LogisticRegression",
          "LogisticRegression",
          "Ridge",
          "Ridge",
          "LogisticRegression",
          "LogisticRegression",
          "LogisticRegression",
          "LogisticRegression",
          "Ridge",
          "Ridge",
          "Ridge",
          "Ridge",
          "SGD",
          "Ridge",
          "LogisticRegression",
          "Ridge",
          "LogisticRegression",
          "LogisticRegression",
          "SGD",
          "LogisticRegression",
          "SGD",
          "Ridge",
          "Ridge",
          "LogisticRegression",
          "Ridge",
          "Ridge",
          "LogisticRegression",
          "SGD",
          "Ridge",
          "Ridge",
          "Ridge",
          "Ridge",
          "LogisticRegression",
          "Ridge",
          "Ridge",
          "Ridge",
          "Ridge",
          "LogisticRegression",
          "Ridge",
          "Ridge",
          "Ridge",
          "Ridge",
          "Ridge",
          "Ridge",
          "Ridge",
          "SGD",
          "LogisticRegression",
          "Ridge",
          "LogisticRegression",
          "Ridge",
          "Ridge",
          "Ridge",
          "Ridge",
          "Ridge",
          "Ridge",
          "Ridge",
          "Ridge",
          "Ridge",
          "Ridge",
          "LogisticRegression",
          "LogisticRegression",
          "Ridge",
          "LogisticRegression",
          "Ridge",
          "Ridge",
          "SGD",
          "Ridge",
          "Ridge",
          "Ridge",
          "Ridge",
          "Ridge",
          "Ridge",
          "LogisticRegression",
          "Ridge",
          "Ridge",
          "Ridge",
          "Ridge",
          "Ridge",
          "Ridge",
          "Ridge",
          "Ridge",
          "LogisticRegression",
          "LogisticRegression",
          "Ridge",
          "Ridge",
          "Ridge",
          "LogisticRegression",
          "Ridge",
          "Ridge",
          "SGD",
          "Ridge",
          "Ridge",
          "Ridge",
          "Ridge",
          "Ridge",
          "Ridge",
          "Ridge",
          "Ridge",
          "Ridge",
          "Ridge",
          "Ridge",
          "LogisticRegression",
          "Ridge",
          "LogisticRegression",
          "Ridge",
          "Ridge",
          "LogisticRegression",
          "LogisticRegression",
          "Ridge",
          "Ridge",
          "LogisticRegression",
          "LogisticRegression",
          "Ridge",
          "Ridge",
          "SGD",
          "Ridge",
          "Ridge",
          "Ridge",
          "LogisticRegression",
          "Ridge",
          "SGD",
          "LogisticRegression",
          "Ridge",
          "Ridge",
          "LogisticRegression",
          "Ridge",
          "SGD",
          "Ridge",
          "LogisticRegression",
          "LogisticRegression",
          "Ridge",
          "LogisticRegression",
          "Ridge",
          "SGD",
          "Ridge",
          "Ridge",
          "LogisticRegression",
          "SGD",
          "LogisticRegression",
          "Ridge",
          "Ridge",
          "Ridge"
         ],
         "y": [
          0.8589166666666667,
          0.885875,
          0.9044166666666666,
          0.9137083333333333,
          0.89825,
          0.9037083333333333,
          0.8707916666666666,
          0.8904166666666666,
          0.8684166666666666,
          0.8372916666666667,
          0.9095416666666667,
          0.8387916666666667,
          0.9122083333333333,
          0.8720416666666667,
          0.889875,
          0.3797083333333333,
          0.9055833333333333,
          0.8570833333333333,
          0.7634583333333333,
          0.9035833333333333,
          0.8912083333333334,
          0.8894583333333334,
          0.8869583333333333,
          0.87,
          0.8790416666666667,
          0.904375,
          0.9005,
          0.9075833333333333,
          0.8905833333333333,
          0.9109166666666667,
          0.8745416666666667,
          0.9142916666666666,
          0.896875,
          0.9045,
          0.8563333333333333,
          0.8897083333333333,
          0.7654166666666666,
          0.8585,
          0.7248333333333333,
          0.42454166666666665,
          0.895,
          0.90575,
          0.9084166666666667,
          0.91475,
          0.91325,
          0.860125,
          0.9131666666666667,
          0.9125,
          0.9114166666666667,
          0.8874166666666666,
          0.9080833333333334,
          0.8648333333333333,
          0.9047083333333333,
          0.8992083333333334,
          0.9133333333333333,
          0.8958333333333334,
          0.9015416666666667,
          0.8941666666666667,
          0.9105833333333333,
          0.9058333333333334,
          0.9114583333333334,
          0.9142916666666666,
          0.9129166666666667,
          0.9090833333333334,
          0.8898333333333334,
          0.9100416666666666,
          0.9096666666666666,
          0.8615,
          0.9110416666666666,
          0.8733333333333333,
          0.8815833333333334,
          0.91125,
          0.8605833333333334,
          0.9025833333333333,
          0.8705833333333334,
          0.8900416666666666,
          0.85575,
          0.91,
          0.90425,
          0.8714166666666666,
          0.8605416666666666,
          0.7335,
          0.9090833333333334,
          0.9094583333333334,
          0.913875,
          0.8841666666666667,
          0.406625,
          0.91425,
          0.8648333333333333,
          0.8896666666666667,
          0.880125,
          0.9130833333333334,
          0.8979583333333333,
          0.9046666666666666,
          0.9142083333333333,
          0.8862916666666667,
          0.8993333333333333,
          0.89825,
          0.9145833333333333,
          0.8716666666666667,
          0.9102916666666667,
          0.909625,
          0.9043333333333333,
          0.9094166666666667,
          0.9023333333333333,
          0.8648333333333333,
          0.9149583333333333,
          0.907875,
          0.9050833333333334,
          0.8909166666666667,
          0.91125,
          0.9134583333333334,
          0.9064166666666666,
          0.9096666666666666,
          0.91325,
          0.889875,
          0.89875,
          0.910875,
          0.9145416666666667,
          0.912875,
          0.8993333333333333,
          0.8929583333333333,
          0.90775,
          0.908,
          0.8824583333333333,
          0.9145,
          0.90725,
          0.864625,
          0.8566666666666667,
          0.25,
          0.910875,
          0.9124583333333334,
          0.8709583333333333,
          0.8946666666666667,
          0.90375,
          0.9121666666666667,
          0.9130833333333334,
          0.8992916666666667,
          0.8641666666666666,
          0.9055416666666667,
          0.9038333333333334,
          0.9074583333333334,
          0.9037083333333333,
          0.8717916666666666,
          0.8966666666666666,
          0.9003333333333333,
          0.854875,
          0.8690833333333333,
          0.89925,
          0.9142083333333333,
          0.9147083333333333,
          0.8605,
          0.899375,
          0.8752083333333334,
          0.9005833333333333,
          0.8991666666666667,
          0.913125,
          0.91475,
          0.8941666666666667,
          0.9002916666666667,
          0.90375,
          0.9110416666666666,
          0.9117916666666667,
          0.9063333333333333,
          0.9094166666666667,
          0.8590416666666667,
          0.9095833333333333,
          0.9148333333333334,
          0.9095833333333333,
          0.9144583333333334,
          0.8702916666666667,
          0.912625,
          0.8569583333333334,
          0.9143333333333333,
          0.873875,
          0.9094583333333334,
          0.7724166666666666,
          0.91225,
          0.616875,
          0.9139583333333333,
          0.9135416666666667,
          0.9089166666666667,
          0.9119166666666667,
          0.913125,
          0.8875,
          0.883625,
          0.9142916666666666,
          0.909625,
          0.907625,
          0.9141666666666667,
          0.910625,
          0.912875,
          0.9140833333333334,
          0.9079166666666667,
          0.9055833333333333,
          0.899625,
          0.9057916666666667,
          0.89925,
          0.9129166666666667,
          0.9108333333333334,
          0.9125833333333333,
          0.9134166666666667,
          0.9134166666666667,
          0.8578333333333333,
          0.8934583333333334,
          0.9147916666666667,
          0.9114166666666667,
          0.913625,
          0.9079166666666667,
          0.911875,
          0.911875,
          0.9095833333333333,
          0.9144583333333334,
          0.905625,
          0.9074583333333334,
          0.9137916666666667,
          0.9114583333333334,
          0.8708333333333333,
          0.9109166666666667,
          0.8895833333333333,
          0.87025,
          0.8993333333333333,
          0.9135416666666667,
          0.9101666666666667,
          0.91475,
          0.9128333333333334,
          0.9144166666666667,
          0.91125,
          0.9138333333333334,
          0.9143333333333333,
          0.9146666666666666,
          0.9135833333333333,
          0.9124166666666667,
          0.914375,
          0.9146666666666666,
          0.9139583333333333,
          0.9136666666666666,
          0.9077916666666667,
          0.9141666666666667,
          0.9114166666666667,
          0.8699166666666667,
          0.9054583333333334,
          0.9134583333333334,
          0.9096666666666666,
          0.9075833333333333,
          0.91375,
          0.9143333333333333,
          0.8337083333333334,
          0.9038333333333334,
          0.9110833333333334,
          0.913375,
          0.9143333333333333,
          0.9119166666666667,
          0.9142916666666666,
          0.9142083333333333,
          0.914125,
          0.9095833333333333,
          0.9145416666666667,
          0.9141666666666667,
          0.8984166666666666,
          0.9144166666666667,
          0.8821666666666667,
          0.9068333333333334,
          0.890125,
          0.9052083333333333,
          0.857625,
          0.9145,
          0.9121666666666667,
          0.9133333333333333,
          0.8563333333333333,
          0.9142083333333333,
          0.9143333333333333,
          0.8985416666666667,
          0.9137916666666667,
          0.9077916666666667,
          0.9144166666666667,
          0.8739166666666667,
          0.90775,
          0.8927083333333333,
          0.9102083333333333,
          0.8999583333333333,
          0.914625,
          0.8799166666666667,
          0.9147916666666667,
          0.8997083333333333,
          0.914375,
          0.8561666666666666,
          0.9120416666666666,
          0.9111666666666667,
          0.8795833333333334,
          0.8894583333333334,
          0.25,
          0.9135,
          0.9134166666666667,
          0.9089166666666667,
          0.870875,
          0.91475,
          0.9144583333333334,
          0.9134166666666667,
          0.9146666666666666
         ],
         "type": "scatter",
         "xaxis": "x4",
         "yaxis": "y4"
        },
        {
         "marker": {
          "color": [
           0,
           4,
           6,
           9,
           11,
           14,
           15,
           18,
           20,
           24,
           34,
           35,
           36,
           38,
           39,
           40,
           42,
           45,
           49,
           50,
           55,
           56,
           67,
           69,
           70,
           72,
           76,
           81,
           86,
           90,
           95,
           109,
           112,
           127,
           129,
           132,
           133,
           137,
           143,
           144,
           145,
           151,
           170,
           176,
           178,
           185,
           203,
           223,
           247,
           272,
           278,
           284,
           291,
           295
          ],
          "colorbar": {
           "title": {
            "text": "Trial"
           },
           "x": 1.0,
           "xpad": 40
          },
          "colorscale": [
           [
            0.0,
            "rgb(247,251,255)"
           ],
           [
            0.125,
            "rgb(222,235,247)"
           ],
           [
            0.25,
            "rgb(198,219,239)"
           ],
           [
            0.375,
            "rgb(158,202,225)"
           ],
           [
            0.5,
            "rgb(107,174,214)"
           ],
           [
            0.625,
            "rgb(66,146,198)"
           ],
           [
            0.75,
            "rgb(33,113,181)"
           ],
           [
            0.875,
            "rgb(8,81,156)"
           ],
           [
            1.0,
            "rgb(8,48,107)"
           ]
          ],
          "line": {
           "color": "Grey",
           "width": 0.5
          },
          "showscale": false
         },
         "mode": "markers",
         "name": "Feasible Trial",
         "showlegend": false,
         "x": [
          "l2",
          "l2",
          "l1",
          "l1",
          "l1",
          "l2",
          "l1",
          "l1",
          "l2",
          "l1",
          "l2",
          "l2",
          "l1",
          "l1",
          "l1",
          "l1",
          "l1",
          "l2",
          "l1",
          "l1",
          "l1",
          "l2",
          "l1",
          "l1",
          "l2",
          "l2",
          "l1",
          "l1",
          "l1",
          "l2",
          "l1",
          "l2",
          "l1",
          "l2",
          "l1",
          "l2",
          "l1",
          "l2",
          "l2",
          "l2",
          "l2",
          "l1",
          "l1",
          "l1",
          "l1",
          "l2",
          "l2",
          "l2",
          "l1",
          "l1",
          "l2",
          "l2",
          "l1",
          "l2"
         ],
         "y": [
          0.8589166666666667,
          0.89825,
          0.8707916666666666,
          0.8372916666666667,
          0.8387916666666667,
          0.889875,
          0.3797083333333333,
          0.7634583333333333,
          0.8912083333333334,
          0.8790416666666667,
          0.8563333333333333,
          0.8897083333333333,
          0.7654166666666666,
          0.7248333333333333,
          0.42454166666666665,
          0.895,
          0.9084166666666667,
          0.860125,
          0.8874166666666666,
          0.9080833333333334,
          0.8958333333333334,
          0.9015416666666667,
          0.8615,
          0.8733333333333333,
          0.8815833333333334,
          0.8605833333333334,
          0.85575,
          0.7335,
          0.406625,
          0.880125,
          0.8862916666666667,
          0.8909166666666667,
          0.9064166666666666,
          0.864625,
          0.25,
          0.8709583333333333,
          0.8946666666666667,
          0.8992916666666667,
          0.8717916666666666,
          0.8966666666666666,
          0.9003333333333333,
          0.8605,
          0.8702916666666667,
          0.7724166666666666,
          0.616875,
          0.883625,
          0.8578333333333333,
          0.9101666666666667,
          0.8337083333333334,
          0.8985416666666667,
          0.8927083333333333,
          0.8997083333333333,
          0.25,
          0.870875
         ],
         "type": "scatter",
         "xaxis": "x5",
         "yaxis": "y5"
        }
       ],
       "layout": {
        "template": {
         "data": {
          "histogram2dcontour": [
           {
            "type": "histogram2dcontour",
            "colorbar": {
             "outlinewidth": 0,
             "ticks": ""
            },
            "colorscale": [
             [
              0.0,
              "#0d0887"
             ],
             [
              0.1111111111111111,
              "#46039f"
             ],
             [
              0.2222222222222222,
              "#7201a8"
             ],
             [
              0.3333333333333333,
              "#9c179e"
             ],
             [
              0.4444444444444444,
              "#bd3786"
             ],
             [
              0.5555555555555556,
              "#d8576b"
             ],
             [
              0.6666666666666666,
              "#ed7953"
             ],
             [
              0.7777777777777778,
              "#fb9f3a"
             ],
             [
              0.8888888888888888,
              "#fdca26"
             ],
             [
              1.0,
              "#f0f921"
             ]
            ]
           }
          ],
          "choropleth": [
           {
            "type": "choropleth",
            "colorbar": {
             "outlinewidth": 0,
             "ticks": ""
            }
           }
          ],
          "histogram2d": [
           {
            "type": "histogram2d",
            "colorbar": {
             "outlinewidth": 0,
             "ticks": ""
            },
            "colorscale": [
             [
              0.0,
              "#0d0887"
             ],
             [
              0.1111111111111111,
              "#46039f"
             ],
             [
              0.2222222222222222,
              "#7201a8"
             ],
             [
              0.3333333333333333,
              "#9c179e"
             ],
             [
              0.4444444444444444,
              "#bd3786"
             ],
             [
              0.5555555555555556,
              "#d8576b"
             ],
             [
              0.6666666666666666,
              "#ed7953"
             ],
             [
              0.7777777777777778,
              "#fb9f3a"
             ],
             [
              0.8888888888888888,
              "#fdca26"
             ],
             [
              1.0,
              "#f0f921"
             ]
            ]
           }
          ],
          "heatmap": [
           {
            "type": "heatmap",
            "colorbar": {
             "outlinewidth": 0,
             "ticks": ""
            },
            "colorscale": [
             [
              0.0,
              "#0d0887"
             ],
             [
              0.1111111111111111,
              "#46039f"
             ],
             [
              0.2222222222222222,
              "#7201a8"
             ],
             [
              0.3333333333333333,
              "#9c179e"
             ],
             [
              0.4444444444444444,
              "#bd3786"
             ],
             [
              0.5555555555555556,
              "#d8576b"
             ],
             [
              0.6666666666666666,
              "#ed7953"
             ],
             [
              0.7777777777777778,
              "#fb9f3a"
             ],
             [
              0.8888888888888888,
              "#fdca26"
             ],
             [
              1.0,
              "#f0f921"
             ]
            ]
           }
          ],
          "contourcarpet": [
           {
            "type": "contourcarpet",
            "colorbar": {
             "outlinewidth": 0,
             "ticks": ""
            }
           }
          ],
          "contour": [
           {
            "type": "contour",
            "colorbar": {
             "outlinewidth": 0,
             "ticks": ""
            },
            "colorscale": [
             [
              0.0,
              "#0d0887"
             ],
             [
              0.1111111111111111,
              "#46039f"
             ],
             [
              0.2222222222222222,
              "#7201a8"
             ],
             [
              0.3333333333333333,
              "#9c179e"
             ],
             [
              0.4444444444444444,
              "#bd3786"
             ],
             [
              0.5555555555555556,
              "#d8576b"
             ],
             [
              0.6666666666666666,
              "#ed7953"
             ],
             [
              0.7777777777777778,
              "#fb9f3a"
             ],
             [
              0.8888888888888888,
              "#fdca26"
             ],
             [
              1.0,
              "#f0f921"
             ]
            ]
           }
          ],
          "surface": [
           {
            "type": "surface",
            "colorbar": {
             "outlinewidth": 0,
             "ticks": ""
            },
            "colorscale": [
             [
              0.0,
              "#0d0887"
             ],
             [
              0.1111111111111111,
              "#46039f"
             ],
             [
              0.2222222222222222,
              "#7201a8"
             ],
             [
              0.3333333333333333,
              "#9c179e"
             ],
             [
              0.4444444444444444,
              "#bd3786"
             ],
             [
              0.5555555555555556,
              "#d8576b"
             ],
             [
              0.6666666666666666,
              "#ed7953"
             ],
             [
              0.7777777777777778,
              "#fb9f3a"
             ],
             [
              0.8888888888888888,
              "#fdca26"
             ],
             [
              1.0,
              "#f0f921"
             ]
            ]
           }
          ],
          "mesh3d": [
           {
            "type": "mesh3d",
            "colorbar": {
             "outlinewidth": 0,
             "ticks": ""
            }
           }
          ],
          "scatter": [
           {
            "fillpattern": {
             "fillmode": "overlay",
             "size": 10,
             "solidity": 0.2
            },
            "type": "scatter"
           }
          ],
          "parcoords": [
           {
            "type": "parcoords",
            "line": {
             "colorbar": {
              "outlinewidth": 0,
              "ticks": ""
             }
            }
           }
          ],
          "scatterpolargl": [
           {
            "type": "scatterpolargl",
            "marker": {
             "colorbar": {
              "outlinewidth": 0,
              "ticks": ""
             }
            }
           }
          ],
          "bar": [
           {
            "error_x": {
             "color": "#2a3f5f"
            },
            "error_y": {
             "color": "#2a3f5f"
            },
            "marker": {
             "line": {
              "color": "#E5ECF6",
              "width": 0.5
             },
             "pattern": {
              "fillmode": "overlay",
              "size": 10,
              "solidity": 0.2
             }
            },
            "type": "bar"
           }
          ],
          "scattergeo": [
           {
            "type": "scattergeo",
            "marker": {
             "colorbar": {
              "outlinewidth": 0,
              "ticks": ""
             }
            }
           }
          ],
          "scatterpolar": [
           {
            "type": "scatterpolar",
            "marker": {
             "colorbar": {
              "outlinewidth": 0,
              "ticks": ""
             }
            }
           }
          ],
          "histogram": [
           {
            "marker": {
             "pattern": {
              "fillmode": "overlay",
              "size": 10,
              "solidity": 0.2
             }
            },
            "type": "histogram"
           }
          ],
          "scattergl": [
           {
            "type": "scattergl",
            "marker": {
             "colorbar": {
              "outlinewidth": 0,
              "ticks": ""
             }
            }
           }
          ],
          "scatter3d": [
           {
            "type": "scatter3d",
            "line": {
             "colorbar": {
              "outlinewidth": 0,
              "ticks": ""
             }
            },
            "marker": {
             "colorbar": {
              "outlinewidth": 0,
              "ticks": ""
             }
            }
           }
          ],
          "scattermap": [
           {
            "type": "scattermap",
            "marker": {
             "colorbar": {
              "outlinewidth": 0,
              "ticks": ""
             }
            }
           }
          ],
          "scattermapbox": [
           {
            "type": "scattermapbox",
            "marker": {
             "colorbar": {
              "outlinewidth": 0,
              "ticks": ""
             }
            }
           }
          ],
          "scatterternary": [
           {
            "type": "scatterternary",
            "marker": {
             "colorbar": {
              "outlinewidth": 0,
              "ticks": ""
             }
            }
           }
          ],
          "scattercarpet": [
           {
            "type": "scattercarpet",
            "marker": {
             "colorbar": {
              "outlinewidth": 0,
              "ticks": ""
             }
            }
           }
          ],
          "carpet": [
           {
            "aaxis": {
             "endlinecolor": "#2a3f5f",
             "gridcolor": "white",
             "linecolor": "white",
             "minorgridcolor": "white",
             "startlinecolor": "#2a3f5f"
            },
            "baxis": {
             "endlinecolor": "#2a3f5f",
             "gridcolor": "white",
             "linecolor": "white",
             "minorgridcolor": "white",
             "startlinecolor": "#2a3f5f"
            },
            "type": "carpet"
           }
          ],
          "table": [
           {
            "cells": {
             "fill": {
              "color": "#EBF0F8"
             },
             "line": {
              "color": "white"
             }
            },
            "header": {
             "fill": {
              "color": "#C8D4E3"
             },
             "line": {
              "color": "white"
             }
            },
            "type": "table"
           }
          ],
          "barpolar": [
           {
            "marker": {
             "line": {
              "color": "#E5ECF6",
              "width": 0.5
             },
             "pattern": {
              "fillmode": "overlay",
              "size": 10,
              "solidity": 0.2
             }
            },
            "type": "barpolar"
           }
          ],
          "pie": [
           {
            "automargin": true,
            "type": "pie"
           }
          ]
         },
         "layout": {
          "autotypenumbers": "strict",
          "colorway": [
           "#636efa",
           "#EF553B",
           "#00cc96",
           "#ab63fa",
           "#FFA15A",
           "#19d3f3",
           "#FF6692",
           "#B6E880",
           "#FF97FF",
           "#FECB52"
          ],
          "font": {
           "color": "#2a3f5f"
          },
          "hovermode": "closest",
          "hoverlabel": {
           "align": "left"
          },
          "paper_bgcolor": "white",
          "plot_bgcolor": "#E5ECF6",
          "polar": {
           "bgcolor": "#E5ECF6",
           "angularaxis": {
            "gridcolor": "white",
            "linecolor": "white",
            "ticks": ""
           },
           "radialaxis": {
            "gridcolor": "white",
            "linecolor": "white",
            "ticks": ""
           }
          },
          "ternary": {
           "bgcolor": "#E5ECF6",
           "aaxis": {
            "gridcolor": "white",
            "linecolor": "white",
            "ticks": ""
           },
           "baxis": {
            "gridcolor": "white",
            "linecolor": "white",
            "ticks": ""
           },
           "caxis": {
            "gridcolor": "white",
            "linecolor": "white",
            "ticks": ""
           }
          },
          "coloraxis": {
           "colorbar": {
            "outlinewidth": 0,
            "ticks": ""
           }
          },
          "colorscale": {
           "sequential": [
            [
             0.0,
             "#0d0887"
            ],
            [
             0.1111111111111111,
             "#46039f"
            ],
            [
             0.2222222222222222,
             "#7201a8"
            ],
            [
             0.3333333333333333,
             "#9c179e"
            ],
            [
             0.4444444444444444,
             "#bd3786"
            ],
            [
             0.5555555555555556,
             "#d8576b"
            ],
            [
             0.6666666666666666,
             "#ed7953"
            ],
            [
             0.7777777777777778,
             "#fb9f3a"
            ],
            [
             0.8888888888888888,
             "#fdca26"
            ],
            [
             1.0,
             "#f0f921"
            ]
           ],
           "sequentialminus": [
            [
             0.0,
             "#0d0887"
            ],
            [
             0.1111111111111111,
             "#46039f"
            ],
            [
             0.2222222222222222,
             "#7201a8"
            ],
            [
             0.3333333333333333,
             "#9c179e"
            ],
            [
             0.4444444444444444,
             "#bd3786"
            ],
            [
             0.5555555555555556,
             "#d8576b"
            ],
            [
             0.6666666666666666,
             "#ed7953"
            ],
            [
             0.7777777777777778,
             "#fb9f3a"
            ],
            [
             0.8888888888888888,
             "#fdca26"
            ],
            [
             1.0,
             "#f0f921"
            ]
           ],
           "diverging": [
            [
             0,
             "#8e0152"
            ],
            [
             0.1,
             "#c51b7d"
            ],
            [
             0.2,
             "#de77ae"
            ],
            [
             0.3,
             "#f1b6da"
            ],
            [
             0.4,
             "#fde0ef"
            ],
            [
             0.5,
             "#f7f7f7"
            ],
            [
             0.6,
             "#e6f5d0"
            ],
            [
             0.7,
             "#b8e186"
            ],
            [
             0.8,
             "#7fbc41"
            ],
            [
             0.9,
             "#4d9221"
            ],
            [
             1,
             "#276419"
            ]
           ]
          },
          "xaxis": {
           "gridcolor": "white",
           "linecolor": "white",
           "ticks": "",
           "title": {
            "standoff": 15
           },
           "zerolinecolor": "white",
           "automargin": true,
           "zerolinewidth": 2
          },
          "yaxis": {
           "gridcolor": "white",
           "linecolor": "white",
           "ticks": "",
           "title": {
            "standoff": 15
           },
           "zerolinecolor": "white",
           "automargin": true,
           "zerolinewidth": 2
          },
          "scene": {
           "xaxis": {
            "backgroundcolor": "#E5ECF6",
            "gridcolor": "white",
            "linecolor": "white",
            "showbackground": true,
            "ticks": "",
            "zerolinecolor": "white",
            "gridwidth": 2
           },
           "yaxis": {
            "backgroundcolor": "#E5ECF6",
            "gridcolor": "white",
            "linecolor": "white",
            "showbackground": true,
            "ticks": "",
            "zerolinecolor": "white",
            "gridwidth": 2
           },
           "zaxis": {
            "backgroundcolor": "#E5ECF6",
            "gridcolor": "white",
            "linecolor": "white",
            "showbackground": true,
            "ticks": "",
            "zerolinecolor": "white",
            "gridwidth": 2
           }
          },
          "shapedefaults": {
           "line": {
            "color": "#2a3f5f"
           }
          },
          "annotationdefaults": {
           "arrowcolor": "#2a3f5f",
           "arrowhead": 0,
           "arrowwidth": 1
          },
          "geo": {
           "bgcolor": "white",
           "landcolor": "#E5ECF6",
           "subunitcolor": "white",
           "showland": true,
           "showlakes": true,
           "lakecolor": "white"
          },
          "title": {
           "x": 0.05
          },
          "mapbox": {
           "style": "light"
          }
         }
        },
        "xaxis": {
         "anchor": "y",
         "domain": [
          0.0,
          0.16799999999999998
         ],
         "title": {
          "text": "C"
         },
         "type": "log"
        },
        "yaxis": {
         "anchor": "x",
         "domain": [
          0.0,
          1.0
         ],
         "title": {
          "text": "Objective Value"
         }
        },
        "xaxis2": {
         "anchor": "y2",
         "domain": [
          0.208,
          0.376
         ],
         "title": {
          "text": "alpha"
         },
         "type": "log"
        },
        "yaxis2": {
         "anchor": "x2",
         "domain": [
          0.0,
          1.0
         ],
         "matches": "y",
         "showticklabels": false
        },
        "xaxis3": {
         "anchor": "y3",
         "domain": [
          0.416,
          0.584
         ],
         "title": {
          "text": "max_features"
         }
        },
        "yaxis3": {
         "anchor": "x3",
         "domain": [
          0.0,
          1.0
         ],
         "matches": "y",
         "showticklabels": false
        },
        "xaxis4": {
         "anchor": "y4",
         "domain": [
          0.624,
          0.792
         ],
         "title": {
          "text": "model"
         },
         "type": "category",
         "categoryorder": "array",
         "categoryarray": [
          "LogisticRegression",
          "SGD",
          "Ridge"
         ]
        },
        "yaxis4": {
         "anchor": "x4",
         "domain": [
          0.0,
          1.0
         ],
         "matches": "y",
         "showticklabels": false
        },
        "xaxis5": {
         "anchor": "y5",
         "domain": [
          0.832,
          1.0
         ],
         "title": {
          "text": "penalty"
         },
         "type": "category",
         "categoryorder": "array",
         "categoryarray": [
          "l2",
          "l1"
         ]
        },
        "yaxis5": {
         "anchor": "x5",
         "domain": [
          0.0,
          1.0
         ],
         "matches": "y",
         "showticklabels": false
        },
        "title": {
         "text": "Slice Plot"
        },
        "width": 1500
       },
       "config": {
        "plotlyServerURL": "https://plot.ly"
       }
      }
     },
     "metadata": {},
     "output_type": "display_data"
    }
   ],
   "execution_count": 9
  },
  {
   "metadata": {
    "ExecuteTime": {
     "end_time": "2025-06-22T16:55:23.549474Z",
     "start_time": "2025-06-22T16:55:10.814657Z"
    }
   },
   "cell_type": "code",
   "source": [
    "from sklearn.metrics import accuracy_score, classification_report, confusion_matrix\n",
    "from sklearn.feature_extraction.text import TfidfVectorizer\n",
    "from sklearn.linear_model import LogisticRegression, SGDClassifier, RidgeClassifier\n",
    "from sklearn.pipeline import Pipeline\n",
    "\n",
    "# Sélection du meilleur essai selon F1 macro (index 0)\n",
    "best_trial = max(study.best_trials, key=lambda t: t.values[0])\n",
    "best_params = best_trial.params\n",
    "\n",
    "# Vectorizer\n",
    "vectorizer = TfidfVectorizer(max_features=best_params[\"max_features\"])\n",
    "\n",
    "# Sélection du modèle en fonction des paramètres\n",
    "model_name = best_params[\"model\"]\n",
    "\n",
    "if model_name == \"LogisticRegression\":\n",
    "    clf = LogisticRegression(\n",
    "        max_iter=1000,\n",
    "        C=best_params[\"C\"]\n",
    "    )\n",
    "\n",
    "elif model_name == \"SGD\":\n",
    "    clf = SGDClassifier(\n",
    "        loss=\"log_loss\",\n",
    "        penalty=best_params[\"penalty\"],\n",
    "        alpha=best_params[\"alpha\"],\n",
    "        max_iter=1000,\n",
    "        random_state=42\n",
    "    )\n",
    "\n",
    "elif model_name == \"Ridge\":\n",
    "    clf = RidgeClassifier(\n",
    "        alpha=best_params[\"alpha\"]\n",
    "    )\n",
    "\n",
    "else:\n",
    "    raise ValueError(f\"Modèle non reconnu : {model_name}\")\n",
    "\n",
    "# Création du pipeline\n",
    "pipeline = Pipeline([\n",
    "    (\"vectorizer\", vectorizer),\n",
    "    (\"classifier\", clf)\n",
    "])\n",
    "\n",
    "# Entraînement final\n",
    "pipeline.fit(X_train, y_train)\n",
    "preds = pipeline.predict(X_test)\n",
    "\n",
    "# Résultats\n",
    "print(f\"\\n📌 Meilleur modèle : {model_name}\")\n",
    "print(\"\\nClassification Report :\")\n",
    "print(classification_report(y_test, preds))"
   ],
   "outputs": [
    {
     "name": "stdout",
     "output_type": "stream",
     "text": [
      "\n",
      "📌 Meilleur modèle : LogisticRegression\n",
      "\n",
      "Classification Report :\n",
      "              precision    recall  f1-score   support\n",
      "\n",
      "           0       0.93      0.90      0.91      6000\n",
      "           1       0.95      0.98      0.97      6000\n",
      "           2       0.89      0.89      0.89      6000\n",
      "           3       0.89      0.89      0.89      6000\n",
      "\n",
      "    accuracy                           0.91     24000\n",
      "   macro avg       0.91      0.91      0.91     24000\n",
      "weighted avg       0.91      0.91      0.91     24000\n",
      "\n"
     ]
    }
   ],
   "execution_count": 10
  },
  {
   "metadata": {
    "ExecuteTime": {
     "end_time": "2025-06-22T16:55:23.710495Z",
     "start_time": "2025-06-22T16:55:23.562498Z"
    }
   },
   "cell_type": "code",
   "source": [
    "import matplotlib.pyplot as plt\n",
    "import seaborn as sns\n",
    "from sklearn.metrics import confusion_matrix\n",
    "\n",
    "# Génération de la matrice\n",
    "cm = confusion_matrix(y_test, preds)\n",
    "labels = [0, 1, 2, 3]\n",
    "\n",
    "# Tracé avec seaborn\n",
    "plt.figure(figsize=(8, 6))\n",
    "sns.heatmap(cm, annot=True, fmt=\"d\", cmap=\"Blues\", xticklabels=labels, yticklabels=labels)\n",
    "\n",
    "plt.title(\"Matrice de confusion\")\n",
    "plt.xlabel(\"Prédictions\")\n",
    "plt.ylabel(\"Vraies classes\")\n",
    "plt.show()"
   ],
   "outputs": [
    {
     "data": {
      "text/plain": [
       "<Figure size 800x600 with 2 Axes>"
      ],
      "image/png": "[encoded data removed]"
     },
     "metadata": {},
     "output_type": "display_data"
    }
   ],
   "execution_count": 11
  },
  {
   "metadata": {
    "ExecuteTime": {
     "end_time": "2025-06-22T16:55:24.039847Z",
     "start_time": "2025-06-22T16:55:23.726710Z"
    }
   },
   "cell_type": "code",
   "source": [
    "from sklearn.preprocessing import label_binarize\n",
    "from sklearn.metrics import roc_curve, auc\n",
    "from sklearn.metrics import RocCurveDisplay\n",
    "from sklearn.multiclass import OneVsRestClassifier\n",
    "import matplotlib.pyplot as plt\n",
    "import numpy as np\n",
    "\n",
    "# Binarisation des labels\n",
    "classes = sorted(list(set(y_test)))\n",
    "y_test_bin = label_binarize(y_test, classes=classes)\n",
    "n_classes = y_test_bin.shape[1]\n",
    "\n",
    "# Si le modèle ne supporte pas predict_proba (ex: RidgeClassifier), on essaie decision_function\n",
    "if hasattr(pipeline.named_steps[\"classifier\"], \"predict_proba\"):\n",
    "    y_score = pipeline.predict_proba(X_test)\n",
    "elif hasattr(pipeline.named_steps[\"classifier\"], \"decision_function\"):\n",
    "    y_score = pipeline.decision_function(X_test)\n",
    "else:\n",
    "    raise RuntimeError(\"Ce modèle ne fournit ni predict_proba ni decision_function.\")\n",
    "\n",
    "# Courbe ROC par classe\n",
    "fpr = {}\n",
    "tpr = {}\n",
    "roc_auc = {}\n",
    "\n",
    "for i in range(n_classes):\n",
    "    fpr[i], tpr[i], _ = roc_curve(y_test_bin[:, i], y_score[:, i])\n",
    "    roc_auc[i] = auc(fpr[i], tpr[i])\n",
    "\n",
    "# Tracer les courbes ROC\n",
    "plt.figure(figsize=(10, 7))\n",
    "colors = [\"blue\", \"orange\", \"green\", \"red\"]\n",
    "for i in range(n_classes):\n",
    "    plt.plot(fpr[i], tpr[i], color=colors[i], lw=2,\n",
    "             label=f\"Classe {classes[i]} (AUC = {roc_auc[i]:.2f})\")\n",
    "\n",
    "plt.plot([0, 1], [0, 1], \"k--\", lw=2)\n",
    "plt.xlim([0.0, 1.0])\n",
    "plt.ylim([0.0, 1.05])\n",
    "plt.xlabel(\"Taux de faux positifs\")\n",
    "plt.ylabel(\"Taux de vrais positifs\")\n",
    "plt.title(f\"Courbes ROC - Modèle : {model_name}\")\n",
    "plt.legend(loc=\"lower right\")\n",
    "plt.grid(True)\n",
    "plt.show()"
   ],
   "outputs": [
    {
     "data": {
      "text/plain": [
       "<Figure size 1000x700 with 1 Axes>"
      ],
      "image/png": "[encoded data removed]"
     },
     "metadata": {},
     "output_type": "display_data"
    }
   ],
   "execution_count": 12
  },
  {
   "metadata": {},
   "cell_type": "markdown",
   "source": "# Test du Pipeline"
  },
  {
   "metadata": {
    "ExecuteTime": {
     "end_time": "2025-06-22T16:55:24.128309Z",
     "start_time": "2025-06-22T16:55:24.067512Z"
    }
   },
   "cell_type": "code",
   "source": [
    "# Exemple de 4 phrases à tester\n",
    "texts = [\n",
    "    \"Despite numerous concerns — including the Israel-Iran war, trade tensions, a growing federal deficit, immigration raids, low business confidence, and expected profit declines — the stock market remains resilient. The S&P 500 is close to its record high, thanks to eased trade policies, stable inflation, and a still-strong economy. However, beneath the surface, warning signs persist. Derivatives markets suggest investors expect a future downturn, and concerns over the $35 trillion U.S. debt remain. Analysts warn that the market's calm appearance masks significant underlying uncertainty.\",\n",
    "    \"The 25-year-old Swedish pole vaulter broke his own world record for the twelfth time since 2020 on Sunday. He set the new mark at 6.28 meters during a meet in Stockholm, Sweden, in front of his home crowd.\",\n",
    "    \"In twenty months, more than 55,000 Palestinians have been killed in the Gaza Strip, and nearly 950 in the occupied West Bank. But Israel’s destructive campaign began well before October 7, 2023. For over seventy-five years, Israel has done everything to make a Palestinian state impossible, according to Monique Chemillier-Gendreau, a professor of public law and political science, expert in international law and state theory, legal adviser before international courts, and author of Making a Palestinian State Impossible: Israel’s Goal Since Its Creation.\",\n",
    "    \"Gemini Automatically Summarizes Your PDFs and Tells You What to Do Next. Gemini has been able to interact with PDF files for some time now. But a new feature significantly boosts its usefulness.\"\n",
    "]\n",
    "\n",
    "label_names = ds[\"train\"].features[\"label\"].names\n",
    "\n",
    "# Prétraitement des phrases\n",
    "processed_texts = [preprocessing(text) for text in texts]\n",
    "\n",
    "# Prédictions\n",
    "predicted_classes = pipeline.predict(processed_texts)\n",
    "\n",
    "# Affichage\n",
    "for i, (raw, cleaned, pred) in enumerate(zip(texts, processed_texts, predicted_classes)):\n",
    "    label_str = label_names[pred]\n",
    "    print(f\"Phrase {i+1} : \\\"{raw}\\\"\")\n",
    "    print(f\" → Prétraité : \\\"{cleaned}\\\"\")\n",
    "    print(f\" → Classe prédite : {pred} ({label_str})\\n\")"
   ],
   "outputs": [
    {
     "name": "stdout",
     "output_type": "stream",
     "text": [
      "Phrase 1 : \"Despite numerous concerns — including the Israel-Iran war, trade tensions, a growing federal deficit, immigration raids, low business confidence, and expected profit declines — the stock market remains resilient. The S&P 500 is close to its record high, thanks to eased trade policies, stable inflation, and a still-strong economy. However, beneath the surface, warning signs persist. Derivatives markets suggest investors expect a future downturn, and concerns over the $35 trillion U.S. debt remain. Analysts warn that the market's calm appearance masks significant underlying uncertainty.\"\n",
      " → Prétraité : \"despite numerous concern include war trade tension grow federal deficit immigration raid low business confidence expect profit decline stock market remain resilient p close record high thanks ease trade policy stable inflation economy however beneath surface warn sign persist derivative market suggest investor expect future downturn concern trillion debt remain analyst warn market calm appearance mask significant underlying uncertainty\"\n",
      " → Classe prédite : 2 (Business)\n",
      "\n",
      "Phrase 2 : \"The 25-year-old Swedish pole vaulter broke his own world record for the twelfth time since 2020 on Sunday. He set the new mark at 6.28 meters during a meet in Stockholm, Sweden, in front of his home crowd.\"\n",
      " → Prétraité : \"swedish pole vaulter break world record twelfth time since sunday set new mark meter meet stockholm sweden front home crowd\"\n",
      " → Classe prédite : 1 (Sports)\n",
      "\n",
      "Phrase 3 : \"In twenty months, more than 55,000 Palestinians have been killed in the Gaza Strip, and nearly 950 in the occupied West Bank. But Israel’s destructive campaign began well before October 7, 2023. For over seventy-five years, Israel has done everything to make a Palestinian state impossible, according to Monique Chemillier-Gendreau, a professor of public law and political science, expert in international law and state theory, legal adviser before international courts, and author of Making a Palestinian State Impossible: Israel’s Goal Since Its Creation.\"\n",
      " → Prétraité : \"twenty month palestinian kill gaza strip nearly occupy west bank israel destructive campaign begin well october year israel do everything make palestinian state impossible accord monique professor public law political science expert international law state theory legal adviser international court author make palestinian state impossible israel goal since creation\"\n",
      " → Classe prédite : 0 (World)\n",
      "\n",
      "Phrase 4 : \"Gemini Automatically Summarizes Your PDFs and Tells You What to Do Next. Gemini has been able to interact with PDF files for some time now. But a new feature significantly boosts its usefulness.\"\n",
      " → Prétraité : \"gemini automatically summarize pdfs tell next gemini able interact pdf file time new feature significantly boost usefulness\"\n",
      " → Classe prédite : 3 (Sci/Tech)\n",
      "\n"
     ]
    }
   ],
   "execution_count": 13
  },
  {
   "metadata": {
    "ExecuteTime": {
     "end_time": "2025-06-22T16:56:33.399359Z",
     "start_time": "2025-06-22T16:56:33.254140Z"
    }
   },
   "cell_type": "code",
   "source": [
    "import joblib\n",
    "name = best_trial.params.get(\"model\")\n",
    "# Sauvegarde dans un fichier\n",
    "joblib.dump(pipeline, f\"ML_Models/model_pipeline_ML_{name}.joblib\")"
   ],
   "outputs": [
    {
     "data": {
      "text/plain": [
       "['ML_Models/model_pipeline_ML_LogisticRegression.joblib']"
      ]
     },
     "execution_count": 17,
     "metadata": {},
     "output_type": "execute_result"
    }
   ],
   "execution_count": 17
  },
  {
   "metadata": {
    "ExecuteTime": {
     "end_time": "2025-06-22T16:56:19.114239Z",
     "start_time": "2025-06-22T16:56:19.095792Z"
    }
   },
   "cell_type": "code",
   "source": "best_trial.params",
   "outputs": [
    {
     "data": {
      "text/plain": [
       "{'model': 'LogisticRegression', 'max_features': 9000, 'C': 1.9550671399076747}"
      ]
     },
     "execution_count": 16,
     "metadata": {},
     "output_type": "execute_result"
    }
   ],
   "execution_count": 16
  },
  {
   "metadata": {},
   "cell_type": "code",
   "outputs": [],
   "execution_count": null,
   "source": ""
  }
 ]
}
