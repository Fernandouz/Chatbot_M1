{
 "cells": [
  {
   "cell_type": "code",
   "id": "initial_id",
   "metadata": {
    "collapsed": true,
    "ExecuteTime": {
     "end_time": "2025-06-22T15:05:11.172738Z",
     "start_time": "2025-06-22T15:05:06.143893Z"
    }
   },
   "source": [
    "from random import randint\n",
    "\n",
    "from datasets import load_dataset\n",
    "ds = load_dataset(\"cnn_dailymail\", \"3.0.0\", split=\"train[:10000]\")\n",
    "df = ds.to_pandas()"
   ],
   "outputs": [],
   "execution_count": 19
  },
  {
   "metadata": {
    "ExecuteTime": {
     "end_time": "2025-06-22T15:05:11.198984Z",
     "start_time": "2025-06-22T15:05:11.197109Z"
    }
   },
   "cell_type": "code",
   "source": [
    "from nltk.tokenize import sent_tokenize\n",
    "import pandas as pd\n",
    "import numpy as np\n",
    "from sklearn.feature_extraction.text import TfidfVectorizer\n",
    "from sklearn.metrics.pairwise import cosine_similarity\n",
    "from utils import preprocessing"
   ],
   "id": "876b2d0b99a33d94",
   "outputs": [],
   "execution_count": 20
  },
  {
   "metadata": {
    "ExecuteTime": {
     "end_time": "2025-06-22T15:06:56.280112Z",
     "start_time": "2025-06-22T15:05:11.223600Z"
    }
   },
   "cell_type": "code",
   "source": [
    "def extract_and_clean_sentences(text):\n",
    "    # 1. Découpage en phrases (avec ponctuation)\n",
    "    sentences = sent_tokenize(text)\n",
    "\n",
    "    # 2. Nettoyage phrase par phrase (retrait ponctuation, lemmatisation, etc.)\n",
    "    cleaned_sentences = [preprocessing(sentence) for sentence in sentences]\n",
    "\n",
    "    return cleaned_sentences\n",
    "\n",
    "# Exemple d’utilisation sur une colonne 'article' d’un DataFrame pandas df\n",
    "df['article_sentences'] = df['article'].apply(extract_and_clean_sentences)\n",
    "df['summary_sentences'] = df['highlights'].apply(extract_and_clean_sentences)\n",
    "\n",
    "df"
   ],
   "id": "13301743a070777b",
   "outputs": [
    {
     "data": {
      "text/plain": [
       "                                                article  \\\n",
       "0     LONDON, England (Reuters) -- Harry Potter star...   \n",
       "1     Editor's note: In our Behind the Scenes series...   \n",
       "2     MINNEAPOLIS, Minnesota (CNN) -- Drivers who we...   \n",
       "3     WASHINGTON (CNN) -- Doctors removed five small...   \n",
       "4     (CNN)  -- The National Football League has ind...   \n",
       "...                                                 ...   \n",
       "9995  (Oprah.com) -- As a trained chef, restaurant o...   \n",
       "9996  Islamabad, Pakistan (CNN) -- The Pakistani mil...   \n",
       "9997  (CNN) -- Bastian Schweinsteiger rescued a poin...   \n",
       "9998  (CNN) -- Haiti's earthquake is creating \"a gen...   \n",
       "9999  (SuperYachtWorld) -- They may not be big on lo...   \n",
       "\n",
       "                                             highlights  \\\n",
       "0     Harry Potter star Daniel Radcliffe gets £20M f...   \n",
       "1     Mentally ill inmates in Miami are housed on th...   \n",
       "2     NEW: \"I thought I was going to die,\" driver sa...   \n",
       "3     Five small polyps found during procedure; \"non...   \n",
       "4     NEW: NFL chief, Atlanta Falcons owner critical...   \n",
       "...                                                 ...   \n",
       "9995  Chef Laura Pensiero: Don't let diet hijack you...   \n",
       "9996  NEW: Taliban source says commander alive and w...   \n",
       "9997  Midfielder Bastian Schweinsteiger rescues a po...   \n",
       "9998  Experts say Haiti's earthquake is creating \"a ...   \n",
       "9999  New breed of adventure explorers offer comfort...   \n",
       "\n",
       "                                            id  \\\n",
       "0     42c027e4ff9730fbb3de84c1af0d2c506e41c3e4   \n",
       "1     ee8871b15c50d0db17b0179a6d2beab35065f1e9   \n",
       "2     06352019a19ae31e527f37f7571c6dd7f0c5da37   \n",
       "3     24521a2abb2e1f5e34e6824e0f9e56904a2b0e88   \n",
       "4     7fe70cc8b12fab2d0a258fababf7d9c6b5e1262a   \n",
       "...                                        ...   \n",
       "9995  75cd2144a44f902e14b887bf927a08ad6b5fbf54   \n",
       "9996  734ca9a754dd444ed50362375e256fd72d82def5   \n",
       "9997  8ff4e932c84ed30759427a128879f0af1c8a156a   \n",
       "9998  12e6c95b6f47092e953523ae556cb6391a7021f6   \n",
       "9999  1130b36a9ba93d8fcbf07a2ac0048d4c281cd57c   \n",
       "\n",
       "                                      article_sentences  \\\n",
       "0     [london england reuters harry potter star dani...   \n",
       "1     [editor note behind scenes series cnn correspo...   \n",
       "2     [minneapolis minnesota cnn driver minneapolis ...   \n",
       "3     [washington cnn doctor remove five small polyp...   \n",
       "4     [cnn national football league indefinitely sus...   \n",
       "...                                                 ...   \n",
       "9995  [trained chef restaurant owner author confirm ...   \n",
       "9996  [islamabad pakistan cnn pakistani military sun...   \n",
       "9997  [cnn bastian schweinsteiger rescue point bayer...   \n",
       "9998  [cnn haiti earthquake create generation ampute...   \n",
       "9999  [superyachtworld may big look explorer yacht r...   \n",
       "\n",
       "                                      summary_sentences  \n",
       "0     [harry potter star daniel radcliffe get fortun...  \n",
       "1     [mentally ill inmate miami house forgotten flo...  \n",
       "2     [new thought go die driver say, man say pickup...  \n",
       "3     [five small polyp find procedure none worrisom...  \n",
       "4     [new nfl chief atlanta falcon owner critical m...  \n",
       "...                                                 ...  \n",
       "9995  [chef laura pensiero let diet hijack life, eas...  \n",
       "9996  [new taliban source say commander alive well r...  \n",
       "9997  [midfielder bastian schweinsteiger rescue poin...  \n",
       "9998  [expert say haiti earthquake create generation...  \n",
       "9999  [new breed adventure explorer offer comfort su...  \n",
       "\n",
       "[10000 rows x 5 columns]"
      ],
      "text/html": [
       "<div>\n",
       "<style scoped>\n",
       "    .dataframe tbody tr th:only-of-type {\n",
       "        vertical-align: middle;\n",
       "    }\n",
       "\n",
       "    .dataframe tbody tr th {\n",
       "        vertical-align: top;\n",
       "    }\n",
       "\n",
       "    .dataframe thead th {\n",
       "        text-align: right;\n",
       "    }\n",
       "</style>\n",
       "<table border=\"1\" class=\"dataframe\">\n",
       "  <thead>\n",
       "    <tr style=\"text-align: right;\">\n",
       "      <th></th>\n",
       "      <th>article</th>\n",
       "      <th>highlights</th>\n",
       "      <th>id</th>\n",
       "      <th>article_sentences</th>\n",
       "      <th>summary_sentences</th>\n",
       "    </tr>\n",
       "  </thead>\n",
       "  <tbody>\n",
       "    <tr>\n",
       "      <th>0</th>\n",
       "      <td>LONDON, England (Reuters) -- Harry Potter star...</td>\n",
       "      <td>Harry Potter star Daniel Radcliffe gets £20M f...</td>\n",
       "      <td>42c027e4ff9730fbb3de84c1af0d2c506e41c3e4</td>\n",
       "      <td>[london england reuters harry potter star dani...</td>\n",
       "      <td>[harry potter star daniel radcliffe get fortun...</td>\n",
       "    </tr>\n",
       "    <tr>\n",
       "      <th>1</th>\n",
       "      <td>Editor's note: In our Behind the Scenes series...</td>\n",
       "      <td>Mentally ill inmates in Miami are housed on th...</td>\n",
       "      <td>ee8871b15c50d0db17b0179a6d2beab35065f1e9</td>\n",
       "      <td>[editor note behind scenes series cnn correspo...</td>\n",
       "      <td>[mentally ill inmate miami house forgotten flo...</td>\n",
       "    </tr>\n",
       "    <tr>\n",
       "      <th>2</th>\n",
       "      <td>MINNEAPOLIS, Minnesota (CNN) -- Drivers who we...</td>\n",
       "      <td>NEW: \"I thought I was going to die,\" driver sa...</td>\n",
       "      <td>06352019a19ae31e527f37f7571c6dd7f0c5da37</td>\n",
       "      <td>[minneapolis minnesota cnn driver minneapolis ...</td>\n",
       "      <td>[new thought go die driver say, man say pickup...</td>\n",
       "    </tr>\n",
       "    <tr>\n",
       "      <th>3</th>\n",
       "      <td>WASHINGTON (CNN) -- Doctors removed five small...</td>\n",
       "      <td>Five small polyps found during procedure; \"non...</td>\n",
       "      <td>24521a2abb2e1f5e34e6824e0f9e56904a2b0e88</td>\n",
       "      <td>[washington cnn doctor remove five small polyp...</td>\n",
       "      <td>[five small polyp find procedure none worrisom...</td>\n",
       "    </tr>\n",
       "    <tr>\n",
       "      <th>4</th>\n",
       "      <td>(CNN)  -- The National Football League has ind...</td>\n",
       "      <td>NEW: NFL chief, Atlanta Falcons owner critical...</td>\n",
       "      <td>7fe70cc8b12fab2d0a258fababf7d9c6b5e1262a</td>\n",
       "      <td>[cnn national football league indefinitely sus...</td>\n",
       "      <td>[new nfl chief atlanta falcon owner critical m...</td>\n",
       "    </tr>\n",
       "    <tr>\n",
       "      <th>...</th>\n",
       "      <td>...</td>\n",
       "      <td>...</td>\n",
       "      <td>...</td>\n",
       "      <td>...</td>\n",
       "      <td>...</td>\n",
       "    </tr>\n",
       "    <tr>\n",
       "      <th>9995</th>\n",
       "      <td>(Oprah.com) -- As a trained chef, restaurant o...</td>\n",
       "      <td>Chef Laura Pensiero: Don't let diet hijack you...</td>\n",
       "      <td>75cd2144a44f902e14b887bf927a08ad6b5fbf54</td>\n",
       "      <td>[trained chef restaurant owner author confirm ...</td>\n",
       "      <td>[chef laura pensiero let diet hijack life, eas...</td>\n",
       "    </tr>\n",
       "    <tr>\n",
       "      <th>9996</th>\n",
       "      <td>Islamabad, Pakistan (CNN) -- The Pakistani mil...</td>\n",
       "      <td>NEW: Taliban source says commander alive and w...</td>\n",
       "      <td>734ca9a754dd444ed50362375e256fd72d82def5</td>\n",
       "      <td>[islamabad pakistan cnn pakistani military sun...</td>\n",
       "      <td>[new taliban source say commander alive well r...</td>\n",
       "    </tr>\n",
       "    <tr>\n",
       "      <th>9997</th>\n",
       "      <td>(CNN) -- Bastian Schweinsteiger rescued a poin...</td>\n",
       "      <td>Midfielder Bastian Schweinsteiger rescues a po...</td>\n",
       "      <td>8ff4e932c84ed30759427a128879f0af1c8a156a</td>\n",
       "      <td>[cnn bastian schweinsteiger rescue point bayer...</td>\n",
       "      <td>[midfielder bastian schweinsteiger rescue poin...</td>\n",
       "    </tr>\n",
       "    <tr>\n",
       "      <th>9998</th>\n",
       "      <td>(CNN) -- Haiti's earthquake is creating \"a gen...</td>\n",
       "      <td>Experts say Haiti's earthquake is creating \"a ...</td>\n",
       "      <td>12e6c95b6f47092e953523ae556cb6391a7021f6</td>\n",
       "      <td>[cnn haiti earthquake create generation ampute...</td>\n",
       "      <td>[expert say haiti earthquake create generation...</td>\n",
       "    </tr>\n",
       "    <tr>\n",
       "      <th>9999</th>\n",
       "      <td>(SuperYachtWorld) -- They may not be big on lo...</td>\n",
       "      <td>New breed of adventure explorers offer comfort...</td>\n",
       "      <td>1130b36a9ba93d8fcbf07a2ac0048d4c281cd57c</td>\n",
       "      <td>[superyachtworld may big look explorer yacht r...</td>\n",
       "      <td>[new breed adventure explorer offer comfort su...</td>\n",
       "    </tr>\n",
       "  </tbody>\n",
       "</table>\n",
       "<p>10000 rows × 5 columns</p>\n",
       "</div>"
      ]
     },
     "execution_count": 21,
     "metadata": {},
     "output_type": "execute_result"
    }
   ],
   "execution_count": 21
  },
  {
   "metadata": {},
   "cell_type": "markdown",
   "source": [
    "# Labelisation des données\n",
    "\n",
    "On cherche a affecté un label a une phrase si elle est présente dans le résume de l'article.\n",
    "On utilise cosine_similarity pour detecter les phrase qui ne serait pas les meme mais proches.\n"
   ],
   "id": "bfb4bf3922011dd2"
  },
  {
   "metadata": {
    "ExecuteTime": {
     "end_time": "2025-06-22T15:06:56.384020Z",
     "start_time": "2025-06-22T15:06:56.381468Z"
    }
   },
   "cell_type": "code",
   "source": [
    "# Detecte la similirité entre deux phrase, threshold correspond au seuil de similarité renvoyé par cosine_similarity\n",
    "def label_phrases_by_similarity(articles, summarys, threshold=0.5):\n",
    "    all_sents = list(articles) + list(summarys)\n",
    "    # On fit le vectorizer\n",
    "    vectorizer = TfidfVectorizer().fit(all_sents)\n",
    "    # On transforme en vecteur\n",
    "    article_vecs = vectorizer.transform(articles)\n",
    "    summary_vecs = vectorizer.transform(summarys)\n",
    "    # On calcule la similarité entre les phrases\n",
    "    sim_matrix = cosine_similarity(article_vecs, summary_vecs)\n",
    "    max_sim = sim_matrix.max(axis=1)\n",
    "\n",
    "    labels = (max_sim >= threshold).astype(int)\n",
    "    return labels"
   ],
   "id": "8a5c5a982dd2399d",
   "outputs": [],
   "execution_count": 22
  },
  {
   "metadata": {
    "ExecuteTime": {
     "end_time": "2025-06-22T15:07:07.958379Z",
     "start_time": "2025-06-22T15:06:56.507899Z"
    }
   },
   "cell_type": "code",
   "source": [
    "data = []\n",
    "for idx, row in df.iterrows():\n",
    "    articles = row[\"article_sentences\"]\n",
    "    summarys = row[\"summary_sentences\"]\n",
    "    labels = label_phrases_by_similarity(articles, summarys, threshold=0.4)\n",
    "\n",
    "    for sent, label in zip(articles, labels):\n",
    "        data.append({\"id\": idx, \"sentence\": sent, \"label\": label})\n",
    "\n",
    "clean_df = pd.DataFrame(data)\n",
    "\n",
    "print(f\"Nombre total de phrases : {len(clean_df)}\")\n",
    "print(f\"Nombre de phrases résumées (label=1) : {clean_df['label'].sum()}\")\n",
    "clean_df"
   ],
   "id": "2b2fe48153123b25",
   "outputs": [
    {
     "name": "stdout",
     "output_type": "stream",
     "text": [
      "Nombre total de phrases : 329883\n",
      "Nombre de phrases résumées (label=1) : 21468\n"
     ]
    },
    {
     "data": {
      "text/plain": [
       "          id                                           sentence  label\n",
       "0          0  london england reuters harry potter star danie...      1\n",
       "1          0  daniel radcliffe harry potter harry potter ord...      1\n",
       "2          0  plan one people soon turn suddenly buy massive...      0\n",
       "3          0                     think particularly extravagant      0\n",
       "4          0        thing like buy thing cost pound book cd dvd      0\n",
       "...      ...                                                ...    ...\n",
       "329878  9999  captain say solidity seaworthiness navigation ...      0\n",
       "329879  9999                                frederic castaignos      0\n",
       "329880  9999                                           web site      0\n",
       "329881  9999                                                         0\n",
       "329882  9999           france michael howorth contribute report      0\n",
       "\n",
       "[329883 rows x 3 columns]"
      ],
      "text/html": [
       "<div>\n",
       "<style scoped>\n",
       "    .dataframe tbody tr th:only-of-type {\n",
       "        vertical-align: middle;\n",
       "    }\n",
       "\n",
       "    .dataframe tbody tr th {\n",
       "        vertical-align: top;\n",
       "    }\n",
       "\n",
       "    .dataframe thead th {\n",
       "        text-align: right;\n",
       "    }\n",
       "</style>\n",
       "<table border=\"1\" class=\"dataframe\">\n",
       "  <thead>\n",
       "    <tr style=\"text-align: right;\">\n",
       "      <th></th>\n",
       "      <th>id</th>\n",
       "      <th>sentence</th>\n",
       "      <th>label</th>\n",
       "    </tr>\n",
       "  </thead>\n",
       "  <tbody>\n",
       "    <tr>\n",
       "      <th>0</th>\n",
       "      <td>0</td>\n",
       "      <td>london england reuters harry potter star danie...</td>\n",
       "      <td>1</td>\n",
       "    </tr>\n",
       "    <tr>\n",
       "      <th>1</th>\n",
       "      <td>0</td>\n",
       "      <td>daniel radcliffe harry potter harry potter ord...</td>\n",
       "      <td>1</td>\n",
       "    </tr>\n",
       "    <tr>\n",
       "      <th>2</th>\n",
       "      <td>0</td>\n",
       "      <td>plan one people soon turn suddenly buy massive...</td>\n",
       "      <td>0</td>\n",
       "    </tr>\n",
       "    <tr>\n",
       "      <th>3</th>\n",
       "      <td>0</td>\n",
       "      <td>think particularly extravagant</td>\n",
       "      <td>0</td>\n",
       "    </tr>\n",
       "    <tr>\n",
       "      <th>4</th>\n",
       "      <td>0</td>\n",
       "      <td>thing like buy thing cost pound book cd dvd</td>\n",
       "      <td>0</td>\n",
       "    </tr>\n",
       "    <tr>\n",
       "      <th>...</th>\n",
       "      <td>...</td>\n",
       "      <td>...</td>\n",
       "      <td>...</td>\n",
       "    </tr>\n",
       "    <tr>\n",
       "      <th>329878</th>\n",
       "      <td>9999</td>\n",
       "      <td>captain say solidity seaworthiness navigation ...</td>\n",
       "      <td>0</td>\n",
       "    </tr>\n",
       "    <tr>\n",
       "      <th>329879</th>\n",
       "      <td>9999</td>\n",
       "      <td>frederic castaignos</td>\n",
       "      <td>0</td>\n",
       "    </tr>\n",
       "    <tr>\n",
       "      <th>329880</th>\n",
       "      <td>9999</td>\n",
       "      <td>web site</td>\n",
       "      <td>0</td>\n",
       "    </tr>\n",
       "    <tr>\n",
       "      <th>329881</th>\n",
       "      <td>9999</td>\n",
       "      <td></td>\n",
       "      <td>0</td>\n",
       "    </tr>\n",
       "    <tr>\n",
       "      <th>329882</th>\n",
       "      <td>9999</td>\n",
       "      <td>france michael howorth contribute report</td>\n",
       "      <td>0</td>\n",
       "    </tr>\n",
       "  </tbody>\n",
       "</table>\n",
       "<p>329883 rows × 3 columns</p>\n",
       "</div>"
      ]
     },
     "execution_count": 23,
     "metadata": {},
     "output_type": "execute_result"
    }
   ],
   "execution_count": 23
  },
  {
   "metadata": {},
   "cell_type": "markdown",
   "source": "# Choix et entrainement du model",
   "id": "87f1070958f3e9e7"
  },
  {
   "metadata": {
    "ExecuteTime": {
     "end_time": "2025-06-22T15:07:08.016436Z",
     "start_time": "2025-06-22T15:07:08.013262Z"
    }
   },
   "cell_type": "code",
   "source": [
    "from sklearn.model_selection import train_test_split\n",
    "from sklearn.linear_model import LogisticRegression\n",
    "from sklearn.pipeline import Pipeline\n",
    "from sklearn.metrics import classification_report"
   ],
   "id": "fea06ab6e41f21a3",
   "outputs": [],
   "execution_count": 24
  },
  {
   "metadata": {
    "ExecuteTime": {
     "end_time": "2025-06-22T15:07:08.195305Z",
     "start_time": "2025-06-22T15:07:08.090637Z"
    }
   },
   "cell_type": "code",
   "source": [
    "from sklearn.model_selection import train_test_split\n",
    "\n",
    "X = clean_df[\"sentence\"]\n",
    "y = clean_df[\"label\"]\n",
    "\n",
    "# Split train/test\n",
    "X_train, X_test, y_train, y_test = train_test_split(X, y, stratify=y, random_state=42)"
   ],
   "id": "d8e1f00246d03d0e",
   "outputs": [],
   "execution_count": 25
  },
  {
   "metadata": {
    "ExecuteTime": {
     "end_time": "2025-06-22T15:07:08.199472Z",
     "start_time": "2025-06-22T15:07:08.197914Z"
    }
   },
   "cell_type": "code",
   "source": [
    "# from sklearn.model_selection import GroupShuffleSplit\n",
    "#\n",
    "# # On cherche a garder les articles complet avec leur id\n",
    "#\n",
    "# X = df['sentence']\n",
    "# y = df['label']\n",
    "# groups = df['id']\n",
    "#\n",
    "# gss = GroupShuffleSplit(test_size=0.2, n_splits=1, random_state=42)\n",
    "# train_idx, test_idx = next(gss.split(X, y, groups=groups))\n",
    "#\n",
    "# X_train = X.iloc[train_idx]\n",
    "# X_test = X.iloc[test_idx]\n",
    "# y_train = y.iloc[train_idx]\n",
    "# y_test = y.iloc[test_idx]"
   ],
   "id": "f42564487651269",
   "outputs": [],
   "execution_count": 26
  },
  {
   "metadata": {
    "ExecuteTime": {
     "end_time": "2025-06-22T15:25:07.352117Z",
     "start_time": "2025-06-22T15:07:08.218462Z"
    }
   },
   "cell_type": "code",
   "source": [
    "import optuna\n",
    "from sklearn.svm import LinearSVC\n",
    "from sklearn.ensemble import RandomForestClassifier\n",
    "from xgboost import XGBClassifier\n",
    "from sklearn.metrics import f1_score, accuracy_score\n",
    "from imblearn.pipeline import Pipeline as ImbPipeline\n",
    "from imblearn.over_sampling import SMOTE\n",
    "\n",
    "def objective(trial):\n",
    "    model_name = trial.suggest_categorical(\"model\", [\"LinearSVC\", \"RandomForest\", \"XGBoost\"])\n",
    "    max_features = trial.suggest_int(\"max_features\", 1000, 10000, step=1000)\n",
    "\n",
    "    # Classifieur\n",
    "    if model_name == \"LinearSVC\":\n",
    "        clf = LinearSVC(C=trial.suggest_float(\"C\", 1e-3, 10, log=True), max_iter=5000)\n",
    "    elif model_name == \"RandomForest\":\n",
    "        clf = RandomForestClassifier(\n",
    "            n_estimators=trial.suggest_int(\"n_estimators_rf\", 50, 300, step=50),\n",
    "            max_depth=trial.suggest_int(\"max_depth_rf\", 5, 30),\n",
    "            min_samples_split=trial.suggest_int(\"min_samples_split_rf\", 2, 10),\n",
    "            random_state=42,\n",
    "            n_jobs=-1\n",
    "        )\n",
    "    else:\n",
    "        clf = XGBClassifier(\n",
    "            n_estimators=trial.suggest_int(\"n_estimators_xgb\", 50, 300, step=50),\n",
    "            max_depth=trial.suggest_int(\"max_depth_xgb\", 3, 15),\n",
    "            learning_rate=trial.suggest_float(\"learning_rate_xgb\", 0.01, 0.3, log=True),\n",
    "            subsample=trial.suggest_float(\"subsample_xgb\", 0.5, 1.0),\n",
    "            colsample_bytree=trial.suggest_float(\"colsample_bytree_xgb\", 0.5, 1.0),\n",
    "            eval_metric=\"logloss\",\n",
    "            n_jobs=-1,\n",
    "            random_state=42\n",
    "        )\n",
    "\n",
    "    pipeline = ImbPipeline([\n",
    "        ('vectorizer', TfidfVectorizer(max_features=max_features)),\n",
    "        ('smote', SMOTE(random_state=42)),\n",
    "        ('classifier', clf)\n",
    "    ])\n",
    "\n",
    "    pipeline.fit(X_train, y_train)\n",
    "    preds = pipeline.predict(X_test)\n",
    "\n",
    "    f1 = f1_score(y_test, preds, average='macro')\n",
    "    acc = accuracy_score(y_test, preds)\n",
    "\n",
    "    return f1, acc\n",
    "\n",
    "study = optuna.create_study(\n",
    "    directions=[\"maximize\", \"maximize\"]  # Maximiser F1 macro et Accuracy\n",
    ")\n",
    "study.optimize(objective, n_trials=50)\n",
    "\n",
    "print(\"Best trials:\")\n",
    "for t in study.best_trials:\n",
    "    print(f\"F1 macro: {t.values[0]:.4f}, Accuracy: {t.values[1]:.4f}, Params: {t.params}\")"
   ],
   "id": "811d5e440ab1f8c1",
   "outputs": [
    {
     "name": "stderr",
     "output_type": "stream",
     "text": [
      "[I 2025-06-22 17:07:08,223] A new study created in memory with name: no-name-a9b033d7-77bc-421b-b30c-bbffdfc8b8b5\n",
      "[I 2025-06-22 17:07:44,023] Trial 0 finished with values: [0.5321629953474284, 0.9073128736161802] and parameters: {'model': 'XGBoost', 'max_features': 1000, 'n_estimators_xgb': 150, 'max_depth_xgb': 12, 'learning_rate_xgb': 0.08767091673229228, 'subsample_xgb': 0.8271935896021108, 'colsample_bytree_xgb': 0.7853517095844678}.\n",
      "[I 2025-06-22 17:07:49,646] Trial 1 finished with values: [0.441440116272828, 0.5925598089025234] and parameters: {'model': 'RandomForest', 'max_features': 4000, 'n_estimators_rf': 50, 'max_depth_rf': 7, 'min_samples_split_rf': 4}.\n",
      "[I 2025-06-22 17:07:56,848] Trial 2 finished with values: [0.509697743524084, 0.7539013713911557] and parameters: {'model': 'LinearSVC', 'max_features': 9000, 'C': 0.27774260274757556}.\n",
      "[I 2025-06-22 17:08:18,774] Trial 3 finished with values: [0.520621962853432, 0.9097985958700634] and parameters: {'model': 'XGBoost', 'max_features': 10000, 'n_estimators_xgb': 100, 'max_depth_xgb': 4, 'learning_rate_xgb': 0.11755076400004914, 'subsample_xgb': 0.6909309853669579, 'colsample_bytree_xgb': 0.9879774600024647}.\n",
      "[I 2025-06-22 17:08:24,943] Trial 4 finished with values: [0.5055352192018578, 0.7439463569012138] and parameters: {'model': 'LinearSVC', 'max_features': 6000, 'C': 0.047282503803534506}.\n",
      "[I 2025-06-22 17:08:33,206] Trial 5 finished with values: [0.4671314262707986, 0.6522656448933565] and parameters: {'model': 'RandomForest', 'max_features': 7000, 'n_estimators_rf': 50, 'max_depth_rf': 18, 'min_samples_split_rf': 3}.\n",
      "[I 2025-06-22 17:08:38,913] Trial 6 finished with values: [0.4942214934921461, 0.7216718604115386] and parameters: {'model': 'LinearSVC', 'max_features': 2000, 'C': 0.15939800830194456}.\n",
      "[I 2025-06-22 17:09:00,100] Trial 7 finished with values: [0.5197297132787035, 0.9131331013325896] and parameters: {'model': 'XGBoost', 'max_features': 5000, 'n_estimators_xgb': 150, 'max_depth_xgb': 3, 'learning_rate_xgb': 0.06838830700244039, 'subsample_xgb': 0.9869003223210291, 'colsample_bytree_xgb': 0.8419202639313565}.\n",
      "[I 2025-06-22 17:09:08,437] Trial 8 finished with values: [0.444137150518179, 0.6010112645657262] and parameters: {'model': 'RandomForest', 'max_features': 6000, 'n_estimators_rf': 200, 'max_depth_rf': 5, 'min_samples_split_rf': 9}.\n",
      "[I 2025-06-22 17:09:25,717] Trial 9 finished with values: [0.5157810505537979, 0.9181894241612203] and parameters: {'model': 'XGBoost', 'max_features': 6000, 'n_estimators_xgb': 50, 'max_depth_xgb': 8, 'learning_rate_xgb': 0.012486176021133525, 'subsample_xgb': 0.7426215787355972, 'colsample_bytree_xgb': 0.8866320354693}.\n",
      "[I 2025-06-22 17:09:37,231] Trial 10 finished with values: [0.5073728247461766, 0.7503122309660365] and parameters: {'model': 'LinearSVC', 'max_features': 8000, 'C': 1.3952240746508644}.\n",
      "[I 2025-06-22 17:10:01,463] Trial 11 finished with values: [0.5228898344424662, 0.9124176983424477] and parameters: {'model': 'XGBoost', 'max_features': 8000, 'n_estimators_xgb': 100, 'max_depth_xgb': 8, 'learning_rate_xgb': 0.026972376911351254, 'subsample_xgb': 0.94278673218481, 'colsample_bytree_xgb': 0.5497912723614989}.\n",
      "[I 2025-06-22 17:10:50,203] Trial 12 finished with values: [0.5359147983774941, 0.9021837979410945] and parameters: {'model': 'XGBoost', 'max_features': 10000, 'n_estimators_xgb': 100, 'max_depth_xgb': 15, 'learning_rate_xgb': 0.10469639691302446, 'subsample_xgb': 0.5895488789640084, 'colsample_bytree_xgb': 0.9429204523706564}.\n",
      "[I 2025-06-22 17:11:30,018] Trial 13 finished with values: [0.46350858584376764, 0.6486765044682373] and parameters: {'model': 'RandomForest', 'max_features': 3000, 'n_estimators_rf': 300, 'max_depth_rf': 25, 'min_samples_split_rf': 10}.\n",
      "[I 2025-06-22 17:11:35,837] Trial 14 finished with values: [0.5040855581901902, 0.7434128360272095] and parameters: {'model': 'LinearSVC', 'max_features': 5000, 'C': 0.06867090391427633}.\n",
      "[I 2025-06-22 17:11:41,736] Trial 15 finished with values: [0.49315408683542983, 0.7113167052660936] and parameters: {'model': 'LinearSVC', 'max_features': 7000, 'C': 0.005850113085338868}.\n",
      "[I 2025-06-22 17:11:52,039] Trial 16 finished with values: [0.5115770491851981, 0.9176195268639885] and parameters: {'model': 'XGBoost', 'max_features': 1000, 'n_estimators_xgb': 50, 'max_depth_xgb': 8, 'learning_rate_xgb': 0.010553877565401132, 'subsample_xgb': 0.9139603178964436, 'colsample_bytree_xgb': 0.5290893506966543}.\n",
      "[I 2025-06-22 17:12:20,231] Trial 17 finished with values: [0.4629338711745417, 0.6476579646178656] and parameters: {'model': 'RandomForest', 'max_features': 3000, 'n_estimators_rf': 200, 'max_depth_rf': 24, 'min_samples_split_rf': 8}.\n",
      "[I 2025-06-22 17:12:39,125] Trial 18 finished with values: [0.503740538646305, 0.7439706078500321] and parameters: {'model': 'LinearSVC', 'max_features': 5000, 'C': 3.0646274928030786}.\n",
      "[I 2025-06-22 17:12:45,369] Trial 19 finished with values: [0.49924840835679246, 0.726388669956712] and parameters: {'model': 'LinearSVC', 'max_features': 9000, 'C': 0.011845343243119005}.\n",
      "[I 2025-06-22 17:12:52,178] Trial 20 finished with values: [0.4939097922471507, 0.7215991075650835] and parameters: {'model': 'LinearSVC', 'max_features': 2000, 'C': 0.42227308598775454}.\n",
      "[I 2025-06-22 17:12:58,248] Trial 21 finished with values: [0.5064203679052793, 0.7490148052042536] and parameters: {'model': 'LinearSVC', 'max_features': 7000, 'C': 0.11165446082707486}.\n",
      "[I 2025-06-22 17:13:29,307] Trial 22 finished with values: [0.5289706887100553, 0.9031902123170569] and parameters: {'model': 'XGBoost', 'max_features': 7000, 'n_estimators_xgb': 150, 'max_depth_xgb': 5, 'learning_rate_xgb': 0.1789046877193453, 'subsample_xgb': 0.8377099902281537, 'colsample_bytree_xgb': 0.8985450795990257}.\n",
      "[I 2025-06-22 17:13:36,319] Trial 23 finished with values: [0.5089988321461562, 0.7524341889876441] and parameters: {'model': 'LinearSVC', 'max_features': 8000, 'C': 0.20769738905160748}.\n",
      "[I 2025-06-22 17:14:14,525] Trial 24 finished with values: [0.5193421227353139, 0.9116295425058505] and parameters: {'model': 'XGBoost', 'max_features': 9000, 'n_estimators_xgb': 150, 'max_depth_xgb': 8, 'learning_rate_xgb': 0.02008510991112406, 'subsample_xgb': 0.6530973883985502, 'colsample_bytree_xgb': 0.6885466794068922}.\n",
      "[I 2025-06-22 17:14:24,998] Trial 25 finished with values: [0.5048750232774565, 0.747547622800742] and parameters: {'model': 'LinearSVC', 'max_features': 7000, 'C': 1.0876599370768645}.\n",
      "[I 2025-06-22 17:14:40,274] Trial 26 finished with values: [0.5184126634581621, 0.9103199912696585] and parameters: {'model': 'XGBoost', 'max_features': 8000, 'n_estimators_xgb': 50, 'max_depth_xgb': 6, 'learning_rate_xgb': 0.09381310760169186, 'subsample_xgb': 0.6337982594067739, 'colsample_bytree_xgb': 0.9828032272509961}.\n",
      "[I 2025-06-22 17:14:51,071] Trial 27 finished with values: [0.5166624420671715, 0.9129390937420426] and parameters: {'model': 'XGBoost', 'max_features': 8000, 'n_estimators_xgb': 50, 'max_depth_xgb': 3, 'learning_rate_xgb': 0.11837627146740053, 'subsample_xgb': 0.9060956965217377, 'colsample_bytree_xgb': 0.8237761794609653}.\n",
      "[I 2025-06-22 17:15:05,843] Trial 28 finished with values: [0.5182207161543241, 0.915497568842381] and parameters: {'model': 'XGBoost', 'max_features': 3000, 'n_estimators_xgb': 50, 'max_depth_xgb': 10, 'learning_rate_xgb': 0.028138565202833695, 'subsample_xgb': 0.6149367492852255, 'colsample_bytree_xgb': 0.6815530124527868}.\n",
      "[I 2025-06-22 17:15:11,914] Trial 29 finished with values: [0.44346101163603424, 0.6033636066011082] and parameters: {'model': 'RandomForest', 'max_features': 8000, 'n_estimators_rf': 50, 'max_depth_rf': 9, 'min_samples_split_rf': 8}.\n",
      "[I 2025-06-22 17:15:17,898] Trial 30 finished with values: [0.5060734625457243, 0.7469777255035103] and parameters: {'model': 'LinearSVC', 'max_features': 7000, 'C': 0.06039080283485406}.\n",
      "[I 2025-06-22 17:15:50,936] Trial 31 finished with values: [0.5083215467269704, 0.752361436141189] and parameters: {'model': 'LinearSVC', 'max_features': 10000, 'C': 6.811171730806012}.\n",
      "[I 2025-06-22 17:16:36,784] Trial 32 finished with values: [0.5364550383463507, 0.9003528513053073] and parameters: {'model': 'XGBoost', 'max_features': 7000, 'n_estimators_xgb': 250, 'max_depth_xgb': 6, 'learning_rate_xgb': 0.1398575691925323, 'subsample_xgb': 0.6681503800942485, 'colsample_bytree_xgb': 0.6398356196065527}.\n",
      "[I 2025-06-22 17:17:48,952] Trial 33 finished with values: [0.5276811802060128, 0.9067429763189485] and parameters: {'model': 'XGBoost', 'max_features': 5000, 'n_estimators_xgb': 200, 'max_depth_xgb': 12, 'learning_rate_xgb': 0.0257531245543281, 'subsample_xgb': 0.9755107912144247, 'colsample_bytree_xgb': 0.7288005289218369}.\n",
      "[I 2025-06-22 17:19:14,734] Trial 34 finished with values: [0.5595797118059888, 0.8984127753998375] and parameters: {'model': 'XGBoost', 'max_features': 6000, 'n_estimators_xgb': 300, 'max_depth_xgb': 12, 'learning_rate_xgb': 0.17942204609163828, 'subsample_xgb': 0.6556491298693289, 'colsample_bytree_xgb': 0.6592519853047533}.\n",
      "[I 2025-06-22 17:19:26,390] Trial 35 finished with values: [0.4644702596632966, 0.6426380182124626] and parameters: {'model': 'RandomForest', 'max_features': 10000, 'n_estimators_rf': 250, 'max_depth_rf': 9, 'min_samples_split_rf': 10}.\n",
      "[I 2025-06-22 17:19:41,288] Trial 36 finished with values: [0.5164652221235523, 0.9162978501533873] and parameters: {'model': 'XGBoost', 'max_features': 8000, 'n_estimators_xgb': 50, 'max_depth_xgb': 9, 'learning_rate_xgb': 0.016715115617296033, 'subsample_xgb': 0.847953121642212, 'colsample_bytree_xgb': 0.5271425206545769}.\n",
      "[I 2025-06-22 17:19:53,136] Trial 37 finished with values: [0.5136903631452046, 0.9194504734997757] and parameters: {'model': 'XGBoost', 'max_features': 6000, 'n_estimators_xgb': 50, 'max_depth_xgb': 6, 'learning_rate_xgb': 0.010408647646544431, 'subsample_xgb': 0.6245236355070107, 'colsample_bytree_xgb': 0.594809956570763}.\n",
      "[I 2025-06-22 17:19:59,139] Trial 38 finished with values: [0.5072626427782324, 0.748129645572383] and parameters: {'model': 'LinearSVC', 'max_features': 9000, 'C': 0.04945694023950163}.\n",
      "[I 2025-06-22 17:20:08,862] Trial 39 finished with values: [0.44644651173006134, 0.6100568684749791] and parameters: {'model': 'RandomForest', 'max_features': 8000, 'n_estimators_rf': 250, 'max_depth_rf': 6, 'min_samples_split_rf': 6}.\n",
      "[I 2025-06-22 17:20:37,137] Trial 40 finished with values: [0.5200131712958189, 0.9143335232990991] and parameters: {'model': 'XGBoost', 'max_features': 10000, 'n_estimators_xgb': 100, 'max_depth_xgb': 7, 'learning_rate_xgb': 0.017560303602682806, 'subsample_xgb': 0.5937167962334984, 'colsample_bytree_xgb': 0.8770204755579059}.\n",
      "[I 2025-06-22 17:21:24,769] Trial 41 finished with values: [0.5280448892570866, 0.9060154478543972] and parameters: {'model': 'XGBoost', 'max_features': 3000, 'n_estimators_xgb': 250, 'max_depth_xgb': 9, 'learning_rate_xgb': 0.051698101418920506, 'subsample_xgb': 0.8868463626652249, 'colsample_bytree_xgb': 0.5873785443342516}.\n",
      "[I 2025-06-22 17:21:42,806] Trial 42 finished with values: [0.4480370047814402, 0.6110390319021232] and parameters: {'model': 'RandomForest', 'max_features': 2000, 'n_estimators_rf': 200, 'max_depth_rf': 16, 'min_samples_split_rf': 2}.\n",
      "[I 2025-06-22 17:22:54,244] Trial 43 finished with values: [0.49805669300374317, 0.7321603957754848] and parameters: {'model': 'LinearSVC', 'max_features': 3000, 'C': 9.332911773246135}.\n",
      "[I 2025-06-22 17:23:00,192] Trial 44 finished with values: [0.502975258158134, 0.7369135817438858] and parameters: {'model': 'LinearSVC', 'max_features': 8000, 'C': 0.021898201978416642}.\n",
      "[I 2025-06-22 17:23:40,084] Trial 45 finished with values: [0.49372845425268336, 0.7216476094627202] and parameters: {'model': 'LinearSVC', 'max_features': 2000, 'C': 8.39796120588204}.\n",
      "[I 2025-06-22 17:24:14,754] Trial 46 finished with values: [0.5191020160031233, 0.9140546373876878] and parameters: {'model': 'XGBoost', 'max_features': 9000, 'n_estimators_xgb': 100, 'max_depth_xgb': 12, 'learning_rate_xgb': 0.012078247795238422, 'subsample_xgb': 0.5669085978221983, 'colsample_bytree_xgb': 0.7029148580284992}.\n",
      "[I 2025-06-22 17:24:43,612] Trial 47 finished with values: [0.5315931223423895, 0.9040026191024724] and parameters: {'model': 'XGBoost', 'max_features': 2000, 'n_estimators_xgb': 200, 'max_depth_xgb': 7, 'learning_rate_xgb': 0.11805239952132239, 'subsample_xgb': 0.748037112773995, 'colsample_bytree_xgb': 0.5682201718370536}.\n",
      "[I 2025-06-22 17:25:02,012] Trial 48 finished with values: [0.5245407191959947, 0.9098713487165185] and parameters: {'model': 'XGBoost', 'max_features': 1000, 'n_estimators_xgb': 50, 'max_depth_xgb': 14, 'learning_rate_xgb': 0.07067304534267034, 'subsample_xgb': 0.9955881728289049, 'colsample_bytree_xgb': 0.825024839326755}.\n",
      "[I 2025-06-22 17:25:07,326] Trial 49 finished with values: [0.49408839151433925, 0.7213929745001273] and parameters: {'model': 'LinearSVC', 'max_features': 2000, 'C': 0.12177850065907447}.\n"
     ]
    },
    {
     "name": "stdout",
     "output_type": "stream",
     "text": [
      "Best trials:\n",
      "F1 macro: 0.5322, Accuracy: 0.9073, Params: {'model': 'XGBoost', 'max_features': 1000, 'n_estimators_xgb': 150, 'max_depth_xgb': 12, 'learning_rate_xgb': 0.08767091673229228, 'subsample_xgb': 0.8271935896021108, 'colsample_bytree_xgb': 0.7853517095844678}\n",
      "F1 macro: 0.5158, Accuracy: 0.9182, Params: {'model': 'XGBoost', 'max_features': 6000, 'n_estimators_xgb': 50, 'max_depth_xgb': 8, 'learning_rate_xgb': 0.012486176021133525, 'subsample_xgb': 0.7426215787355972, 'colsample_bytree_xgb': 0.8866320354693}\n",
      "F1 macro: 0.5229, Accuracy: 0.9124, Params: {'model': 'XGBoost', 'max_features': 8000, 'n_estimators_xgb': 100, 'max_depth_xgb': 8, 'learning_rate_xgb': 0.026972376911351254, 'subsample_xgb': 0.94278673218481, 'colsample_bytree_xgb': 0.5497912723614989}\n",
      "F1 macro: 0.5359, Accuracy: 0.9022, Params: {'model': 'XGBoost', 'max_features': 10000, 'n_estimators_xgb': 100, 'max_depth_xgb': 15, 'learning_rate_xgb': 0.10469639691302446, 'subsample_xgb': 0.5895488789640084, 'colsample_bytree_xgb': 0.9429204523706564}\n",
      "F1 macro: 0.5182, Accuracy: 0.9155, Params: {'model': 'XGBoost', 'max_features': 3000, 'n_estimators_xgb': 50, 'max_depth_xgb': 10, 'learning_rate_xgb': 0.028138565202833695, 'subsample_xgb': 0.6149367492852255, 'colsample_bytree_xgb': 0.6815530124527868}\n",
      "F1 macro: 0.5365, Accuracy: 0.9004, Params: {'model': 'XGBoost', 'max_features': 7000, 'n_estimators_xgb': 250, 'max_depth_xgb': 6, 'learning_rate_xgb': 0.1398575691925323, 'subsample_xgb': 0.6681503800942485, 'colsample_bytree_xgb': 0.6398356196065527}\n",
      "F1 macro: 0.5596, Accuracy: 0.8984, Params: {'model': 'XGBoost', 'max_features': 6000, 'n_estimators_xgb': 300, 'max_depth_xgb': 12, 'learning_rate_xgb': 0.17942204609163828, 'subsample_xgb': 0.6556491298693289, 'colsample_bytree_xgb': 0.6592519853047533}\n",
      "F1 macro: 0.5165, Accuracy: 0.9163, Params: {'model': 'XGBoost', 'max_features': 8000, 'n_estimators_xgb': 50, 'max_depth_xgb': 9, 'learning_rate_xgb': 0.016715115617296033, 'subsample_xgb': 0.847953121642212, 'colsample_bytree_xgb': 0.5271425206545769}\n",
      "F1 macro: 0.5137, Accuracy: 0.9195, Params: {'model': 'XGBoost', 'max_features': 6000, 'n_estimators_xgb': 50, 'max_depth_xgb': 6, 'learning_rate_xgb': 0.010408647646544431, 'subsample_xgb': 0.6245236355070107, 'colsample_bytree_xgb': 0.594809956570763}\n",
      "F1 macro: 0.5200, Accuracy: 0.9143, Params: {'model': 'XGBoost', 'max_features': 10000, 'n_estimators_xgb': 100, 'max_depth_xgb': 7, 'learning_rate_xgb': 0.017560303602682806, 'subsample_xgb': 0.5937167962334984, 'colsample_bytree_xgb': 0.8770204755579059}\n",
      "F1 macro: 0.5245, Accuracy: 0.9099, Params: {'model': 'XGBoost', 'max_features': 1000, 'n_estimators_xgb': 50, 'max_depth_xgb': 14, 'learning_rate_xgb': 0.07067304534267034, 'subsample_xgb': 0.9955881728289049, 'colsample_bytree_xgb': 0.825024839326755}\n"
     ]
    }
   ],
   "execution_count": 27
  },
  {
   "metadata": {
    "ExecuteTime": {
     "end_time": "2025-06-22T15:47:29.056983Z",
     "start_time": "2025-06-22T15:46:05.334937Z"
    }
   },
   "cell_type": "code",
   "source": [
    "from sklearn.metrics import classification_report\n",
    "\n",
    "def build_best_pipeline(best_params):\n",
    "    # 1. Vectorizer\n",
    "    vectorizer = TfidfVectorizer(max_features=best_params[\"max_features\"])\n",
    "\n",
    "    # 2. SMOTE\n",
    "    smote = SMOTE(random_state=42)\n",
    "\n",
    "    # 3. Modèle\n",
    "    if best_params[\"model\"] == \"LinearSVC\":\n",
    "        clf = LinearSVC(C=best_params[\"C\"], max_iter=5000)\n",
    "    elif best_params[\"model\"] == \"RandomForest\":\n",
    "        clf = RandomForestClassifier(\n",
    "            n_estimators=best_params[\"n_estimators_rf\"],\n",
    "            max_depth=best_params[\"max_depth_rf\"],\n",
    "            min_samples_split=best_params[\"min_samples_split_rf\"],\n",
    "            random_state=42\n",
    "        )\n",
    "    else:  # XGBoost\n",
    "        clf = XGBClassifier(\n",
    "            n_estimators=best_params[\"n_estimators_xgb\"],\n",
    "            max_depth=best_params[\"max_depth_xgb\"],\n",
    "            learning_rate=best_params[\"learning_rate_xgb\"],\n",
    "            subsample=best_params[\"subsample_xgb\"],\n",
    "            colsample_bytree=best_params[\"colsample_bytree_xgb\"],\n",
    "            eval_metric=\"logloss\",\n",
    "            random_state=42\n",
    "        )\n",
    "\n",
    "    # 4. Pipeline complète\n",
    "    pipeline = ImbPipeline([\n",
    "        ('vectorizer', vectorizer),\n",
    "        ('smote', smote),\n",
    "        ('classifier', clf)\n",
    "    ])\n",
    "\n",
    "    return pipeline\n",
    "\n",
    "# Construire la pipeline avec les meilleurs paramètres\n",
    "best_trial = max(study.best_trials, key=lambda t: t.values[0])\n",
    "best_params = best_trial.params\n",
    "pipeline = build_best_pipeline(best_params)\n",
    "\n",
    "# Entraînement complet dans la pipeline (SMOTE inclus)\n",
    "pipeline.fit(X_train, y_train)\n",
    "\n",
    "# Prédiction\n",
    "y_preds = pipeline.predict(X_test)\n",
    "\n",
    "# Rapport détaillé\n",
    "print(classification_report(y_test, y_preds, digits=4))"
   ],
   "id": "486ade13143aea85",
   "outputs": [
    {
     "name": "stdout",
     "output_type": "stream",
     "text": [
      "              precision    recall  f1-score   support\n",
      "\n",
      "           0     0.9422    0.9496    0.9459     77104\n",
      "           1     0.1842    0.1636    0.1733      5367\n",
      "\n",
      "    accuracy                         0.8984     82471\n",
      "   macro avg     0.5632    0.5566    0.5596     82471\n",
      "weighted avg     0.8929    0.8984    0.8956     82471\n",
      "\n"
     ]
    }
   ],
   "execution_count": 38
  },
  {
   "metadata": {
    "ExecuteTime": {
     "end_time": "2025-06-22T15:47:56.205384Z",
     "start_time": "2025-06-22T15:47:56.043273Z"
    }
   },
   "cell_type": "code",
   "source": [
    "import matplotlib.pyplot as plt\n",
    "import seaborn as sns\n",
    "from sklearn.metrics import confusion_matrix, ConfusionMatrixDisplay\n",
    "\n",
    "# Calculer la matrice\n",
    "cm = confusion_matrix(y_test, y_preds)\n",
    "\n",
    "# Afficher avec seaborn\n",
    "plt.figure(figsize=(6, 5))\n",
    "sns.heatmap(cm, annot=True, fmt='d', cmap=\"Blues\", xticklabels=[\"Non résumé (0)\", \"Résumé (1)\"],\n",
    "            yticklabels=[\"Non résumé (0)\", \"Résumé (1)\"])\n",
    "plt.xlabel(\"Prédiction\")\n",
    "plt.ylabel(\"Réel\")\n",
    "plt.title(\"Matrice de confusion\")\n",
    "plt.tight_layout()\n",
    "plt.show()"
   ],
   "id": "9577fa3d9ff2c13e",
   "outputs": [
    {
     "data": {
      "text/plain": [
       "<Figure size 600x500 with 2 Axes>"
      ],
      "image/png": "[encoded data removed]"
     },
     "metadata": {},
     "output_type": "display_data"
    }
   ],
   "execution_count": 39
  },
  {
   "metadata": {
    "ExecuteTime": {
     "end_time": "2025-06-22T15:53:41.965324Z",
     "start_time": "2025-06-22T15:53:41.077716Z"
    }
   },
   "cell_type": "code",
   "source": [
    "import matplotlib.pyplot as plt\n",
    "from sklearn.metrics import precision_recall_curve, roc_curve, auc\n",
    "\n",
    "# Étape 1 : obtenir les probabilités (ou scores) du modèle\n",
    "# Si ton modèle supporte predict_proba (LogReg, XGBoost...) :\n",
    "y_scores = pipeline.predict_proba(X_test)[:, 1]\n",
    "\n",
    "# Étape 2 : récupérer les vraies étiquettes\n",
    "# y_test doit déjà être défini, sinon remplace-le ici\n",
    "\n",
    "# Étape 3 : calculer les courbes\n",
    "precision, recall, thresholds_pr = precision_recall_curve(y_test, y_scores)\n",
    "fpr, tpr, thresholds_roc = roc_curve(y_test, y_scores)\n",
    "roc_auc = auc(fpr, tpr)\n",
    "\n",
    "# Étape 4 : affichage\n",
    "plt.figure(figsize=(14, 6))\n",
    "\n",
    "# Courbe Précision–Rappel\n",
    "plt.subplot(1, 2, 1)\n",
    "plt.plot(recall, precision, label=\"Courbe PR\", color=\"blue\")\n",
    "plt.xlabel(\"Recall\")\n",
    "plt.ylabel(\"Precision\")\n",
    "plt.title(\"Courbe Précision–Rappel\")\n",
    "plt.grid()\n",
    "\n",
    "# Courbe ROC\n",
    "plt.subplot(1, 2, 2)\n",
    "plt.plot(fpr, tpr, label=f\"ROC AUC = {roc_auc:.2f}\", color=\"green\")\n",
    "plt.plot([0, 1], [0, 1], linestyle=\"--\", color=\"gray\")\n",
    "plt.xlabel(\"Faux positifs (FPR)\")\n",
    "plt.ylabel(\"Vrais positifs (TPR)\")\n",
    "plt.title(\"Courbe ROC\")\n",
    "plt.legend()\n",
    "plt.grid()\n",
    "\n",
    "plt.tight_layout()\n",
    "plt.show()"
   ],
   "id": "979721256b9b15ca",
   "outputs": [
    {
     "data": {
      "text/plain": [
       "<Figure size 1400x600 with 2 Axes>"
      ],
      "image/png": "[encoded data removed]"
     },
     "metadata": {},
     "output_type": "display_data"
    }
   ],
   "execution_count": 46
  },
  {
   "metadata": {
    "ExecuteTime": {
     "end_time": "2025-06-22T15:57:14.495900Z",
     "start_time": "2025-06-22T15:57:14.433972Z"
    }
   },
   "cell_type": "code",
   "source": [
    "# Exemple d'article sous forme de phrases\n",
    "article = \"\"\"“Global Climate Summit Sparks Hope and Debate”\n",
    "\n",
    "The recent Global Climate Summit brought together leaders from over 190 countries to discuss urgent actions to combat climate change. The summit focused on reducing carbon emissions, investing in renewable energy, and supporting vulnerable nations impacted by rising sea levels. While many countries pledged to strengthen their climate commitments, some delegates expressed concerns over the feasibility of these targets and the economic impact of rapid transitions.\n",
    "\n",
    "Environmental activists praised the summit’s emphasis on sustainable development but urged for faster implementation and greater accountability. Discussions also highlighted the role of technology and innovation in addressing climate challenges, including advancements in carbon capture and storage. The summit concluded with a call for continued collaboration and increased funding to meet global climate goals.\"\"\"\n",
    "\n",
    "# 1. Tokenize en phrases\n",
    "sentences = sent_tokenize(article)\n",
    "\n",
    "# 2. Nettoyage phrase par phrase\n",
    "cleaned_sentences = [preprocessing(sentence) for sentence in sentences]\n",
    "\n",
    "# 3. Vectorisation via pipeline (seulement vectorizer, pas SMOTE)\n",
    "# pipeline est ton ImbPipeline entraîné\n",
    "vectorizer = pipeline.named_steps['vectorizer']\n",
    "X_article_vec = vectorizer.transform(cleaned_sentences)\n",
    "\n",
    "# 4. Prédiction avec ton classifieur\n",
    "clf = pipeline.named_steps['classifier']\n",
    "\n",
    "# Prédictions (avec ton modèle entraîné sur train oversamplé)\n",
    "predictions = clf.predict(X_article_vec)\n",
    "probas = None\n",
    "if hasattr(clf, \"predict_proba\"):\n",
    "    probas = clf.predict_proba(X_article_vec)\n",
    "\n",
    "# Afficher les phrases importantes prédites\n",
    "print(\"Phrases sélectionnées pour le résumé :\")\n",
    "for sent, pred in zip(sentences, predictions):\n",
    "    if pred == 1:  # Classe \"phrase résumée\"\n",
    "        print(f\"- {sent}\")\n",
    "\n",
    "# Optionnel : afficher la confiance si disponible\n",
    "if probas is not None:\n",
    "    for sent, prob in zip(sentences, probas):\n",
    "        print(f\"{sent} => classe 1 prob : {prob[1]:.3f}\")"
   ],
   "id": "8fe5d1aab04dbaa4",
   "outputs": [
    {
     "name": "stdout",
     "output_type": "stream",
     "text": [
      "Phrases sélectionnées pour le résumé :\n",
      "- “Global Climate Summit Sparks Hope and Debate”\n",
      "\n",
      "The recent Global Climate Summit brought together leaders from over 190 countries to discuss urgent actions to combat climate change.\n",
      "“Global Climate Summit Sparks Hope and Debate”\n",
      "\n",
      "The recent Global Climate Summit brought together leaders from over 190 countries to discuss urgent actions to combat climate change. => classe 1 prob : 0.564\n",
      "The summit focused on reducing carbon emissions, investing in renewable energy, and supporting vulnerable nations impacted by rising sea levels. => classe 1 prob : 0.370\n",
      "While many countries pledged to strengthen their climate commitments, some delegates expressed concerns over the feasibility of these targets and the economic impact of rapid transitions. => classe 1 prob : 0.254\n",
      "Environmental activists praised the summit’s emphasis on sustainable development but urged for faster implementation and greater accountability. => classe 1 prob : 0.169\n",
      "Discussions also highlighted the role of technology and innovation in addressing climate challenges, including advancements in carbon capture and storage. => classe 1 prob : 0.265\n",
      "The summit concluded with a call for continued collaboration and increased funding to meet global climate goals. => classe 1 prob : 0.316\n"
     ]
    }
   ],
   "execution_count": 48
  },
  {
   "metadata": {
    "ExecuteTime": {
     "end_time": "2025-06-22T15:57:24.306963Z",
     "start_time": "2025-06-22T15:57:24.288175Z"
    }
   },
   "cell_type": "code",
   "source": [
    "from scipy.special import softmax\n",
    "\n",
    "article = \"\"\"“Global Climate Summit Sparks Hope and Debate”\n",
    "\n",
    "The recent Global Climate Summit brought together leaders from over 190 countries to discuss urgent actions to combat climate change. The summit focused on reducing carbon emissions, investing in renewable energy, and supporting vulnerable nations impacted by rising sea levels. While many countries pledged to strengthen their climate commitments, some delegates expressed concerns over the feasibility of these targets and the economic impact of rapid transitions.\n",
    "\n",
    "Environmental activists praised the summit’s emphasis on sustainable development but urged for faster implementation and greater accountability. Discussions also highlighted the role of technology and innovation in addressing climate challenges, including advancements in carbon capture and storage. The summit concluded with a call for continued collaboration and increased funding to meet global climate goals.\"\"\"\n",
    "\n",
    "# 1. Tokenize en phrases\n",
    "sentences = sent_tokenize(article)\n",
    "\n",
    "# 2. Nettoyage phrase par phrase\n",
    "cleaned_sentences = [preprocessing(sentence) for sentence in sentences]\n",
    "\n",
    "# 3. Vectorisation via pipeline (seulement vectorizer, pas SMOTE)\n",
    "# pipeline est ton ImbPipeline entraîné\n",
    "vectorizer = pipeline.named_steps['vectorizer']\n",
    "X_article_vec = vectorizer.transform(cleaned_sentences)\n",
    "\n",
    "# 4. Prédiction avec ton classifieur\n",
    "clf = pipeline.named_steps['classifier']\n",
    "\n",
    "if hasattr(clf, \"predict_proba\"):\n",
    "    probas = clf.predict_proba(X_article_vec)[:, 1]\n",
    "elif hasattr(clf, \"decision_function\"):\n",
    "    decision_scores = clf.decision_function(X_article_vec)\n",
    "    # Softmax sur scores (pour approximer proba)\n",
    "    probas = softmax(np.vstack([-decision_scores, decision_scores]), axis=0)[1]\n",
    "else:\n",
    "    raise ValueError(\"Le modèle ne supporte ni predict_proba ni decision_function\")\n",
    "\n",
    "# 5. Récupérer les indices des 3 phrases les plus probables\n",
    "top_k = 3\n",
    "top_k_idx = np.argsort(probas)[-top_k:][::-1]\n",
    "\n",
    "# 6. Affichage résumé\n",
    "print(\"Résumé extrait (top 3 phrases) :\\n\")\n",
    "for idx in sorted(top_k_idx):\n",
    "    print(f\"- {sentences[idx]} (proba: {probas[idx]:.4f})\")"
   ],
   "id": "93dd4abc47cd236c",
   "outputs": [
    {
     "name": "stdout",
     "output_type": "stream",
     "text": [
      "Résumé extrait (top 3 phrases) :\n",
      "\n",
      "- “Global Climate Summit Sparks Hope and Debate”\n",
      "\n",
      "The recent Global Climate Summit brought together leaders from over 190 countries to discuss urgent actions to combat climate change. (proba: 0.5636)\n",
      "- The summit focused on reducing carbon emissions, investing in renewable energy, and supporting vulnerable nations impacted by rising sea levels. (proba: 0.3700)\n",
      "- The summit concluded with a call for continued collaboration and increased funding to meet global climate goals. (proba: 0.3156)\n"
     ]
    }
   ],
   "execution_count": 49
  },
  {
   "metadata": {
    "ExecuteTime": {
     "end_time": "2025-06-22T15:57:41.948416Z",
     "start_time": "2025-06-22T15:57:41.876066Z"
    }
   },
   "cell_type": "code",
   "source": [
    "article = \"\"\"““Breakthrough in Quantum Computing Promises Unprecedented Processing Power”\n",
    "\n",
    "A team of researchers from MIT and Google has announced a major milestone in quantum computing, unveiling a new quantum processor capable of solving complex problems at speeds far beyond traditional supercomputers.\n",
    "The processor, named “QuantaX,” leverages a novel qubit stabilization technique that significantly reduces error rates, which has been one of the most persistent challenges in quantum systems.\n",
    "According to the team, this advancement could eventually revolutionize fields like cryptography, pharmaceutical development, and climate modeling by enabling previously infeasible simulations.\n",
    "However, experts caution that while the breakthrough is remarkable, commercial applications are still years away due to engineering limitations and high operational costs.\n",
    "The announcement has reignited global interest and competition in quantum technologies, with major tech firms and governments accelerating their investments in research.\n",
    "Analysts note that the race for quantum supremacy is as much geopolitical as it is technological, with nations seeking to secure strategic advantages through computing power.\"\"\"\n",
    "\n",
    "# 1. Tokenize en phrases\n",
    "sentences = sent_tokenize(article)\n",
    "\n",
    "# 2. Nettoyage phrase par phrase\n",
    "cleaned_sentences = [preprocessing(sentence) for sentence in sentences]\n",
    "\n",
    "# 3. Vectorisation\n",
    "X_article_vec = vectorizer.transform(cleaned_sentences)\n",
    "\n",
    "# 4. Calcul des probabilités de la classe 1 (phrase à inclure dans résumé)\n",
    "if hasattr(clf, \"predict_proba\"):\n",
    "    probas = clf.predict_proba(X_article_vec)[:, 1]\n",
    "elif hasattr(clf, \"decision_function\"):\n",
    "    decision_scores = clf.decision_function(X_article_vec)\n",
    "    # Approximation softmax pour transformer score en probabilité\n",
    "    probas = softmax(np.vstack([-decision_scores, decision_scores]), axis=0)[1]\n",
    "else:\n",
    "    raise ValueError(\"Le modèle ne supporte ni predict_proba ni decision_function\")\n",
    "\n",
    "# 5. Récupérer les indices des 3 phrases avec les plus grandes probabilités\n",
    "top_k = 3\n",
    "top_k_idx = np.argsort(probas)[-top_k:][::-1]\n",
    "\n",
    "# 6. Affichage résumé et détails\n",
    "print(\"Résumé extrait (top 3 phrases) :\\n\")\n",
    "for idx in sorted(top_k_idx):\n",
    "    print(f\"- {sentences[idx]} (proba: {probas[idx]:.4f})\")"
   ],
   "id": "66a2e69cde38a8f2",
   "outputs": [
    {
     "name": "stdout",
     "output_type": "stream",
     "text": [
      "Résumé extrait (top 3 phrases) :\n",
      "\n",
      "- ““Breakthrough in Quantum Computing Promises Unprecedented Processing Power”\n",
      "\n",
      "A team of researchers from MIT and Google has announced a major milestone in quantum computing, unveiling a new quantum processor capable of solving complex problems at speeds far beyond traditional supercomputers. (proba: 0.5498)\n",
      "- The processor, named “QuantaX,” leverages a novel qubit stabilization technique that significantly reduces error rates, which has been one of the most persistent challenges in quantum systems. (proba: 0.3067)\n",
      "- However, experts caution that while the breakthrough is remarkable, commercial applications are still years away due to engineering limitations and high operational costs. (proba: 0.3014)\n"
     ]
    }
   ],
   "execution_count": 50
  },
  {
   "metadata": {},
   "cell_type": "code",
   "outputs": [],
   "execution_count": null,
   "source": "",
   "id": "c662d3d5a5647eb2"
  },
  {
   "metadata": {
    "ExecuteTime": {
     "end_time": "2025-06-22T15:59:26.412607Z",
     "start_time": "2025-06-22T15:59:26.263508Z"
    }
   },
   "cell_type": "code",
   "source": [
    "# import joblib\n",
    "# import random\n",
    "#\n",
    "# model_name = best_trial.params['model']\n",
    "# rand = random.randint(0,9)\n",
    "# # Enregistrer la pipeline\n",
    "# joblib.dump(pipeline, f'ML_Sumarizer/summarize_pipeline_{model_name}_{rand}.pkl')"
   ],
   "id": "fbc837bac2f2a2ba",
   "outputs": [
    {
     "data": {
      "text/plain": [
       "['ML_Sumarizer/summarize_pipeline_XGBoost.pkl']"
      ]
     },
     "execution_count": 51,
     "metadata": {},
     "output_type": "execute_result"
    }
   ],
   "execution_count": 51
  }
 ],
 "metadata": {
  "kernelspec": {
   "display_name": "Python 3",
   "language": "python",
   "name": "python3"
  },
  "language_info": {
   "codemirror_mode": {
    "name": "ipython",
    "version": 2
   },
   "file_extension": ".py",
   "mimetype": "text/x-python",
   "name": "python",
   "nbconvert_exporter": "python",
   "pygments_lexer": "ipython2",
   "version": "2.7.6"
  }
 },
 "nbformat": 4,
 "nbformat_minor": 5
}
