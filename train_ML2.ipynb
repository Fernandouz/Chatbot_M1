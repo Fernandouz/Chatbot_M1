{
 "nbformat": 4,
 "nbformat_minor": 0,
 "metadata": {
  "colab": {
   "provenance": []
  },
  "kernelspec": {
   "name": "python3",
   "display_name": "Python 3 (ipykernel)",
   "language": "python"
  },
  "language_info": {
   "name": "python"
  }
 },
 "cells": [
  {
   "cell_type": "code",
   "metadata": {
    "colab": {
     "base_uri": "https://localhost:8080/"
    },
    "collapsed": true,
    "id": "8Fvlg2Knme0W",
    "outputId": "f22bd2d5-598f-464a-8690-b00046942b2a",
    "ExecuteTime": {
     "end_time": "2025-06-18T08:53:35.646494Z",
     "start_time": "2025-06-18T08:53:35.640906Z"
    }
   },
   "source": "# !pip install --upgrade datasets",
   "outputs": [],
   "execution_count": 2
  },
  {
   "cell_type": "code",
   "source": [
    "import polars as pl\n",
    "from datasets import load_dataset\n",
    "from utils import preprocessing\n",
    "\n",
    "ds = load_dataset(\"fancyzhx/ag_news\")"
   ],
   "metadata": {
    "id": "GiTs9NXon8Rs",
    "ExecuteTime": {
     "end_time": "2025-06-18T08:53:47.037418Z",
     "start_time": "2025-06-18T08:53:35.662424Z"
    }
   },
   "outputs": [
    {
     "name": "stderr",
     "output_type": "stream",
     "text": [
      "/Users/hugo/PycharmProjects/Chatbot_M1/.venv/lib/python3.11/site-packages/tqdm/auto.py:21: TqdmWarning: IProgress not found. Please update jupyter and ipywidgets. See https://ipywidgets.readthedocs.io/en/stable/user_install.html\n",
      "  from .autonotebook import tqdm as notebook_tqdm\n",
      "[nltk_data] Downloading package punkt to /Users/hugo/nltk_data...\n",
      "[nltk_data]   Package punkt is already up-to-date!\n",
      "[nltk_data] Downloading package punkt_tab to /Users/hugo/nltk_data...\n",
      "[nltk_data]   Package punkt_tab is already up-to-date!\n",
      "[nltk_data] Downloading package stopwords to /Users/hugo/nltk_data...\n",
      "[nltk_data]   Package stopwords is already up-to-date!\n",
      "[nltk_data] Downloading package wordnet to /Users/hugo/nltk_data...\n",
      "[nltk_data]   Package wordnet is already up-to-date!\n",
      "[nltk_data] Downloading package averaged_perceptron_tagger_eng to\n",
      "[nltk_data]     /Users/hugo/nltk_data...\n",
      "[nltk_data]   Package averaged_perceptron_tagger_eng is already up-to-\n",
      "[nltk_data]       date!\n"
     ]
    }
   ],
   "execution_count": 3
  },
  {
   "cell_type": "code",
   "source": [
    "ds"
   ],
   "metadata": {
    "colab": {
     "base_uri": "https://localhost:8080/"
    },
    "id": "7WTfVT95tmDO",
    "outputId": "df179d45-542e-4dae-92e5-6688f2031f11",
    "ExecuteTime": {
     "end_time": "2025-06-18T08:53:47.087489Z",
     "start_time": "2025-06-18T08:53:47.081721Z"
    }
   },
   "outputs": [
    {
     "data": {
      "text/plain": [
       "DatasetDict({\n",
       "    train: Dataset({\n",
       "        features: ['text', 'label'],\n",
       "        num_rows: 120000\n",
       "    })\n",
       "    test: Dataset({\n",
       "        features: ['text', 'label'],\n",
       "        num_rows: 7600\n",
       "    })\n",
       "})"
      ]
     },
     "execution_count": 4,
     "metadata": {},
     "output_type": "execute_result"
    }
   ],
   "execution_count": 4
  },
  {
   "cell_type": "code",
   "source": [
    "# Convertir chaque split en Polars DataFrame\n",
    "train_pl = pl.DataFrame(ds[\"train\"][:])\n",
    "\n",
    "# Affichage\n",
    "print(train_pl.head())"
   ],
   "metadata": {
    "colab": {
     "base_uri": "https://localhost:8080/"
    },
    "id": "RX6BWutrtu06",
    "outputId": "623d4060-4a52-4839-c9a7-85f5c8fa6529",
    "ExecuteTime": {
     "end_time": "2025-06-18T08:53:47.260352Z",
     "start_time": "2025-06-18T08:53:47.119810Z"
    }
   },
   "outputs": [
    {
     "name": "stdout",
     "output_type": "stream",
     "text": [
      "shape: (5, 2)\n",
      "┌─────────────────────────────────┬───────┐\n",
      "│ text                            ┆ label │\n",
      "│ ---                             ┆ ---   │\n",
      "│ str                             ┆ i64   │\n",
      "╞═════════════════════════════════╪═══════╡\n",
      "│ Wall St. Bears Claw Back Into … ┆ 2     │\n",
      "│ Carlyle Looks Toward Commercia… ┆ 2     │\n",
      "│ Oil and Economy Cloud Stocks' … ┆ 2     │\n",
      "│ Iraq Halts Oil Exports from Ma… ┆ 2     │\n",
      "│ Oil prices soar to all-time re… ┆ 2     │\n",
      "└─────────────────────────────────┴───────┘\n"
     ]
    }
   ],
   "execution_count": 5
  },
  {
   "cell_type": "code",
   "source": [
    "label_names = ds[\"train\"].features[\"label\"].names\n",
    "print(label_names)\n",
    "\n",
    "train_pl = train_pl.with_columns([\n",
    "    pl.col(\"label\").map_elements(lambda x: label_names[x], return_dtype=pl.String).alias(\"label_name\")\n",
    "])\n",
    "\n",
    "train_pl.head()"
   ],
   "metadata": {
    "colab": {
     "base_uri": "https://localhost:8080/",
     "height": 273
    },
    "id": "Wl61W3-xuQRQ",
    "outputId": "006aaeda-fe0a-44b5-8e45-0090fa573e87",
    "ExecuteTime": {
     "end_time": "2025-06-18T08:53:47.324993Z",
     "start_time": "2025-06-18T08:53:47.285390Z"
    }
   },
   "outputs": [
    {
     "name": "stdout",
     "output_type": "stream",
     "text": [
      "['World', 'Sports', 'Business', 'Sci/Tech']\n"
     ]
    },
    {
     "data": {
      "text/plain": [
       "shape: (5, 3)\n",
       "┌─────────────────────────────────┬───────┬────────────┐\n",
       "│ text                            ┆ label ┆ label_name │\n",
       "│ ---                             ┆ ---   ┆ ---        │\n",
       "│ str                             ┆ i64   ┆ str        │\n",
       "╞═════════════════════════════════╪═══════╪════════════╡\n",
       "│ Wall St. Bears Claw Back Into … ┆ 2     ┆ Business   │\n",
       "│ Carlyle Looks Toward Commercia… ┆ 2     ┆ Business   │\n",
       "│ Oil and Economy Cloud Stocks' … ┆ 2     ┆ Business   │\n",
       "│ Iraq Halts Oil Exports from Ma… ┆ 2     ┆ Business   │\n",
       "│ Oil prices soar to all-time re… ┆ 2     ┆ Business   │\n",
       "└─────────────────────────────────┴───────┴────────────┘"
      ],
      "text/html": [
       "<div><style>\n",
       ".dataframe > thead > tr,\n",
       ".dataframe > tbody > tr {\n",
       "  text-align: right;\n",
       "  white-space: pre-wrap;\n",
       "}\n",
       "</style>\n",
       "<small>shape: (5, 3)</small><table border=\"1\" class=\"dataframe\"><thead><tr><th>text</th><th>label</th><th>label_name</th></tr><tr><td>str</td><td>i64</td><td>str</td></tr></thead><tbody><tr><td>&quot;Wall St. Bears Claw Back Into …</td><td>2</td><td>&quot;Business&quot;</td></tr><tr><td>&quot;Carlyle Looks Toward Commercia…</td><td>2</td><td>&quot;Business&quot;</td></tr><tr><td>&quot;Oil and Economy Cloud Stocks&#x27; …</td><td>2</td><td>&quot;Business&quot;</td></tr><tr><td>&quot;Iraq Halts Oil Exports from Ma…</td><td>2</td><td>&quot;Business&quot;</td></tr><tr><td>&quot;Oil prices soar to all-time re…</td><td>2</td><td>&quot;Business&quot;</td></tr></tbody></table></div>"
      ]
     },
     "execution_count": 6,
     "metadata": {},
     "output_type": "execute_result"
    }
   ],
   "execution_count": 6
  },
  {
   "cell_type": "code",
   "source": [
    "df = train_pl.with_columns([\n",
    "    pl.col(\"text\").map_elements(preprocessing, return_dtype=pl.String).alias(\"text_cleaned\")\n",
    "])\n",
    "\n",
    "df.head()"
   ],
   "metadata": {
    "colab": {
     "base_uri": "https://localhost:8080/",
     "height": 255
    },
    "id": "UcX036pO01Ii",
    "outputId": "7115f717-a01d-4f26-dae1-f0eea179e3c4",
    "ExecuteTime": {
     "end_time": "2025-06-18T08:55:08.594573Z",
     "start_time": "2025-06-18T08:53:47.405828Z"
    }
   },
   "outputs": [
    {
     "data": {
      "text/plain": [
       "shape: (5, 4)\n",
       "┌─────────────────────────────────┬───────┬────────────┬─────────────────────────────────┐\n",
       "│ text                            ┆ label ┆ label_name ┆ text_cleaned                    │\n",
       "│ ---                             ┆ ---   ┆ ---        ┆ ---                             │\n",
       "│ str                             ┆ i64   ┆ str        ┆ str                             │\n",
       "╞═════════════════════════════════╪═══════╪════════════╪═════════════════════════════════╡\n",
       "│ Wall St. Bears Claw Back Into … ┆ 2     ┆ Business   ┆ wall bear claw back black reut… │\n",
       "│ Carlyle Looks Toward Commercia… ┆ 2     ┆ Business   ┆ carlyle look toward commercial… │\n",
       "│ Oil and Economy Cloud Stocks' … ┆ 2     ┆ Business   ┆ oil economy cloud stock outloo… │\n",
       "│ Iraq Halts Oil Exports from Ma… ┆ 2     ┆ Business   ┆ iraq halt oil export main sout… │\n",
       "│ Oil prices soar to all-time re… ┆ 2     ┆ Business   ┆ oil price soar record pose new… │\n",
       "└─────────────────────────────────┴───────┴────────────┴─────────────────────────────────┘"
      ],
      "text/html": [
       "<div><style>\n",
       ".dataframe > thead > tr,\n",
       ".dataframe > tbody > tr {\n",
       "  text-align: right;\n",
       "  white-space: pre-wrap;\n",
       "}\n",
       "</style>\n",
       "<small>shape: (5, 4)</small><table border=\"1\" class=\"dataframe\"><thead><tr><th>text</th><th>label</th><th>label_name</th><th>text_cleaned</th></tr><tr><td>str</td><td>i64</td><td>str</td><td>str</td></tr></thead><tbody><tr><td>&quot;Wall St. Bears Claw Back Into …</td><td>2</td><td>&quot;Business&quot;</td><td>&quot;wall bear claw back black reut…</td></tr><tr><td>&quot;Carlyle Looks Toward Commercia…</td><td>2</td><td>&quot;Business&quot;</td><td>&quot;carlyle look toward commercial…</td></tr><tr><td>&quot;Oil and Economy Cloud Stocks&#x27; …</td><td>2</td><td>&quot;Business&quot;</td><td>&quot;oil economy cloud stock outloo…</td></tr><tr><td>&quot;Iraq Halts Oil Exports from Ma…</td><td>2</td><td>&quot;Business&quot;</td><td>&quot;iraq halt oil export main sout…</td></tr><tr><td>&quot;Oil prices soar to all-time re…</td><td>2</td><td>&quot;Business&quot;</td><td>&quot;oil price soar record pose new…</td></tr></tbody></table></div>"
      ]
     },
     "execution_count": 8,
     "metadata": {},
     "output_type": "execute_result"
    }
   ],
   "execution_count": 8
  },
  {
   "metadata": {},
   "cell_type": "markdown",
   "source": "# Entrainement du Model ML"
  },
  {
   "metadata": {
    "ExecuteTime": {
     "end_time": "2025-06-18T08:55:08.845346Z",
     "start_time": "2025-06-18T08:55:08.741730Z"
    }
   },
   "cell_type": "code",
   "source": [
    "from sklearn.model_selection import train_test_split\n",
    "# Séparer X et Y train_test_split\n",
    "X = df[\"text_cleaned\"].to_list()\n",
    "y = df[\"label\"].to_list()\n",
    "\n",
    "X_train, X_test, y_train, y_test = train_test_split(X, y, test_size=0.2,stratify=y, random_state=42)"
   ],
   "outputs": [],
   "execution_count": 11
  },
  {
   "metadata": {
    "ExecuteTime": {
     "end_time": "2025-06-18T08:57:37.648784Z",
     "start_time": "2025-06-18T08:55:08.854821Z"
    }
   },
   "cell_type": "code",
   "source": [
    "import optuna\n",
    "from sklearn.pipeline import Pipeline\n",
    "from sklearn.feature_extraction.text import TfidfVectorizer\n",
    "from sklearn.linear_model import LogisticRegression\n",
    "from sklearn.svm import LinearSVC\n",
    "from sklearn.metrics import f1_score, accuracy_score\n",
    "\n",
    "\n",
    "def objective(trial):\n",
    "    model_name = trial.suggest_categorical(\"model\", [\"LogisticRegression\", \"SVM\"])\n",
    "    max_features = trial.suggest_int(\"max_features\", 1000, 10000, step=1000)\n",
    "\n",
    "    vectorizer = TfidfVectorizer(max_features=max_features)\n",
    "\n",
    "    if model_name == \"LogisticRegression\":\n",
    "        clf = LogisticRegression(max_iter=1000, C=trial.suggest_float(\"C\", 1e-3, 10, log=True))\n",
    "    else:\n",
    "        clf = LinearSVC(C=trial.suggest_float(\"C\", 1e-3, 10, log=True), max_iter=1000)\n",
    "\n",
    "    pipeline = Pipeline([\n",
    "        (\"vectorizer\", vectorizer),\n",
    "        (\"classifier\", clf)\n",
    "    ])\n",
    "\n",
    "    pipeline.fit(X_train, y_train)\n",
    "    preds = pipeline.predict(X_test)\n",
    "\n",
    "    f1 = f1_score(y_test, preds, average='macro')\n",
    "    acc = accuracy_score(y_test, preds)\n",
    "\n",
    "    return f1, acc\n",
    "\n",
    "study = optuna.create_study(\n",
    "    directions=[\"maximize\", \"maximize\"],  # [F1 macro, Accuracy]\n",
    ")\n",
    "study.optimize(objective, n_trials=50)\n",
    "\n",
    "print(\"Best trials:\")\n",
    "# print(study.best_trials.params)\n",
    "\n",
    "for t in study.best_trials:\n",
    "    print(f\"F1 macro: {t.values[0]:.4f}, Accuracy: {t.values[1]:.4f}, Params: {t.params}\")\n"
   ],
   "outputs": [
    {
     "name": "stderr",
     "output_type": "stream",
     "text": [
      "[I 2025-06-18 10:55:08,913] A new study created in memory with name: no-name-98d7f0e8-e1d3-49be-9b92-3b4804f5113b\n",
      "[I 2025-06-18 10:55:11,272] Trial 0 finished with values: [0.8727772381578813, 0.873125] and parameters: {'model': 'SVM', 'max_features': 1000, 'C': 0.23465513731220716}.\n",
      "[I 2025-06-18 10:55:18,218] Trial 1 finished with values: [0.9055582901694585, 0.9057083333333333] and parameters: {'model': 'LogisticRegression', 'max_features': 6000, 'C': 6.939896168856023}.\n",
      "[I 2025-06-18 10:55:21,278] Trial 2 finished with values: [0.8922399262266401, 0.8924166666666666] and parameters: {'model': 'LogisticRegression', 'max_features': 2000, 'C': 2.2930914024320317}.\n",
      "[I 2025-06-18 10:55:24,475] Trial 3 finished with values: [0.9017699986444816, 0.9019583333333333] and parameters: {'model': 'LogisticRegression', 'max_features': 3000, 'C': 0.38827580000916284}.\n",
      "[I 2025-06-18 10:55:27,792] Trial 4 finished with values: [0.912715849470344, 0.9129166666666667] and parameters: {'model': 'SVM', 'max_features': 7000, 'C': 0.9080986420463348}.\n",
      "[I 2025-06-18 10:55:29,668] Trial 5 finished with values: [0.890216322213287, 0.8907083333333333] and parameters: {'model': 'SVM', 'max_features': 3000, 'C': 0.0065358391594691825}.\n",
      "[I 2025-06-18 10:55:31,214] Trial 6 finished with values: [0.8635785215437247, 0.8647083333333333] and parameters: {'model': 'LogisticRegression', 'max_features': 9000, 'C': 0.0039056481790134233}.\n",
      "[I 2025-06-18 10:55:33,760] Trial 7 finished with values: [0.9135333984078996, 0.9137916666666667] and parameters: {'model': 'SVM', 'max_features': 8000, 'C': 0.06039676799117356}.\n",
      "[I 2025-06-18 10:55:36,066] Trial 8 finished with values: [0.8665829454340335, 0.866875] and parameters: {'model': 'LogisticRegression', 'max_features': 1000, 'C': 0.0757680808274498}.\n",
      "[I 2025-06-18 10:55:38,079] Trial 9 finished with values: [0.8539718023094818, 0.855375] and parameters: {'model': 'LogisticRegression', 'max_features': 9000, 'C': 0.001212906592529612}.\n",
      "[I 2025-06-18 10:55:39,566] Trial 10 finished with values: [0.8611536982136734, 0.8623333333333333] and parameters: {'model': 'LogisticRegression', 'max_features': 6000, 'C': 0.002777829844706948}.\n",
      "[I 2025-06-18 10:55:42,022] Trial 11 finished with values: [0.9111742672255924, 0.9114583333333334] and parameters: {'model': 'SVM', 'max_features': 6000, 'C': 0.04912948359826606}.\n",
      "[I 2025-06-18 10:55:47,949] Trial 12 finished with values: [0.9118965718173149, 0.9120416666666666] and parameters: {'model': 'LogisticRegression', 'max_features': 9000, 'C': 4.361089328352782}.\n",
      "[I 2025-06-18 10:55:49,452] Trial 13 finished with values: [0.8572071082555031, 0.8585] and parameters: {'model': 'LogisticRegression', 'max_features': 6000, 'C': 0.0018343105771867953}.\n",
      "[I 2025-06-18 10:55:51,170] Trial 14 finished with values: [0.8711425280884783, 0.872] and parameters: {'model': 'LogisticRegression', 'max_features': 5000, 'C': 0.006726328322232418}.\n",
      "[I 2025-06-18 10:55:55,316] Trial 15 finished with values: [0.905989919692713, 0.9061666666666667] and parameters: {'model': 'SVM', 'max_features': 6000, 'C': 5.134403097557486}.\n",
      "[I 2025-06-18 10:55:58,117] Trial 16 finished with values: [0.9031428116758047, 0.903375] and parameters: {'model': 'SVM', 'max_features': 3000, 'C': 0.47956403211302306}.\n",
      "[I 2025-06-18 10:56:01,741] Trial 17 finished with values: [0.9100775444489393, 0.9102916666666667] and parameters: {'model': 'SVM', 'max_features': 5000, 'C': 0.8790431331150516}.\n",
      "[I 2025-06-18 10:56:08,734] Trial 18 finished with values: [0.9076682037842911, 0.9078333333333334] and parameters: {'model': 'LogisticRegression', 'max_features': 5000, 'C': 3.0824964272957867}.\n",
      "[I 2025-06-18 10:56:10,413] Trial 19 finished with values: [0.8571926853337873, 0.8585] and parameters: {'model': 'LogisticRegression', 'max_features': 10000, 'C': 0.002226727096756346}.\n",
      "[I 2025-06-18 10:56:12,347] Trial 20 finished with values: [0.873132128320257, 0.874] and parameters: {'model': 'LogisticRegression', 'max_features': 6000, 'C': 0.0075443560780058035}.\n",
      "[I 2025-06-18 10:56:14,403] Trial 21 finished with values: [0.8917647695938864, 0.892125] and parameters: {'model': 'SVM', 'max_features': 2000, 'C': 0.02253209567031329}.\n",
      "[I 2025-06-18 10:56:16,226] Trial 22 finished with values: [0.8682765089466313, 0.86875] and parameters: {'model': 'SVM', 'max_features': 1000, 'C': 0.01787018989741734}.\n",
      "[I 2025-06-18 10:56:19,764] Trial 23 finished with values: [0.9090641387125291, 0.90925] and parameters: {'model': 'SVM', 'max_features': 7000, 'C': 2.4022553811409506}.\n",
      "[I 2025-06-18 10:56:22,146] Trial 24 finished with values: [0.8929268219004439, 0.89325] and parameters: {'model': 'SVM', 'max_features': 2000, 'C': 0.03651191726533263}.\n",
      "[I 2025-06-18 10:56:24,270] Trial 25 finished with values: [0.8942230143991632, 0.8947916666666667] and parameters: {'model': 'SVM', 'max_features': 7000, 'C': 0.005282870658335553}.\n",
      "[I 2025-06-18 10:56:28,292] Trial 26 finished with values: [0.9093326598210885, 0.9095] and parameters: {'model': 'SVM', 'max_features': 9000, 'C': 2.4902867306634597}.\n",
      "[I 2025-06-18 10:56:29,909] Trial 27 finished with values: [0.8541241561721353, 0.8554583333333333] and parameters: {'model': 'LogisticRegression', 'max_features': 5000, 'C': 0.0010717741487460176}.\n",
      "[I 2025-06-18 10:56:31,758] Trial 28 finished with values: [0.8851137396414239, 0.885875] and parameters: {'model': 'SVM', 'max_features': 8000, 'C': 0.002739763088145628}.\n",
      "[I 2025-06-18 10:56:33,888] Trial 29 finished with values: [0.8963943366936175, 0.8969166666666667] and parameters: {'model': 'SVM', 'max_features': 6000, 'C': 0.0067565848841164}.\n",
      "[I 2025-06-18 10:56:35,734] Trial 30 finished with values: [0.8748132922384071, 0.8757083333333333] and parameters: {'model': 'SVM', 'max_features': 4000, 'C': 0.0013938848906003703}.\n",
      "[I 2025-06-18 10:56:38,747] Trial 31 finished with values: [0.9137127462797177, 0.9139166666666667] and parameters: {'model': 'SVM', 'max_features': 7000, 'C': 0.36623576860794876}.\n",
      "[I 2025-06-18 10:56:43,138] Trial 32 finished with values: [0.9093834676568064, 0.9095416666666667] and parameters: {'model': 'LogisticRegression', 'max_features': 5000, 'C': 0.8311051101453849}.\n",
      "[I 2025-06-18 10:56:45,551] Trial 33 finished with values: [0.8993801249822764, 0.89975] and parameters: {'model': 'LogisticRegression', 'max_features': 10000, 'C': 0.06029037867503656}.\n",
      "[I 2025-06-18 10:56:47,449] Trial 34 finished with values: [0.8871816059696621, 0.887875] and parameters: {'model': 'SVM', 'max_features': 7000, 'C': 0.0031419554458383247}.\n",
      "[I 2025-06-18 10:56:54,682] Trial 35 finished with values: [0.9128098371277285, 0.9129583333333333] and parameters: {'model': 'LogisticRegression', 'max_features': 9000, 'C': 3.8032005171068826}.\n",
      "[I 2025-06-18 10:56:58,872] Trial 36 finished with values: [0.9102370137780854, 0.9104166666666667] and parameters: {'model': 'LogisticRegression', 'max_features': 6000, 'C': 0.5369494506808955}.\n",
      "[I 2025-06-18 10:57:02,540] Trial 37 finished with values: [0.905052192677855, 0.90525] and parameters: {'model': 'SVM', 'max_features': 4000, 'C': 3.2201715766292343}.\n",
      "[I 2025-06-18 10:57:05,224] Trial 38 finished with values: [0.9123525725476508, 0.9125833333333333] and parameters: {'model': 'SVM', 'max_features': 6000, 'C': 0.12524039858950173}.\n",
      "[I 2025-06-18 10:57:07,261] Trial 39 finished with values: [0.8955938733162438, 0.8960833333333333] and parameters: {'model': 'SVM', 'max_features': 5000, 'C': 0.007155486197294162}.\n",
      "[I 2025-06-18 10:57:10,764] Trial 40 finished with values: [0.9090308303162077, 0.9092083333333333] and parameters: {'model': 'SVM', 'max_features': 8000, 'C': 2.327690771807583}.\n",
      "[I 2025-06-18 10:57:14,566] Trial 41 finished with values: [0.9085627384612012, 0.9087916666666667] and parameters: {'model': 'LogisticRegression', 'max_features': 7000, 'C': 0.2902483233392341}.\n",
      "[I 2025-06-18 10:57:15,843] Trial 42 finished with values: [0.8492264108255432, 0.8499583333333334] and parameters: {'model': 'LogisticRegression', 'max_features': 1000, 'C': 0.006080473391092752}.\n",
      "[I 2025-06-18 10:57:18,084] Trial 43 finished with values: [0.8939650574725168, 0.894125] and parameters: {'model': 'LogisticRegression', 'max_features': 2000, 'C': 0.5347848234260939}.\n",
      "[I 2025-06-18 10:57:22,745] Trial 44 finished with values: [0.9085855697499527, 0.90875] and parameters: {'model': 'LogisticRegression', 'max_features': 5000, 'C': 1.6194311783875919}.\n",
      "[I 2025-06-18 10:57:25,293] Trial 45 finished with values: [0.8965081937053866, 0.8969166666666667] and parameters: {'model': 'LogisticRegression', 'max_features': 8000, 'C': 0.045712137221477045}.\n",
      "[I 2025-06-18 10:57:27,354] Trial 46 finished with values: [0.8762199740919986, 0.8770416666666667] and parameters: {'model': 'LogisticRegression', 'max_features': 9000, 'C': 0.009745107692117894}.\n",
      "[I 2025-06-18 10:57:30,456] Trial 47 finished with values: [0.884242402771153, 0.8848333333333334] and parameters: {'model': 'LogisticRegression', 'max_features': 5000, 'C': 0.01767702312137927}.\n",
      "[I 2025-06-18 10:57:32,938] Trial 48 finished with values: [0.8923979283716417, 0.89275] and parameters: {'model': 'SVM', 'max_features': 2000, 'C': 0.024708695534996248}.\n",
      "[I 2025-06-18 10:57:37,641] Trial 49 finished with values: [0.9090170553492007, 0.90925] and parameters: {'model': 'LogisticRegression', 'max_features': 10000, 'C': 0.24992459207011275}.\n"
     ]
    },
    {
     "name": "stdout",
     "output_type": "stream",
     "text": [
      "Best trials:\n",
      "F1 macro: 0.9137, Accuracy: 0.9139, Params: {'model': 'SVM', 'max_features': 7000, 'C': 0.36623576860794876}\n"
     ]
    }
   ],
   "execution_count": 12
  },
  {
   "metadata": {
    "ExecuteTime": {
     "end_time": "2025-06-18T11:36:08.575655Z",
     "start_time": "2025-06-18T11:36:08.460439Z"
    }
   },
   "cell_type": "code",
   "source": [
    "import optuna.visualization as vis\n",
    "\n",
    "# Affiche la frontière de Pareto\n",
    "vis.plot_pareto_front(study, target_names=[\"F1 macro\", \"Accuracy\"]).show()"
   ],
   "outputs": [
    {
     "data": {
      "application/vnd.plotly.v1+json": {
       "data": [
        {
         "hovertemplate": "%{text}<extra>Trial</extra>",
         "marker": {
          "color": [
           0,
           1,
           2,
           3,
           4,
           5,
           6,
           7,
           8,
           9,
           10,
           11,
           12,
           13,
           14,
           15,
           16,
           17,
           18,
           19,
           20,
           21,
           22,
           23,
           24,
           25,
           26,
           27,
           28,
           29,
           30,
           32,
           33,
           34,
           35,
           36,
           37,
           38,
           39,
           40,
           41,
           42,
           43,
           44,
           45,
           46,
           47,
           48,
           49
          ],
          "colorbar": {
           "title": {
            "text": "Trial"
           }
          },
          "colorscale": [
           [
            0.0,
            "rgb(247,251,255)"
           ],
           [
            0.125,
            "rgb(222,235,247)"
           ],
           [
            0.25,
            "rgb(198,219,239)"
           ],
           [
            0.375,
            "rgb(158,202,225)"
           ],
           [
            0.5,
            "rgb(107,174,214)"
           ],
           [
            0.625,
            "rgb(66,146,198)"
           ],
           [
            0.75,
            "rgb(33,113,181)"
           ],
           [
            0.875,
            "rgb(8,81,156)"
           ],
           [
            1.0,
            "rgb(8,48,107)"
           ]
          ],
          "line": {
           "color": "Grey",
           "width": 0.5
          }
         },
         "mode": "markers",
         "showlegend": false,
         "text": [
          "{<br>  \"number\": 0,<br>  \"values\": [<br>    0.8727772381578813,<br>    0.873125<br>  ],<br>  \"params\": {<br>    \"model\": \"SVM\",<br>    \"max_features\": 1000,<br>    \"C\": 0.23465513731220716<br>  }<br>}",
          "{<br>  \"number\": 1,<br>  \"values\": [<br>    0.9055582901694585,<br>    0.9057083333333333<br>  ],<br>  \"params\": {<br>    \"model\": \"LogisticRegression\",<br>    \"max_features\": 6000,<br>    \"C\": 6.939896168856023<br>  }<br>}",
          "{<br>  \"number\": 2,<br>  \"values\": [<br>    0.8922399262266401,<br>    0.8924166666666666<br>  ],<br>  \"params\": {<br>    \"model\": \"LogisticRegression\",<br>    \"max_features\": 2000,<br>    \"C\": 2.2930914024320317<br>  }<br>}",
          "{<br>  \"number\": 3,<br>  \"values\": [<br>    0.9017699986444816,<br>    0.9019583333333333<br>  ],<br>  \"params\": {<br>    \"model\": \"LogisticRegression\",<br>    \"max_features\": 3000,<br>    \"C\": 0.38827580000916284<br>  }<br>}",
          "{<br>  \"number\": 4,<br>  \"values\": [<br>    0.912715849470344,<br>    0.9129166666666667<br>  ],<br>  \"params\": {<br>    \"model\": \"SVM\",<br>    \"max_features\": 7000,<br>    \"C\": 0.9080986420463348<br>  }<br>}",
          "{<br>  \"number\": 5,<br>  \"values\": [<br>    0.890216322213287,<br>    0.8907083333333333<br>  ],<br>  \"params\": {<br>    \"model\": \"SVM\",<br>    \"max_features\": 3000,<br>    \"C\": 0.0065358391594691825<br>  }<br>}",
          "{<br>  \"number\": 6,<br>  \"values\": [<br>    0.8635785215437247,<br>    0.8647083333333333<br>  ],<br>  \"params\": {<br>    \"model\": \"LogisticRegression\",<br>    \"max_features\": 9000,<br>    \"C\": 0.0039056481790134233<br>  }<br>}",
          "{<br>  \"number\": 7,<br>  \"values\": [<br>    0.9135333984078996,<br>    0.9137916666666667<br>  ],<br>  \"params\": {<br>    \"model\": \"SVM\",<br>    \"max_features\": 8000,<br>    \"C\": 0.06039676799117356<br>  }<br>}",
          "{<br>  \"number\": 8,<br>  \"values\": [<br>    0.8665829454340335,<br>    0.866875<br>  ],<br>  \"params\": {<br>    \"model\": \"LogisticRegression\",<br>    \"max_features\": 1000,<br>    \"C\": 0.0757680808274498<br>  }<br>}",
          "{<br>  \"number\": 9,<br>  \"values\": [<br>    0.8539718023094818,<br>    0.855375<br>  ],<br>  \"params\": {<br>    \"model\": \"LogisticRegression\",<br>    \"max_features\": 9000,<br>    \"C\": 0.001212906592529612<br>  }<br>}",
          "{<br>  \"number\": 10,<br>  \"values\": [<br>    0.8611536982136734,<br>    0.8623333333333333<br>  ],<br>  \"params\": {<br>    \"model\": \"LogisticRegression\",<br>    \"max_features\": 6000,<br>    \"C\": 0.002777829844706948<br>  }<br>}",
          "{<br>  \"number\": 11,<br>  \"values\": [<br>    0.9111742672255924,<br>    0.9114583333333334<br>  ],<br>  \"params\": {<br>    \"model\": \"SVM\",<br>    \"max_features\": 6000,<br>    \"C\": 0.04912948359826606<br>  }<br>}",
          "{<br>  \"number\": 12,<br>  \"values\": [<br>    0.9118965718173149,<br>    0.9120416666666666<br>  ],<br>  \"params\": {<br>    \"model\": \"LogisticRegression\",<br>    \"max_features\": 9000,<br>    \"C\": 4.361089328352782<br>  }<br>}",
          "{<br>  \"number\": 13,<br>  \"values\": [<br>    0.8572071082555031,<br>    0.8585<br>  ],<br>  \"params\": {<br>    \"model\": \"LogisticRegression\",<br>    \"max_features\": 6000,<br>    \"C\": 0.0018343105771867953<br>  }<br>}",
          "{<br>  \"number\": 14,<br>  \"values\": [<br>    0.8711425280884783,<br>    0.872<br>  ],<br>  \"params\": {<br>    \"model\": \"LogisticRegression\",<br>    \"max_features\": 5000,<br>    \"C\": 0.006726328322232418<br>  }<br>}",
          "{<br>  \"number\": 15,<br>  \"values\": [<br>    0.905989919692713,<br>    0.9061666666666667<br>  ],<br>  \"params\": {<br>    \"model\": \"SVM\",<br>    \"max_features\": 6000,<br>    \"C\": 5.134403097557486<br>  }<br>}",
          "{<br>  \"number\": 16,<br>  \"values\": [<br>    0.9031428116758047,<br>    0.903375<br>  ],<br>  \"params\": {<br>    \"model\": \"SVM\",<br>    \"max_features\": 3000,<br>    \"C\": 0.47956403211302306<br>  }<br>}",
          "{<br>  \"number\": 17,<br>  \"values\": [<br>    0.9100775444489393,<br>    0.9102916666666667<br>  ],<br>  \"params\": {<br>    \"model\": \"SVM\",<br>    \"max_features\": 5000,<br>    \"C\": 0.8790431331150516<br>  }<br>}",
          "{<br>  \"number\": 18,<br>  \"values\": [<br>    0.9076682037842911,<br>    0.9078333333333334<br>  ],<br>  \"params\": {<br>    \"model\": \"LogisticRegression\",<br>    \"max_features\": 5000,<br>    \"C\": 3.0824964272957867<br>  }<br>}",
          "{<br>  \"number\": 19,<br>  \"values\": [<br>    0.8571926853337873,<br>    0.8585<br>  ],<br>  \"params\": {<br>    \"model\": \"LogisticRegression\",<br>    \"max_features\": 10000,<br>    \"C\": 0.002226727096756346<br>  }<br>}",
          "{<br>  \"number\": 20,<br>  \"values\": [<br>    0.873132128320257,<br>    0.874<br>  ],<br>  \"params\": {<br>    \"model\": \"LogisticRegression\",<br>    \"max_features\": 6000,<br>    \"C\": 0.0075443560780058035<br>  }<br>}",
          "{<br>  \"number\": 21,<br>  \"values\": [<br>    0.8917647695938864,<br>    0.892125<br>  ],<br>  \"params\": {<br>    \"model\": \"SVM\",<br>    \"max_features\": 2000,<br>    \"C\": 0.02253209567031329<br>  }<br>}",
          "{<br>  \"number\": 22,<br>  \"values\": [<br>    0.8682765089466313,<br>    0.86875<br>  ],<br>  \"params\": {<br>    \"model\": \"SVM\",<br>    \"max_features\": 1000,<br>    \"C\": 0.01787018989741734<br>  }<br>}",
          "{<br>  \"number\": 23,<br>  \"values\": [<br>    0.9090641387125291,<br>    0.90925<br>  ],<br>  \"params\": {<br>    \"model\": \"SVM\",<br>    \"max_features\": 7000,<br>    \"C\": 2.4022553811409506<br>  }<br>}",
          "{<br>  \"number\": 24,<br>  \"values\": [<br>    0.8929268219004439,<br>    0.89325<br>  ],<br>  \"params\": {<br>    \"model\": \"SVM\",<br>    \"max_features\": 2000,<br>    \"C\": 0.03651191726533263<br>  }<br>}",
          "{<br>  \"number\": 25,<br>  \"values\": [<br>    0.8942230143991632,<br>    0.8947916666666667<br>  ],<br>  \"params\": {<br>    \"model\": \"SVM\",<br>    \"max_features\": 7000,<br>    \"C\": 0.005282870658335553<br>  }<br>}",
          "{<br>  \"number\": 26,<br>  \"values\": [<br>    0.9093326598210885,<br>    0.9095<br>  ],<br>  \"params\": {<br>    \"model\": \"SVM\",<br>    \"max_features\": 9000,<br>    \"C\": 2.4902867306634597<br>  }<br>}",
          "{<br>  \"number\": 27,<br>  \"values\": [<br>    0.8541241561721353,<br>    0.8554583333333333<br>  ],<br>  \"params\": {<br>    \"model\": \"LogisticRegression\",<br>    \"max_features\": 5000,<br>    \"C\": 0.0010717741487460176<br>  }<br>}",
          "{<br>  \"number\": 28,<br>  \"values\": [<br>    0.8851137396414239,<br>    0.885875<br>  ],<br>  \"params\": {<br>    \"model\": \"SVM\",<br>    \"max_features\": 8000,<br>    \"C\": 0.002739763088145628<br>  }<br>}",
          "{<br>  \"number\": 29,<br>  \"values\": [<br>    0.8963943366936175,<br>    0.8969166666666667<br>  ],<br>  \"params\": {<br>    \"model\": \"SVM\",<br>    \"max_features\": 6000,<br>    \"C\": 0.0067565848841164<br>  }<br>}",
          "{<br>  \"number\": 30,<br>  \"values\": [<br>    0.8748132922384071,<br>    0.8757083333333333<br>  ],<br>  \"params\": {<br>    \"model\": \"SVM\",<br>    \"max_features\": 4000,<br>    \"C\": 0.0013938848906003703<br>  }<br>}",
          "{<br>  \"number\": 32,<br>  \"values\": [<br>    0.9093834676568064,<br>    0.9095416666666667<br>  ],<br>  \"params\": {<br>    \"model\": \"LogisticRegression\",<br>    \"max_features\": 5000,<br>    \"C\": 0.8311051101453849<br>  }<br>}",
          "{<br>  \"number\": 33,<br>  \"values\": [<br>    0.8993801249822764,<br>    0.89975<br>  ],<br>  \"params\": {<br>    \"model\": \"LogisticRegression\",<br>    \"max_features\": 10000,<br>    \"C\": 0.06029037867503656<br>  }<br>}",
          "{<br>  \"number\": 34,<br>  \"values\": [<br>    0.8871816059696621,<br>    0.887875<br>  ],<br>  \"params\": {<br>    \"model\": \"SVM\",<br>    \"max_features\": 7000,<br>    \"C\": 0.0031419554458383247<br>  }<br>}",
          "{<br>  \"number\": 35,<br>  \"values\": [<br>    0.9128098371277285,<br>    0.9129583333333333<br>  ],<br>  \"params\": {<br>    \"model\": \"LogisticRegression\",<br>    \"max_features\": 9000,<br>    \"C\": 3.8032005171068826<br>  }<br>}",
          "{<br>  \"number\": 36,<br>  \"values\": [<br>    0.9102370137780854,<br>    0.9104166666666667<br>  ],<br>  \"params\": {<br>    \"model\": \"LogisticRegression\",<br>    \"max_features\": 6000,<br>    \"C\": 0.5369494506808955<br>  }<br>}",
          "{<br>  \"number\": 37,<br>  \"values\": [<br>    0.905052192677855,<br>    0.90525<br>  ],<br>  \"params\": {<br>    \"model\": \"SVM\",<br>    \"max_features\": 4000,<br>    \"C\": 3.2201715766292343<br>  }<br>}",
          "{<br>  \"number\": 38,<br>  \"values\": [<br>    0.9123525725476508,<br>    0.9125833333333333<br>  ],<br>  \"params\": {<br>    \"model\": \"SVM\",<br>    \"max_features\": 6000,<br>    \"C\": 0.12524039858950173<br>  }<br>}",
          "{<br>  \"number\": 39,<br>  \"values\": [<br>    0.8955938733162438,<br>    0.8960833333333333<br>  ],<br>  \"params\": {<br>    \"model\": \"SVM\",<br>    \"max_features\": 5000,<br>    \"C\": 0.007155486197294162<br>  }<br>}",
          "{<br>  \"number\": 40,<br>  \"values\": [<br>    0.9090308303162077,<br>    0.9092083333333333<br>  ],<br>  \"params\": {<br>    \"model\": \"SVM\",<br>    \"max_features\": 8000,<br>    \"C\": 2.327690771807583<br>  }<br>}",
          "{<br>  \"number\": 41,<br>  \"values\": [<br>    0.9085627384612012,<br>    0.9087916666666667<br>  ],<br>  \"params\": {<br>    \"model\": \"LogisticRegression\",<br>    \"max_features\": 7000,<br>    \"C\": 0.2902483233392341<br>  }<br>}",
          "{<br>  \"number\": 42,<br>  \"values\": [<br>    0.8492264108255432,<br>    0.8499583333333334<br>  ],<br>  \"params\": {<br>    \"model\": \"LogisticRegression\",<br>    \"max_features\": 1000,<br>    \"C\": 0.006080473391092752<br>  }<br>}",
          "{<br>  \"number\": 43,<br>  \"values\": [<br>    0.8939650574725168,<br>    0.894125<br>  ],<br>  \"params\": {<br>    \"model\": \"LogisticRegression\",<br>    \"max_features\": 2000,<br>    \"C\": 0.5347848234260939<br>  }<br>}",
          "{<br>  \"number\": 44,<br>  \"values\": [<br>    0.9085855697499527,<br>    0.90875<br>  ],<br>  \"params\": {<br>    \"model\": \"LogisticRegression\",<br>    \"max_features\": 5000,<br>    \"C\": 1.6194311783875919<br>  }<br>}",
          "{<br>  \"number\": 45,<br>  \"values\": [<br>    0.8965081937053866,<br>    0.8969166666666667<br>  ],<br>  \"params\": {<br>    \"model\": \"LogisticRegression\",<br>    \"max_features\": 8000,<br>    \"C\": 0.045712137221477045<br>  }<br>}",
          "{<br>  \"number\": 46,<br>  \"values\": [<br>    0.8762199740919986,<br>    0.8770416666666667<br>  ],<br>  \"params\": {<br>    \"model\": \"LogisticRegression\",<br>    \"max_features\": 9000,<br>    \"C\": 0.009745107692117894<br>  }<br>}",
          "{<br>  \"number\": 47,<br>  \"values\": [<br>    0.884242402771153,<br>    0.8848333333333334<br>  ],<br>  \"params\": {<br>    \"model\": \"LogisticRegression\",<br>    \"max_features\": 5000,<br>    \"C\": 0.01767702312137927<br>  }<br>}",
          "{<br>  \"number\": 48,<br>  \"values\": [<br>    0.8923979283716417,<br>    0.89275<br>  ],<br>  \"params\": {<br>    \"model\": \"SVM\",<br>    \"max_features\": 2000,<br>    \"C\": 0.024708695534996248<br>  }<br>}",
          "{<br>  \"number\": 49,<br>  \"values\": [<br>    0.9090170553492007,<br>    0.90925<br>  ],<br>  \"params\": {<br>    \"model\": \"LogisticRegression\",<br>    \"max_features\": 10000,<br>    \"C\": 0.24992459207011275<br>  }<br>}"
         ],
         "x": [
          0.8727772381578813,
          0.9055582901694585,
          0.8922399262266401,
          0.9017699986444816,
          0.912715849470344,
          0.890216322213287,
          0.8635785215437247,
          0.9135333984078996,
          0.8665829454340335,
          0.8539718023094818,
          0.8611536982136734,
          0.9111742672255924,
          0.9118965718173149,
          0.8572071082555031,
          0.8711425280884783,
          0.905989919692713,
          0.9031428116758047,
          0.9100775444489393,
          0.9076682037842911,
          0.8571926853337873,
          0.873132128320257,
          0.8917647695938864,
          0.8682765089466313,
          0.9090641387125291,
          0.8929268219004439,
          0.8942230143991632,
          0.9093326598210885,
          0.8541241561721353,
          0.8851137396414239,
          0.8963943366936175,
          0.8748132922384071,
          0.9093834676568064,
          0.8993801249822764,
          0.8871816059696621,
          0.9128098371277285,
          0.9102370137780854,
          0.905052192677855,
          0.9123525725476508,
          0.8955938733162438,
          0.9090308303162077,
          0.9085627384612012,
          0.8492264108255432,
          0.8939650574725168,
          0.9085855697499527,
          0.8965081937053866,
          0.8762199740919986,
          0.884242402771153,
          0.8923979283716417,
          0.9090170553492007
         ],
         "y": [
          0.873125,
          0.9057083333333333,
          0.8924166666666666,
          0.9019583333333333,
          0.9129166666666667,
          0.8907083333333333,
          0.8647083333333333,
          0.9137916666666667,
          0.866875,
          0.855375,
          0.8623333333333333,
          0.9114583333333334,
          0.9120416666666666,
          0.8585,
          0.872,
          0.9061666666666667,
          0.903375,
          0.9102916666666667,
          0.9078333333333334,
          0.8585,
          0.874,
          0.892125,
          0.86875,
          0.90925,
          0.89325,
          0.8947916666666667,
          0.9095,
          0.8554583333333333,
          0.885875,
          0.8969166666666667,
          0.8757083333333333,
          0.9095416666666667,
          0.89975,
          0.887875,
          0.9129583333333333,
          0.9104166666666667,
          0.90525,
          0.9125833333333333,
          0.8960833333333333,
          0.9092083333333333,
          0.9087916666666667,
          0.8499583333333334,
          0.894125,
          0.90875,
          0.8969166666666667,
          0.8770416666666667,
          0.8848333333333334,
          0.89275,
          0.90925
         ],
         "type": "scatter"
        },
        {
         "hovertemplate": "%{text}<extra>Best Trial</extra>",
         "marker": {
          "color": [
           31
          ],
          "colorbar": {
           "title": {
            "text": "Best Trial"
           },
           "x": 1.1,
           "xpad": 40
          },
          "colorscale": [
           [
            0.0,
            "rgb(255,245,240)"
           ],
           [
            0.125,
            "rgb(254,224,210)"
           ],
           [
            0.25,
            "rgb(252,187,161)"
           ],
           [
            0.375,
            "rgb(252,146,114)"
           ],
           [
            0.5,
            "rgb(251,106,74)"
           ],
           [
            0.625,
            "rgb(239,59,44)"
           ],
           [
            0.75,
            "rgb(203,24,29)"
           ],
           [
            0.875,
            "rgb(165,15,21)"
           ],
           [
            1.0,
            "rgb(103,0,13)"
           ]
          ],
          "line": {
           "color": "Grey",
           "width": 0.5
          }
         },
         "mode": "markers",
         "showlegend": false,
         "text": [
          "{<br>  \"number\": 31,<br>  \"values\": [<br>    0.9137127462797177,<br>    0.9139166666666667<br>  ],<br>  \"params\": {<br>    \"model\": \"SVM\",<br>    \"max_features\": 7000,<br>    \"C\": 0.36623576860794876<br>  }<br>}"
         ],
         "x": [
          0.9137127462797177
         ],
         "y": [
          0.9139166666666667
         ],
         "type": "scatter"
        }
       ],
       "layout": {
        "title": {
         "text": "Pareto-front Plot"
        },
        "xaxis": {
         "title": {
          "text": "F1 macro"
         }
        },
        "yaxis": {
         "title": {
          "text": "Accuracy"
         }
        },
        "template": {
         "data": {
          "histogram2dcontour": [
           {
            "type": "histogram2dcontour",
            "colorbar": {
             "outlinewidth": 0,
             "ticks": ""
            },
            "colorscale": [
             [
              0.0,
              "#0d0887"
             ],
             [
              0.1111111111111111,
              "#46039f"
             ],
             [
              0.2222222222222222,
              "#7201a8"
             ],
             [
              0.3333333333333333,
              "#9c179e"
             ],
             [
              0.4444444444444444,
              "#bd3786"
             ],
             [
              0.5555555555555556,
              "#d8576b"
             ],
             [
              0.6666666666666666,
              "#ed7953"
             ],
             [
              0.7777777777777778,
              "#fb9f3a"
             ],
             [
              0.8888888888888888,
              "#fdca26"
             ],
             [
              1.0,
              "#f0f921"
             ]
            ]
           }
          ],
          "choropleth": [
           {
            "type": "choropleth",
            "colorbar": {
             "outlinewidth": 0,
             "ticks": ""
            }
           }
          ],
          "histogram2d": [
           {
            "type": "histogram2d",
            "colorbar": {
             "outlinewidth": 0,
             "ticks": ""
            },
            "colorscale": [
             [
              0.0,
              "#0d0887"
             ],
             [
              0.1111111111111111,
              "#46039f"
             ],
             [
              0.2222222222222222,
              "#7201a8"
             ],
             [
              0.3333333333333333,
              "#9c179e"
             ],
             [
              0.4444444444444444,
              "#bd3786"
             ],
             [
              0.5555555555555556,
              "#d8576b"
             ],
             [
              0.6666666666666666,
              "#ed7953"
             ],
             [
              0.7777777777777778,
              "#fb9f3a"
             ],
             [
              0.8888888888888888,
              "#fdca26"
             ],
             [
              1.0,
              "#f0f921"
             ]
            ]
           }
          ],
          "heatmap": [
           {
            "type": "heatmap",
            "colorbar": {
             "outlinewidth": 0,
             "ticks": ""
            },
            "colorscale": [
             [
              0.0,
              "#0d0887"
             ],
             [
              0.1111111111111111,
              "#46039f"
             ],
             [
              0.2222222222222222,
              "#7201a8"
             ],
             [
              0.3333333333333333,
              "#9c179e"
             ],
             [
              0.4444444444444444,
              "#bd3786"
             ],
             [
              0.5555555555555556,
              "#d8576b"
             ],
             [
              0.6666666666666666,
              "#ed7953"
             ],
             [
              0.7777777777777778,
              "#fb9f3a"
             ],
             [
              0.8888888888888888,
              "#fdca26"
             ],
             [
              1.0,
              "#f0f921"
             ]
            ]
           }
          ],
          "contourcarpet": [
           {
            "type": "contourcarpet",
            "colorbar": {
             "outlinewidth": 0,
             "ticks": ""
            }
           }
          ],
          "contour": [
           {
            "type": "contour",
            "colorbar": {
             "outlinewidth": 0,
             "ticks": ""
            },
            "colorscale": [
             [
              0.0,
              "#0d0887"
             ],
             [
              0.1111111111111111,
              "#46039f"
             ],
             [
              0.2222222222222222,
              "#7201a8"
             ],
             [
              0.3333333333333333,
              "#9c179e"
             ],
             [
              0.4444444444444444,
              "#bd3786"
             ],
             [
              0.5555555555555556,
              "#d8576b"
             ],
             [
              0.6666666666666666,
              "#ed7953"
             ],
             [
              0.7777777777777778,
              "#fb9f3a"
             ],
             [
              0.8888888888888888,
              "#fdca26"
             ],
             [
              1.0,
              "#f0f921"
             ]
            ]
           }
          ],
          "surface": [
           {
            "type": "surface",
            "colorbar": {
             "outlinewidth": 0,
             "ticks": ""
            },
            "colorscale": [
             [
              0.0,
              "#0d0887"
             ],
             [
              0.1111111111111111,
              "#46039f"
             ],
             [
              0.2222222222222222,
              "#7201a8"
             ],
             [
              0.3333333333333333,
              "#9c179e"
             ],
             [
              0.4444444444444444,
              "#bd3786"
             ],
             [
              0.5555555555555556,
              "#d8576b"
             ],
             [
              0.6666666666666666,
              "#ed7953"
             ],
             [
              0.7777777777777778,
              "#fb9f3a"
             ],
             [
              0.8888888888888888,
              "#fdca26"
             ],
             [
              1.0,
              "#f0f921"
             ]
            ]
           }
          ],
          "mesh3d": [
           {
            "type": "mesh3d",
            "colorbar": {
             "outlinewidth": 0,
             "ticks": ""
            }
           }
          ],
          "scatter": [
           {
            "fillpattern": {
             "fillmode": "overlay",
             "size": 10,
             "solidity": 0.2
            },
            "type": "scatter"
           }
          ],
          "parcoords": [
           {
            "type": "parcoords",
            "line": {
             "colorbar": {
              "outlinewidth": 0,
              "ticks": ""
             }
            }
           }
          ],
          "scatterpolargl": [
           {
            "type": "scatterpolargl",
            "marker": {
             "colorbar": {
              "outlinewidth": 0,
              "ticks": ""
             }
            }
           }
          ],
          "bar": [
           {
            "error_x": {
             "color": "#2a3f5f"
            },
            "error_y": {
             "color": "#2a3f5f"
            },
            "marker": {
             "line": {
              "color": "#E5ECF6",
              "width": 0.5
             },
             "pattern": {
              "fillmode": "overlay",
              "size": 10,
              "solidity": 0.2
             }
            },
            "type": "bar"
           }
          ],
          "scattergeo": [
           {
            "type": "scattergeo",
            "marker": {
             "colorbar": {
              "outlinewidth": 0,
              "ticks": ""
             }
            }
           }
          ],
          "scatterpolar": [
           {
            "type": "scatterpolar",
            "marker": {
             "colorbar": {
              "outlinewidth": 0,
              "ticks": ""
             }
            }
           }
          ],
          "histogram": [
           {
            "marker": {
             "pattern": {
              "fillmode": "overlay",
              "size": 10,
              "solidity": 0.2
             }
            },
            "type": "histogram"
           }
          ],
          "scattergl": [
           {
            "type": "scattergl",
            "marker": {
             "colorbar": {
              "outlinewidth": 0,
              "ticks": ""
             }
            }
           }
          ],
          "scatter3d": [
           {
            "type": "scatter3d",
            "line": {
             "colorbar": {
              "outlinewidth": 0,
              "ticks": ""
             }
            },
            "marker": {
             "colorbar": {
              "outlinewidth": 0,
              "ticks": ""
             }
            }
           }
          ],
          "scattermap": [
           {
            "type": "scattermap",
            "marker": {
             "colorbar": {
              "outlinewidth": 0,
              "ticks": ""
             }
            }
           }
          ],
          "scattermapbox": [
           {
            "type": "scattermapbox",
            "marker": {
             "colorbar": {
              "outlinewidth": 0,
              "ticks": ""
             }
            }
           }
          ],
          "scatterternary": [
           {
            "type": "scatterternary",
            "marker": {
             "colorbar": {
              "outlinewidth": 0,
              "ticks": ""
             }
            }
           }
          ],
          "scattercarpet": [
           {
            "type": "scattercarpet",
            "marker": {
             "colorbar": {
              "outlinewidth": 0,
              "ticks": ""
             }
            }
           }
          ],
          "carpet": [
           {
            "aaxis": {
             "endlinecolor": "#2a3f5f",
             "gridcolor": "white",
             "linecolor": "white",
             "minorgridcolor": "white",
             "startlinecolor": "#2a3f5f"
            },
            "baxis": {
             "endlinecolor": "#2a3f5f",
             "gridcolor": "white",
             "linecolor": "white",
             "minorgridcolor": "white",
             "startlinecolor": "#2a3f5f"
            },
            "type": "carpet"
           }
          ],
          "table": [
           {
            "cells": {
             "fill": {
              "color": "#EBF0F8"
             },
             "line": {
              "color": "white"
             }
            },
            "header": {
             "fill": {
              "color": "#C8D4E3"
             },
             "line": {
              "color": "white"
             }
            },
            "type": "table"
           }
          ],
          "barpolar": [
           {
            "marker": {
             "line": {
              "color": "#E5ECF6",
              "width": 0.5
             },
             "pattern": {
              "fillmode": "overlay",
              "size": 10,
              "solidity": 0.2
             }
            },
            "type": "barpolar"
           }
          ],
          "pie": [
           {
            "automargin": true,
            "type": "pie"
           }
          ]
         },
         "layout": {
          "autotypenumbers": "strict",
          "colorway": [
           "#636efa",
           "#EF553B",
           "#00cc96",
           "#ab63fa",
           "#FFA15A",
           "#19d3f3",
           "#FF6692",
           "#B6E880",
           "#FF97FF",
           "#FECB52"
          ],
          "font": {
           "color": "#2a3f5f"
          },
          "hovermode": "closest",
          "hoverlabel": {
           "align": "left"
          },
          "paper_bgcolor": "white",
          "plot_bgcolor": "#E5ECF6",
          "polar": {
           "bgcolor": "#E5ECF6",
           "angularaxis": {
            "gridcolor": "white",
            "linecolor": "white",
            "ticks": ""
           },
           "radialaxis": {
            "gridcolor": "white",
            "linecolor": "white",
            "ticks": ""
           }
          },
          "ternary": {
           "bgcolor": "#E5ECF6",
           "aaxis": {
            "gridcolor": "white",
            "linecolor": "white",
            "ticks": ""
           },
           "baxis": {
            "gridcolor": "white",
            "linecolor": "white",
            "ticks": ""
           },
           "caxis": {
            "gridcolor": "white",
            "linecolor": "white",
            "ticks": ""
           }
          },
          "coloraxis": {
           "colorbar": {
            "outlinewidth": 0,
            "ticks": ""
           }
          },
          "colorscale": {
           "sequential": [
            [
             0.0,
             "#0d0887"
            ],
            [
             0.1111111111111111,
             "#46039f"
            ],
            [
             0.2222222222222222,
             "#7201a8"
            ],
            [
             0.3333333333333333,
             "#9c179e"
            ],
            [
             0.4444444444444444,
             "#bd3786"
            ],
            [
             0.5555555555555556,
             "#d8576b"
            ],
            [
             0.6666666666666666,
             "#ed7953"
            ],
            [
             0.7777777777777778,
             "#fb9f3a"
            ],
            [
             0.8888888888888888,
             "#fdca26"
            ],
            [
             1.0,
             "#f0f921"
            ]
           ],
           "sequentialminus": [
            [
             0.0,
             "#0d0887"
            ],
            [
             0.1111111111111111,
             "#46039f"
            ],
            [
             0.2222222222222222,
             "#7201a8"
            ],
            [
             0.3333333333333333,
             "#9c179e"
            ],
            [
             0.4444444444444444,
             "#bd3786"
            ],
            [
             0.5555555555555556,
             "#d8576b"
            ],
            [
             0.6666666666666666,
             "#ed7953"
            ],
            [
             0.7777777777777778,
             "#fb9f3a"
            ],
            [
             0.8888888888888888,
             "#fdca26"
            ],
            [
             1.0,
             "#f0f921"
            ]
           ],
           "diverging": [
            [
             0,
             "#8e0152"
            ],
            [
             0.1,
             "#c51b7d"
            ],
            [
             0.2,
             "#de77ae"
            ],
            [
             0.3,
             "#f1b6da"
            ],
            [
             0.4,
             "#fde0ef"
            ],
            [
             0.5,
             "#f7f7f7"
            ],
            [
             0.6,
             "#e6f5d0"
            ],
            [
             0.7,
             "#b8e186"
            ],
            [
             0.8,
             "#7fbc41"
            ],
            [
             0.9,
             "#4d9221"
            ],
            [
             1,
             "#276419"
            ]
           ]
          },
          "xaxis": {
           "gridcolor": "white",
           "linecolor": "white",
           "ticks": "",
           "title": {
            "standoff": 15
           },
           "zerolinecolor": "white",
           "automargin": true,
           "zerolinewidth": 2
          },
          "yaxis": {
           "gridcolor": "white",
           "linecolor": "white",
           "ticks": "",
           "title": {
            "standoff": 15
           },
           "zerolinecolor": "white",
           "automargin": true,
           "zerolinewidth": 2
          },
          "scene": {
           "xaxis": {
            "backgroundcolor": "#E5ECF6",
            "gridcolor": "white",
            "linecolor": "white",
            "showbackground": true,
            "ticks": "",
            "zerolinecolor": "white",
            "gridwidth": 2
           },
           "yaxis": {
            "backgroundcolor": "#E5ECF6",
            "gridcolor": "white",
            "linecolor": "white",
            "showbackground": true,
            "ticks": "",
            "zerolinecolor": "white",
            "gridwidth": 2
           },
           "zaxis": {
            "backgroundcolor": "#E5ECF6",
            "gridcolor": "white",
            "linecolor": "white",
            "showbackground": true,
            "ticks": "",
            "zerolinecolor": "white",
            "gridwidth": 2
           }
          },
          "shapedefaults": {
           "line": {
            "color": "#2a3f5f"
           }
          },
          "annotationdefaults": {
           "arrowcolor": "#2a3f5f",
           "arrowhead": 0,
           "arrowwidth": 1
          },
          "geo": {
           "bgcolor": "white",
           "landcolor": "#E5ECF6",
           "subunitcolor": "white",
           "showland": true,
           "showlakes": true,
           "lakecolor": "white"
          },
          "title": {
           "x": 0.05
          },
          "mapbox": {
           "style": "light"
          }
         }
        }
       },
       "config": {
        "plotlyServerURL": "https://plot.ly"
       }
      }
     },
     "metadata": {},
     "output_type": "display_data"
    }
   ],
   "execution_count": 20
  },
  {
   "metadata": {
    "ExecuteTime": {
     "end_time": "2025-06-18T08:57:41.125105Z",
     "start_time": "2025-06-18T08:57:38.190805Z"
    }
   },
   "cell_type": "code",
   "source": [
    "from sklearn.metrics import accuracy_score, classification_report, confusion_matrix\n",
    "\n",
    "# Réentraîner le meilleur modèle\n",
    "# Sélectionner le meilleur essai selon F1 macro (valeurs[0])\n",
    "best_trial = max(study.best_trials, key=lambda t: t.values[0])\n",
    "best_params = best_trial.params\n",
    "vectorizer = TfidfVectorizer(max_features=best_params[\"max_features\"])\n",
    "\n",
    "if best_params[\"model\"] == \"LogisticRegression\":\n",
    "    clf = LogisticRegression(max_iter=1000, C=best_params[\"C\"])\n",
    "else:\n",
    "    clf = LinearSVC(max_iter=1000, C=best_params[\"C\"])\n",
    "\n",
    "pipeline = Pipeline([\n",
    "    (\"vectorizer\", vectorizer),\n",
    "    (\"classifier\", clf)\n",
    "])\n",
    "\n",
    "pipeline.fit(X_train, y_train)\n",
    "preds = pipeline.predict(X_test)\n",
    "\n",
    "#  Metrics\n",
    "print(\"\\nClassification Report :\")\n",
    "print(classification_report(y_test, preds))"
   ],
   "outputs": [
    {
     "name": "stdout",
     "output_type": "stream",
     "text": [
      "\n",
      "Classification Report :\n",
      "              precision    recall  f1-score   support\n",
      "\n",
      "           0       0.93      0.90      0.91      6000\n",
      "           1       0.95      0.98      0.97      6000\n",
      "           2       0.88      0.89      0.89      6000\n",
      "           3       0.89      0.89      0.89      6000\n",
      "\n",
      "    accuracy                           0.91     24000\n",
      "   macro avg       0.91      0.91      0.91     24000\n",
      "weighted avg       0.91      0.91      0.91     24000\n",
      "\n"
     ]
    }
   ],
   "execution_count": 14
  },
  {
   "metadata": {
    "ExecuteTime": {
     "end_time": "2025-06-18T08:57:41.303349Z",
     "start_time": "2025-06-18T08:57:41.135698Z"
    }
   },
   "cell_type": "code",
   "source": [
    "import matplotlib.pyplot as plt\n",
    "import seaborn as sns\n",
    "from sklearn.metrics import confusion_matrix\n",
    "\n",
    "# Génération de la matrice\n",
    "cm = confusion_matrix(y_test, preds)\n",
    "labels = [0, 1, 2, 3]\n",
    "\n",
    "# Tracé avec seaborn\n",
    "plt.figure(figsize=(8, 6))\n",
    "sns.heatmap(cm, annot=True, fmt=\"d\", cmap=\"Blues\", xticklabels=labels, yticklabels=labels)\n",
    "\n",
    "plt.title(\"Matrice de confusion\")\n",
    "plt.xlabel(\"Prédictions\")\n",
    "plt.ylabel(\"Vraies classes\")\n",
    "plt.show()"
   ],
   "outputs": [
    {
     "data": {
      "text/plain": [
       "<Figure size 800x600 with 2 Axes>"
      ],
      "image/png": "[encoded data removed]"
     },
     "metadata": {},
     "output_type": "display_data"
    }
   ],
   "execution_count": 15
  },
  {
   "metadata": {},
   "cell_type": "markdown",
   "source": "# Test du Pipeline"
  },
  {
   "metadata": {
    "ExecuteTime": {
     "end_time": "2025-06-18T08:57:41.383608Z",
     "start_time": "2025-06-18T08:57:41.360931Z"
    }
   },
   "cell_type": "code",
   "source": [
    "# Exemple de 4 phrases à tester\n",
    "texts = [\n",
    "    \"Despite numerous concerns — including the Israel-Iran war, trade tensions, a growing federal deficit, immigration raids, low business confidence, and expected profit declines — the stock market remains resilient. The S&P 500 is close to its record high, thanks to eased trade policies, stable inflation, and a still-strong economy. However, beneath the surface, warning signs persist. Derivatives markets suggest investors expect a future downturn, and concerns over the $35 trillion U.S. debt remain. Analysts warn that the market's calm appearance masks significant underlying uncertainty.\",\n",
    "    \"The 25-year-old Swedish pole vaulter broke his own world record for the twelfth time since 2020 on Sunday. He set the new mark at 6.28 meters during a meet in Stockholm, Sweden, in front of his home crowd.\",\n",
    "    \"In twenty months, more than 55,000 Palestinians have been killed in the Gaza Strip, and nearly 950 in the occupied West Bank. But Israel’s destructive campaign began well before October 7, 2023. For over seventy-five years, Israel has done everything to make a Palestinian state impossible, according to Monique Chemillier-Gendreau, a professor of public law and political science, expert in international law and state theory, legal adviser before international courts, and author of Making a Palestinian State Impossible: Israel’s Goal Since Its Creation.\",\n",
    "    \"Gemini Automatically Summarizes Your PDFs and Tells You What to Do Next. Gemini has been able to interact with PDF files for some time now. But a new feature significantly boosts its usefulness.\"\n",
    "]\n",
    "\n",
    "label_names = ds[\"train\"].features[\"label\"].names\n",
    "\n",
    "# Prétraitement des phrases\n",
    "processed_texts = [preprocessing(text) for text in texts]\n",
    "\n",
    "# Prédictions\n",
    "predicted_classes = pipeline.predict(processed_texts)\n",
    "\n",
    "# Affichage\n",
    "for i, (raw, cleaned, pred) in enumerate(zip(texts, processed_texts, predicted_classes)):\n",
    "    label_str = label_names[pred]\n",
    "    print(f\"Phrase {i+1} : \\\"{raw}\\\"\")\n",
    "    print(f\" → Prétraité : \\\"{cleaned}\\\"\")\n",
    "    print(f\" → Classe prédite : {pred} ({label_str})\\n\")"
   ],
   "outputs": [
    {
     "name": "stdout",
     "output_type": "stream",
     "text": [
      "Phrase 1 : \"Despite numerous concerns — including the Israel-Iran war, trade tensions, a growing federal deficit, immigration raids, low business confidence, and expected profit declines — the stock market remains resilient. The S&P 500 is close to its record high, thanks to eased trade policies, stable inflation, and a still-strong economy. However, beneath the surface, warning signs persist. Derivatives markets suggest investors expect a future downturn, and concerns over the $35 trillion U.S. debt remain. Analysts warn that the market's calm appearance masks significant underlying uncertainty.\"\n",
      " → Prétraité : \"despite numerous concern include war trade tension grow federal deficit immigration raid low business confidence expect profit decline stock market remain resilient p close record high thanks ease trade policy stable inflation economy however beneath surface warn sign persist derivative market suggest investor expect future downturn concern trillion debt remain analyst warn market calm appearance mask significant underlying uncertainty\"\n",
      " → Classe prédite : 2 (Business)\n",
      "\n",
      "Phrase 2 : \"The 25-year-old Swedish pole vaulter broke his own world record for the twelfth time since 2020 on Sunday. He set the new mark at 6.28 meters during a meet in Stockholm, Sweden, in front of his home crowd.\"\n",
      " → Prétraité : \"swedish pole vaulter break world record twelfth time since sunday set new mark meter meet stockholm sweden front home crowd\"\n",
      " → Classe prédite : 1 (Sports)\n",
      "\n",
      "Phrase 3 : \"In twenty months, more than 55,000 Palestinians have been killed in the Gaza Strip, and nearly 950 in the occupied West Bank. But Israel’s destructive campaign began well before October 7, 2023. For over seventy-five years, Israel has done everything to make a Palestinian state impossible, according to Monique Chemillier-Gendreau, a professor of public law and political science, expert in international law and state theory, legal adviser before international courts, and author of Making a Palestinian State Impossible: Israel’s Goal Since Its Creation.\"\n",
      " → Prétraité : \"twenty month palestinian kill gaza strip nearly occupy west bank israel destructive campaign begin well october year israel do everything make palestinian state impossible accord monique professor public law political science expert international law state theory legal adviser international court author make palestinian state impossible israel goal since creation\"\n",
      " → Classe prédite : 0 (World)\n",
      "\n",
      "Phrase 4 : \"Gemini Automatically Summarizes Your PDFs and Tells You What to Do Next. Gemini has been able to interact with PDF files for some time now. But a new feature significantly boosts its usefulness.\"\n",
      " → Prétraité : \"gemini automatically summarize pdfs tell next gemini able interact pdf file time new feature significantly boost usefulness\"\n",
      " → Classe prédite : 3 (Sci/Tech)\n",
      "\n"
     ]
    }
   ],
   "execution_count": 17
  },
  {
   "metadata": {
    "ExecuteTime": {
     "end_time": "2025-06-18T08:57:41.473212Z",
     "start_time": "2025-06-18T08:57:41.400506Z"
    }
   },
   "cell_type": "code",
   "source": [
    "import joblib\n",
    "\n",
    "# Sauvegarde dans un fichier\n",
    "# joblib.dump(pipeline, \"model_pipeline_ML.joblib\")"
   ],
   "outputs": [],
   "execution_count": 18
  }
 ]
}
