{
 "cells": [
  {
   "cell_type": "code",
   "id": "initial_id",
   "metadata": {
    "collapsed": true,
    "ExecuteTime": {
     "end_time": "2025-06-30T08:26:39.074153Z",
     "start_time": "2025-06-30T08:26:32.929786Z"
    }
   },
   "source": [
    "from random import randint\n",
    "\n",
    "from datasets import load_dataset\n",
    "ds = load_dataset(\"cnn_dailymail\", \"3.0.0\", split=\"train[:30000]\")\n",
    "df = ds.to_pandas()"
   ],
   "outputs": [],
   "execution_count": 2
  },
  {
   "metadata": {
    "ExecuteTime": {
     "end_time": "2025-06-30T08:26:47.628161Z",
     "start_time": "2025-06-30T08:26:44.509574Z"
    }
   },
   "cell_type": "code",
   "source": [
    "from nltk.tokenize import sent_tokenize\n",
    "import pandas as pd\n",
    "import numpy as np\n",
    "from sklearn.feature_extraction.text import TfidfVectorizer\n",
    "from sklearn.metrics.pairwise import cosine_similarity\n",
    "from utils import preprocessing"
   ],
   "id": "876b2d0b99a33d94",
   "outputs": [
    {
     "name": "stderr",
     "output_type": "stream",
     "text": [
      "[nltk_data] Downloading package punkt to /Users/hugo/nltk_data...\n",
      "[nltk_data]   Package punkt is already up-to-date!\n",
      "[nltk_data] Downloading package punkt_tab to /Users/hugo/nltk_data...\n",
      "[nltk_data]   Package punkt_tab is already up-to-date!\n",
      "[nltk_data] Downloading package stopwords to /Users/hugo/nltk_data...\n",
      "[nltk_data]   Package stopwords is already up-to-date!\n",
      "[nltk_data] Downloading package wordnet to /Users/hugo/nltk_data...\n",
      "[nltk_data]   Package wordnet is already up-to-date!\n",
      "[nltk_data] Downloading package averaged_perceptron_tagger_eng to\n",
      "[nltk_data]     /Users/hugo/nltk_data...\n",
      "[nltk_data]   Package averaged_perceptron_tagger_eng is already up-to-\n",
      "[nltk_data]       date!\n"
     ]
    }
   ],
   "execution_count": 3
  },
  {
   "metadata": {
    "ExecuteTime": {
     "end_time": "2025-06-30T08:32:03.534677Z",
     "start_time": "2025-06-30T08:26:50.545170Z"
    }
   },
   "cell_type": "code",
   "source": [
    "def extract_and_clean_sentences(text):\n",
    "    # 1. Découpage en phrases (avec ponctuation)\n",
    "    sentences = sent_tokenize(text)\n",
    "\n",
    "    # 2. Nettoyage phrase par phrase (retrait ponctuation, lemmatisation, etc.)\n",
    "    cleaned_sentences = [preprocessing(sentence) for sentence in sentences]\n",
    "\n",
    "    return cleaned_sentences\n",
    "\n",
    "# Exemple d’utilisation sur une colonne 'article' d’un DataFrame pandas df\n",
    "df['article_sentences'] = df['article'].apply(extract_and_clean_sentences)\n",
    "df['summary_sentences'] = df['highlights'].apply(extract_and_clean_sentences)\n",
    "\n",
    "df"
   ],
   "id": "13301743a070777b",
   "outputs": [
    {
     "data": {
      "text/plain": [
       "                                                 article  \\\n",
       "0      LONDON, England (Reuters) -- Harry Potter star...   \n",
       "1      Editor's note: In our Behind the Scenes series...   \n",
       "2      MINNEAPOLIS, Minnesota (CNN) -- Drivers who we...   \n",
       "3      WASHINGTON (CNN) -- Doctors removed five small...   \n",
       "4      (CNN)  -- The National Football League has ind...   \n",
       "...                                                  ...   \n",
       "29995  (CNN) -- Southwest Airlines is working with fe...   \n",
       "29996  (CNN) -- A former Massachusetts state chemist ...   \n",
       "29997  (CNN) -- Wednesday is the 100th anniversary of...   \n",
       "29998  Washington (CNN) -- Black ice -- road ice virt...   \n",
       "29999  (CNN) -- Despite periodic violence and continu...   \n",
       "\n",
       "                                              highlights  \\\n",
       "0      Harry Potter star Daniel Radcliffe gets £20M f...   \n",
       "1      Mentally ill inmates in Miami are housed on th...   \n",
       "2      NEW: \"I thought I was going to die,\" driver sa...   \n",
       "3      Five small polyps found during procedure; \"non...   \n",
       "4      NEW: NFL chief, Atlanta Falcons owner critical...   \n",
       "...                                                  ...   \n",
       "29995  Employees received an internal memo about mark...   \n",
       "29996  Former chemist, 34, faces new charges about al...   \n",
       "29997  Timothy Stanley: Wednesday is 100th anniversar...   \n",
       "29998  \"Black ice was involved\" in Oregon crash that ...   \n",
       "29999  Sudan's president OKs the opening of all borde...   \n",
       "\n",
       "                                             id  \\\n",
       "0      42c027e4ff9730fbb3de84c1af0d2c506e41c3e4   \n",
       "1      ee8871b15c50d0db17b0179a6d2beab35065f1e9   \n",
       "2      06352019a19ae31e527f37f7571c6dd7f0c5da37   \n",
       "3      24521a2abb2e1f5e34e6824e0f9e56904a2b0e88   \n",
       "4      7fe70cc8b12fab2d0a258fababf7d9c6b5e1262a   \n",
       "...                                         ...   \n",
       "29995  42f78711001c5a5b0364d600734fcb0b74e40beb   \n",
       "29996  30b0a324f3a68983f10d739e7476ac1707186c95   \n",
       "29997  10da0c3a628d86f7799a2c8278ec6b0a2d1235e6   \n",
       "29998  29aaf113cb574f8d9283523919a1d0b390aca1ee   \n",
       "29999  0b73014f6307ff70cb385cc75b2a25f5a5b86474   \n",
       "\n",
       "                                       article_sentences  \\\n",
       "0      [london england reuters harry potter star dani...   \n",
       "1      [editor note behind scenes series cnn correspo...   \n",
       "2      [minneapolis minnesota cnn driver minneapolis ...   \n",
       "3      [washington cnn doctor remove five small polyp...   \n",
       "4      [cnn national football league indefinitely sus...   \n",
       "...                                                  ...   \n",
       "29995  [cnn southwest airline work federal local offi...   \n",
       "29996  [cnn former massachusetts state chemist accuse...   \n",
       "29997  [cnn wednesday anniversary richard nixon birth...   \n",
       "29998  [washington cnn black ice road ice virtually i...   \n",
       "29999  [cnn despite periodic violence continue unreso...   \n",
       "\n",
       "                                       summary_sentences  \n",
       "0      [harry potter star daniel radcliffe get fortun...  \n",
       "1      [mentally ill inmate miami house forgotten flo...  \n",
       "2      [new thought go die driver say, man say pickup...  \n",
       "3      [five small polyp find procedure none worrisom...  \n",
       "4      [new nfl chief atlanta falcon owner critical m...  \n",
       "...                                                  ...  \n",
       "29995  [employee receive internal memo marking plane,...  \n",
       "29996  [former chemist face new charge allege lie mas...  \n",
       "29997  [timothy stanley wednesday anniversary richard...  \n",
       "29998  [black ice involve oregon crash kill hurt atto...  \n",
       "29999  [sudan president ok open border newly independ...  \n",
       "\n",
       "[30000 rows x 5 columns]"
      ],
      "text/html": [
       "<div>\n",
       "<style scoped>\n",
       "    .dataframe tbody tr th:only-of-type {\n",
       "        vertical-align: middle;\n",
       "    }\n",
       "\n",
       "    .dataframe tbody tr th {\n",
       "        vertical-align: top;\n",
       "    }\n",
       "\n",
       "    .dataframe thead th {\n",
       "        text-align: right;\n",
       "    }\n",
       "</style>\n",
       "<table border=\"1\" class=\"dataframe\">\n",
       "  <thead>\n",
       "    <tr style=\"text-align: right;\">\n",
       "      <th></th>\n",
       "      <th>article</th>\n",
       "      <th>highlights</th>\n",
       "      <th>id</th>\n",
       "      <th>article_sentences</th>\n",
       "      <th>summary_sentences</th>\n",
       "    </tr>\n",
       "  </thead>\n",
       "  <tbody>\n",
       "    <tr>\n",
       "      <th>0</th>\n",
       "      <td>LONDON, England (Reuters) -- Harry Potter star...</td>\n",
       "      <td>Harry Potter star Daniel Radcliffe gets £20M f...</td>\n",
       "      <td>42c027e4ff9730fbb3de84c1af0d2c506e41c3e4</td>\n",
       "      <td>[london england reuters harry potter star dani...</td>\n",
       "      <td>[harry potter star daniel radcliffe get fortun...</td>\n",
       "    </tr>\n",
       "    <tr>\n",
       "      <th>1</th>\n",
       "      <td>Editor's note: In our Behind the Scenes series...</td>\n",
       "      <td>Mentally ill inmates in Miami are housed on th...</td>\n",
       "      <td>ee8871b15c50d0db17b0179a6d2beab35065f1e9</td>\n",
       "      <td>[editor note behind scenes series cnn correspo...</td>\n",
       "      <td>[mentally ill inmate miami house forgotten flo...</td>\n",
       "    </tr>\n",
       "    <tr>\n",
       "      <th>2</th>\n",
       "      <td>MINNEAPOLIS, Minnesota (CNN) -- Drivers who we...</td>\n",
       "      <td>NEW: \"I thought I was going to die,\" driver sa...</td>\n",
       "      <td>06352019a19ae31e527f37f7571c6dd7f0c5da37</td>\n",
       "      <td>[minneapolis minnesota cnn driver minneapolis ...</td>\n",
       "      <td>[new thought go die driver say, man say pickup...</td>\n",
       "    </tr>\n",
       "    <tr>\n",
       "      <th>3</th>\n",
       "      <td>WASHINGTON (CNN) -- Doctors removed five small...</td>\n",
       "      <td>Five small polyps found during procedure; \"non...</td>\n",
       "      <td>24521a2abb2e1f5e34e6824e0f9e56904a2b0e88</td>\n",
       "      <td>[washington cnn doctor remove five small polyp...</td>\n",
       "      <td>[five small polyp find procedure none worrisom...</td>\n",
       "    </tr>\n",
       "    <tr>\n",
       "      <th>4</th>\n",
       "      <td>(CNN)  -- The National Football League has ind...</td>\n",
       "      <td>NEW: NFL chief, Atlanta Falcons owner critical...</td>\n",
       "      <td>7fe70cc8b12fab2d0a258fababf7d9c6b5e1262a</td>\n",
       "      <td>[cnn national football league indefinitely sus...</td>\n",
       "      <td>[new nfl chief atlanta falcon owner critical m...</td>\n",
       "    </tr>\n",
       "    <tr>\n",
       "      <th>...</th>\n",
       "      <td>...</td>\n",
       "      <td>...</td>\n",
       "      <td>...</td>\n",
       "      <td>...</td>\n",
       "      <td>...</td>\n",
       "    </tr>\n",
       "    <tr>\n",
       "      <th>29995</th>\n",
       "      <td>(CNN) -- Southwest Airlines is working with fe...</td>\n",
       "      <td>Employees received an internal memo about mark...</td>\n",
       "      <td>42f78711001c5a5b0364d600734fcb0b74e40beb</td>\n",
       "      <td>[cnn southwest airline work federal local offi...</td>\n",
       "      <td>[employee receive internal memo marking plane,...</td>\n",
       "    </tr>\n",
       "    <tr>\n",
       "      <th>29996</th>\n",
       "      <td>(CNN) -- A former Massachusetts state chemist ...</td>\n",
       "      <td>Former chemist, 34, faces new charges about al...</td>\n",
       "      <td>30b0a324f3a68983f10d739e7476ac1707186c95</td>\n",
       "      <td>[cnn former massachusetts state chemist accuse...</td>\n",
       "      <td>[former chemist face new charge allege lie mas...</td>\n",
       "    </tr>\n",
       "    <tr>\n",
       "      <th>29997</th>\n",
       "      <td>(CNN) -- Wednesday is the 100th anniversary of...</td>\n",
       "      <td>Timothy Stanley: Wednesday is 100th anniversar...</td>\n",
       "      <td>10da0c3a628d86f7799a2c8278ec6b0a2d1235e6</td>\n",
       "      <td>[cnn wednesday anniversary richard nixon birth...</td>\n",
       "      <td>[timothy stanley wednesday anniversary richard...</td>\n",
       "    </tr>\n",
       "    <tr>\n",
       "      <th>29998</th>\n",
       "      <td>Washington (CNN) -- Black ice -- road ice virt...</td>\n",
       "      <td>\"Black ice was involved\" in Oregon crash that ...</td>\n",
       "      <td>29aaf113cb574f8d9283523919a1d0b390aca1ee</td>\n",
       "      <td>[washington cnn black ice road ice virtually i...</td>\n",
       "      <td>[black ice involve oregon crash kill hurt atto...</td>\n",
       "    </tr>\n",
       "    <tr>\n",
       "      <th>29999</th>\n",
       "      <td>(CNN) -- Despite periodic violence and continu...</td>\n",
       "      <td>Sudan's president OKs the opening of all borde...</td>\n",
       "      <td>0b73014f6307ff70cb385cc75b2a25f5a5b86474</td>\n",
       "      <td>[cnn despite periodic violence continue unreso...</td>\n",
       "      <td>[sudan president ok open border newly independ...</td>\n",
       "    </tr>\n",
       "  </tbody>\n",
       "</table>\n",
       "<p>30000 rows × 5 columns</p>\n",
       "</div>"
      ]
     },
     "execution_count": 4,
     "metadata": {},
     "output_type": "execute_result"
    }
   ],
   "execution_count": 4
  },
  {
   "metadata": {},
   "cell_type": "markdown",
   "source": [
    "# Labelisation des données\n",
    "\n",
    "On cherche a affecté un label a une phrase si elle est présente dans le résume de l'article.\n",
    "On utilise cosine_similarity pour detecter les phrase qui ne serait pas les meme mais proches.\n"
   ],
   "id": "bfb4bf3922011dd2"
  },
  {
   "metadata": {
    "ExecuteTime": {
     "end_time": "2025-06-30T08:32:20.804781Z",
     "start_time": "2025-06-30T08:32:20.795474Z"
    }
   },
   "cell_type": "code",
   "source": [
    "# Detecte la similirité entre deux phrase, threshold correspond au seuil de similarité renvoyé par cosine_similarity\n",
    "def label_phrases_by_similarity(articles, summarys, threshold=0.5):\n",
    "    all_sents = list(articles) + list(summarys)\n",
    "    # On fit le vectorizer\n",
    "    vectorizer = TfidfVectorizer().fit(all_sents)\n",
    "    # On transforme en vecteur\n",
    "    article_vecs = vectorizer.transform(articles)\n",
    "    summary_vecs = vectorizer.transform(summarys)\n",
    "    # On calcule la similarité entre les phrases\n",
    "    sim_matrix = cosine_similarity(article_vecs, summary_vecs)\n",
    "    max_sim = sim_matrix.max(axis=1)\n",
    "\n",
    "    labels = (max_sim >= threshold).astype(int)\n",
    "    return labels"
   ],
   "id": "8a5c5a982dd2399d",
   "outputs": [],
   "execution_count": 5
  },
  {
   "metadata": {
    "ExecuteTime": {
     "end_time": "2025-06-30T08:33:01.889123Z",
     "start_time": "2025-06-30T08:32:26.175739Z"
    }
   },
   "cell_type": "code",
   "source": [
    "data = []\n",
    "for idx, row in df.iterrows():\n",
    "    articles = row[\"article_sentences\"]\n",
    "    summarys = row[\"summary_sentences\"]\n",
    "    labels = label_phrases_by_similarity(articles, summarys, threshold=0.4)\n",
    "\n",
    "    for sent, label in zip(articles, labels):\n",
    "        data.append({\"id\": idx, \"sentence\": sent, \"label\": label})\n",
    "\n",
    "clean_df = pd.DataFrame(data)\n",
    "\n",
    "print(f\"Nombre total de phrases : {len(clean_df)}\")\n",
    "print(f\"Nombre de phrases résumées (label=1) : {clean_df['label'].sum()}\")\n",
    "clean_df"
   ],
   "id": "2b2fe48153123b25",
   "outputs": [
    {
     "name": "stdout",
     "output_type": "stream",
     "text": [
      "Nombre total de phrases : 934152\n",
      "Nombre de phrases résumées (label=1) : 58357\n"
     ]
    },
    {
     "data": {
      "text/plain": [
       "           id                                           sentence  label\n",
       "0           0  london england reuters harry potter star danie...      1\n",
       "1           0  daniel radcliffe harry potter harry potter ord...      1\n",
       "2           0  plan one people soon turn suddenly buy massive...      0\n",
       "3           0                     think particularly extravagant      0\n",
       "4           0        thing like buy thing cost pound book cd dvd      0\n",
       "...       ...                                                ...    ...\n",
       "934147  29999  last week four peacekeeper african nation miss...      0\n",
       "934148  29999  unamid force commander patrick nyamvumba conde...      0\n",
       "934149  29999                    sudan military plane crash kill      0\n",
       "934150  29999                  supermodel south sudan homecoming      0\n",
       "934151  29999                  cnn amir ahmed contributed report      0\n",
       "\n",
       "[934152 rows x 3 columns]"
      ],
      "text/html": [
       "<div>\n",
       "<style scoped>\n",
       "    .dataframe tbody tr th:only-of-type {\n",
       "        vertical-align: middle;\n",
       "    }\n",
       "\n",
       "    .dataframe tbody tr th {\n",
       "        vertical-align: top;\n",
       "    }\n",
       "\n",
       "    .dataframe thead th {\n",
       "        text-align: right;\n",
       "    }\n",
       "</style>\n",
       "<table border=\"1\" class=\"dataframe\">\n",
       "  <thead>\n",
       "    <tr style=\"text-align: right;\">\n",
       "      <th></th>\n",
       "      <th>id</th>\n",
       "      <th>sentence</th>\n",
       "      <th>label</th>\n",
       "    </tr>\n",
       "  </thead>\n",
       "  <tbody>\n",
       "    <tr>\n",
       "      <th>0</th>\n",
       "      <td>0</td>\n",
       "      <td>london england reuters harry potter star danie...</td>\n",
       "      <td>1</td>\n",
       "    </tr>\n",
       "    <tr>\n",
       "      <th>1</th>\n",
       "      <td>0</td>\n",
       "      <td>daniel radcliffe harry potter harry potter ord...</td>\n",
       "      <td>1</td>\n",
       "    </tr>\n",
       "    <tr>\n",
       "      <th>2</th>\n",
       "      <td>0</td>\n",
       "      <td>plan one people soon turn suddenly buy massive...</td>\n",
       "      <td>0</td>\n",
       "    </tr>\n",
       "    <tr>\n",
       "      <th>3</th>\n",
       "      <td>0</td>\n",
       "      <td>think particularly extravagant</td>\n",
       "      <td>0</td>\n",
       "    </tr>\n",
       "    <tr>\n",
       "      <th>4</th>\n",
       "      <td>0</td>\n",
       "      <td>thing like buy thing cost pound book cd dvd</td>\n",
       "      <td>0</td>\n",
       "    </tr>\n",
       "    <tr>\n",
       "      <th>...</th>\n",
       "      <td>...</td>\n",
       "      <td>...</td>\n",
       "      <td>...</td>\n",
       "    </tr>\n",
       "    <tr>\n",
       "      <th>934147</th>\n",
       "      <td>29999</td>\n",
       "      <td>last week four peacekeeper african nation miss...</td>\n",
       "      <td>0</td>\n",
       "    </tr>\n",
       "    <tr>\n",
       "      <th>934148</th>\n",
       "      <td>29999</td>\n",
       "      <td>unamid force commander patrick nyamvumba conde...</td>\n",
       "      <td>0</td>\n",
       "    </tr>\n",
       "    <tr>\n",
       "      <th>934149</th>\n",
       "      <td>29999</td>\n",
       "      <td>sudan military plane crash kill</td>\n",
       "      <td>0</td>\n",
       "    </tr>\n",
       "    <tr>\n",
       "      <th>934150</th>\n",
       "      <td>29999</td>\n",
       "      <td>supermodel south sudan homecoming</td>\n",
       "      <td>0</td>\n",
       "    </tr>\n",
       "    <tr>\n",
       "      <th>934151</th>\n",
       "      <td>29999</td>\n",
       "      <td>cnn amir ahmed contributed report</td>\n",
       "      <td>0</td>\n",
       "    </tr>\n",
       "  </tbody>\n",
       "</table>\n",
       "<p>934152 rows × 3 columns</p>\n",
       "</div>"
      ]
     },
     "execution_count": 6,
     "metadata": {},
     "output_type": "execute_result"
    }
   ],
   "execution_count": 6
  },
  {
   "metadata": {},
   "cell_type": "markdown",
   "source": "# Choix et entrainement du model",
   "id": "87f1070958f3e9e7"
  },
  {
   "metadata": {
    "ExecuteTime": {
     "end_time": "2025-06-30T08:47:10.649880Z",
     "start_time": "2025-06-30T08:41:48.448790Z"
    }
   },
   "cell_type": "code",
   "source": [
    "from gensim.models import FastText\n",
    "\n",
    "texts = clean_df[\"sentence\"].to_list()\n",
    "labels = clean_df[\"label\"].to_list()\n",
    "\n",
    "# Tokenisation du texte avant de fit le modele d'embending :\n",
    "tokenized_texts = [text.split() for text in texts]\n",
    "\n",
    "# Tes textes sont déjà tokenisés et lemmatisés : `tokenized_texts`\n",
    "fasttext_model = FastText(\n",
    "    sentences=tokenized_texts,\n",
    "    vector_size=100,      # dimension des vecteurs\n",
    "    window=5,             # taille du contexte\n",
    "    min_count=2,          # ignorer les mots trop rares\n",
    "    workers=4,            # threads\n",
    "    sg=1,                 # 1 = skip-gram, 0 = CBOW\n",
    "    epochs=10             # nombre d'époques\n",
    ")"
   ],
   "id": "fea06ab6e41f21a3",
   "outputs": [],
   "execution_count": 10
  },
  {
   "metadata": {
    "ExecuteTime": {
     "end_time": "2025-06-30T08:51:44.393936Z",
     "start_time": "2025-06-30T08:51:30.847436Z"
    }
   },
   "cell_type": "code",
   "source": [
    "from tensorflow.keras.preprocessing.sequence import pad_sequences\n",
    "# Creation du dictionnaire de Fasttext\n",
    "word_index = {word: idx + 1 for idx, word in enumerate(fasttext_model.wv.index_to_key)}\n",
    "vocab_size = len(word_index) + 1  # +1 pour le padding\n",
    "\n",
    "# Texte vers séquences d’index\n",
    "def encode_text(tokens):\n",
    "    return [word_index[word] for word in tokens if word in word_index]\n",
    "\n",
    "encoded_texts = [encode_text(tokens) for tokens in tokenized_texts]\n",
    "\n",
    "# Padding pour avoir toute les sequences d'une meme longueure\n",
    "MAX_LEN = 100\n",
    "padded_texts = pad_sequences(encoded_texts, maxlen=MAX_LEN, padding='post')"
   ],
   "id": "d8e1f00246d03d0e",
   "outputs": [],
   "execution_count": 11
  },
  {
   "metadata": {
    "ExecuteTime": {
     "end_time": "2025-06-30T08:52:34.487468Z",
     "start_time": "2025-06-30T08:52:33.209668Z"
    }
   },
   "cell_type": "code",
   "source": [
    "from sklearn.model_selection import GroupShuffleSplit\n",
    "# Ajout dans clean_df pour le split\n",
    "clean_df[\"encoded\"] = list(padded_texts)\n",
    "\n",
    "# Split par article_id\n",
    "X = np.array(list(clean_df[\"encoded\"]))\n",
    "y = clean_df[\"label\"].values\n",
    "groups = clean_df[\"id\"].values\n",
    "\n",
    "splitter = GroupShuffleSplit(n_splits=1, test_size=0.2, random_state=42)\n",
    "train_idx, val_idx = next(splitter.split(X, y, groups=groups))\n",
    "\n",
    "X_train, X_val = X[train_idx], X[val_idx]\n",
    "y_train, y_val = y[train_idx], y[val_idx]"
   ],
   "id": "35cdf28b350cd8fe",
   "outputs": [],
   "execution_count": 13
  },
  {
   "metadata": {
    "ExecuteTime": {
     "end_time": "2025-06-30T08:52:48.076372Z",
     "start_time": "2025-06-30T08:52:47.545720Z"
    }
   },
   "cell_type": "code",
   "source": [
    "from tensorflow.keras.layers import Embedding\n",
    "# Matrice embedding\n",
    "embedding_dim = 100\n",
    "embedding_matrix = np.zeros((vocab_size, embedding_dim))\n",
    "for word, i in word_index.items():\n",
    "    embedding_matrix[i] = fasttext_model.wv[word]\n",
    "\n",
    "# Creation de la couche d'embending\n",
    "embedding_layer = Embedding(\n",
    "    input_dim=vocab_size,\n",
    "    output_dim=embedding_dim,\n",
    "    weights=[embedding_matrix],\n",
    "    trainable=False\n",
    ")"
   ],
   "id": "f42564487651269",
   "outputs": [],
   "execution_count": 14
  },
  {
   "metadata": {
    "ExecuteTime": {
     "end_time": "2025-06-30T08:53:18.980499Z",
     "start_time": "2025-06-30T08:53:18.863049Z"
    }
   },
   "cell_type": "code",
   "source": [
    "from tensorflow.keras.models import Sequential\n",
    "from tensorflow.keras.layers import Conv1D, MaxPooling1D, Bidirectional, LSTM, Dense, Dropout\n",
    "from tensorflow.keras.optimizers import Adam\n",
    "from tensorflow.keras.utils import to_categorical\n",
    "\n",
    "model = Sequential([\n",
    "    embedding_layer,\n",
    "    # Convolution pour capter les n-grammes importants\n",
    "    Conv1D(filters=128, kernel_size=5, activation='relu'),\n",
    "    MaxPooling1D(pool_size=2),\n",
    "    # Bidirectional LSTM pour le contexte global\n",
    "    Bidirectional(LSTM(64, return_sequences=False)),\n",
    "    Dropout(0.5),\n",
    "    # Classification finale\n",
    "    Dense(1, activation='sigmoid')\n",
    "])\n",
    "\n",
    "# Compilation du modèle\n",
    "model.compile(\n",
    "    loss='binary_crossentropy',  # ou 'categorical_crossentropy' si one-hot\n",
    "    optimizer=Adam(learning_rate=1e-3),\n",
    "    metrics=['accuracy']\n",
    ")\n",
    "\n",
    "model.build(input_shape=(None, MAX_LEN))\n",
    "model.summary()"
   ],
   "id": "811d5e440ab1f8c1",
   "outputs": [
    {
     "data": {
      "text/plain": [
       "\u001B[1mModel: \"sequential\"\u001B[0m\n"
      ],
      "text/html": [
       "<pre style=\"white-space:pre;overflow-x:auto;line-height:normal;font-family:Menlo,'DejaVu Sans Mono',consolas,'Courier New',monospace\"><span style=\"font-weight: bold\">Model: \"sequential\"</span>\n",
       "</pre>\n"
      ]
     },
     "metadata": {},
     "output_type": "display_data"
    },
    {
     "data": {
      "text/plain": [
       "┏━━━━━━━━━━━━━━━━━━━━━━━━━━━━━━━━━┳━━━━━━━━━━━━━━━━━━━━━━━━┳━━━━━━━━━━━━━━━┓\n",
       "┃\u001B[1m \u001B[0m\u001B[1mLayer (type)                   \u001B[0m\u001B[1m \u001B[0m┃\u001B[1m \u001B[0m\u001B[1mOutput Shape          \u001B[0m\u001B[1m \u001B[0m┃\u001B[1m \u001B[0m\u001B[1m      Param #\u001B[0m\u001B[1m \u001B[0m┃\n",
       "┡━━━━━━━━━━━━━━━━━━━━━━━━━━━━━━━━━╇━━━━━━━━━━━━━━━━━━━━━━━━╇━━━━━━━━━━━━━━━┩\n",
       "│ embedding (\u001B[38;5;33mEmbedding\u001B[0m)           │ (\u001B[38;5;45mNone\u001B[0m, \u001B[38;5;34m100\u001B[0m, \u001B[38;5;34m100\u001B[0m)       │     \u001B[38;5;34m7,702,900\u001B[0m │\n",
       "├─────────────────────────────────┼────────────────────────┼───────────────┤\n",
       "│ conv1d (\u001B[38;5;33mConv1D\u001B[0m)                 │ (\u001B[38;5;45mNone\u001B[0m, \u001B[38;5;34m96\u001B[0m, \u001B[38;5;34m128\u001B[0m)        │        \u001B[38;5;34m64,128\u001B[0m │\n",
       "├─────────────────────────────────┼────────────────────────┼───────────────┤\n",
       "│ max_pooling1d (\u001B[38;5;33mMaxPooling1D\u001B[0m)    │ (\u001B[38;5;45mNone\u001B[0m, \u001B[38;5;34m48\u001B[0m, \u001B[38;5;34m128\u001B[0m)        │             \u001B[38;5;34m0\u001B[0m │\n",
       "├─────────────────────────────────┼────────────────────────┼───────────────┤\n",
       "│ bidirectional (\u001B[38;5;33mBidirectional\u001B[0m)   │ (\u001B[38;5;45mNone\u001B[0m, \u001B[38;5;34m128\u001B[0m)            │        \u001B[38;5;34m98,816\u001B[0m │\n",
       "├─────────────────────────────────┼────────────────────────┼───────────────┤\n",
       "│ dropout (\u001B[38;5;33mDropout\u001B[0m)               │ (\u001B[38;5;45mNone\u001B[0m, \u001B[38;5;34m128\u001B[0m)            │             \u001B[38;5;34m0\u001B[0m │\n",
       "├─────────────────────────────────┼────────────────────────┼───────────────┤\n",
       "│ dense (\u001B[38;5;33mDense\u001B[0m)                   │ (\u001B[38;5;45mNone\u001B[0m, \u001B[38;5;34m1\u001B[0m)              │           \u001B[38;5;34m129\u001B[0m │\n",
       "└─────────────────────────────────┴────────────────────────┴───────────────┘\n"
      ],
      "text/html": [
       "<pre style=\"white-space:pre;overflow-x:auto;line-height:normal;font-family:Menlo,'DejaVu Sans Mono',consolas,'Courier New',monospace\">┏━━━━━━━━━━━━━━━━━━━━━━━━━━━━━━━━━┳━━━━━━━━━━━━━━━━━━━━━━━━┳━━━━━━━━━━━━━━━┓\n",
       "┃<span style=\"font-weight: bold\"> Layer (type)                    </span>┃<span style=\"font-weight: bold\"> Output Shape           </span>┃<span style=\"font-weight: bold\">       Param # </span>┃\n",
       "┡━━━━━━━━━━━━━━━━━━━━━━━━━━━━━━━━━╇━━━━━━━━━━━━━━━━━━━━━━━━╇━━━━━━━━━━━━━━━┩\n",
       "│ embedding (<span style=\"color: #0087ff; text-decoration-color: #0087ff\">Embedding</span>)           │ (<span style=\"color: #00d7ff; text-decoration-color: #00d7ff\">None</span>, <span style=\"color: #00af00; text-decoration-color: #00af00\">100</span>, <span style=\"color: #00af00; text-decoration-color: #00af00\">100</span>)       │     <span style=\"color: #00af00; text-decoration-color: #00af00\">7,702,900</span> │\n",
       "├─────────────────────────────────┼────────────────────────┼───────────────┤\n",
       "│ conv1d (<span style=\"color: #0087ff; text-decoration-color: #0087ff\">Conv1D</span>)                 │ (<span style=\"color: #00d7ff; text-decoration-color: #00d7ff\">None</span>, <span style=\"color: #00af00; text-decoration-color: #00af00\">96</span>, <span style=\"color: #00af00; text-decoration-color: #00af00\">128</span>)        │        <span style=\"color: #00af00; text-decoration-color: #00af00\">64,128</span> │\n",
       "├─────────────────────────────────┼────────────────────────┼───────────────┤\n",
       "│ max_pooling1d (<span style=\"color: #0087ff; text-decoration-color: #0087ff\">MaxPooling1D</span>)    │ (<span style=\"color: #00d7ff; text-decoration-color: #00d7ff\">None</span>, <span style=\"color: #00af00; text-decoration-color: #00af00\">48</span>, <span style=\"color: #00af00; text-decoration-color: #00af00\">128</span>)        │             <span style=\"color: #00af00; text-decoration-color: #00af00\">0</span> │\n",
       "├─────────────────────────────────┼────────────────────────┼───────────────┤\n",
       "│ bidirectional (<span style=\"color: #0087ff; text-decoration-color: #0087ff\">Bidirectional</span>)   │ (<span style=\"color: #00d7ff; text-decoration-color: #00d7ff\">None</span>, <span style=\"color: #00af00; text-decoration-color: #00af00\">128</span>)            │        <span style=\"color: #00af00; text-decoration-color: #00af00\">98,816</span> │\n",
       "├─────────────────────────────────┼────────────────────────┼───────────────┤\n",
       "│ dropout (<span style=\"color: #0087ff; text-decoration-color: #0087ff\">Dropout</span>)               │ (<span style=\"color: #00d7ff; text-decoration-color: #00d7ff\">None</span>, <span style=\"color: #00af00; text-decoration-color: #00af00\">128</span>)            │             <span style=\"color: #00af00; text-decoration-color: #00af00\">0</span> │\n",
       "├─────────────────────────────────┼────────────────────────┼───────────────┤\n",
       "│ dense (<span style=\"color: #0087ff; text-decoration-color: #0087ff\">Dense</span>)                   │ (<span style=\"color: #00d7ff; text-decoration-color: #00d7ff\">None</span>, <span style=\"color: #00af00; text-decoration-color: #00af00\">1</span>)              │           <span style=\"color: #00af00; text-decoration-color: #00af00\">129</span> │\n",
       "└─────────────────────────────────┴────────────────────────┴───────────────┘\n",
       "</pre>\n"
      ]
     },
     "metadata": {},
     "output_type": "display_data"
    },
    {
     "data": {
      "text/plain": [
       "\u001B[1m Total params: \u001B[0m\u001B[38;5;34m7,865,973\u001B[0m (30.01 MB)\n"
      ],
      "text/html": [
       "<pre style=\"white-space:pre;overflow-x:auto;line-height:normal;font-family:Menlo,'DejaVu Sans Mono',consolas,'Courier New',monospace\"><span style=\"font-weight: bold\"> Total params: </span><span style=\"color: #00af00; text-decoration-color: #00af00\">7,865,973</span> (30.01 MB)\n",
       "</pre>\n"
      ]
     },
     "metadata": {},
     "output_type": "display_data"
    },
    {
     "data": {
      "text/plain": [
       "\u001B[1m Trainable params: \u001B[0m\u001B[38;5;34m163,073\u001B[0m (637.00 KB)\n"
      ],
      "text/html": [
       "<pre style=\"white-space:pre;overflow-x:auto;line-height:normal;font-family:Menlo,'DejaVu Sans Mono',consolas,'Courier New',monospace\"><span style=\"font-weight: bold\"> Trainable params: </span><span style=\"color: #00af00; text-decoration-color: #00af00\">163,073</span> (637.00 KB)\n",
       "</pre>\n"
      ]
     },
     "metadata": {},
     "output_type": "display_data"
    },
    {
     "data": {
      "text/plain": [
       "\u001B[1m Non-trainable params: \u001B[0m\u001B[38;5;34m7,702,900\u001B[0m (29.38 MB)\n"
      ],
      "text/html": [
       "<pre style=\"white-space:pre;overflow-x:auto;line-height:normal;font-family:Menlo,'DejaVu Sans Mono',consolas,'Courier New',monospace\"><span style=\"font-weight: bold\"> Non-trainable params: </span><span style=\"color: #00af00; text-decoration-color: #00af00\">7,702,900</span> (29.38 MB)\n",
       "</pre>\n"
      ]
     },
     "metadata": {},
     "output_type": "display_data"
    }
   ],
   "execution_count": 16
  },
  {
   "metadata": {
    "ExecuteTime": {
     "end_time": "2025-06-30T10:03:11.652387Z",
     "start_time": "2025-06-30T08:56:36.420120Z"
    }
   },
   "cell_type": "code",
   "source": [
    "from tensorflow.keras.callbacks import EarlyStopping\n",
    "\n",
    "# Early stopping pour stopper l'entrainement si plus de progrès après 3 epochs\n",
    "early_stopping = EarlyStopping(\n",
    "    monitor='val_loss',\n",
    "    patience=3,          # arrêt si pas d'amélioration pendant 3 epochs\n",
    "    restore_best_weights=True\n",
    ")\n",
    "\n",
    "params = {\n",
    "    \"epochs\": 5,\n",
    "    \"batch_size\": 64,\n",
    "    \"learning_rate\": 0.001,\n",
    "}\n",
    "\n",
    "history = model.fit(\n",
    "    X_train, y_train,\n",
    "    validation_data=(X_val, y_val),\n",
    "    batch_size=params[\"batch_size\"],\n",
    "    epochs=params[\"epochs\"],\n",
    "    callbacks=[early_stopping],\n",
    "    verbose=1\n",
    ")"
   ],
   "id": "486ade13143aea85",
   "outputs": [
    {
     "name": "stdout",
     "output_type": "stream",
     "text": [
      "Epoch 1/5\n",
      "\u001B[1m11697/11697\u001B[0m \u001B[32m━━━━━━━━━━━━━━━━━━━━\u001B[0m\u001B[37m\u001B[0m \u001B[1m695s\u001B[0m 59ms/step - accuracy: 0.9380 - loss: 0.2210 - val_accuracy: 0.9366 - val_loss: 0.2184\n",
      "Epoch 2/5\n",
      "\u001B[1m11697/11697\u001B[0m \u001B[32m━━━━━━━━━━━━━━━━━━━━\u001B[0m\u001B[37m\u001B[0m \u001B[1m784s\u001B[0m 67ms/step - accuracy: 0.9379 - loss: 0.2153 - val_accuracy: 0.9371 - val_loss: 0.2175\n",
      "Epoch 3/5\n",
      "\u001B[1m11697/11697\u001B[0m \u001B[32m━━━━━━━━━━━━━━━━━━━━\u001B[0m\u001B[37m\u001B[0m \u001B[1m820s\u001B[0m 70ms/step - accuracy: 0.9383 - loss: 0.2107 - val_accuracy: 0.9370 - val_loss: 0.2201\n",
      "Epoch 4/5\n",
      "\u001B[1m11697/11697\u001B[0m \u001B[32m━━━━━━━━━━━━━━━━━━━━\u001B[0m\u001B[37m\u001B[0m \u001B[1m832s\u001B[0m 71ms/step - accuracy: 0.9381 - loss: 0.2056 - val_accuracy: 0.9372 - val_loss: 0.2202\n",
      "Epoch 5/5\n",
      "\u001B[1m11697/11697\u001B[0m \u001B[32m━━━━━━━━━━━━━━━━━━━━\u001B[0m\u001B[37m\u001B[0m \u001B[1m865s\u001B[0m 74ms/step - accuracy: 0.9382 - loss: 0.1999 - val_accuracy: 0.9371 - val_loss: 0.2239\n"
     ]
    }
   ],
   "execution_count": 19
  },
  {
   "metadata": {
    "ExecuteTime": {
     "end_time": "2025-06-30T10:15:25.082122Z",
     "start_time": "2025-06-30T10:15:24.209626Z"
    }
   },
   "cell_type": "code",
   "source": [
    "import matplotlib.pyplot as plt\n",
    "\n",
    "# Courbe de précision (accuracy)\n",
    "plt.plot(history.history['accuracy'], label='Train Accuracy')\n",
    "plt.plot(history.history['val_accuracy'], label='Validation Accuracy')\n",
    "plt.title('Accuracy au fil des époques')\n",
    "plt.xlabel('Époque')\n",
    "plt.ylabel('Accuracy')\n",
    "plt.legend()\n",
    "plt.show()\n",
    "\n",
    "# Courbe de perte (loss)\n",
    "plt.plot(history.history['loss'], label='Train Loss')\n",
    "plt.plot(history.history['val_loss'], label='Validation Loss')\n",
    "plt.title('Loss au fil des époques')\n",
    "plt.xlabel('Époque')\n",
    "plt.ylabel('Loss')\n",
    "plt.legend()\n",
    "plt.show()"
   ],
   "id": "9577fa3d9ff2c13e",
   "outputs": [
    {
     "data": {
      "text/plain": [
       "<Figure size 640x480 with 1 Axes>"
      ],
      "image/png": "[encoded data removed]"
     },
     "metadata": {},
     "output_type": "display_data"
    },
    {
     "data": {
      "text/plain": [
       "<Figure size 640x480 with 1 Axes>"
      ],
      "image/png": "[encoded data removed]"
     },
     "metadata": {},
     "output_type": "display_data"
    }
   ],
   "execution_count": 20
  },
  {
   "metadata": {
    "ExecuteTime": {
     "end_time": "2025-06-30T10:44:00.771605Z",
     "start_time": "2025-06-30T10:43:57.211575Z"
    }
   },
   "cell_type": "code",
   "source": [
    "new = load_dataset(\"cnn_dailymail\", \"3.0.0\", split=\"test[:5000]\")\n",
    "test = new.to_pandas()"
   ],
   "id": "bede912c54703579",
   "outputs": [],
   "execution_count": 28
  },
  {
   "metadata": {
    "ExecuteTime": {
     "end_time": "2025-06-30T10:44:04.488436Z",
     "start_time": "2025-06-30T10:44:04.456177Z"
    }
   },
   "cell_type": "code",
   "source": "test",
   "id": "2b1b86fe89b10323",
   "outputs": [
    {
     "data": {
      "text/plain": [
       "                                                article  \\\n",
       "0     (CNN)The Palestinian Authority officially beca...   \n",
       "1     (CNN)Never mind cats having nine lives. A stra...   \n",
       "2     (CNN)If you've been following the news lately,...   \n",
       "3     (CNN)Five Americans who were monitored for thr...   \n",
       "4     (CNN)A Duke student has admitted to hanging a ...   \n",
       "...                                                 ...   \n",
       "4995  Unblinking eyes stare from decapitated heads a...   \n",
       "4996  An app which allows users to superimpose image...   \n",
       "4997  A Spanish hospital claims it has performed the...   \n",
       "4998  Scientists have revealed a sophisticated new d...   \n",
       "4999  Satellite TV operator DirecTV has pulled the p...   \n",
       "\n",
       "                                             highlights  \\\n",
       "0     Membership gives the ICC jurisdiction over all...   \n",
       "1     Theia, a bully breed mix, was apparently hit b...   \n",
       "2     Mohammad Javad Zarif has spent more time with ...   \n",
       "3     17 Americans were exposed to the Ebola virus w...   \n",
       "4     Student is no longer on Duke University campus...   \n",
       "...                                                 ...   \n",
       "4995  Heads and loose limbs are piled up on the shel...   \n",
       "4996  Scar Booth allows users to superimpose cuts an...   \n",
       "4997  Vall d'Hebron hospital in Barcelona claims it ...   \n",
       "4998  Little Foot was unearthed in the 1990s in Sout...   \n",
       "4999  Satellite TV operator has ended the campaign  ...   \n",
       "\n",
       "                                            id  \n",
       "0     f001ec5c4704938247d27a44948eebb37ae98d01  \n",
       "1     230c522854991d053fe98a718b1defa077a8efef  \n",
       "2     4495ba8f3a340d97a9df1476f8a35502bcce1f69  \n",
       "3     a38e72fed88684ec8d60dd5856282e999dc8c0ca  \n",
       "4     c27cf1b136cc270023de959e7ab24638021bc43f  \n",
       "...                                        ...  \n",
       "4995  1f4e660e020ab98a4fddd0ce4125db3b913ec1e5  \n",
       "4996  e79e40746dbc24643a3a3f044d2f49689ff82e38  \n",
       "4997  dc35c4f9d1e50d06f2db660c2b4cccd881f061a4  \n",
       "4998  f577ace0b8ae351e6b80f73ba7fea4c06c3bb21d  \n",
       "4999  bed57c71565a24a6ca2672652c45b7fc24437846  \n",
       "\n",
       "[5000 rows x 3 columns]"
      ],
      "text/html": [
       "<div>\n",
       "<style scoped>\n",
       "    .dataframe tbody tr th:only-of-type {\n",
       "        vertical-align: middle;\n",
       "    }\n",
       "\n",
       "    .dataframe tbody tr th {\n",
       "        vertical-align: top;\n",
       "    }\n",
       "\n",
       "    .dataframe thead th {\n",
       "        text-align: right;\n",
       "    }\n",
       "</style>\n",
       "<table border=\"1\" class=\"dataframe\">\n",
       "  <thead>\n",
       "    <tr style=\"text-align: right;\">\n",
       "      <th></th>\n",
       "      <th>article</th>\n",
       "      <th>highlights</th>\n",
       "      <th>id</th>\n",
       "    </tr>\n",
       "  </thead>\n",
       "  <tbody>\n",
       "    <tr>\n",
       "      <th>0</th>\n",
       "      <td>(CNN)The Palestinian Authority officially beca...</td>\n",
       "      <td>Membership gives the ICC jurisdiction over all...</td>\n",
       "      <td>f001ec5c4704938247d27a44948eebb37ae98d01</td>\n",
       "    </tr>\n",
       "    <tr>\n",
       "      <th>1</th>\n",
       "      <td>(CNN)Never mind cats having nine lives. A stra...</td>\n",
       "      <td>Theia, a bully breed mix, was apparently hit b...</td>\n",
       "      <td>230c522854991d053fe98a718b1defa077a8efef</td>\n",
       "    </tr>\n",
       "    <tr>\n",
       "      <th>2</th>\n",
       "      <td>(CNN)If you've been following the news lately,...</td>\n",
       "      <td>Mohammad Javad Zarif has spent more time with ...</td>\n",
       "      <td>4495ba8f3a340d97a9df1476f8a35502bcce1f69</td>\n",
       "    </tr>\n",
       "    <tr>\n",
       "      <th>3</th>\n",
       "      <td>(CNN)Five Americans who were monitored for thr...</td>\n",
       "      <td>17 Americans were exposed to the Ebola virus w...</td>\n",
       "      <td>a38e72fed88684ec8d60dd5856282e999dc8c0ca</td>\n",
       "    </tr>\n",
       "    <tr>\n",
       "      <th>4</th>\n",
       "      <td>(CNN)A Duke student has admitted to hanging a ...</td>\n",
       "      <td>Student is no longer on Duke University campus...</td>\n",
       "      <td>c27cf1b136cc270023de959e7ab24638021bc43f</td>\n",
       "    </tr>\n",
       "    <tr>\n",
       "      <th>...</th>\n",
       "      <td>...</td>\n",
       "      <td>...</td>\n",
       "      <td>...</td>\n",
       "    </tr>\n",
       "    <tr>\n",
       "      <th>4995</th>\n",
       "      <td>Unblinking eyes stare from decapitated heads a...</td>\n",
       "      <td>Heads and loose limbs are piled up on the shel...</td>\n",
       "      <td>1f4e660e020ab98a4fddd0ce4125db3b913ec1e5</td>\n",
       "    </tr>\n",
       "    <tr>\n",
       "      <th>4996</th>\n",
       "      <td>An app which allows users to superimpose image...</td>\n",
       "      <td>Scar Booth allows users to superimpose cuts an...</td>\n",
       "      <td>e79e40746dbc24643a3a3f044d2f49689ff82e38</td>\n",
       "    </tr>\n",
       "    <tr>\n",
       "      <th>4997</th>\n",
       "      <td>A Spanish hospital claims it has performed the...</td>\n",
       "      <td>Vall d'Hebron hospital in Barcelona claims it ...</td>\n",
       "      <td>dc35c4f9d1e50d06f2db660c2b4cccd881f061a4</td>\n",
       "    </tr>\n",
       "    <tr>\n",
       "      <th>4998</th>\n",
       "      <td>Scientists have revealed a sophisticated new d...</td>\n",
       "      <td>Little Foot was unearthed in the 1990s in Sout...</td>\n",
       "      <td>f577ace0b8ae351e6b80f73ba7fea4c06c3bb21d</td>\n",
       "    </tr>\n",
       "    <tr>\n",
       "      <th>4999</th>\n",
       "      <td>Satellite TV operator DirecTV has pulled the p...</td>\n",
       "      <td>Satellite TV operator has ended the campaign  ...</td>\n",
       "      <td>bed57c71565a24a6ca2672652c45b7fc24437846</td>\n",
       "    </tr>\n",
       "  </tbody>\n",
       "</table>\n",
       "<p>5000 rows × 3 columns</p>\n",
       "</div>"
      ]
     },
     "execution_count": 29,
     "metadata": {},
     "output_type": "execute_result"
    }
   ],
   "execution_count": 29
  },
  {
   "metadata": {
    "ExecuteTime": {
     "end_time": "2025-06-30T10:45:06.534102Z",
     "start_time": "2025-06-30T10:44:10.271535Z"
    }
   },
   "cell_type": "code",
   "source": [
    "# Exemple d’utilisation sur une colonne 'article' d’un DataFrame pandas df\n",
    "test['article_sentences'] = test['article'].apply(extract_and_clean_sentences)\n",
    "test['summary_sentences'] = test['highlights'].apply(extract_and_clean_sentences)\n",
    "\n",
    "data = []\n",
    "for idx, row in test.iterrows():\n",
    "    articles = row[\"article_sentences\"]\n",
    "    summarys = row[\"summary_sentences\"]\n",
    "    labels = label_phrases_by_similarity(articles, summarys, threshold=0.4)\n",
    "\n",
    "    for sent, label in zip(articles, labels):\n",
    "        data.append({\"id\": idx, \"sentence\": sent, \"label\": label})\n",
    "\n",
    "test_clean = pd.DataFrame(data)"
   ],
   "id": "4dc6a008243b0ea8",
   "outputs": [],
   "execution_count": 30
  },
  {
   "metadata": {
    "ExecuteTime": {
     "end_time": "2025-06-30T10:45:17.037747Z",
     "start_time": "2025-06-30T10:45:17.014974Z"
    }
   },
   "cell_type": "code",
   "source": "test_clean",
   "id": "ff3edf51ca7665a3",
   "outputs": [
    {
     "data": {
      "text/plain": [
       "          id                                           sentence  label\n",
       "0          0  cnn palestinian authority officially become me...      0\n",
       "1          0  formal accession mark ceremony hague netherlan...      0\n",
       "2          0  palestinian sign icc found rome statute januar...      1\n",
       "3          0  later month icc open preliminary examination s...      0\n",
       "4          0          member court palestinian may subject well      0\n",
       "...      ...                                                ...    ...\n",
       "148351  4999  directv say disagrees nad finding respect rank...      0\n",
       "148352  4999  operator discontinue ad claim always schedule ...      1\n",
       "148353  4999  want launch new campaign hannah davis final fo...      0\n",
       "148354  4999  always reserve right bring back rob lowe campa...      0\n",
       "148355  4999  company previously argue advertisement outland...      0\n",
       "\n",
       "[148356 rows x 3 columns]"
      ],
      "text/html": [
       "<div>\n",
       "<style scoped>\n",
       "    .dataframe tbody tr th:only-of-type {\n",
       "        vertical-align: middle;\n",
       "    }\n",
       "\n",
       "    .dataframe tbody tr th {\n",
       "        vertical-align: top;\n",
       "    }\n",
       "\n",
       "    .dataframe thead th {\n",
       "        text-align: right;\n",
       "    }\n",
       "</style>\n",
       "<table border=\"1\" class=\"dataframe\">\n",
       "  <thead>\n",
       "    <tr style=\"text-align: right;\">\n",
       "      <th></th>\n",
       "      <th>id</th>\n",
       "      <th>sentence</th>\n",
       "      <th>label</th>\n",
       "    </tr>\n",
       "  </thead>\n",
       "  <tbody>\n",
       "    <tr>\n",
       "      <th>0</th>\n",
       "      <td>0</td>\n",
       "      <td>cnn palestinian authority officially become me...</td>\n",
       "      <td>0</td>\n",
       "    </tr>\n",
       "    <tr>\n",
       "      <th>1</th>\n",
       "      <td>0</td>\n",
       "      <td>formal accession mark ceremony hague netherlan...</td>\n",
       "      <td>0</td>\n",
       "    </tr>\n",
       "    <tr>\n",
       "      <th>2</th>\n",
       "      <td>0</td>\n",
       "      <td>palestinian sign icc found rome statute januar...</td>\n",
       "      <td>1</td>\n",
       "    </tr>\n",
       "    <tr>\n",
       "      <th>3</th>\n",
       "      <td>0</td>\n",
       "      <td>later month icc open preliminary examination s...</td>\n",
       "      <td>0</td>\n",
       "    </tr>\n",
       "    <tr>\n",
       "      <th>4</th>\n",
       "      <td>0</td>\n",
       "      <td>member court palestinian may subject well</td>\n",
       "      <td>0</td>\n",
       "    </tr>\n",
       "    <tr>\n",
       "      <th>...</th>\n",
       "      <td>...</td>\n",
       "      <td>...</td>\n",
       "      <td>...</td>\n",
       "    </tr>\n",
       "    <tr>\n",
       "      <th>148351</th>\n",
       "      <td>4999</td>\n",
       "      <td>directv say disagrees nad finding respect rank...</td>\n",
       "      <td>0</td>\n",
       "    </tr>\n",
       "    <tr>\n",
       "      <th>148352</th>\n",
       "      <td>4999</td>\n",
       "      <td>operator discontinue ad claim always schedule ...</td>\n",
       "      <td>1</td>\n",
       "    </tr>\n",
       "    <tr>\n",
       "      <th>148353</th>\n",
       "      <td>4999</td>\n",
       "      <td>want launch new campaign hannah davis final fo...</td>\n",
       "      <td>0</td>\n",
       "    </tr>\n",
       "    <tr>\n",
       "      <th>148354</th>\n",
       "      <td>4999</td>\n",
       "      <td>always reserve right bring back rob lowe campa...</td>\n",
       "      <td>0</td>\n",
       "    </tr>\n",
       "    <tr>\n",
       "      <th>148355</th>\n",
       "      <td>4999</td>\n",
       "      <td>company previously argue advertisement outland...</td>\n",
       "      <td>0</td>\n",
       "    </tr>\n",
       "  </tbody>\n",
       "</table>\n",
       "<p>148356 rows × 3 columns</p>\n",
       "</div>"
      ]
     },
     "execution_count": 31,
     "metadata": {},
     "output_type": "execute_result"
    }
   ],
   "execution_count": 31
  },
  {
   "metadata": {
    "ExecuteTime": {
     "end_time": "2025-06-30T10:45:49.432493Z",
     "start_time": "2025-06-30T10:45:41.529175Z"
    }
   },
   "cell_type": "code",
   "source": [
    "# Traitement du texte avant l'utilisation du model\n",
    "test_texts = test_clean[\"sentence\"].to_list()\n",
    "test_labels = test_clean[\"label\"].to_list()\n",
    "tokenized_texts_test = [text.split() for text in test_texts]\n",
    "encoded_texts_test = [encode_text(tokens) for tokens in tokenized_texts_test]\n",
    "padded_texts_test = pad_sequences(encoded_texts_test, maxlen=MAX_LEN, padding='post')\n",
    "\n",
    "X_test = np.array(padded_texts_test)\n",
    "y_test = np.array(test_labels)"
   ],
   "id": "979721256b9b15ca",
   "outputs": [],
   "execution_count": 33
  },
  {
   "metadata": {
    "ExecuteTime": {
     "end_time": "2025-06-30T10:47:15.730550Z",
     "start_time": "2025-06-30T10:46:36.391540Z"
    }
   },
   "cell_type": "code",
   "source": [
    "# Évaluation du modèle\n",
    "test_loss, test_accuracy = model.evaluate(X_test, y_test, batch_size=64, verbose=1)\n",
    "print(f\"Loss sur le test set : {test_loss:.4f}\")\n",
    "print(f\"Accuracy sur le test set : {test_accuracy:.4f}\")"
   ],
   "id": "16e46ccf5d65e37c",
   "outputs": [
    {
     "name": "stdout",
     "output_type": "stream",
     "text": [
      "\u001B[1m2319/2319\u001B[0m \u001B[32m━━━━━━━━━━━━━━━━━━━━\u001B[0m\u001B[37m\u001B[0m \u001B[1m39s\u001B[0m 17ms/step - accuracy: 0.9389 - loss: 0.2173\n",
      "Loss sur le test set : 0.2570\n",
      "Accuracy sur le test set : 0.9241\n"
     ]
    }
   ],
   "execution_count": 34
  },
  {
   "metadata": {
    "ExecuteTime": {
     "end_time": "2025-06-30T10:49:08.820825Z",
     "start_time": "2025-06-30T10:48:30.497949Z"
    }
   },
   "cell_type": "code",
   "source": [
    "# Prédictions probabilistes (sigmoid output)\n",
    "y_pred_prob = model.predict(X_test, batch_size=64).flatten()  # sortie (N,1) → (N,)\n",
    "\n",
    "# Prédictions de classes (seuil à 0.5)\n",
    "y_pred_classes = (y_pred_prob >= 0.5).astype(int)"
   ],
   "id": "fafabd6e23ddbf67",
   "outputs": [
    {
     "name": "stdout",
     "output_type": "stream",
     "text": [
      "\u001B[1m2319/2319\u001B[0m \u001B[32m━━━━━━━━━━━━━━━━━━━━\u001B[0m\u001B[37m\u001B[0m \u001B[1m38s\u001B[0m 16ms/step\n"
     ]
    }
   ],
   "execution_count": 35
  },
  {
   "metadata": {
    "ExecuteTime": {
     "end_time": "2025-06-30T10:49:13.258265Z",
     "start_time": "2025-06-30T10:49:12.978718Z"
    }
   },
   "cell_type": "code",
   "source": [
    "from sklearn.metrics import classification_report, confusion_matrix\n",
    "import seaborn as sns\n",
    "import matplotlib.pyplot as plt\n",
    "\n",
    "print(classification_report(y_test, y_pred_classes))\n",
    "\n",
    "cm = confusion_matrix(y_test, y_pred_classes)\n",
    "sns.heatmap(cm, annot=True, fmt='d', cmap='Blues')\n",
    "plt.xlabel('Prédit')\n",
    "plt.ylabel('Vrai')\n",
    "plt.title('Matrice de confusion')\n",
    "plt.show()"
   ],
   "id": "c2bace97db5127a8",
   "outputs": [
    {
     "name": "stdout",
     "output_type": "stream",
     "text": [
      "              precision    recall  f1-score   support\n",
      "\n",
      "           0       0.92      1.00      0.96    137103\n",
      "           1       0.14      0.00      0.00     11253\n",
      "\n",
      "    accuracy                           0.92    148356\n",
      "   macro avg       0.53      0.50      0.48    148356\n",
      "weighted avg       0.86      0.92      0.89    148356\n",
      "\n"
     ]
    },
    {
     "data": {
      "text/plain": [
       "<Figure size 640x480 with 2 Axes>"
      ],
      "image/png": "[encoded data removed]"
     },
     "metadata": {},
     "output_type": "display_data"
    }
   ],
   "execution_count": 36
  },
  {
   "metadata": {
    "ExecuteTime": {
     "end_time": "2025-06-30T10:54:39.855413Z",
     "start_time": "2025-06-30T10:54:39.670997Z"
    }
   },
   "cell_type": "code",
   "source": [
    "from nltk.tokenize import sent_tokenize\n",
    "import numpy as np\n",
    "from tensorflow.keras.preprocessing.sequence import pad_sequences\n",
    "\n",
    "# Exemple d'article\n",
    "article = \"\"\"“Global Climate Summit Sparks Hope and Debate”\n",
    "\n",
    "The recent Global Climate Summit brought together leaders from over 190 countries to discuss urgent actions to combat climate change. The summit focused on reducing carbon emissions, investing in renewable energy, and supporting vulnerable nations impacted by rising sea levels. While many countries pledged to strengthen their climate commitments, some delegates expressed concerns over the feasibility of these targets and the economic impact of rapid transitions.\n",
    "\n",
    "Environmental activists praised the summit’s emphasis on sustainable development but urged for faster implementation and greater accountability. Discussions also highlighted the role of technology and innovation in addressing climate challenges, including advancements in carbon capture and storage. The summit concluded with a call for continued collaboration and increased funding to meet global climate goals.\"\"\"\n",
    "\n",
    "# 1. Tokenize en phrases\n",
    "sentences = sent_tokenize(article)\n",
    "\n",
    "# 2. Nettoyage et encodage\n",
    "cleaned_sentences = [preprocessing(sentence) for sentence in sentences]\n",
    "tokenized_sentences = [sent.split() for sent in cleaned_sentences]\n",
    "encoded_sentences = [encode_text(tokens) for tokens in tokenized_sentences]\n",
    "\n",
    "# 3. Padding\n",
    "padded_sentences = pad_sequences(encoded_sentences, maxlen=MAX_LEN, padding='post')\n",
    "X_val = np.array(padded_sentences)\n",
    "\n",
    "import numpy as np\n",
    "\n",
    "# 4. Prédiction\n",
    "predicted_probs = model.predict(X_val).flatten()  # shape (n_samples, 1) -> (n_samples,)\n",
    "\n",
    "# Trouver les indices des top 3 phrases les plus probables\n",
    "top_k = 3\n",
    "top_k_idx = np.argsort(predicted_probs)[-top_k:][::-1]  # indices triés décroissants\n",
    "\n",
    "# 6. Affichage résumé des top 3 phrases\n",
    "print(\"\\nRésumé extrait (top 3 phrases) :\")\n",
    "for idx in top_k_idx:\n",
    "    print(f\"- {sentences[idx]} (proba: {predicted_probs[idx]:.4f})\")"
   ],
   "id": "8fe5d1aab04dbaa4",
   "outputs": [
    {
     "name": "stdout",
     "output_type": "stream",
     "text": [
      "\u001B[1m1/1\u001B[0m \u001B[32m━━━━━━━━━━━━━━━━━━━━\u001B[0m\u001B[37m\u001B[0m \u001B[1m0s\u001B[0m 35ms/step\n",
      "\n",
      "Résumé extrait (top 3 phrases) :\n",
      "- “Global Climate Summit Sparks Hope and Debate”\n",
      "\n",
      "The recent Global Climate Summit brought together leaders from over 190 countries to discuss urgent actions to combat climate change. (proba: 0.0714)\n",
      "- The summit concluded with a call for continued collaboration and increased funding to meet global climate goals. (proba: 0.0678)\n",
      "- The summit focused on reducing carbon emissions, investing in renewable energy, and supporting vulnerable nations impacted by rising sea levels. (proba: 0.0648)\n"
     ]
    }
   ],
   "execution_count": 40
  },
  {
   "metadata": {
    "ExecuteTime": {
     "end_time": "2025-06-30T10:57:59.942233Z",
     "start_time": "2025-06-30T10:57:59.839797Z"
    }
   },
   "cell_type": "code",
   "source": [
    "article = \"\"\"““Breakthrough in Quantum Computing Promises Unprecedented Processing Power”\n",
    "\n",
    "A team of researchers from MIT and Google has announced a major milestone in quantum computing, unveiling a new quantum processor capable of solving complex problems at speeds far beyond traditional supercomputers.\n",
    "The processor, named “QuantaX,” leverages a novel qubit stabilization technique that significantly reduces error rates, which has been one of the most persistent challenges in quantum systems.\n",
    "According to the team, this advancement could eventually revolutionize fields like cryptography, pharmaceutical development, and climate modeling by enabling previously infeasible simulations.\n",
    "However, experts caution that while the breakthrough is remarkable, commercial applications are still years away due to engineering limitations and high operational costs.\n",
    "The announcement has reignited global interest and competition in quantum technologies, with major tech firms and governments accelerating their investments in research.\n",
    "Analysts note that the race for quantum supremacy is as much geopolitical as it is technological, with nations seeking to secure strategic advantages through computing power.\"\"\"\n",
    "\n",
    "# 1. Tokenize en phrases\n",
    "sentences = sent_tokenize(article)\n",
    "\n",
    "# 2. Nettoyage et encodage\n",
    "cleaned_sentences = [preprocessing(sentence) for sentence in sentences]\n",
    "tokenized_sentences = [sent.split() for sent in cleaned_sentences]\n",
    "encoded_sentences = [encode_text(tokens) for tokens in tokenized_sentences]\n",
    "\n",
    "# 3. Padding\n",
    "padded_sentences = pad_sequences(encoded_sentences, maxlen=MAX_LEN, padding='post')\n",
    "X_val = np.array(padded_sentences)\n",
    "\n",
    "import numpy as np\n",
    "\n",
    "# 4. Prédiction\n",
    "predicted_probs = model.predict(X_val).flatten()  # shape (n_samples, 1) -> (n_samples,)\n",
    "\n",
    "# Trouver les indices des top 3 phrases les plus probables\n",
    "top_k = 3\n",
    "top_k_idx = np.argsort(predicted_probs)[-top_k:][::-1]  # indices triés décroissants\n",
    "\n",
    "# 6. Affichage résumé des top 3 phrases\n",
    "print(\"\\nRésumé extrait (top 3 phrases) :\")\n",
    "for idx in top_k_idx:\n",
    "    print(f\"- {sentences[idx]} (proba: {predicted_probs[idx]:.4f})\")"
   ],
   "id": "66a2e69cde38a8f2",
   "outputs": [
    {
     "name": "stdout",
     "output_type": "stream",
     "text": [
      "\u001B[1m1/1\u001B[0m \u001B[32m━━━━━━━━━━━━━━━━━━━━\u001B[0m\u001B[37m\u001B[0m \u001B[1m0s\u001B[0m 25ms/step\n",
      "\n",
      "Résumé extrait (top 3 phrases) :\n",
      "- The announcement has reignited global interest and competition in quantum technologies, with major tech firms and governments accelerating their investments in research. (proba: 0.0837)\n",
      "- ““Breakthrough in Quantum Computing Promises Unprecedented Processing Power”\n",
      "\n",
      "A team of researchers from MIT and Google has announced a major milestone in quantum computing, unveiling a new quantum processor capable of solving complex problems at speeds far beyond traditional supercomputers. (proba: 0.0799)\n",
      "- The processor, named “QuantaX,” leverages a novel qubit stabilization technique that significantly reduces error rates, which has been one of the most persistent challenges in quantum systems. (proba: 0.0485)\n"
     ]
    }
   ],
   "execution_count": 42
  },
  {
   "metadata": {
    "ExecuteTime": {
     "end_time": "2025-06-30T11:01:50.706366Z",
     "start_time": "2025-06-30T11:01:50.350148Z"
    }
   },
   "cell_type": "code",
   "source": [
    "#Sauvegarde du model\n",
    "model.save(f\"ML_Sumarizer/model_DL.keras\")"
   ],
   "id": "c662d3d5a5647eb2",
   "outputs": [],
   "execution_count": 43
  },
  {
   "metadata": {
    "ExecuteTime": {
     "end_time": "2025-06-30T11:11:42.623004Z",
     "start_time": "2025-06-30T11:11:42.042163Z"
    }
   },
   "cell_type": "code",
   "source": [
    "import joblib\n",
    "joblib.dump(word_index, \"ML_Sumarizer/word_index_sum.pkl\")"
   ],
   "id": "fbc837bac2f2a2ba",
   "outputs": [
    {
     "data": {
      "text/plain": [
       "['ML_Sumarizer/word_index_sum.pkl']"
      ]
     },
     "execution_count": 44,
     "metadata": {},
     "output_type": "execute_result"
    }
   ],
   "execution_count": 44
  },
  {
   "metadata": {},
   "cell_type": "code",
   "outputs": [],
   "execution_count": null,
   "source": "",
   "id": "8b137a98795a1c4c"
  }
 ],
 "metadata": {
  "kernelspec": {
   "display_name": "Python 3",
   "language": "python",
   "name": "python3"
  },
  "language_info": {
   "codemirror_mode": {
    "name": "ipython",
    "version": 2
   },
   "file_extension": ".py",
   "mimetype": "text/x-python",
   "name": "python",
   "nbconvert_exporter": "python",
   "pygments_lexer": "ipython2",
   "version": "2.7.6"
  }
 },
 "nbformat": 4,
 "nbformat_minor": 5
}
